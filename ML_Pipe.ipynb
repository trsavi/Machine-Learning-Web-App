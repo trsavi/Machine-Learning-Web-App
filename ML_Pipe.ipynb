{
 "cells": [
  {
   "cell_type": "code",
   "execution_count": 1,
   "id": "2a1fa97c",
   "metadata": {},
   "outputs": [
    {
     "data": {
      "text/html": [
       "        <script type=\"text/javascript\">\n",
       "        window.PlotlyConfig = {MathJaxConfig: 'local'};\n",
       "        if (window.MathJax) {MathJax.Hub.Config({SVG: {font: \"STIX-Web\"}});}\n",
       "        if (typeof require !== 'undefined') {\n",
       "        require.undef(\"plotly\");\n",
       "        requirejs.config({\n",
       "            paths: {\n",
       "                'plotly': ['https://cdn.plot.ly/plotly-2.2.0.min']\n",
       "            }\n",
       "        });\n",
       "        require(['plotly'], function(Plotly) {\n",
       "            window._Plotly = Plotly;\n",
       "        });\n",
       "        }\n",
       "        </script>\n",
       "        "
      ]
     },
     "metadata": {},
     "output_type": "display_data"
    }
   ],
   "source": [
    "import sys\n",
    "import os\n",
    "import pandas as pd\n",
    "import numpy as np\n",
    "\n",
    "import matplotlib.pyplot as plt\n",
    "import seaborn as sns\n",
    "from IPython.display import display\n",
    "%matplotlib inline\n",
    "\n",
    "import plotly.offline as py\n",
    "import plotly.graph_objs as go\n",
    "import plotly.tools as tls\n",
    "py.init_notebook_mode(connected=True)\n",
    "\n",
    "import warnings\n",
    "warnings.filterwarnings('ignore')\n",
    "# Importing the dataset\n",
    "df = pd.read_csv(\"./Data/usedCleaned21.csv\")"
   ]
  },
  {
   "cell_type": "code",
   "execution_count": 2,
   "id": "4712d942",
   "metadata": {},
   "outputs": [],
   "source": [
    "# Always good to set a seed for reproducibility\n",
    "SEED = 7\n",
    "np.random.seed(SEED)"
   ]
  },
  {
   "cell_type": "markdown",
   "id": "55d80109",
   "metadata": {},
   "source": [
    "Skewness is a measure of symmetry, or more precisely, the lack of symmetry. A distribution, or data set, is symmetric if it looks the same to the left and right of the center point.\n",
    "\n",
    "Kurtosis is a measure of whether the data are heavy-tailed or light-tailed relative to a normal distribution. That is, data sets with high kurtosis tend to have heavy tails, or outliers. Data sets with low kurtosis tend to have light tails, or lack of outliers. A uniform distribution would be the extreme case"
   ]
  },
  {
   "cell_type": "code",
   "execution_count": 3,
   "id": "0059f276",
   "metadata": {},
   "outputs": [],
   "source": [
    "from scipy.stats import skew\n",
    "from scipy.stats import kurtosis\n",
    "def plotBarCat(df,feature,target):\n",
    "    \n",
    "    \n",
    "    \n",
    "    x0 = df[df[target]==0][feature]\n",
    "    x1 = df[df[target]==1][feature]\n",
    "\n",
    "    trace1 = go.Histogram(\n",
    "        x=x0,\n",
    "        opacity=0.75\n",
    "    )\n",
    "    trace2 = go.Histogram(\n",
    "        x=x1,\n",
    "        opacity=0.75\n",
    "    )\n",
    "\n",
    "    data = [trace1, trace2]\n",
    "    layout = go.Layout(barmode='overlay',\n",
    "                      title=feature,\n",
    "                       yaxis=dict(title='Count'\n",
    "        ))\n",
    "    fig = go.Figure(data=data, layout=layout)\n",
    "\n",
    "    #py.iplot(fig, filename='overlaid histogram')\n",
    "    \n",
    "    def DescribeFloatSkewKurt(df,target):\n",
    "        \"\"\"\n",
    "            A fundamental task in many statistical analyses is to characterize\n",
    "            the location and variability of a data set. A further\n",
    "            characterization of the data includes skewness and kurtosis.\n",
    "            Skewness is a measure of symmetry, or more precisely, the lack\n",
    "            of symmetry. A distribution, or data set, is symmetric if it\n",
    "            looks the same to the left and right of the center point.\n",
    "            Kurtosis is a measure of whether the data are heavy-tailed\n",
    "            or light-tailed relative to a normal distribution. That is,\n",
    "            data sets with high kurtosis tend to have heavy tails, or\n",
    "            outliers. Data sets with low kurtosis tend to have light\n",
    "            tails, or lack of outliers. A uniform distribution would\n",
    "            be the extreme case\n",
    "        \"\"\"\n",
    "        print('-*-'*25)\n",
    "        print(\"{0} mean : \".format(target), np.mean(df[target]))\n",
    "        print(\"{0} var  : \".format(target), np.var(df[target]))\n",
    "        print(\"{0} skew : \".format(target), skew(df[target]))\n",
    "        print(\"{0} kurt : \".format(target), kurtosis(df[target]))\n",
    "        print('-*-'*25)\n",
    "    \n",
    "    DescribeFloatSkewKurt(df,target)"
   ]
  },
  {
   "cell_type": "code",
   "execution_count": 4,
   "id": "3e52ea91",
   "metadata": {},
   "outputs": [],
   "source": [
    "df_name = df.columns"
   ]
  },
  {
   "cell_type": "code",
   "execution_count": 5,
   "id": "827ec5a7",
   "metadata": {},
   "outputs": [
    {
     "data": {
      "text/plain": [
       "Index(['Marka', 'Model', 'Godiste', 'Kilometraza', 'Karoserija', 'Gorivo',\n",
       "       'Kubikaza', 'Snaga motora', 'Cena', 'Pogon', 'Menjac', 'Boja'],\n",
       "      dtype='object')"
      ]
     },
     "execution_count": 5,
     "metadata": {},
     "output_type": "execute_result"
    }
   ],
   "source": [
    "df_name"
   ]
  },
  {
   "cell_type": "code",
   "execution_count": 6,
   "id": "cd192c1c",
   "metadata": {},
   "outputs": [
    {
     "name": "stdout",
     "output_type": "stream",
     "text": [
      "-*--*--*--*--*--*--*--*--*--*--*--*--*--*--*--*--*--*--*--*--*--*--*--*--*-\n",
      "Cena mean :  5213.274317275238\n",
      "Cena var  :  12533376.981362386\n",
      "Cena skew :  1.554681147169516\n",
      "Cena kurt :  2.171607674800553\n",
      "-*--*--*--*--*--*--*--*--*--*--*--*--*--*--*--*--*--*--*--*--*--*--*--*--*-\n"
     ]
    }
   ],
   "source": [
    "plotBarCat(df,df_name[4],'Cena')"
   ]
  },
  {
   "cell_type": "code",
   "execution_count": 7,
   "id": "ae48c56f",
   "metadata": {
    "scrolled": true
   },
   "outputs": [
    {
     "data": {
      "text/plain": [
       "<AxesSubplot:xlabel='Cena', ylabel='Count'>"
      ]
     },
     "execution_count": 7,
     "metadata": {},
     "output_type": "execute_result"
    },
    {
     "data": {
      "image/png": "[encoded data removed]",
      "text/plain": [
       "<Figure size 432x288 with 1 Axes>"
      ]
     },
     "metadata": {
      "needs_background": "light"
     },
     "output_type": "display_data"
    }
   ],
   "source": [
    "sns.histplot(df['Cena'])"
   ]
  },
  {
   "cell_type": "code",
   "execution_count": 9,
   "id": "4b631d7e",
   "metadata": {},
   "outputs": [
    {
     "data": {
      "text/plain": [
       "([<matplotlib.axis.XTick at 0x21f29600520>,\n",
       "  <matplotlib.axis.XTick at 0x21f296004f0>,\n",
       "  <matplotlib.axis.XTick at 0x21f294afeb0>,\n",
       "  <matplotlib.axis.XTick at 0x21f294bc910>,\n",
       "  <matplotlib.axis.XTick at 0x21f294bce20>,\n",
       "  <matplotlib.axis.XTick at 0x21f294c5370>,\n",
       "  <matplotlib.axis.XTick at 0x21f294c5880>,\n",
       "  <matplotlib.axis.XTick at 0x21f294c5d90>,\n",
       "  <matplotlib.axis.XTick at 0x21f294bc0a0>,\n",
       "  <matplotlib.axis.XTick at 0x21f294c5070>,\n",
       "  <matplotlib.axis.XTick at 0x21f295ff0a0>,\n",
       "  <matplotlib.axis.XTick at 0x21f294bc100>,\n",
       "  <matplotlib.axis.XTick at 0x21f294d9430>,\n",
       "  <matplotlib.axis.XTick at 0x21f294d9940>,\n",
       "  <matplotlib.axis.XTick at 0x21f294d9e50>,\n",
       "  <matplotlib.axis.XTick at 0x21f294de3a0>,\n",
       "  <matplotlib.axis.XTick at 0x21f294de8b0>,\n",
       "  <matplotlib.axis.XTick at 0x21f294dedf0>,\n",
       "  <matplotlib.axis.XTick at 0x21f294e5340>,\n",
       "  <matplotlib.axis.XTick at 0x21f294de520>,\n",
       "  <matplotlib.axis.XTick at 0x21f294d95b0>],\n",
       " [Text(0, 0, ''),\n",
       "  Text(0, 0, ''),\n",
       "  Text(0, 0, ''),\n",
       "  Text(0, 0, ''),\n",
       "  Text(0, 0, ''),\n",
       "  Text(0, 0, ''),\n",
       "  Text(0, 0, ''),\n",
       "  Text(0, 0, ''),\n",
       "  Text(0, 0, ''),\n",
       "  Text(0, 0, ''),\n",
       "  Text(0, 0, ''),\n",
       "  Text(0, 0, ''),\n",
       "  Text(0, 0, ''),\n",
       "  Text(0, 0, ''),\n",
       "  Text(0, 0, ''),\n",
       "  Text(0, 0, ''),\n",
       "  Text(0, 0, ''),\n",
       "  Text(0, 0, ''),\n",
       "  Text(0, 0, ''),\n",
       "  Text(0, 0, ''),\n",
       "  Text(0, 0, '')])"
      ]
     },
     "execution_count": 9,
     "metadata": {},
     "output_type": "execute_result"
    },
    {
     "data": {
      "image/png": "[encoded data removed]",
      "text/plain": [
       "<Figure size 504x1080 with 1 Axes>"
      ]
     },
     "metadata": {
      "needs_background": "light"
     },
     "output_type": "display_data"
    }
   ],
   "source": [
    "plt.figure(figsize=(7,15))\n",
    "sns.scatterplot(df['Godiste'], df['Cena'])\n",
    "plt.xticks(np.arange(2000,2021), rotation=70)"
   ]
  },
  {
   "cell_type": "code",
   "execution_count": 10,
   "id": "f8c0a6b7",
   "metadata": {},
   "outputs": [],
   "source": [
    "def OutLiersBox(df,nameOfFeature):\n",
    "    \n",
    "    trace0 = go.Box(\n",
    "        y = df[nameOfFeature],\n",
    "        name = \"All Points\",\n",
    "        jitter = 0.3,\n",
    "        pointpos = -1.8,\n",
    "        boxpoints = 'all',\n",
    "        marker = dict(\n",
    "            color = 'rgb(7,40,89)'),\n",
    "        line = dict(\n",
    "            color = 'rgb(7,40,89)')\n",
    "    )\n",
    "\n",
    "    trace1 = go.Box(\n",
    "        y = df[nameOfFeature],\n",
    "        name = \"Only Whiskers\",\n",
    "        boxpoints = False,\n",
    "        marker = dict(\n",
    "            color = 'rgb(9,56,125)'),\n",
    "        line = dict(\n",
    "            color = 'rgb(9,56,125)')\n",
    "    )\n",
    "\n",
    "    trace2 = go.Box(\n",
    "        y = df[nameOfFeature],\n",
    "        name = \"Suspected Outliers\",\n",
    "        boxpoints = 'suspectedoutliers',\n",
    "        marker = dict(\n",
    "            color = 'rgb(8,81,156)',\n",
    "            outliercolor = 'rgba(219, 64, 82, 0.6)',\n",
    "            line = dict(\n",
    "                outliercolor = 'rgba(219, 64, 82, 0.6)',\n",
    "                outlierwidth = 2)),\n",
    "        line = dict(\n",
    "            color = 'rgb(8,81,156)')\n",
    "    )\n",
    "\n",
    "    trace3 = go.Box(\n",
    "        y = df[nameOfFeature],\n",
    "        name = \"Whiskers and Outliers\",\n",
    "        boxpoints = 'outliers',\n",
    "        marker = dict(\n",
    "            color = 'rgb(107,174,214)'),\n",
    "        line = dict(\n",
    "            color = 'rgb(107,174,214)')\n",
    "    )\n",
    "\n",
    "    data = [trace0,trace1,trace2,trace3]\n",
    "\n",
    "    layout = go.Layout(\n",
    "        title = \"{} Outliers\".format(nameOfFeature)\n",
    "    )\n",
    "\n",
    "    fig = go.Figure(data=data,layout=layout)\n",
    "    py.iplot(fig, filename = \"Outliers\")"
   ]
  },
  {
   "cell_type": "code",
   "execution_count": 11,
   "id": "cee3cd93",
   "metadata": {},
   "outputs": [
    {
     "data": {
      "text/plain": [
       "Index(['Marka', 'Model', 'Godiste', 'Kilometraza', 'Karoserija', 'Gorivo',\n",
       "       'Kubikaza', 'Snaga motora', 'Cena', 'Pogon', 'Menjac', 'Boja'],\n",
       "      dtype='object')"
      ]
     },
     "execution_count": 11,
     "metadata": {},
     "output_type": "execute_result"
    }
   ],
   "source": [
    "df_name"
   ]
  },
  {
   "cell_type": "code",
   "execution_count": 13,
   "id": "402cf5b7",
   "metadata": {
    "scrolled": false
   },
   "outputs": [],
   "source": [
    "#OutLiersBox(df,df_name[2])"
   ]
  },
  {
   "cell_type": "code",
   "execution_count": 14,
   "id": "dc21a8d4",
   "metadata": {
    "scrolled": false
   },
   "outputs": [],
   "source": [
    "#OutLiersBox(df,df_name[3])"
   ]
  },
  {
   "cell_type": "code",
   "execution_count": 15,
   "id": "53ff2905",
   "metadata": {},
   "outputs": [],
   "source": [
    "#OutLiersBox(df,df_name[8])"
   ]
  },
  {
   "cell_type": "code",
   "execution_count": 2,
   "id": "3ee3b952",
   "metadata": {},
   "outputs": [],
   "source": [
    "from pandas import set_option\n",
    "#from pandas.tools.plotting import scatter_matrix\n",
    "from sklearn.preprocessing import StandardScaler\n",
    "from sklearn.model_selection import train_test_split\n",
    "from sklearn.model_selection import KFold\n",
    "from sklearn.model_selection import StratifiedKFold\n",
    "from sklearn.model_selection import cross_val_score\n",
    "from sklearn.model_selection import GridSearchCV\n",
    "from sklearn.pipeline import Pipeline\n",
    "from xgboost import XGBRegressor\n",
    "from lightgbm import LGBMRegressor\n",
    "from sklearn.ensemble import ExtraTreesRegressor, RandomForestRegressor, AdaBoostRegressor, GradientBoostingRegressor\n",
    "\n",
    "# Metrics\n",
    "from sklearn.metrics import mean_absolute_error, mean_squared_error, r2_score\n"
   ]
  },
  {
   "cell_type": "code",
   "execution_count": 13,
   "id": "778d0432",
   "metadata": {},
   "outputs": [],
   "source": [
    "df = pd.get_dummies(df)"
   ]
  },
  {
   "cell_type": "code",
   "execution_count": 14,
   "id": "6cc049b6",
   "metadata": {},
   "outputs": [],
   "source": [
    "X =  df.drop(columns='Cena')\n",
    "Y = df[df_name[8]]\n",
    "X_train, X_test, y_train, y_test =train_test_split(X,Y,\n",
    "                                                   test_size=0.3,\n",
    "                                                   random_state=0)"
   ]
  },
  {
   "cell_type": "code",
   "execution_count": 15,
   "id": "e945d31a",
   "metadata": {},
   "outputs": [
    {
     "data": {
      "text/html": [
       "<div>\n",
       "<style scoped>\n",
       "    .dataframe tbody tr th:only-of-type {\n",
       "        vertical-align: middle;\n",
       "    }\n",
       "\n",
       "    .dataframe tbody tr th {\n",
       "        vertical-align: top;\n",
       "    }\n",
       "\n",
       "    .dataframe thead th {\n",
       "        text-align: right;\n",
       "    }\n",
       "</style>\n",
       "<table border=\"1\" class=\"dataframe\">\n",
       "  <thead>\n",
       "    <tr style=\"text-align: right;\">\n",
       "      <th></th>\n",
       "      <th>Godiste</th>\n",
       "      <th>Kilometraza</th>\n",
       "      <th>Kubikaza</th>\n",
       "      <th>Snaga motora</th>\n",
       "      <th>Marka_Alfa Romeo</th>\n",
       "      <th>Marka_Audi</th>\n",
       "      <th>Marka_BMW</th>\n",
       "      <th>Marka_Citroen</th>\n",
       "      <th>Marka_Fiat</th>\n",
       "      <th>Marka_Ford</th>\n",
       "      <th>...</th>\n",
       "      <th>Menjac_Automatski / poluautomatski</th>\n",
       "      <th>Menjac_Automatski / poluautomatski</th>\n",
       "      <th>Menjac_Manuelni 5 brzina</th>\n",
       "      <th>Menjac_Manuelni 6 brzina</th>\n",
       "      <th>Boja_Bela</th>\n",
       "      <th>Boja_Crna</th>\n",
       "      <th>Boja_Crvena</th>\n",
       "      <th>Boja_Druga</th>\n",
       "      <th>Boja_Plava</th>\n",
       "      <th>Boja_Siva</th>\n",
       "    </tr>\n",
       "  </thead>\n",
       "  <tbody>\n",
       "    <tr>\n",
       "      <th>0</th>\n",
       "      <td>2015</td>\n",
       "      <td>194000</td>\n",
       "      <td>1.5</td>\n",
       "      <td>115</td>\n",
       "      <td>0</td>\n",
       "      <td>0</td>\n",
       "      <td>1</td>\n",
       "      <td>0</td>\n",
       "      <td>0</td>\n",
       "      <td>0</td>\n",
       "      <td>...</td>\n",
       "      <td>0</td>\n",
       "      <td>0</td>\n",
       "      <td>0</td>\n",
       "      <td>1</td>\n",
       "      <td>0</td>\n",
       "      <td>0</td>\n",
       "      <td>0</td>\n",
       "      <td>0</td>\n",
       "      <td>1</td>\n",
       "      <td>0</td>\n",
       "    </tr>\n",
       "    <tr>\n",
       "      <th>1</th>\n",
       "      <td>2015</td>\n",
       "      <td>176000</td>\n",
       "      <td>1.5</td>\n",
       "      <td>115</td>\n",
       "      <td>0</td>\n",
       "      <td>0</td>\n",
       "      <td>1</td>\n",
       "      <td>0</td>\n",
       "      <td>0</td>\n",
       "      <td>0</td>\n",
       "      <td>...</td>\n",
       "      <td>0</td>\n",
       "      <td>0</td>\n",
       "      <td>0</td>\n",
       "      <td>1</td>\n",
       "      <td>0</td>\n",
       "      <td>1</td>\n",
       "      <td>0</td>\n",
       "      <td>0</td>\n",
       "      <td>0</td>\n",
       "      <td>0</td>\n",
       "    </tr>\n",
       "    <tr>\n",
       "      <th>2</th>\n",
       "      <td>2017</td>\n",
       "      <td>184924</td>\n",
       "      <td>1.5</td>\n",
       "      <td>115</td>\n",
       "      <td>0</td>\n",
       "      <td>0</td>\n",
       "      <td>1</td>\n",
       "      <td>0</td>\n",
       "      <td>0</td>\n",
       "      <td>0</td>\n",
       "      <td>...</td>\n",
       "      <td>1</td>\n",
       "      <td>0</td>\n",
       "      <td>0</td>\n",
       "      <td>0</td>\n",
       "      <td>0</td>\n",
       "      <td>1</td>\n",
       "      <td>0</td>\n",
       "      <td>0</td>\n",
       "      <td>0</td>\n",
       "      <td>0</td>\n",
       "    </tr>\n",
       "    <tr>\n",
       "      <th>3</th>\n",
       "      <td>2016</td>\n",
       "      <td>185000</td>\n",
       "      <td>1.5</td>\n",
       "      <td>115</td>\n",
       "      <td>0</td>\n",
       "      <td>0</td>\n",
       "      <td>1</td>\n",
       "      <td>0</td>\n",
       "      <td>0</td>\n",
       "      <td>0</td>\n",
       "      <td>...</td>\n",
       "      <td>1</td>\n",
       "      <td>0</td>\n",
       "      <td>0</td>\n",
       "      <td>0</td>\n",
       "      <td>1</td>\n",
       "      <td>0</td>\n",
       "      <td>0</td>\n",
       "      <td>0</td>\n",
       "      <td>0</td>\n",
       "      <td>0</td>\n",
       "    </tr>\n",
       "    <tr>\n",
       "      <th>4</th>\n",
       "      <td>2015</td>\n",
       "      <td>197000</td>\n",
       "      <td>1.5</td>\n",
       "      <td>115</td>\n",
       "      <td>0</td>\n",
       "      <td>0</td>\n",
       "      <td>1</td>\n",
       "      <td>0</td>\n",
       "      <td>0</td>\n",
       "      <td>0</td>\n",
       "      <td>...</td>\n",
       "      <td>0</td>\n",
       "      <td>0</td>\n",
       "      <td>0</td>\n",
       "      <td>1</td>\n",
       "      <td>0</td>\n",
       "      <td>0</td>\n",
       "      <td>0</td>\n",
       "      <td>0</td>\n",
       "      <td>1</td>\n",
       "      <td>0</td>\n",
       "    </tr>\n",
       "    <tr>\n",
       "      <th>...</th>\n",
       "      <td>...</td>\n",
       "      <td>...</td>\n",
       "      <td>...</td>\n",
       "      <td>...</td>\n",
       "      <td>...</td>\n",
       "      <td>...</td>\n",
       "      <td>...</td>\n",
       "      <td>...</td>\n",
       "      <td>...</td>\n",
       "      <td>...</td>\n",
       "      <td>...</td>\n",
       "      <td>...</td>\n",
       "      <td>...</td>\n",
       "      <td>...</td>\n",
       "      <td>...</td>\n",
       "      <td>...</td>\n",
       "      <td>...</td>\n",
       "      <td>...</td>\n",
       "      <td>...</td>\n",
       "      <td>...</td>\n",
       "      <td>...</td>\n",
       "    </tr>\n",
       "    <tr>\n",
       "      <th>13031</th>\n",
       "      <td>2004</td>\n",
       "      <td>168000</td>\n",
       "      <td>2.0</td>\n",
       "      <td>100</td>\n",
       "      <td>0</td>\n",
       "      <td>0</td>\n",
       "      <td>0</td>\n",
       "      <td>0</td>\n",
       "      <td>0</td>\n",
       "      <td>0</td>\n",
       "      <td>...</td>\n",
       "      <td>0</td>\n",
       "      <td>0</td>\n",
       "      <td>1</td>\n",
       "      <td>0</td>\n",
       "      <td>0</td>\n",
       "      <td>0</td>\n",
       "      <td>0</td>\n",
       "      <td>0</td>\n",
       "      <td>0</td>\n",
       "      <td>1</td>\n",
       "    </tr>\n",
       "    <tr>\n",
       "      <th>13032</th>\n",
       "      <td>2003</td>\n",
       "      <td>225000</td>\n",
       "      <td>2.0</td>\n",
       "      <td>100</td>\n",
       "      <td>0</td>\n",
       "      <td>0</td>\n",
       "      <td>0</td>\n",
       "      <td>0</td>\n",
       "      <td>0</td>\n",
       "      <td>0</td>\n",
       "      <td>...</td>\n",
       "      <td>0</td>\n",
       "      <td>0</td>\n",
       "      <td>1</td>\n",
       "      <td>0</td>\n",
       "      <td>0</td>\n",
       "      <td>0</td>\n",
       "      <td>0</td>\n",
       "      <td>1</td>\n",
       "      <td>0</td>\n",
       "      <td>0</td>\n",
       "    </tr>\n",
       "    <tr>\n",
       "      <th>13033</th>\n",
       "      <td>2003</td>\n",
       "      <td>315234</td>\n",
       "      <td>2.0</td>\n",
       "      <td>100</td>\n",
       "      <td>0</td>\n",
       "      <td>0</td>\n",
       "      <td>0</td>\n",
       "      <td>0</td>\n",
       "      <td>0</td>\n",
       "      <td>0</td>\n",
       "      <td>...</td>\n",
       "      <td>0</td>\n",
       "      <td>0</td>\n",
       "      <td>1</td>\n",
       "      <td>0</td>\n",
       "      <td>0</td>\n",
       "      <td>0</td>\n",
       "      <td>0</td>\n",
       "      <td>0</td>\n",
       "      <td>0</td>\n",
       "      <td>1</td>\n",
       "    </tr>\n",
       "    <tr>\n",
       "      <th>13034</th>\n",
       "      <td>2004</td>\n",
       "      <td>225000</td>\n",
       "      <td>2.0</td>\n",
       "      <td>100</td>\n",
       "      <td>0</td>\n",
       "      <td>0</td>\n",
       "      <td>0</td>\n",
       "      <td>0</td>\n",
       "      <td>0</td>\n",
       "      <td>0</td>\n",
       "      <td>...</td>\n",
       "      <td>0</td>\n",
       "      <td>0</td>\n",
       "      <td>1</td>\n",
       "      <td>0</td>\n",
       "      <td>0</td>\n",
       "      <td>0</td>\n",
       "      <td>0</td>\n",
       "      <td>0</td>\n",
       "      <td>1</td>\n",
       "      <td>0</td>\n",
       "    </tr>\n",
       "    <tr>\n",
       "      <th>13035</th>\n",
       "      <td>2002</td>\n",
       "      <td>220000</td>\n",
       "      <td>2.0</td>\n",
       "      <td>100</td>\n",
       "      <td>0</td>\n",
       "      <td>0</td>\n",
       "      <td>0</td>\n",
       "      <td>0</td>\n",
       "      <td>0</td>\n",
       "      <td>0</td>\n",
       "      <td>...</td>\n",
       "      <td>0</td>\n",
       "      <td>0</td>\n",
       "      <td>1</td>\n",
       "      <td>0</td>\n",
       "      <td>0</td>\n",
       "      <td>0</td>\n",
       "      <td>0</td>\n",
       "      <td>1</td>\n",
       "      <td>0</td>\n",
       "      <td>0</td>\n",
       "    </tr>\n",
       "  </tbody>\n",
       "</table>\n",
       "<p>13036 rows × 119 columns</p>\n",
       "</div>"
      ],
      "text/plain": [
       "       Godiste  Kilometraza  Kubikaza  Snaga motora  Marka_Alfa Romeo  \\\n",
       "0         2015       194000       1.5           115                 0   \n",
       "1         2015       176000       1.5           115                 0   \n",
       "2         2017       184924       1.5           115                 0   \n",
       "3         2016       185000       1.5           115                 0   \n",
       "4         2015       197000       1.5           115                 0   \n",
       "...        ...          ...       ...           ...               ...   \n",
       "13031     2004       168000       2.0           100                 0   \n",
       "13032     2003       225000       2.0           100                 0   \n",
       "13033     2003       315234       2.0           100                 0   \n",
       "13034     2004       225000       2.0           100                 0   \n",
       "13035     2002       220000       2.0           100                 0   \n",
       "\n",
       "       Marka_Audi  Marka_BMW  Marka_Citroen  Marka_Fiat  Marka_Ford  ...  \\\n",
       "0               0          1              0           0           0  ...   \n",
       "1               0          1              0           0           0  ...   \n",
       "2               0          1              0           0           0  ...   \n",
       "3               0          1              0           0           0  ...   \n",
       "4               0          1              0           0           0  ...   \n",
       "...           ...        ...            ...         ...         ...  ...   \n",
       "13031           0          0              0           0           0  ...   \n",
       "13032           0          0              0           0           0  ...   \n",
       "13033           0          0              0           0           0  ...   \n",
       "13034           0          0              0           0           0  ...   \n",
       "13035           0          0              0           0           0  ...   \n",
       "\n",
       "       Menjac_Automatski / poluautomatski   \\\n",
       "0                                        0   \n",
       "1                                        0   \n",
       "2                                        1   \n",
       "3                                        1   \n",
       "4                                        0   \n",
       "...                                    ...   \n",
       "13031                                    0   \n",
       "13032                                    0   \n",
       "13033                                    0   \n",
       "13034                                    0   \n",
       "13035                                    0   \n",
       "\n",
       "       Menjac_Automatski / poluautomatski    Menjac_Manuelni 5 brzina   \\\n",
       "0                                         0                          0   \n",
       "1                                         0                          0   \n",
       "2                                         0                          0   \n",
       "3                                         0                          0   \n",
       "4                                         0                          0   \n",
       "...                                     ...                        ...   \n",
       "13031                                     0                          1   \n",
       "13032                                     0                          1   \n",
       "13033                                     0                          1   \n",
       "13034                                     0                          1   \n",
       "13035                                     0                          1   \n",
       "\n",
       "       Menjac_Manuelni 6 brzina   Boja_Bela  Boja_Crna  Boja_Crvena  \\\n",
       "0                              1          0          0            0   \n",
       "1                              1          0          1            0   \n",
       "2                              0          0          1            0   \n",
       "3                              0          1          0            0   \n",
       "4                              1          0          0            0   \n",
       "...                          ...        ...        ...          ...   \n",
       "13031                          0          0          0            0   \n",
       "13032                          0          0          0            0   \n",
       "13033                          0          0          0            0   \n",
       "13034                          0          0          0            0   \n",
       "13035                          0          0          0            0   \n",
       "\n",
       "       Boja_Druga  Boja_Plava  Boja_Siva  \n",
       "0               0           1          0  \n",
       "1               0           0          0  \n",
       "2               0           0          0  \n",
       "3               0           0          0  \n",
       "4               0           1          0  \n",
       "...           ...         ...        ...  \n",
       "13031           0           0          1  \n",
       "13032           1           0          0  \n",
       "13033           0           0          1  \n",
       "13034           0           1          0  \n",
       "13035           1           0          0  \n",
       "\n",
       "[13036 rows x 119 columns]"
      ]
     },
     "execution_count": 15,
     "metadata": {},
     "output_type": "execute_result"
    }
   ],
   "source": [
    "X"
   ]
  },
  {
   "cell_type": "code",
   "execution_count": 16,
   "id": "15c0c586",
   "metadata": {},
   "outputs": [
    {
     "data": {
      "text/plain": [
       "0        10900\n",
       "1        10990\n",
       "2        12300\n",
       "3        13800\n",
       "4        10290\n",
       "         ...  \n",
       "13031     2500\n",
       "13032     1700\n",
       "13033     1650\n",
       "13034     1999\n",
       "13035     1700\n",
       "Name: Cena, Length: 13036, dtype: int64"
      ]
     },
     "execution_count": 16,
     "metadata": {},
     "output_type": "execute_result"
    }
   ],
   "source": [
    "Y"
   ]
  },
  {
   "cell_type": "code",
   "execution_count": 17,
   "id": "e11b7b72",
   "metadata": {},
   "outputs": [],
   "source": [
    "# Spot-Check Algorithms\n",
    "def GetBasedModel():\n",
    "    basedModels = []\n",
    "    basedModels.append(('XG'   , XGBRegressor()))\n",
    "    basedModels.append(('LGBM'  , LGBMRegressor()))\n",
    "    basedModels.append(('ETR'  , ExtraTreesRegressor()))\n",
    "    basedModels.append(('RFR' , RandomForestRegressor()))\n",
    "    basedModels.append(('ABR'   , AdaBoostRegressor()))\n",
    "    basedModels.append(('GBR'  , GradientBoostingRegressor()))\n",
    "\n",
    "    \n",
    "    return basedModels"
   ]
  },
  {
   "cell_type": "code",
   "execution_count": 18,
   "id": "f56fc1ad",
   "metadata": {},
   "outputs": [],
   "source": [
    "def BasedLine2(X_train, y_train,models, scoring):\n",
    "    \n",
    "    # Test options and evaluation metric\n",
    "    num_folds = 10\n",
    "\n",
    "    results = []\n",
    "    names = []\n",
    "    for name, model in models:\n",
    "        kfold = StratifiedKFold(n_splits=num_folds, shuffle=True)\n",
    "        cv_results = cross_val_score(model, X_train, y_train, cv=kfold, scoring=scoring)\n",
    "        results.append(cv_results)\n",
    "        names.append(name)\n",
    "        msg = \"%s: %f (%f)\" % (name, cv_results.mean(), cv_results.std())\n",
    "        print(msg)\n",
    "        \n",
    "    return names, results"
   ]
  },
  {
   "cell_type": "code",
   "execution_count": 19,
   "id": "06be9e7b",
   "metadata": {},
   "outputs": [],
   "source": [
    "class PlotBoxR(object):\n",
    "    \n",
    "    \n",
    "    def __Trace(self,nameOfFeature,value): \n",
    "    \n",
    "        trace = go.Box(\n",
    "            y=value,\n",
    "            name = nameOfFeature,\n",
    "            marker = dict(\n",
    "                color = 'rgb(0, 128, 128)',\n",
    "            )\n",
    "        )\n",
    "        return trace\n",
    "\n",
    "    def PlotResult(self,names,results):\n",
    "        \n",
    "        data = []\n",
    "\n",
    "        for i in range(len(names)):\n",
    "            data.append(self.__Trace(names[i],results[i]))\n",
    "\n",
    "\n",
    "        py.iplot(data)"
   ]
  },
  {
   "cell_type": "code",
   "execution_count": 20,
   "id": "e9347256",
   "metadata": {},
   "outputs": [],
   "source": [
    "models = GetBasedModel()"
   ]
  },
  {
   "cell_type": "code",
   "execution_count": 21,
   "id": "e2b97975",
   "metadata": {
    "scrolled": true
   },
   "outputs": [],
   "source": [
    "import sklearn\n",
    "#sorted(sklearn.metrics.SCORERS.keys())"
   ]
  },
  {
   "cell_type": "code",
   "execution_count": 22,
   "id": "00ab7110",
   "metadata": {
    "scrolled": true
   },
   "outputs": [
    {
     "name": "stdout",
     "output_type": "stream",
     "text": [
      "XG: -392.922777 (9.845902)\n",
      "LGBM: -415.470753 (6.956907)\n",
      "ETR: -365.272934 (13.320531)\n",
      "RFR: -373.796893 (11.544041)\n",
      "ABR: -1287.967599 (43.757637)\n",
      "GBR: -547.349118 (16.916891)\n"
     ]
    }
   ],
   "source": [
    "names_r,results_r = BasedLine2(X_train, y_train,models, 'neg_mean_absolute_error')"
   ]
  },
  {
   "cell_type": "code",
   "execution_count": 23,
   "id": "8c8505b4",
   "metadata": {},
   "outputs": [],
   "source": [
    "def ScoreDataFrame(names,results):\n",
    "    def floatingDecimals(f_val, dec=3):\n",
    "        prc = \"{:.\"+str(dec)+\"f}\" \n",
    "    \n",
    "        return float(prc.format(f_val))\n",
    "\n",
    "    scores = []\n",
    "    for r in results:\n",
    "        scores.append(floatingDecimals(r.mean(),4))\n",
    "\n",
    "    scoreDataFrame = pd.DataFrame({'Model':names, 'Score': scores})\n",
    "    return scoreDataFrame"
   ]
  },
  {
   "cell_type": "code",
   "execution_count": 24,
   "id": "b5a86247",
   "metadata": {},
   "outputs": [
    {
     "data": {
      "text/html": [
       "<div>\n",
       "<style scoped>\n",
       "    .dataframe tbody tr th:only-of-type {\n",
       "        vertical-align: middle;\n",
       "    }\n",
       "\n",
       "    .dataframe tbody tr th {\n",
       "        vertical-align: top;\n",
       "    }\n",
       "\n",
       "    .dataframe thead th {\n",
       "        text-align: right;\n",
       "    }\n",
       "</style>\n",
       "<table border=\"1\" class=\"dataframe\">\n",
       "  <thead>\n",
       "    <tr style=\"text-align: right;\">\n",
       "      <th></th>\n",
       "      <th>Model</th>\n",
       "      <th>Score</th>\n",
       "    </tr>\n",
       "  </thead>\n",
       "  <tbody>\n",
       "    <tr>\n",
       "      <th>0</th>\n",
       "      <td>XG</td>\n",
       "      <td>-392.9228</td>\n",
       "    </tr>\n",
       "    <tr>\n",
       "      <th>1</th>\n",
       "      <td>LGBM</td>\n",
       "      <td>-415.4708</td>\n",
       "    </tr>\n",
       "    <tr>\n",
       "      <th>2</th>\n",
       "      <td>ETR</td>\n",
       "      <td>-365.2729</td>\n",
       "    </tr>\n",
       "    <tr>\n",
       "      <th>3</th>\n",
       "      <td>RFR</td>\n",
       "      <td>-373.7969</td>\n",
       "    </tr>\n",
       "    <tr>\n",
       "      <th>4</th>\n",
       "      <td>ABR</td>\n",
       "      <td>-1287.9676</td>\n",
       "    </tr>\n",
       "    <tr>\n",
       "      <th>5</th>\n",
       "      <td>GBR</td>\n",
       "      <td>-547.3491</td>\n",
       "    </tr>\n",
       "  </tbody>\n",
       "</table>\n",
       "</div>"
      ],
      "text/plain": [
       "  Model      Score\n",
       "0    XG  -392.9228\n",
       "1  LGBM  -415.4708\n",
       "2   ETR  -365.2729\n",
       "3   RFR  -373.7969\n",
       "4   ABR -1287.9676\n",
       "5   GBR  -547.3491"
      ]
     },
     "execution_count": 24,
     "metadata": {},
     "output_type": "execute_result"
    }
   ],
   "source": [
    "basedLineScore = ScoreDataFrame(names_r,results_r)\n",
    "basedLineScore"
   ]
  },
  {
   "cell_type": "code",
   "execution_count": 25,
   "id": "9ee2d13e",
   "metadata": {},
   "outputs": [],
   "source": [
    "from sklearn.preprocessing import StandardScaler\n",
    "from sklearn.preprocessing import MinMaxScaler\n",
    "\n",
    "\n",
    "def GetScaledModel(nameOfScaler):\n",
    "    \n",
    "    if nameOfScaler == 'standard':\n",
    "        scaler = StandardScaler()\n",
    "    elif nameOfScaler =='minmax':\n",
    "        scaler = MinMaxScaler()\n",
    "\n",
    "    pipelines = []\n",
    "    pipelines.append((nameOfScaler+'XG'  , Pipeline([('Scaler', scaler),('XG'  , XGBRegressor())])))\n",
    "    pipelines.append((nameOfScaler+'LGBM' , Pipeline([('Scaler', scaler),('LGBM' , LGBMRegressor())])))\n",
    "    pipelines.append((nameOfScaler+'ETR' , Pipeline([('Scaler', scaler),('ETR' , ExtraTreesRegressor())])))\n",
    "    pipelines.append((nameOfScaler+'RFR', Pipeline([('Scaler', scaler),('RFR', RandomForestRegressor())])))\n",
    "    #pipelines.append((nameOfScaler+'ABR'  , Pipeline([('Scaler', scaler),('ABR'  , AdaBoostRegressor())])))\n",
    "    #pipelines.append((nameOfScaler+'GBR' , Pipeline([('Scaler', scaler),('GBR' , GradientBoostingRegressor())])))\n",
    "    \n",
    "\n",
    "\n",
    "    return pipelines "
   ]
  },
  {
   "cell_type": "code",
   "execution_count": 26,
   "id": "af23f324",
   "metadata": {},
   "outputs": [
    {
     "name": "stdout",
     "output_type": "stream",
     "text": [
      "standardXG: -392.302362 (11.467911)\n",
      "standardLGBM: -414.989761 (9.911285)\n",
      "standardETR: -364.741925 (8.367983)\n",
      "standardRFR: -375.334377 (6.471452)\n"
     ]
    },
    {
     "data": {
      "application/vnd.plotly.v1+json": {
       "config": {
        "linkText": "Export to plot.ly",
        "plotlyServerURL": "https://plot.ly",
        "showLink": false
       },
       "data": [
        {
         "marker": {
          "color": "rgb(0, 128, 128)"
         },
         "name": "standardXG",
         "type": "box",
         "y": [
          -384.1469749291912,
          -405.65911698106345,
          -376.33619781861825,
          -381.4810158603163,
          -382.02657883843614,
          -388.12623676500823,
          -391.80276649876646,
          -396.3517223157381,
          -412.4690962674325,
          -404.62391702752365
         ]
        },
        {
         "marker": {
          "color": "rgb(0, 128, 128)"
         },
         "name": "standardLGBM",
         "type": "box",
         "y": [
          -412.8487617166945,
          -412.1684630358017,
          -398.9278517563045,
          -418.68304886115953,
          -422.26201708147846,
          -422.59838547328764,
          -415.40666525233024,
          -398.65959034438345,
          -432.8873797113521,
          -415.45544779511397
         ]
        },
        {
         "marker": {
          "color": "rgb(0, 128, 128)"
         },
         "name": "standardETR",
         "type": "box",
         "y": [
          -377.1946294267981,
          -377.6932694414019,
          -357.4659382986491,
          -368.04261044176707,
          -367.60879152975536,
          -360.6317964181287,
          -370.42499999999995,
          -358.90967836257306,
          -351.4497532894737,
          -357.99778508771925
         ]
        },
        {
         "marker": {
          "color": "rgb(0, 128, 128)"
         },
         "name": "standardRFR",
         "type": "box",
         "y": [
          -372.16421452041936,
          -391.2126131539144,
          -377.4335208365932,
          -374.88608590204973,
          -372.50771084337345,
          -374.95707658904206,
          -371.4741697733918,
          -376.0707079156224,
          -378.25411706349206,
          -364.3835508040936
         ]
        }
       ],
       "layout": {
        "template": {
         "data": {
          "bar": [
           {
            "error_x": {
             "color": "#2a3f5f"
            },
            "error_y": {
             "color": "#2a3f5f"
            },
            "marker": {
             "line": {
              "color": "#E5ECF6",
              "width": 0.5
             },
             "pattern": {
              "fillmode": "overlay",
              "size": 10,
              "solidity": 0.2
             }
            },
            "type": "bar"
           }
          ],
          "barpolar": [
           {
            "marker": {
             "line": {
              "color": "#E5ECF6",
              "width": 0.5
             },
             "pattern": {
              "fillmode": "overlay",
              "size": 10,
              "solidity": 0.2
             }
            },
            "type": "barpolar"
           }
          ],
          "carpet": [
           {
            "aaxis": {
             "endlinecolor": "#2a3f5f",
             "gridcolor": "white",
             "linecolor": "white",
             "minorgridcolor": "white",
             "startlinecolor": "#2a3f5f"
            },
            "baxis": {
             "endlinecolor": "#2a3f5f",
             "gridcolor": "white",
             "linecolor": "white",
             "minorgridcolor": "white",
             "startlinecolor": "#2a3f5f"
            },
            "type": "carpet"
           }
          ],
          "choropleth": [
           {
            "colorbar": {
             "outlinewidth": 0,
             "ticks": ""
            },
            "type": "choropleth"
           }
          ],
          "contour": [
           {
            "colorbar": {
             "outlinewidth": 0,
             "ticks": ""
            },
            "colorscale": [
             [
              0,
              "#0d0887"
             ],
             [
              0.1111111111111111,
              "#46039f"
             ],
             [
              0.2222222222222222,
              "#7201a8"
             ],
             [
              0.3333333333333333,
              "#9c179e"
             ],
             [
              0.4444444444444444,
              "#bd3786"
             ],
             [
              0.5555555555555556,
              "#d8576b"
             ],
             [
              0.6666666666666666,
              "#ed7953"
             ],
             [
              0.7777777777777778,
              "#fb9f3a"
             ],
             [
              0.8888888888888888,
              "#fdca26"
             ],
             [
              1,
              "#f0f921"
             ]
            ],
            "type": "contour"
           }
          ],
          "contourcarpet": [
           {
            "colorbar": {
             "outlinewidth": 0,
             "ticks": ""
            },
            "type": "contourcarpet"
           }
          ],
          "heatmap": [
           {
            "colorbar": {
             "outlinewidth": 0,
             "ticks": ""
            },
            "colorscale": [
             [
              0,
              "#0d0887"
             ],
             [
              0.1111111111111111,
              "#46039f"
             ],
             [
              0.2222222222222222,
              "#7201a8"
             ],
             [
              0.3333333333333333,
              "#9c179e"
             ],
             [
              0.4444444444444444,
              "#bd3786"
             ],
             [
              0.5555555555555556,
              "#d8576b"
             ],
             [
              0.6666666666666666,
              "#ed7953"
             ],
             [
              0.7777777777777778,
              "#fb9f3a"
             ],
             [
              0.8888888888888888,
              "#fdca26"
             ],
             [
              1,
              "#f0f921"
             ]
            ],
            "type": "heatmap"
           }
          ],
          "heatmapgl": [
           {
            "colorbar": {
             "outlinewidth": 0,
             "ticks": ""
            },
            "colorscale": [
             [
              0,
              "#0d0887"
             ],
             [
              0.1111111111111111,
              "#46039f"
             ],
             [
              0.2222222222222222,
              "#7201a8"
             ],
             [
              0.3333333333333333,
              "#9c179e"
             ],
             [
              0.4444444444444444,
              "#bd3786"
             ],
             [
              0.5555555555555556,
              "#d8576b"
             ],
             [
              0.6666666666666666,
              "#ed7953"
             ],
             [
              0.7777777777777778,
              "#fb9f3a"
             ],
             [
              0.8888888888888888,
              "#fdca26"
             ],
             [
              1,
              "#f0f921"
             ]
            ],
            "type": "heatmapgl"
           }
          ],
          "histogram": [
           {
            "marker": {
             "pattern": {
              "fillmode": "overlay",
              "size": 10,
              "solidity": 0.2
             }
            },
            "type": "histogram"
           }
          ],
          "histogram2d": [
           {
            "colorbar": {
             "outlinewidth": 0,
             "ticks": ""
            },
            "colorscale": [
             [
              0,
              "#0d0887"
             ],
             [
              0.1111111111111111,
              "#46039f"
             ],
             [
              0.2222222222222222,
              "#7201a8"
             ],
             [
              0.3333333333333333,
              "#9c179e"
             ],
             [
              0.4444444444444444,
              "#bd3786"
             ],
             [
              0.5555555555555556,
              "#d8576b"
             ],
             [
              0.6666666666666666,
              "#ed7953"
             ],
             [
              0.7777777777777778,
              "#fb9f3a"
             ],
             [
              0.8888888888888888,
              "#fdca26"
             ],
             [
              1,
              "#f0f921"
             ]
            ],
            "type": "histogram2d"
           }
          ],
          "histogram2dcontour": [
           {
            "colorbar": {
             "outlinewidth": 0,
             "ticks": ""
            },
            "colorscale": [
             [
              0,
              "#0d0887"
             ],
             [
              0.1111111111111111,
              "#46039f"
             ],
             [
              0.2222222222222222,
              "#7201a8"
             ],
             [
              0.3333333333333333,
              "#9c179e"
             ],
             [
              0.4444444444444444,
              "#bd3786"
             ],
             [
              0.5555555555555556,
              "#d8576b"
             ],
             [
              0.6666666666666666,
              "#ed7953"
             ],
             [
              0.7777777777777778,
              "#fb9f3a"
             ],
             [
              0.8888888888888888,
              "#fdca26"
             ],
             [
              1,
              "#f0f921"
             ]
            ],
            "type": "histogram2dcontour"
           }
          ],
          "mesh3d": [
           {
            "colorbar": {
             "outlinewidth": 0,
             "ticks": ""
            },
            "type": "mesh3d"
           }
          ],
          "parcoords": [
           {
            "line": {
             "colorbar": {
              "outlinewidth": 0,
              "ticks": ""
             }
            },
            "type": "parcoords"
           }
          ],
          "pie": [
           {
            "automargin": true,
            "type": "pie"
           }
          ],
          "scatter": [
           {
            "marker": {
             "colorbar": {
              "outlinewidth": 0,
              "ticks": ""
             }
            },
            "type": "scatter"
           }
          ],
          "scatter3d": [
           {
            "line": {
             "colorbar": {
              "outlinewidth": 0,
              "ticks": ""
             }
            },
            "marker": {
             "colorbar": {
              "outlinewidth": 0,
              "ticks": ""
             }
            },
            "type": "scatter3d"
           }
          ],
          "scattercarpet": [
           {
            "marker": {
             "colorbar": {
              "outlinewidth": 0,
              "ticks": ""
             }
            },
            "type": "scattercarpet"
           }
          ],
          "scattergeo": [
           {
            "marker": {
             "colorbar": {
              "outlinewidth": 0,
              "ticks": ""
             }
            },
            "type": "scattergeo"
           }
          ],
          "scattergl": [
           {
            "marker": {
             "colorbar": {
              "outlinewidth": 0,
              "ticks": ""
             }
            },
            "type": "scattergl"
           }
          ],
          "scattermapbox": [
           {
            "marker": {
             "colorbar": {
              "outlinewidth": 0,
              "ticks": ""
             }
            },
            "type": "scattermapbox"
           }
          ],
          "scatterpolar": [
           {
            "marker": {
             "colorbar": {
              "outlinewidth": 0,
              "ticks": ""
             }
            },
            "type": "scatterpolar"
           }
          ],
          "scatterpolargl": [
           {
            "marker": {
             "colorbar": {
              "outlinewidth": 0,
              "ticks": ""
             }
            },
            "type": "scatterpolargl"
           }
          ],
          "scatterternary": [
           {
            "marker": {
             "colorbar": {
              "outlinewidth": 0,
              "ticks": ""
             }
            },
            "type": "scatterternary"
           }
          ],
          "surface": [
           {
            "colorbar": {
             "outlinewidth": 0,
             "ticks": ""
            },
            "colorscale": [
             [
              0,
              "#0d0887"
             ],
             [
              0.1111111111111111,
              "#46039f"
             ],
             [
              0.2222222222222222,
              "#7201a8"
             ],
             [
              0.3333333333333333,
              "#9c179e"
             ],
             [
              0.4444444444444444,
              "#bd3786"
             ],
             [
              0.5555555555555556,
              "#d8576b"
             ],
             [
              0.6666666666666666,
              "#ed7953"
             ],
             [
              0.7777777777777778,
              "#fb9f3a"
             ],
             [
              0.8888888888888888,
              "#fdca26"
             ],
             [
              1,
              "#f0f921"
             ]
            ],
            "type": "surface"
           }
          ],
          "table": [
           {
            "cells": {
             "fill": {
              "color": "#EBF0F8"
             },
             "line": {
              "color": "white"
             }
            },
            "header": {
             "fill": {
              "color": "#C8D4E3"
             },
             "line": {
              "color": "white"
             }
            },
            "type": "table"
           }
          ]
         },
         "layout": {
          "annotationdefaults": {
           "arrowcolor": "#2a3f5f",
           "arrowhead": 0,
           "arrowwidth": 1
          },
          "autotypenumbers": "strict",
          "coloraxis": {
           "colorbar": {
            "outlinewidth": 0,
            "ticks": ""
           }
          },
          "colorscale": {
           "diverging": [
            [
             0,
             "#8e0152"
            ],
            [
             0.1,
             "#c51b7d"
            ],
            [
             0.2,
             "#de77ae"
            ],
            [
             0.3,
             "#f1b6da"
            ],
            [
             0.4,
             "#fde0ef"
            ],
            [
             0.5,
             "#f7f7f7"
            ],
            [
             0.6,
             "#e6f5d0"
            ],
            [
             0.7,
             "#b8e186"
            ],
            [
             0.8,
             "#7fbc41"
            ],
            [
             0.9,
             "#4d9221"
            ],
            [
             1,
             "#276419"
            ]
           ],
           "sequential": [
            [
             0,
             "#0d0887"
            ],
            [
             0.1111111111111111,
             "#46039f"
            ],
            [
             0.2222222222222222,
             "#7201a8"
            ],
            [
             0.3333333333333333,
             "#9c179e"
            ],
            [
             0.4444444444444444,
             "#bd3786"
            ],
            [
             0.5555555555555556,
             "#d8576b"
            ],
            [
             0.6666666666666666,
             "#ed7953"
            ],
            [
             0.7777777777777778,
             "#fb9f3a"
            ],
            [
             0.8888888888888888,
             "#fdca26"
            ],
            [
             1,
             "#f0f921"
            ]
           ],
           "sequentialminus": [
            [
             0,
             "#0d0887"
            ],
            [
             0.1111111111111111,
             "#46039f"
            ],
            [
             0.2222222222222222,
             "#7201a8"
            ],
            [
             0.3333333333333333,
             "#9c179e"
            ],
            [
             0.4444444444444444,
             "#bd3786"
            ],
            [
             0.5555555555555556,
             "#d8576b"
            ],
            [
             0.6666666666666666,
             "#ed7953"
            ],
            [
             0.7777777777777778,
             "#fb9f3a"
            ],
            [
             0.8888888888888888,
             "#fdca26"
            ],
            [
             1,
             "#f0f921"
            ]
           ]
          },
          "colorway": [
           "#636efa",
           "#EF553B",
           "#00cc96",
           "#ab63fa",
           "#FFA15A",
           "#19d3f3",
           "#FF6692",
           "#B6E880",
           "#FF97FF",
           "#FECB52"
          ],
          "font": {
           "color": "#2a3f5f"
          },
          "geo": {
           "bgcolor": "white",
           "lakecolor": "white",
           "landcolor": "#E5ECF6",
           "showlakes": true,
           "showland": true,
           "subunitcolor": "white"
          },
          "hoverlabel": {
           "align": "left"
          },
          "hovermode": "closest",
          "mapbox": {
           "style": "light"
          },
          "paper_bgcolor": "white",
          "plot_bgcolor": "#E5ECF6",
          "polar": {
           "angularaxis": {
            "gridcolor": "white",
            "linecolor": "white",
            "ticks": ""
           },
           "bgcolor": "#E5ECF6",
           "radialaxis": {
            "gridcolor": "white",
            "linecolor": "white",
            "ticks": ""
           }
          },
          "scene": {
           "xaxis": {
            "backgroundcolor": "#E5ECF6",
            "gridcolor": "white",
            "gridwidth": 2,
            "linecolor": "white",
            "showbackground": true,
            "ticks": "",
            "zerolinecolor": "white"
           },
           "yaxis": {
            "backgroundcolor": "#E5ECF6",
            "gridcolor": "white",
            "gridwidth": 2,
            "linecolor": "white",
            "showbackground": true,
            "ticks": "",
            "zerolinecolor": "white"
           },
           "zaxis": {
            "backgroundcolor": "#E5ECF6",
            "gridcolor": "white",
            "gridwidth": 2,
            "linecolor": "white",
            "showbackground": true,
            "ticks": "",
            "zerolinecolor": "white"
           }
          },
          "shapedefaults": {
           "line": {
            "color": "#2a3f5f"
           }
          },
          "ternary": {
           "aaxis": {
            "gridcolor": "white",
            "linecolor": "white",
            "ticks": ""
           },
           "baxis": {
            "gridcolor": "white",
            "linecolor": "white",
            "ticks": ""
           },
           "bgcolor": "#E5ECF6",
           "caxis": {
            "gridcolor": "white",
            "linecolor": "white",
            "ticks": ""
           }
          },
          "title": {
           "x": 0.05
          },
          "xaxis": {
           "automargin": true,
           "gridcolor": "white",
           "linecolor": "white",
           "ticks": "",
           "title": {
            "standoff": 15
           },
           "zerolinecolor": "white",
           "zerolinewidth": 2
          },
          "yaxis": {
           "automargin": true,
           "gridcolor": "white",
           "linecolor": "white",
           "ticks": "",
           "title": {
            "standoff": 15
           },
           "zerolinecolor": "white",
           "zerolinewidth": 2
          }
         }
        }
       }
      },
      "text/html": [
       "<div>                            <div id=\"2c84a7bf-b554-465b-bebe-11570c1e76b5\" class=\"plotly-graph-div\" style=\"height:525px; width:100%;\"></div>            <script type=\"text/javascript\">                require([\"plotly\"], function(Plotly) {                    window.PLOTLYENV=window.PLOTLYENV || {};                                    if (document.getElementById(\"2c84a7bf-b554-465b-bebe-11570c1e76b5\")) {                    Plotly.newPlot(                        \"2c84a7bf-b554-465b-bebe-11570c1e76b5\",                        [{\"marker\":{\"color\":\"rgb(0, 128, 128)\"},\"name\":\"standardXG\",\"type\":\"box\",\"y\":[-384.1469749291912,-405.65911698106345,-376.33619781861825,-381.4810158603163,-382.02657883843614,-388.12623676500823,-391.80276649876646,-396.3517223157381,-412.4690962674325,-404.62391702752365]},{\"marker\":{\"color\":\"rgb(0, 128, 128)\"},\"name\":\"standardLGBM\",\"type\":\"box\",\"y\":[-412.8487617166945,-412.1684630358017,-398.9278517563045,-418.68304886115953,-422.26201708147846,-422.59838547328764,-415.40666525233024,-398.65959034438345,-432.8873797113521,-415.45544779511397]},{\"marker\":{\"color\":\"rgb(0, 128, 128)\"},\"name\":\"standardETR\",\"type\":\"box\",\"y\":[-377.1946294267981,-377.6932694414019,-357.4659382986491,-368.04261044176707,-367.60879152975536,-360.6317964181287,-370.42499999999995,-358.90967836257306,-351.4497532894737,-357.99778508771925]},{\"marker\":{\"color\":\"rgb(0, 128, 128)\"},\"name\":\"standardRFR\",\"type\":\"box\",\"y\":[-372.16421452041936,-391.2126131539144,-377.4335208365932,-374.88608590204973,-372.50771084337345,-374.95707658904206,-371.4741697733918,-376.0707079156224,-378.25411706349206,-364.3835508040936]}],                        {\"template\":{\"data\":{\"bar\":[{\"error_x\":{\"color\":\"#2a3f5f\"},\"error_y\":{\"color\":\"#2a3f5f\"},\"marker\":{\"line\":{\"color\":\"#E5ECF6\",\"width\":0.5},\"pattern\":{\"fillmode\":\"overlay\",\"size\":10,\"solidity\":0.2}},\"type\":\"bar\"}],\"barpolar\":[{\"marker\":{\"line\":{\"color\":\"#E5ECF6\",\"width\":0.5},\"pattern\":{\"fillmode\":\"overlay\",\"size\":10,\"solidity\":0.2}},\"type\":\"barpolar\"}],\"carpet\":[{\"aaxis\":{\"endlinecolor\":\"#2a3f5f\",\"gridcolor\":\"white\",\"linecolor\":\"white\",\"minorgridcolor\":\"white\",\"startlinecolor\":\"#2a3f5f\"},\"baxis\":{\"endlinecolor\":\"#2a3f5f\",\"gridcolor\":\"white\",\"linecolor\":\"white\",\"minorgridcolor\":\"white\",\"startlinecolor\":\"#2a3f5f\"},\"type\":\"carpet\"}],\"choropleth\":[{\"colorbar\":{\"outlinewidth\":0,\"ticks\":\"\"},\"type\":\"choropleth\"}],\"contour\":[{\"colorbar\":{\"outlinewidth\":0,\"ticks\":\"\"},\"colorscale\":[[0.0,\"#0d0887\"],[0.1111111111111111,\"#46039f\"],[0.2222222222222222,\"#7201a8\"],[0.3333333333333333,\"#9c179e\"],[0.4444444444444444,\"#bd3786\"],[0.5555555555555556,\"#d8576b\"],[0.6666666666666666,\"#ed7953\"],[0.7777777777777778,\"#fb9f3a\"],[0.8888888888888888,\"#fdca26\"],[1.0,\"#f0f921\"]],\"type\":\"contour\"}],\"contourcarpet\":[{\"colorbar\":{\"outlinewidth\":0,\"ticks\":\"\"},\"type\":\"contourcarpet\"}],\"heatmap\":[{\"colorbar\":{\"outlinewidth\":0,\"ticks\":\"\"},\"colorscale\":[[0.0,\"#0d0887\"],[0.1111111111111111,\"#46039f\"],[0.2222222222222222,\"#7201a8\"],[0.3333333333333333,\"#9c179e\"],[0.4444444444444444,\"#bd3786\"],[0.5555555555555556,\"#d8576b\"],[0.6666666666666666,\"#ed7953\"],[0.7777777777777778,\"#fb9f3a\"],[0.8888888888888888,\"#fdca26\"],[1.0,\"#f0f921\"]],\"type\":\"heatmap\"}],\"heatmapgl\":[{\"colorbar\":{\"outlinewidth\":0,\"ticks\":\"\"},\"colorscale\":[[0.0,\"#0d0887\"],[0.1111111111111111,\"#46039f\"],[0.2222222222222222,\"#7201a8\"],[0.3333333333333333,\"#9c179e\"],[0.4444444444444444,\"#bd3786\"],[0.5555555555555556,\"#d8576b\"],[0.6666666666666666,\"#ed7953\"],[0.7777777777777778,\"#fb9f3a\"],[0.8888888888888888,\"#fdca26\"],[1.0,\"#f0f921\"]],\"type\":\"heatmapgl\"}],\"histogram\":[{\"marker\":{\"pattern\":{\"fillmode\":\"overlay\",\"size\":10,\"solidity\":0.2}},\"type\":\"histogram\"}],\"histogram2d\":[{\"colorbar\":{\"outlinewidth\":0,\"ticks\":\"\"},\"colorscale\":[[0.0,\"#0d0887\"],[0.1111111111111111,\"#46039f\"],[0.2222222222222222,\"#7201a8\"],[0.3333333333333333,\"#9c179e\"],[0.4444444444444444,\"#bd3786\"],[0.5555555555555556,\"#d8576b\"],[0.6666666666666666,\"#ed7953\"],[0.7777777777777778,\"#fb9f3a\"],[0.8888888888888888,\"#fdca26\"],[1.0,\"#f0f921\"]],\"type\":\"histogram2d\"}],\"histogram2dcontour\":[{\"colorbar\":{\"outlinewidth\":0,\"ticks\":\"\"},\"colorscale\":[[0.0,\"#0d0887\"],[0.1111111111111111,\"#46039f\"],[0.2222222222222222,\"#7201a8\"],[0.3333333333333333,\"#9c179e\"],[0.4444444444444444,\"#bd3786\"],[0.5555555555555556,\"#d8576b\"],[0.6666666666666666,\"#ed7953\"],[0.7777777777777778,\"#fb9f3a\"],[0.8888888888888888,\"#fdca26\"],[1.0,\"#f0f921\"]],\"type\":\"histogram2dcontour\"}],\"mesh3d\":[{\"colorbar\":{\"outlinewidth\":0,\"ticks\":\"\"},\"type\":\"mesh3d\"}],\"parcoords\":[{\"line\":{\"colorbar\":{\"outlinewidth\":0,\"ticks\":\"\"}},\"type\":\"parcoords\"}],\"pie\":[{\"automargin\":true,\"type\":\"pie\"}],\"scatter\":[{\"marker\":{\"colorbar\":{\"outlinewidth\":0,\"ticks\":\"\"}},\"type\":\"scatter\"}],\"scatter3d\":[{\"line\":{\"colorbar\":{\"outlinewidth\":0,\"ticks\":\"\"}},\"marker\":{\"colorbar\":{\"outlinewidth\":0,\"ticks\":\"\"}},\"type\":\"scatter3d\"}],\"scattercarpet\":[{\"marker\":{\"colorbar\":{\"outlinewidth\":0,\"ticks\":\"\"}},\"type\":\"scattercarpet\"}],\"scattergeo\":[{\"marker\":{\"colorbar\":{\"outlinewidth\":0,\"ticks\":\"\"}},\"type\":\"scattergeo\"}],\"scattergl\":[{\"marker\":{\"colorbar\":{\"outlinewidth\":0,\"ticks\":\"\"}},\"type\":\"scattergl\"}],\"scattermapbox\":[{\"marker\":{\"colorbar\":{\"outlinewidth\":0,\"ticks\":\"\"}},\"type\":\"scattermapbox\"}],\"scatterpolar\":[{\"marker\":{\"colorbar\":{\"outlinewidth\":0,\"ticks\":\"\"}},\"type\":\"scatterpolar\"}],\"scatterpolargl\":[{\"marker\":{\"colorbar\":{\"outlinewidth\":0,\"ticks\":\"\"}},\"type\":\"scatterpolargl\"}],\"scatterternary\":[{\"marker\":{\"colorbar\":{\"outlinewidth\":0,\"ticks\":\"\"}},\"type\":\"scatterternary\"}],\"surface\":[{\"colorbar\":{\"outlinewidth\":0,\"ticks\":\"\"},\"colorscale\":[[0.0,\"#0d0887\"],[0.1111111111111111,\"#46039f\"],[0.2222222222222222,\"#7201a8\"],[0.3333333333333333,\"#9c179e\"],[0.4444444444444444,\"#bd3786\"],[0.5555555555555556,\"#d8576b\"],[0.6666666666666666,\"#ed7953\"],[0.7777777777777778,\"#fb9f3a\"],[0.8888888888888888,\"#fdca26\"],[1.0,\"#f0f921\"]],\"type\":\"surface\"}],\"table\":[{\"cells\":{\"fill\":{\"color\":\"#EBF0F8\"},\"line\":{\"color\":\"white\"}},\"header\":{\"fill\":{\"color\":\"#C8D4E3\"},\"line\":{\"color\":\"white\"}},\"type\":\"table\"}]},\"layout\":{\"annotationdefaults\":{\"arrowcolor\":\"#2a3f5f\",\"arrowhead\":0,\"arrowwidth\":1},\"autotypenumbers\":\"strict\",\"coloraxis\":{\"colorbar\":{\"outlinewidth\":0,\"ticks\":\"\"}},\"colorscale\":{\"diverging\":[[0,\"#8e0152\"],[0.1,\"#c51b7d\"],[0.2,\"#de77ae\"],[0.3,\"#f1b6da\"],[0.4,\"#fde0ef\"],[0.5,\"#f7f7f7\"],[0.6,\"#e6f5d0\"],[0.7,\"#b8e186\"],[0.8,\"#7fbc41\"],[0.9,\"#4d9221\"],[1,\"#276419\"]],\"sequential\":[[0.0,\"#0d0887\"],[0.1111111111111111,\"#46039f\"],[0.2222222222222222,\"#7201a8\"],[0.3333333333333333,\"#9c179e\"],[0.4444444444444444,\"#bd3786\"],[0.5555555555555556,\"#d8576b\"],[0.6666666666666666,\"#ed7953\"],[0.7777777777777778,\"#fb9f3a\"],[0.8888888888888888,\"#fdca26\"],[1.0,\"#f0f921\"]],\"sequentialminus\":[[0.0,\"#0d0887\"],[0.1111111111111111,\"#46039f\"],[0.2222222222222222,\"#7201a8\"],[0.3333333333333333,\"#9c179e\"],[0.4444444444444444,\"#bd3786\"],[0.5555555555555556,\"#d8576b\"],[0.6666666666666666,\"#ed7953\"],[0.7777777777777778,\"#fb9f3a\"],[0.8888888888888888,\"#fdca26\"],[1.0,\"#f0f921\"]]},\"colorway\":[\"#636efa\",\"#EF553B\",\"#00cc96\",\"#ab63fa\",\"#FFA15A\",\"#19d3f3\",\"#FF6692\",\"#B6E880\",\"#FF97FF\",\"#FECB52\"],\"font\":{\"color\":\"#2a3f5f\"},\"geo\":{\"bgcolor\":\"white\",\"lakecolor\":\"white\",\"landcolor\":\"#E5ECF6\",\"showlakes\":true,\"showland\":true,\"subunitcolor\":\"white\"},\"hoverlabel\":{\"align\":\"left\"},\"hovermode\":\"closest\",\"mapbox\":{\"style\":\"light\"},\"paper_bgcolor\":\"white\",\"plot_bgcolor\":\"#E5ECF6\",\"polar\":{\"angularaxis\":{\"gridcolor\":\"white\",\"linecolor\":\"white\",\"ticks\":\"\"},\"bgcolor\":\"#E5ECF6\",\"radialaxis\":{\"gridcolor\":\"white\",\"linecolor\":\"white\",\"ticks\":\"\"}},\"scene\":{\"xaxis\":{\"backgroundcolor\":\"#E5ECF6\",\"gridcolor\":\"white\",\"gridwidth\":2,\"linecolor\":\"white\",\"showbackground\":true,\"ticks\":\"\",\"zerolinecolor\":\"white\"},\"yaxis\":{\"backgroundcolor\":\"#E5ECF6\",\"gridcolor\":\"white\",\"gridwidth\":2,\"linecolor\":\"white\",\"showbackground\":true,\"ticks\":\"\",\"zerolinecolor\":\"white\"},\"zaxis\":{\"backgroundcolor\":\"#E5ECF6\",\"gridcolor\":\"white\",\"gridwidth\":2,\"linecolor\":\"white\",\"showbackground\":true,\"ticks\":\"\",\"zerolinecolor\":\"white\"}},\"shapedefaults\":{\"line\":{\"color\":\"#2a3f5f\"}},\"ternary\":{\"aaxis\":{\"gridcolor\":\"white\",\"linecolor\":\"white\",\"ticks\":\"\"},\"baxis\":{\"gridcolor\":\"white\",\"linecolor\":\"white\",\"ticks\":\"\"},\"bgcolor\":\"#E5ECF6\",\"caxis\":{\"gridcolor\":\"white\",\"linecolor\":\"white\",\"ticks\":\"\"}},\"title\":{\"x\":0.05},\"xaxis\":{\"automargin\":true,\"gridcolor\":\"white\",\"linecolor\":\"white\",\"ticks\":\"\",\"title\":{\"standoff\":15},\"zerolinecolor\":\"white\",\"zerolinewidth\":2},\"yaxis\":{\"automargin\":true,\"gridcolor\":\"white\",\"linecolor\":\"white\",\"ticks\":\"\",\"title\":{\"standoff\":15},\"zerolinecolor\":\"white\",\"zerolinewidth\":2}}}},                        {\"responsive\": true}                    ).then(function(){\n",
       "                            \n",
       "var gd = document.getElementById('2c84a7bf-b554-465b-bebe-11570c1e76b5');\n",
       "var x = new MutationObserver(function (mutations, observer) {{\n",
       "        var display = window.getComputedStyle(gd).display;\n",
       "        if (!display || display === 'none') {{\n",
       "            console.log([gd, 'removed!']);\n",
       "            Plotly.purge(gd);\n",
       "            observer.disconnect();\n",
       "        }}\n",
       "}});\n",
       "\n",
       "// Listen for the removal of the full notebook cells\n",
       "var notebookContainer = gd.closest('#notebook-container');\n",
       "if (notebookContainer) {{\n",
       "    x.observe(notebookContainer, {childList: true});\n",
       "}}\n",
       "\n",
       "// Listen for the clearing of the current output cell\n",
       "var outputEl = gd.closest('.output');\n",
       "if (outputEl) {{\n",
       "    x.observe(outputEl, {childList: true});\n",
       "}}\n",
       "\n",
       "                        })                };                });            </script>        </div>"
      ]
     },
     "metadata": {},
     "output_type": "display_data"
    }
   ],
   "source": [
    "models = GetScaledModel('standard')\n",
    "names,results = BasedLine2(X_train, y_train,models, 'neg_mean_absolute_error')\n",
    "PlotBoxR().PlotResult(names,results)\n"
   ]
  },
  {
   "cell_type": "code",
   "execution_count": 27,
   "id": "eaf34332",
   "metadata": {},
   "outputs": [
    {
     "data": {
      "text/html": [
       "<div>\n",
       "<style scoped>\n",
       "    .dataframe tbody tr th:only-of-type {\n",
       "        vertical-align: middle;\n",
       "    }\n",
       "\n",
       "    .dataframe tbody tr th {\n",
       "        vertical-align: top;\n",
       "    }\n",
       "\n",
       "    .dataframe thead th {\n",
       "        text-align: right;\n",
       "    }\n",
       "</style>\n",
       "<table border=\"1\" class=\"dataframe\">\n",
       "  <thead>\n",
       "    <tr style=\"text-align: right;\">\n",
       "      <th></th>\n",
       "      <th>Model</th>\n",
       "      <th>Score</th>\n",
       "      <th>Model</th>\n",
       "      <th>Score</th>\n",
       "    </tr>\n",
       "  </thead>\n",
       "  <tbody>\n",
       "    <tr>\n",
       "      <th>0</th>\n",
       "      <td>XG</td>\n",
       "      <td>-392.9228</td>\n",
       "      <td>standardXG</td>\n",
       "      <td>-392.3024</td>\n",
       "    </tr>\n",
       "    <tr>\n",
       "      <th>1</th>\n",
       "      <td>LGBM</td>\n",
       "      <td>-415.4708</td>\n",
       "      <td>standardLGBM</td>\n",
       "      <td>-414.9898</td>\n",
       "    </tr>\n",
       "    <tr>\n",
       "      <th>2</th>\n",
       "      <td>ETR</td>\n",
       "      <td>-365.2729</td>\n",
       "      <td>standardETR</td>\n",
       "      <td>-364.7419</td>\n",
       "    </tr>\n",
       "    <tr>\n",
       "      <th>3</th>\n",
       "      <td>RFR</td>\n",
       "      <td>-373.7969</td>\n",
       "      <td>standardRFR</td>\n",
       "      <td>-375.3344</td>\n",
       "    </tr>\n",
       "    <tr>\n",
       "      <th>4</th>\n",
       "      <td>ABR</td>\n",
       "      <td>-1287.9676</td>\n",
       "      <td>NaN</td>\n",
       "      <td>NaN</td>\n",
       "    </tr>\n",
       "    <tr>\n",
       "      <th>5</th>\n",
       "      <td>GBR</td>\n",
       "      <td>-547.3491</td>\n",
       "      <td>NaN</td>\n",
       "      <td>NaN</td>\n",
       "    </tr>\n",
       "  </tbody>\n",
       "</table>\n",
       "</div>"
      ],
      "text/plain": [
       "  Model      Score         Model     Score\n",
       "0    XG  -392.9228    standardXG -392.3024\n",
       "1  LGBM  -415.4708  standardLGBM -414.9898\n",
       "2   ETR  -365.2729   standardETR -364.7419\n",
       "3   RFR  -373.7969   standardRFR -375.3344\n",
       "4   ABR -1287.9676           NaN       NaN\n",
       "5   GBR  -547.3491           NaN       NaN"
      ]
     },
     "execution_count": 27,
     "metadata": {},
     "output_type": "execute_result"
    }
   ],
   "source": [
    "scaledScoreStandard = ScoreDataFrame(names,results)\n",
    "compareModels = pd.concat([basedLineScore,\n",
    "                           scaledScoreStandard], axis=1)\n",
    "compareModels"
   ]
  },
  {
   "cell_type": "code",
   "execution_count": 28,
   "id": "88f261b1",
   "metadata": {},
   "outputs": [
    {
     "name": "stdout",
     "output_type": "stream",
     "text": [
      "minmaxXG: -389.887592 (14.523054)\n",
      "minmaxLGBM: -414.767146 (13.066175)\n",
      "minmaxETR: -367.086912 (9.846260)\n",
      "minmaxRFR: -376.747627 (10.393451)\n"
     ]
    },
    {
     "data": {
      "application/vnd.plotly.v1+json": {
       "config": {
        "linkText": "Export to plot.ly",
        "plotlyServerURL": "https://plot.ly",
        "showLink": false
       },
       "data": [
        {
         "marker": {
          "color": "rgb(0, 128, 128)"
         },
         "name": "minmaxXG",
         "type": "box",
         "y": [
          -367.69070163822903,
          -375.6781000511278,
          -409.1175022355045,
          -410.90357234156795,
          -391.60712117824994,
          -380.71871386076276,
          -373.82737638239274,
          -393.29363772743625,
          -405.57944649144224,
          -390.4597522668671
         ]
        },
        {
         "marker": {
          "color": "rgb(0, 128, 128)"
         },
         "name": "minmaxLGBM",
         "type": "box",
         "y": [
          -397.6702161174762,
          -432.5796412095793,
          -429.2232189298253,
          -425.7379400999694,
          -421.8676119092528,
          -396.78054096015285,
          -408.8197987051774,
          -399.36672815479307,
          -410.6263791376058,
          -424.9993841115763
         ]
        },
        {
         "marker": {
          "color": "rgb(0, 128, 128)"
         },
         "name": "minmaxETR",
         "type": "box",
         "y": [
          -356.5688189120117,
          -380.8165206279663,
          -365.6509364731655,
          -361.50255202628693,
          -359.745865279299,
          -381.84062134502926,
          -367.96922331871343,
          -354.25108735380115,
          -380.3488432017544,
          -362.17464912280707
         ]
        },
        {
         "marker": {
          "color": "rgb(0, 128, 128)"
         },
         "name": "minmaxRFR",
         "type": "box",
         "y": [
          -365.9645412559328,
          -379.1239088822823,
          -388.1806758201638,
          -382.20664267459443,
          -384.1584572054452,
          -361.68624652777777,
          -374.00794599345585,
          -364.91839301378445,
          -395.3255092592592,
          -371.9039528508772
         ]
        }
       ],
       "layout": {
        "template": {
         "data": {
          "bar": [
           {
            "error_x": {
             "color": "#2a3f5f"
            },
            "error_y": {
             "color": "#2a3f5f"
            },
            "marker": {
             "line": {
              "color": "#E5ECF6",
              "width": 0.5
             },
             "pattern": {
              "fillmode": "overlay",
              "size": 10,
              "solidity": 0.2
             }
            },
            "type": "bar"
           }
          ],
          "barpolar": [
           {
            "marker": {
             "line": {
              "color": "#E5ECF6",
              "width": 0.5
             },
             "pattern": {
              "fillmode": "overlay",
              "size": 10,
              "solidity": 0.2
             }
            },
            "type": "barpolar"
           }
          ],
          "carpet": [
           {
            "aaxis": {
             "endlinecolor": "#2a3f5f",
             "gridcolor": "white",
             "linecolor": "white",
             "minorgridcolor": "white",
             "startlinecolor": "#2a3f5f"
            },
            "baxis": {
             "endlinecolor": "#2a3f5f",
             "gridcolor": "white",
             "linecolor": "white",
             "minorgridcolor": "white",
             "startlinecolor": "#2a3f5f"
            },
            "type": "carpet"
           }
          ],
          "choropleth": [
           {
            "colorbar": {
             "outlinewidth": 0,
             "ticks": ""
            },
            "type": "choropleth"
           }
          ],
          "contour": [
           {
            "colorbar": {
             "outlinewidth": 0,
             "ticks": ""
            },
            "colorscale": [
             [
              0,
              "#0d0887"
             ],
             [
              0.1111111111111111,
              "#46039f"
             ],
             [
              0.2222222222222222,
              "#7201a8"
             ],
             [
              0.3333333333333333,
              "#9c179e"
             ],
             [
              0.4444444444444444,
              "#bd3786"
             ],
             [
              0.5555555555555556,
              "#d8576b"
             ],
             [
              0.6666666666666666,
              "#ed7953"
             ],
             [
              0.7777777777777778,
              "#fb9f3a"
             ],
             [
              0.8888888888888888,
              "#fdca26"
             ],
             [
              1,
              "#f0f921"
             ]
            ],
            "type": "contour"
           }
          ],
          "contourcarpet": [
           {
            "colorbar": {
             "outlinewidth": 0,
             "ticks": ""
            },
            "type": "contourcarpet"
           }
          ],
          "heatmap": [
           {
            "colorbar": {
             "outlinewidth": 0,
             "ticks": ""
            },
            "colorscale": [
             [
              0,
              "#0d0887"
             ],
             [
              0.1111111111111111,
              "#46039f"
             ],
             [
              0.2222222222222222,
              "#7201a8"
             ],
             [
              0.3333333333333333,
              "#9c179e"
             ],
             [
              0.4444444444444444,
              "#bd3786"
             ],
             [
              0.5555555555555556,
              "#d8576b"
             ],
             [
              0.6666666666666666,
              "#ed7953"
             ],
             [
              0.7777777777777778,
              "#fb9f3a"
             ],
             [
              0.8888888888888888,
              "#fdca26"
             ],
             [
              1,
              "#f0f921"
             ]
            ],
            "type": "heatmap"
           }
          ],
          "heatmapgl": [
           {
            "colorbar": {
             "outlinewidth": 0,
             "ticks": ""
            },
            "colorscale": [
             [
              0,
              "#0d0887"
             ],
             [
              0.1111111111111111,
              "#46039f"
             ],
             [
              0.2222222222222222,
              "#7201a8"
             ],
             [
              0.3333333333333333,
              "#9c179e"
             ],
             [
              0.4444444444444444,
              "#bd3786"
             ],
             [
              0.5555555555555556,
              "#d8576b"
             ],
             [
              0.6666666666666666,
              "#ed7953"
             ],
             [
              0.7777777777777778,
              "#fb9f3a"
             ],
             [
              0.8888888888888888,
              "#fdca26"
             ],
             [
              1,
              "#f0f921"
             ]
            ],
            "type": "heatmapgl"
           }
          ],
          "histogram": [
           {
            "marker": {
             "pattern": {
              "fillmode": "overlay",
              "size": 10,
              "solidity": 0.2
             }
            },
            "type": "histogram"
           }
          ],
          "histogram2d": [
           {
            "colorbar": {
             "outlinewidth": 0,
             "ticks": ""
            },
            "colorscale": [
             [
              0,
              "#0d0887"
             ],
             [
              0.1111111111111111,
              "#46039f"
             ],
             [
              0.2222222222222222,
              "#7201a8"
             ],
             [
              0.3333333333333333,
              "#9c179e"
             ],
             [
              0.4444444444444444,
              "#bd3786"
             ],
             [
              0.5555555555555556,
              "#d8576b"
             ],
             [
              0.6666666666666666,
              "#ed7953"
             ],
             [
              0.7777777777777778,
              "#fb9f3a"
             ],
             [
              0.8888888888888888,
              "#fdca26"
             ],
             [
              1,
              "#f0f921"
             ]
            ],
            "type": "histogram2d"
           }
          ],
          "histogram2dcontour": [
           {
            "colorbar": {
             "outlinewidth": 0,
             "ticks": ""
            },
            "colorscale": [
             [
              0,
              "#0d0887"
             ],
             [
              0.1111111111111111,
              "#46039f"
             ],
             [
              0.2222222222222222,
              "#7201a8"
             ],
             [
              0.3333333333333333,
              "#9c179e"
             ],
             [
              0.4444444444444444,
              "#bd3786"
             ],
             [
              0.5555555555555556,
              "#d8576b"
             ],
             [
              0.6666666666666666,
              "#ed7953"
             ],
             [
              0.7777777777777778,
              "#fb9f3a"
             ],
             [
              0.8888888888888888,
              "#fdca26"
             ],
             [
              1,
              "#f0f921"
             ]
            ],
            "type": "histogram2dcontour"
           }
          ],
          "mesh3d": [
           {
            "colorbar": {
             "outlinewidth": 0,
             "ticks": ""
            },
            "type": "mesh3d"
           }
          ],
          "parcoords": [
           {
            "line": {
             "colorbar": {
              "outlinewidth": 0,
              "ticks": ""
             }
            },
            "type": "parcoords"
           }
          ],
          "pie": [
           {
            "automargin": true,
            "type": "pie"
           }
          ],
          "scatter": [
           {
            "marker": {
             "colorbar": {
              "outlinewidth": 0,
              "ticks": ""
             }
            },
            "type": "scatter"
           }
          ],
          "scatter3d": [
           {
            "line": {
             "colorbar": {
              "outlinewidth": 0,
              "ticks": ""
             }
            },
            "marker": {
             "colorbar": {
              "outlinewidth": 0,
              "ticks": ""
             }
            },
            "type": "scatter3d"
           }
          ],
          "scattercarpet": [
           {
            "marker": {
             "colorbar": {
              "outlinewidth": 0,
              "ticks": ""
             }
            },
            "type": "scattercarpet"
           }
          ],
          "scattergeo": [
           {
            "marker": {
             "colorbar": {
              "outlinewidth": 0,
              "ticks": ""
             }
            },
            "type": "scattergeo"
           }
          ],
          "scattergl": [
           {
            "marker": {
             "colorbar": {
              "outlinewidth": 0,
              "ticks": ""
             }
            },
            "type": "scattergl"
           }
          ],
          "scattermapbox": [
           {
            "marker": {
             "colorbar": {
              "outlinewidth": 0,
              "ticks": ""
             }
            },
            "type": "scattermapbox"
           }
          ],
          "scatterpolar": [
           {
            "marker": {
             "colorbar": {
              "outlinewidth": 0,
              "ticks": ""
             }
            },
            "type": "scatterpolar"
           }
          ],
          "scatterpolargl": [
           {
            "marker": {
             "colorbar": {
              "outlinewidth": 0,
              "ticks": ""
             }
            },
            "type": "scatterpolargl"
           }
          ],
          "scatterternary": [
           {
            "marker": {
             "colorbar": {
              "outlinewidth": 0,
              "ticks": ""
             }
            },
            "type": "scatterternary"
           }
          ],
          "surface": [
           {
            "colorbar": {
             "outlinewidth": 0,
             "ticks": ""
            },
            "colorscale": [
             [
              0,
              "#0d0887"
             ],
             [
              0.1111111111111111,
              "#46039f"
             ],
             [
              0.2222222222222222,
              "#7201a8"
             ],
             [
              0.3333333333333333,
              "#9c179e"
             ],
             [
              0.4444444444444444,
              "#bd3786"
             ],
             [
              0.5555555555555556,
              "#d8576b"
             ],
             [
              0.6666666666666666,
              "#ed7953"
             ],
             [
              0.7777777777777778,
              "#fb9f3a"
             ],
             [
              0.8888888888888888,
              "#fdca26"
             ],
             [
              1,
              "#f0f921"
             ]
            ],
            "type": "surface"
           }
          ],
          "table": [
           {
            "cells": {
             "fill": {
              "color": "#EBF0F8"
             },
             "line": {
              "color": "white"
             }
            },
            "header": {
             "fill": {
              "color": "#C8D4E3"
             },
             "line": {
              "color": "white"
             }
            },
            "type": "table"
           }
          ]
         },
         "layout": {
          "annotationdefaults": {
           "arrowcolor": "#2a3f5f",
           "arrowhead": 0,
           "arrowwidth": 1
          },
          "autotypenumbers": "strict",
          "coloraxis": {
           "colorbar": {
            "outlinewidth": 0,
            "ticks": ""
           }
          },
          "colorscale": {
           "diverging": [
            [
             0,
             "#8e0152"
            ],
            [
             0.1,
             "#c51b7d"
            ],
            [
             0.2,
             "#de77ae"
            ],
            [
             0.3,
             "#f1b6da"
            ],
            [
             0.4,
             "#fde0ef"
            ],
            [
             0.5,
             "#f7f7f7"
            ],
            [
             0.6,
             "#e6f5d0"
            ],
            [
             0.7,
             "#b8e186"
            ],
            [
             0.8,
             "#7fbc41"
            ],
            [
             0.9,
             "#4d9221"
            ],
            [
             1,
             "#276419"
            ]
           ],
           "sequential": [
            [
             0,
             "#0d0887"
            ],
            [
             0.1111111111111111,
             "#46039f"
            ],
            [
             0.2222222222222222,
             "#7201a8"
            ],
            [
             0.3333333333333333,
             "#9c179e"
            ],
            [
             0.4444444444444444,
             "#bd3786"
            ],
            [
             0.5555555555555556,
             "#d8576b"
            ],
            [
             0.6666666666666666,
             "#ed7953"
            ],
            [
             0.7777777777777778,
             "#fb9f3a"
            ],
            [
             0.8888888888888888,
             "#fdca26"
            ],
            [
             1,
             "#f0f921"
            ]
           ],
           "sequentialminus": [
            [
             0,
             "#0d0887"
            ],
            [
             0.1111111111111111,
             "#46039f"
            ],
            [
             0.2222222222222222,
             "#7201a8"
            ],
            [
             0.3333333333333333,
             "#9c179e"
            ],
            [
             0.4444444444444444,
             "#bd3786"
            ],
            [
             0.5555555555555556,
             "#d8576b"
            ],
            [
             0.6666666666666666,
             "#ed7953"
            ],
            [
             0.7777777777777778,
             "#fb9f3a"
            ],
            [
             0.8888888888888888,
             "#fdca26"
            ],
            [
             1,
             "#f0f921"
            ]
           ]
          },
          "colorway": [
           "#636efa",
           "#EF553B",
           "#00cc96",
           "#ab63fa",
           "#FFA15A",
           "#19d3f3",
           "#FF6692",
           "#B6E880",
           "#FF97FF",
           "#FECB52"
          ],
          "font": {
           "color": "#2a3f5f"
          },
          "geo": {
           "bgcolor": "white",
           "lakecolor": "white",
           "landcolor": "#E5ECF6",
           "showlakes": true,
           "showland": true,
           "subunitcolor": "white"
          },
          "hoverlabel": {
           "align": "left"
          },
          "hovermode": "closest",
          "mapbox": {
           "style": "light"
          },
          "paper_bgcolor": "white",
          "plot_bgcolor": "#E5ECF6",
          "polar": {
           "angularaxis": {
            "gridcolor": "white",
            "linecolor": "white",
            "ticks": ""
           },
           "bgcolor": "#E5ECF6",
           "radialaxis": {
            "gridcolor": "white",
            "linecolor": "white",
            "ticks": ""
           }
          },
          "scene": {
           "xaxis": {
            "backgroundcolor": "#E5ECF6",
            "gridcolor": "white",
            "gridwidth": 2,
            "linecolor": "white",
            "showbackground": true,
            "ticks": "",
            "zerolinecolor": "white"
           },
           "yaxis": {
            "backgroundcolor": "#E5ECF6",
            "gridcolor": "white",
            "gridwidth": 2,
            "linecolor": "white",
            "showbackground": true,
            "ticks": "",
            "zerolinecolor": "white"
           },
           "zaxis": {
            "backgroundcolor": "#E5ECF6",
            "gridcolor": "white",
            "gridwidth": 2,
            "linecolor": "white",
            "showbackground": true,
            "ticks": "",
            "zerolinecolor": "white"
           }
          },
          "shapedefaults": {
           "line": {
            "color": "#2a3f5f"
           }
          },
          "ternary": {
           "aaxis": {
            "gridcolor": "white",
            "linecolor": "white",
            "ticks": ""
           },
           "baxis": {
            "gridcolor": "white",
            "linecolor": "white",
            "ticks": ""
           },
           "bgcolor": "#E5ECF6",
           "caxis": {
            "gridcolor": "white",
            "linecolor": "white",
            "ticks": ""
           }
          },
          "title": {
           "x": 0.05
          },
          "xaxis": {
           "automargin": true,
           "gridcolor": "white",
           "linecolor": "white",
           "ticks": "",
           "title": {
            "standoff": 15
           },
           "zerolinecolor": "white",
           "zerolinewidth": 2
          },
          "yaxis": {
           "automargin": true,
           "gridcolor": "white",
           "linecolor": "white",
           "ticks": "",
           "title": {
            "standoff": 15
           },
           "zerolinecolor": "white",
           "zerolinewidth": 2
          }
         }
        }
       }
      },
      "text/html": [
       "<div>                            <div id=\"4309e001-06dd-4c23-86e0-979703503b39\" class=\"plotly-graph-div\" style=\"height:525px; width:100%;\"></div>            <script type=\"text/javascript\">                require([\"plotly\"], function(Plotly) {                    window.PLOTLYENV=window.PLOTLYENV || {};                                    if (document.getElementById(\"4309e001-06dd-4c23-86e0-979703503b39\")) {                    Plotly.newPlot(                        \"4309e001-06dd-4c23-86e0-979703503b39\",                        [{\"marker\":{\"color\":\"rgb(0, 128, 128)\"},\"name\":\"minmaxXG\",\"type\":\"box\",\"y\":[-367.69070163822903,-375.6781000511278,-409.1175022355045,-410.90357234156795,-391.60712117824994,-380.71871386076276,-373.82737638239274,-393.29363772743625,-405.57944649144224,-390.4597522668671]},{\"marker\":{\"color\":\"rgb(0, 128, 128)\"},\"name\":\"minmaxLGBM\",\"type\":\"box\",\"y\":[-397.6702161174762,-432.5796412095793,-429.2232189298253,-425.7379400999694,-421.8676119092528,-396.78054096015285,-408.8197987051774,-399.36672815479307,-410.6263791376058,-424.9993841115763]},{\"marker\":{\"color\":\"rgb(0, 128, 128)\"},\"name\":\"minmaxETR\",\"type\":\"box\",\"y\":[-356.5688189120117,-380.8165206279663,-365.6509364731655,-361.50255202628693,-359.745865279299,-381.84062134502926,-367.96922331871343,-354.25108735380115,-380.3488432017544,-362.17464912280707]},{\"marker\":{\"color\":\"rgb(0, 128, 128)\"},\"name\":\"minmaxRFR\",\"type\":\"box\",\"y\":[-365.9645412559328,-379.1239088822823,-388.1806758201638,-382.20664267459443,-384.1584572054452,-361.68624652777777,-374.00794599345585,-364.91839301378445,-395.3255092592592,-371.9039528508772]}],                        {\"template\":{\"data\":{\"bar\":[{\"error_x\":{\"color\":\"#2a3f5f\"},\"error_y\":{\"color\":\"#2a3f5f\"},\"marker\":{\"line\":{\"color\":\"#E5ECF6\",\"width\":0.5},\"pattern\":{\"fillmode\":\"overlay\",\"size\":10,\"solidity\":0.2}},\"type\":\"bar\"}],\"barpolar\":[{\"marker\":{\"line\":{\"color\":\"#E5ECF6\",\"width\":0.5},\"pattern\":{\"fillmode\":\"overlay\",\"size\":10,\"solidity\":0.2}},\"type\":\"barpolar\"}],\"carpet\":[{\"aaxis\":{\"endlinecolor\":\"#2a3f5f\",\"gridcolor\":\"white\",\"linecolor\":\"white\",\"minorgridcolor\":\"white\",\"startlinecolor\":\"#2a3f5f\"},\"baxis\":{\"endlinecolor\":\"#2a3f5f\",\"gridcolor\":\"white\",\"linecolor\":\"white\",\"minorgridcolor\":\"white\",\"startlinecolor\":\"#2a3f5f\"},\"type\":\"carpet\"}],\"choropleth\":[{\"colorbar\":{\"outlinewidth\":0,\"ticks\":\"\"},\"type\":\"choropleth\"}],\"contour\":[{\"colorbar\":{\"outlinewidth\":0,\"ticks\":\"\"},\"colorscale\":[[0.0,\"#0d0887\"],[0.1111111111111111,\"#46039f\"],[0.2222222222222222,\"#7201a8\"],[0.3333333333333333,\"#9c179e\"],[0.4444444444444444,\"#bd3786\"],[0.5555555555555556,\"#d8576b\"],[0.6666666666666666,\"#ed7953\"],[0.7777777777777778,\"#fb9f3a\"],[0.8888888888888888,\"#fdca26\"],[1.0,\"#f0f921\"]],\"type\":\"contour\"}],\"contourcarpet\":[{\"colorbar\":{\"outlinewidth\":0,\"ticks\":\"\"},\"type\":\"contourcarpet\"}],\"heatmap\":[{\"colorbar\":{\"outlinewidth\":0,\"ticks\":\"\"},\"colorscale\":[[0.0,\"#0d0887\"],[0.1111111111111111,\"#46039f\"],[0.2222222222222222,\"#7201a8\"],[0.3333333333333333,\"#9c179e\"],[0.4444444444444444,\"#bd3786\"],[0.5555555555555556,\"#d8576b\"],[0.6666666666666666,\"#ed7953\"],[0.7777777777777778,\"#fb9f3a\"],[0.8888888888888888,\"#fdca26\"],[1.0,\"#f0f921\"]],\"type\":\"heatmap\"}],\"heatmapgl\":[{\"colorbar\":{\"outlinewidth\":0,\"ticks\":\"\"},\"colorscale\":[[0.0,\"#0d0887\"],[0.1111111111111111,\"#46039f\"],[0.2222222222222222,\"#7201a8\"],[0.3333333333333333,\"#9c179e\"],[0.4444444444444444,\"#bd3786\"],[0.5555555555555556,\"#d8576b\"],[0.6666666666666666,\"#ed7953\"],[0.7777777777777778,\"#fb9f3a\"],[0.8888888888888888,\"#fdca26\"],[1.0,\"#f0f921\"]],\"type\":\"heatmapgl\"}],\"histogram\":[{\"marker\":{\"pattern\":{\"fillmode\":\"overlay\",\"size\":10,\"solidity\":0.2}},\"type\":\"histogram\"}],\"histogram2d\":[{\"colorbar\":{\"outlinewidth\":0,\"ticks\":\"\"},\"colorscale\":[[0.0,\"#0d0887\"],[0.1111111111111111,\"#46039f\"],[0.2222222222222222,\"#7201a8\"],[0.3333333333333333,\"#9c179e\"],[0.4444444444444444,\"#bd3786\"],[0.5555555555555556,\"#d8576b\"],[0.6666666666666666,\"#ed7953\"],[0.7777777777777778,\"#fb9f3a\"],[0.8888888888888888,\"#fdca26\"],[1.0,\"#f0f921\"]],\"type\":\"histogram2d\"}],\"histogram2dcontour\":[{\"colorbar\":{\"outlinewidth\":0,\"ticks\":\"\"},\"colorscale\":[[0.0,\"#0d0887\"],[0.1111111111111111,\"#46039f\"],[0.2222222222222222,\"#7201a8\"],[0.3333333333333333,\"#9c179e\"],[0.4444444444444444,\"#bd3786\"],[0.5555555555555556,\"#d8576b\"],[0.6666666666666666,\"#ed7953\"],[0.7777777777777778,\"#fb9f3a\"],[0.8888888888888888,\"#fdca26\"],[1.0,\"#f0f921\"]],\"type\":\"histogram2dcontour\"}],\"mesh3d\":[{\"colorbar\":{\"outlinewidth\":0,\"ticks\":\"\"},\"type\":\"mesh3d\"}],\"parcoords\":[{\"line\":{\"colorbar\":{\"outlinewidth\":0,\"ticks\":\"\"}},\"type\":\"parcoords\"}],\"pie\":[{\"automargin\":true,\"type\":\"pie\"}],\"scatter\":[{\"marker\":{\"colorbar\":{\"outlinewidth\":0,\"ticks\":\"\"}},\"type\":\"scatter\"}],\"scatter3d\":[{\"line\":{\"colorbar\":{\"outlinewidth\":0,\"ticks\":\"\"}},\"marker\":{\"colorbar\":{\"outlinewidth\":0,\"ticks\":\"\"}},\"type\":\"scatter3d\"}],\"scattercarpet\":[{\"marker\":{\"colorbar\":{\"outlinewidth\":0,\"ticks\":\"\"}},\"type\":\"scattercarpet\"}],\"scattergeo\":[{\"marker\":{\"colorbar\":{\"outlinewidth\":0,\"ticks\":\"\"}},\"type\":\"scattergeo\"}],\"scattergl\":[{\"marker\":{\"colorbar\":{\"outlinewidth\":0,\"ticks\":\"\"}},\"type\":\"scattergl\"}],\"scattermapbox\":[{\"marker\":{\"colorbar\":{\"outlinewidth\":0,\"ticks\":\"\"}},\"type\":\"scattermapbox\"}],\"scatterpolar\":[{\"marker\":{\"colorbar\":{\"outlinewidth\":0,\"ticks\":\"\"}},\"type\":\"scatterpolar\"}],\"scatterpolargl\":[{\"marker\":{\"colorbar\":{\"outlinewidth\":0,\"ticks\":\"\"}},\"type\":\"scatterpolargl\"}],\"scatterternary\":[{\"marker\":{\"colorbar\":{\"outlinewidth\":0,\"ticks\":\"\"}},\"type\":\"scatterternary\"}],\"surface\":[{\"colorbar\":{\"outlinewidth\":0,\"ticks\":\"\"},\"colorscale\":[[0.0,\"#0d0887\"],[0.1111111111111111,\"#46039f\"],[0.2222222222222222,\"#7201a8\"],[0.3333333333333333,\"#9c179e\"],[0.4444444444444444,\"#bd3786\"],[0.5555555555555556,\"#d8576b\"],[0.6666666666666666,\"#ed7953\"],[0.7777777777777778,\"#fb9f3a\"],[0.8888888888888888,\"#fdca26\"],[1.0,\"#f0f921\"]],\"type\":\"surface\"}],\"table\":[{\"cells\":{\"fill\":{\"color\":\"#EBF0F8\"},\"line\":{\"color\":\"white\"}},\"header\":{\"fill\":{\"color\":\"#C8D4E3\"},\"line\":{\"color\":\"white\"}},\"type\":\"table\"}]},\"layout\":{\"annotationdefaults\":{\"arrowcolor\":\"#2a3f5f\",\"arrowhead\":0,\"arrowwidth\":1},\"autotypenumbers\":\"strict\",\"coloraxis\":{\"colorbar\":{\"outlinewidth\":0,\"ticks\":\"\"}},\"colorscale\":{\"diverging\":[[0,\"#8e0152\"],[0.1,\"#c51b7d\"],[0.2,\"#de77ae\"],[0.3,\"#f1b6da\"],[0.4,\"#fde0ef\"],[0.5,\"#f7f7f7\"],[0.6,\"#e6f5d0\"],[0.7,\"#b8e186\"],[0.8,\"#7fbc41\"],[0.9,\"#4d9221\"],[1,\"#276419\"]],\"sequential\":[[0.0,\"#0d0887\"],[0.1111111111111111,\"#46039f\"],[0.2222222222222222,\"#7201a8\"],[0.3333333333333333,\"#9c179e\"],[0.4444444444444444,\"#bd3786\"],[0.5555555555555556,\"#d8576b\"],[0.6666666666666666,\"#ed7953\"],[0.7777777777777778,\"#fb9f3a\"],[0.8888888888888888,\"#fdca26\"],[1.0,\"#f0f921\"]],\"sequentialminus\":[[0.0,\"#0d0887\"],[0.1111111111111111,\"#46039f\"],[0.2222222222222222,\"#7201a8\"],[0.3333333333333333,\"#9c179e\"],[0.4444444444444444,\"#bd3786\"],[0.5555555555555556,\"#d8576b\"],[0.6666666666666666,\"#ed7953\"],[0.7777777777777778,\"#fb9f3a\"],[0.8888888888888888,\"#fdca26\"],[1.0,\"#f0f921\"]]},\"colorway\":[\"#636efa\",\"#EF553B\",\"#00cc96\",\"#ab63fa\",\"#FFA15A\",\"#19d3f3\",\"#FF6692\",\"#B6E880\",\"#FF97FF\",\"#FECB52\"],\"font\":{\"color\":\"#2a3f5f\"},\"geo\":{\"bgcolor\":\"white\",\"lakecolor\":\"white\",\"landcolor\":\"#E5ECF6\",\"showlakes\":true,\"showland\":true,\"subunitcolor\":\"white\"},\"hoverlabel\":{\"align\":\"left\"},\"hovermode\":\"closest\",\"mapbox\":{\"style\":\"light\"},\"paper_bgcolor\":\"white\",\"plot_bgcolor\":\"#E5ECF6\",\"polar\":{\"angularaxis\":{\"gridcolor\":\"white\",\"linecolor\":\"white\",\"ticks\":\"\"},\"bgcolor\":\"#E5ECF6\",\"radialaxis\":{\"gridcolor\":\"white\",\"linecolor\":\"white\",\"ticks\":\"\"}},\"scene\":{\"xaxis\":{\"backgroundcolor\":\"#E5ECF6\",\"gridcolor\":\"white\",\"gridwidth\":2,\"linecolor\":\"white\",\"showbackground\":true,\"ticks\":\"\",\"zerolinecolor\":\"white\"},\"yaxis\":{\"backgroundcolor\":\"#E5ECF6\",\"gridcolor\":\"white\",\"gridwidth\":2,\"linecolor\":\"white\",\"showbackground\":true,\"ticks\":\"\",\"zerolinecolor\":\"white\"},\"zaxis\":{\"backgroundcolor\":\"#E5ECF6\",\"gridcolor\":\"white\",\"gridwidth\":2,\"linecolor\":\"white\",\"showbackground\":true,\"ticks\":\"\",\"zerolinecolor\":\"white\"}},\"shapedefaults\":{\"line\":{\"color\":\"#2a3f5f\"}},\"ternary\":{\"aaxis\":{\"gridcolor\":\"white\",\"linecolor\":\"white\",\"ticks\":\"\"},\"baxis\":{\"gridcolor\":\"white\",\"linecolor\":\"white\",\"ticks\":\"\"},\"bgcolor\":\"#E5ECF6\",\"caxis\":{\"gridcolor\":\"white\",\"linecolor\":\"white\",\"ticks\":\"\"}},\"title\":{\"x\":0.05},\"xaxis\":{\"automargin\":true,\"gridcolor\":\"white\",\"linecolor\":\"white\",\"ticks\":\"\",\"title\":{\"standoff\":15},\"zerolinecolor\":\"white\",\"zerolinewidth\":2},\"yaxis\":{\"automargin\":true,\"gridcolor\":\"white\",\"linecolor\":\"white\",\"ticks\":\"\",\"title\":{\"standoff\":15},\"zerolinecolor\":\"white\",\"zerolinewidth\":2}}}},                        {\"responsive\": true}                    ).then(function(){\n",
       "                            \n",
       "var gd = document.getElementById('4309e001-06dd-4c23-86e0-979703503b39');\n",
       "var x = new MutationObserver(function (mutations, observer) {{\n",
       "        var display = window.getComputedStyle(gd).display;\n",
       "        if (!display || display === 'none') {{\n",
       "            console.log([gd, 'removed!']);\n",
       "            Plotly.purge(gd);\n",
       "            observer.disconnect();\n",
       "        }}\n",
       "}});\n",
       "\n",
       "// Listen for the removal of the full notebook cells\n",
       "var notebookContainer = gd.closest('#notebook-container');\n",
       "if (notebookContainer) {{\n",
       "    x.observe(notebookContainer, {childList: true});\n",
       "}}\n",
       "\n",
       "// Listen for the clearing of the current output cell\n",
       "var outputEl = gd.closest('.output');\n",
       "if (outputEl) {{\n",
       "    x.observe(outputEl, {childList: true});\n",
       "}}\n",
       "\n",
       "                        })                };                });            </script>        </div>"
      ]
     },
     "metadata": {},
     "output_type": "display_data"
    },
    {
     "data": {
      "text/html": [
       "<div>\n",
       "<style scoped>\n",
       "    .dataframe tbody tr th:only-of-type {\n",
       "        vertical-align: middle;\n",
       "    }\n",
       "\n",
       "    .dataframe tbody tr th {\n",
       "        vertical-align: top;\n",
       "    }\n",
       "\n",
       "    .dataframe thead th {\n",
       "        text-align: right;\n",
       "    }\n",
       "</style>\n",
       "<table border=\"1\" class=\"dataframe\">\n",
       "  <thead>\n",
       "    <tr style=\"text-align: right;\">\n",
       "      <th></th>\n",
       "      <th>Model</th>\n",
       "      <th>Score</th>\n",
       "      <th>Model</th>\n",
       "      <th>Score</th>\n",
       "      <th>Model</th>\n",
       "      <th>Score</th>\n",
       "    </tr>\n",
       "  </thead>\n",
       "  <tbody>\n",
       "    <tr>\n",
       "      <th>0</th>\n",
       "      <td>XG</td>\n",
       "      <td>-392.9228</td>\n",
       "      <td>standardXG</td>\n",
       "      <td>-392.3024</td>\n",
       "      <td>minmaxXG</td>\n",
       "      <td>-389.8876</td>\n",
       "    </tr>\n",
       "    <tr>\n",
       "      <th>1</th>\n",
       "      <td>LGBM</td>\n",
       "      <td>-415.4708</td>\n",
       "      <td>standardLGBM</td>\n",
       "      <td>-414.9898</td>\n",
       "      <td>minmaxLGBM</td>\n",
       "      <td>-414.7671</td>\n",
       "    </tr>\n",
       "    <tr>\n",
       "      <th>2</th>\n",
       "      <td>ETR</td>\n",
       "      <td>-365.2729</td>\n",
       "      <td>standardETR</td>\n",
       "      <td>-364.7419</td>\n",
       "      <td>minmaxETR</td>\n",
       "      <td>-367.0869</td>\n",
       "    </tr>\n",
       "    <tr>\n",
       "      <th>3</th>\n",
       "      <td>RFR</td>\n",
       "      <td>-373.7969</td>\n",
       "      <td>standardRFR</td>\n",
       "      <td>-375.3344</td>\n",
       "      <td>minmaxRFR</td>\n",
       "      <td>-376.7476</td>\n",
       "    </tr>\n",
       "    <tr>\n",
       "      <th>4</th>\n",
       "      <td>ABR</td>\n",
       "      <td>-1287.9676</td>\n",
       "      <td>NaN</td>\n",
       "      <td>NaN</td>\n",
       "      <td>NaN</td>\n",
       "      <td>NaN</td>\n",
       "    </tr>\n",
       "    <tr>\n",
       "      <th>5</th>\n",
       "      <td>GBR</td>\n",
       "      <td>-547.3491</td>\n",
       "      <td>NaN</td>\n",
       "      <td>NaN</td>\n",
       "      <td>NaN</td>\n",
       "      <td>NaN</td>\n",
       "    </tr>\n",
       "  </tbody>\n",
       "</table>\n",
       "</div>"
      ],
      "text/plain": [
       "  Model      Score         Model     Score       Model     Score\n",
       "0    XG  -392.9228    standardXG -392.3024    minmaxXG -389.8876\n",
       "1  LGBM  -415.4708  standardLGBM -414.9898  minmaxLGBM -414.7671\n",
       "2   ETR  -365.2729   standardETR -364.7419   minmaxETR -367.0869\n",
       "3   RFR  -373.7969   standardRFR -375.3344   minmaxRFR -376.7476\n",
       "4   ABR -1287.9676           NaN       NaN         NaN       NaN\n",
       "5   GBR  -547.3491           NaN       NaN         NaN       NaN"
      ]
     },
     "execution_count": 28,
     "metadata": {},
     "output_type": "execute_result"
    }
   ],
   "source": [
    "models = GetScaledModel('minmax')\n",
    "names,results = BasedLine2(X_train, y_train,models,'neg_mean_absolute_error')\n",
    "PlotBoxR().PlotResult(names,results)\n",
    "\n",
    "scaledScoreMinMax = ScoreDataFrame(names,results)\n",
    "compareModels = pd.concat([basedLineScore,\n",
    "                           scaledScoreStandard,\n",
    "                          scaledScoreMinMax], axis=1)\n",
    "compareModels"
   ]
  },
  {
   "cell_type": "code",
   "execution_count": 29,
   "id": "97ac8e06",
   "metadata": {},
   "outputs": [],
   "source": [
    "df_t = df.copy()\n",
    "df_t_name = df_t.columns\n"
   ]
  },
  {
   "cell_type": "code",
   "execution_count": null,
   "id": "bc597f68",
   "metadata": {},
   "outputs": [],
   "source": [
    "def TurkyOutliers(df_out,nameOfFeature,drop=False):\n",
    "\n",
    "    valueOfFeature = df_out[nameOfFeature]\n",
    "    # Calculate Q1 (25th percentile of the data) for the given feature\n",
    "    Q1 = np.percentile(valueOfFeature, 25.)\n",
    "\n",
    "    # Calculate Q3 (75th percentile of the data) for the given feature\n",
    "    Q3 = np.percentile(valueOfFeature, 75.)\n",
    "\n",
    "    # Use the interquartile range to calculate an outlier step (1.5 times the interquartile range)\n",
    "    step = (Q3-Q1)*1.5\n",
    "    # print \"Outlier step:\", step\n",
    "    outliers = valueOfFeature[~((valueOfFeature >= Q1 - step) & (valueOfFeature <= Q3 + step))].index.tolist()\n",
    "    feature_outliers = valueOfFeature[~((valueOfFeature >= Q1 - step) & (valueOfFeature <= Q3 + step))].values\n",
    "    # df[~((df[nameOfFeature] >= Q1 - step) & (df[nameOfFeature] <= Q3 + step))]\n",
    "\n",
    "\n",
    "    # Remove the outliers, if any were specified\n",
    "    print (\"Number of outliers (inc duplicates): {} and outliers: {}\".format(len(outliers), feature_outliers))\n",
    "    if drop:\n",
    "        good_data = df_out.drop(df_out.index[outliers]).reset_index(drop = True)\n",
    "        print (\"New dataset with removed outliers has {} samples with {} features each.\".format(*good_data.shape))\n",
    "        return good_data\n",
    "    else: \n",
    "        print (\"Nothing happens, df.shape = \",df_out.shape)\n",
    "        return df_out"
   ]
  },
  {
   "cell_type": "code",
   "execution_count": null,
   "id": "13efae29",
   "metadata": {},
   "outputs": [],
   "source": [
    "df_t_name"
   ]
  },
  {
   "cell_type": "code",
   "execution_count": null,
   "id": "1dee832c",
   "metadata": {},
   "outputs": [],
   "source": [
    "df_name"
   ]
  },
  {
   "cell_type": "code",
   "execution_count": null,
   "id": "4335aa3b",
   "metadata": {},
   "outputs": [],
   "source": [
    "#feature_number = 5\n",
    "#OutLiersBox(df,df_name[feature_number])"
   ]
  },
  {
   "cell_type": "code",
   "execution_count": null,
   "id": "9350e447",
   "metadata": {},
   "outputs": [],
   "source": [
    "#feature_number = 1\n",
    "#OutLiersBox(df,df_name[feature_number])"
   ]
  },
  {
   "cell_type": "code",
   "execution_count": null,
   "id": "a218f610",
   "metadata": {},
   "outputs": [],
   "source": [
    "\"\"\"df_t = df\n",
    "feature_number = [3, 6, 7]\n",
    "for fn in feature_number:\n",
    "    df_clean = TurkyOutliers(df_t,df_name[fn],True)\n",
    "    OutLiersBox(df_clean,df_name[fn])\"\"\""
   ]
  },
  {
   "cell_type": "code",
   "execution_count": 51,
   "id": "91be0816",
   "metadata": {},
   "outputs": [
    {
     "name": "stdout",
     "output_type": "stream",
     "text": [
      "df shape: 28545, new df shape: 28130, we lost 415 rows, 1.4538448064459626% of our data\n"
     ]
    }
   ],
   "source": [
    "\"\"\"print('df shape: {}, new df shape: {}, we lost {} rows, {}% of our data'.format(df.shape[0],df_clean.shape[0],\n",
    "                                                              df.shape[0]-df_clean.shape[0],\n",
    "                                                        (df.shape[0]-df_clean.shape[0])/df.shape[0]*100))\"\"\""
   ]
  },
  {
   "cell_type": "code",
   "execution_count": 52,
   "id": "76308420",
   "metadata": {},
   "outputs": [],
   "source": [
    "#df.to_csv('./Data/usedCleaned20.csv', index=False)"
   ]
  },
  {
   "cell_type": "code",
   "execution_count": 53,
   "id": "add348f8",
   "metadata": {},
   "outputs": [],
   "source": [
    "\"\"\"df_clean_name = df_clean.columns\n",
    "X_c =  df_clean.drop(columns='Cena')\n",
    "Y_c = df_clean['Cena']\n",
    "X_train_c, X_test_c, y_train_c, y_test_c =train_test_split(X_c,Y_c,\n",
    "                                                   test_size=0.25,\n",
    "                                                   random_state=0)\"\"\""
   ]
  },
  {
   "cell_type": "code",
   "execution_count": 54,
   "id": "a5c98aed",
   "metadata": {},
   "outputs": [
    {
     "name": "stdout",
     "output_type": "stream",
     "text": [
      "minmaxXG: -551.080888 (13.939926)\n",
      "minmaxLGBM: -568.160831 (10.896811)\n",
      "minmaxETR: -550.343516 (6.941059)\n",
      "minmaxRFR: -544.510706 (16.829155)\n",
      "minmaxABR: -1389.471990 (39.087176)\n",
      "minmaxGBR: -693.223724 (19.067966)\n"
     ]
    },
    {
     "data": {
      "application/vnd.plotly.v1+json": {
       "config": {
        "linkText": "Export to plot.ly",
        "plotlyServerURL": "https://plot.ly",
        "showLink": false
       },
       "data": [
        {
         "marker": {
          "color": "rgb(0, 128, 128)"
         },
         "name": "minmaxXG",
         "type": "box",
         "y": [
          -557.548885573256,
          -552.8206545572145,
          -551.7064852601544,
          -573.6348548346787,
          -573.3669412766587,
          -539.3683053111578,
          -542.5926412139459,
          -546.3900560909902,
          -525.5729243358542,
          -547.8071313372377
         ]
        },
        {
         "marker": {
          "color": "rgb(0, 128, 128)"
         },
         "name": "minmaxLGBM",
         "type": "box",
         "y": [
          -565.0618203336654,
          -577.7875981750049,
          -584.0503470562583,
          -560.3695725347977,
          -576.5102597452285,
          -579.0194014355891,
          -546.118020375813,
          -568.9262038773284,
          -558.7987687765146,
          -564.9663215077089
         ]
        },
        {
         "marker": {
          "color": "rgb(0, 128, 128)"
         },
         "name": "minmaxETR",
         "type": "box",
         "y": [
          -542.4801887835703,
          -557.4304533965244,
          -558.0224557661928,
          -550.8742511848341,
          -561.83785150079,
          -546.3845331753555,
          -544.4034320695102,
          -554.792164532954,
          -540.7072641062115,
          -546.5025667773035
         ]
        },
        {
         "marker": {
          "color": "rgb(0, 128, 128)"
         },
         "name": "minmaxRFR",
         "type": "box",
         "y": [
          -510.6538992213946,
          -568.7374512074024,
          -548.3175606747913,
          -563.1620178357714,
          -547.3102818513503,
          -561.283934877208,
          -534.4117578424735,
          -542.3771154914313,
          -542.7187185079816,
          -526.1343229808756
         ]
        },
        {
         "marker": {
          "color": "rgb(0, 128, 128)"
         },
         "name": "minmaxABR",
         "type": "box",
         "y": [
          -1389.1882595226618,
          -1404.2507736024836,
          -1461.5971999189103,
          -1399.3288146495377,
          -1394.2101145903518,
          -1320.6445542615397,
          -1328.491690011999,
          -1414.9955932362634,
          -1373.315329991331,
          -1408.6975745059663
         ]
        },
        {
         "marker": {
          "color": "rgb(0, 128, 128)"
         },
         "name": "minmaxGBR",
         "type": "box",
         "y": [
          -684.4545669294945,
          -695.0368718770396,
          -725.6090002368438,
          -689.0593003874209,
          -667.5444541583585,
          -681.2574070845992,
          -713.3879071004302,
          -713.2549033936307,
          -698.5720015581614,
          -664.0608225081077
         ]
        }
       ],
       "layout": {
        "template": {
         "data": {
          "bar": [
           {
            "error_x": {
             "color": "#2a3f5f"
            },
            "error_y": {
             "color": "#2a3f5f"
            },
            "marker": {
             "line": {
              "color": "#E5ECF6",
              "width": 0.5
             },
             "pattern": {
              "fillmode": "overlay",
              "size": 10,
              "solidity": 0.2
             }
            },
            "type": "bar"
           }
          ],
          "barpolar": [
           {
            "marker": {
             "line": {
              "color": "#E5ECF6",
              "width": 0.5
             },
             "pattern": {
              "fillmode": "overlay",
              "size": 10,
              "solidity": 0.2
             }
            },
            "type": "barpolar"
           }
          ],
          "carpet": [
           {
            "aaxis": {
             "endlinecolor": "#2a3f5f",
             "gridcolor": "white",
             "linecolor": "white",
             "minorgridcolor": "white",
             "startlinecolor": "#2a3f5f"
            },
            "baxis": {
             "endlinecolor": "#2a3f5f",
             "gridcolor": "white",
             "linecolor": "white",
             "minorgridcolor": "white",
             "startlinecolor": "#2a3f5f"
            },
            "type": "carpet"
           }
          ],
          "choropleth": [
           {
            "colorbar": {
             "outlinewidth": 0,
             "ticks": ""
            },
            "type": "choropleth"
           }
          ],
          "contour": [
           {
            "colorbar": {
             "outlinewidth": 0,
             "ticks": ""
            },
            "colorscale": [
             [
              0,
              "#0d0887"
             ],
             [
              0.1111111111111111,
              "#46039f"
             ],
             [
              0.2222222222222222,
              "#7201a8"
             ],
             [
              0.3333333333333333,
              "#9c179e"
             ],
             [
              0.4444444444444444,
              "#bd3786"
             ],
             [
              0.5555555555555556,
              "#d8576b"
             ],
             [
              0.6666666666666666,
              "#ed7953"
             ],
             [
              0.7777777777777778,
              "#fb9f3a"
             ],
             [
              0.8888888888888888,
              "#fdca26"
             ],
             [
              1,
              "#f0f921"
             ]
            ],
            "type": "contour"
           }
          ],
          "contourcarpet": [
           {
            "colorbar": {
             "outlinewidth": 0,
             "ticks": ""
            },
            "type": "contourcarpet"
           }
          ],
          "heatmap": [
           {
            "colorbar": {
             "outlinewidth": 0,
             "ticks": ""
            },
            "colorscale": [
             [
              0,
              "#0d0887"
             ],
             [
              0.1111111111111111,
              "#46039f"
             ],
             [
              0.2222222222222222,
              "#7201a8"
             ],
             [
              0.3333333333333333,
              "#9c179e"
             ],
             [
              0.4444444444444444,
              "#bd3786"
             ],
             [
              0.5555555555555556,
              "#d8576b"
             ],
             [
              0.6666666666666666,
              "#ed7953"
             ],
             [
              0.7777777777777778,
              "#fb9f3a"
             ],
             [
              0.8888888888888888,
              "#fdca26"
             ],
             [
              1,
              "#f0f921"
             ]
            ],
            "type": "heatmap"
           }
          ],
          "heatmapgl": [
           {
            "colorbar": {
             "outlinewidth": 0,
             "ticks": ""
            },
            "colorscale": [
             [
              0,
              "#0d0887"
             ],
             [
              0.1111111111111111,
              "#46039f"
             ],
             [
              0.2222222222222222,
              "#7201a8"
             ],
             [
              0.3333333333333333,
              "#9c179e"
             ],
             [
              0.4444444444444444,
              "#bd3786"
             ],
             [
              0.5555555555555556,
              "#d8576b"
             ],
             [
              0.6666666666666666,
              "#ed7953"
             ],
             [
              0.7777777777777778,
              "#fb9f3a"
             ],
             [
              0.8888888888888888,
              "#fdca26"
             ],
             [
              1,
              "#f0f921"
             ]
            ],
            "type": "heatmapgl"
           }
          ],
          "histogram": [
           {
            "marker": {
             "pattern": {
              "fillmode": "overlay",
              "size": 10,
              "solidity": 0.2
             }
            },
            "type": "histogram"
           }
          ],
          "histogram2d": [
           {
            "colorbar": {
             "outlinewidth": 0,
             "ticks": ""
            },
            "colorscale": [
             [
              0,
              "#0d0887"
             ],
             [
              0.1111111111111111,
              "#46039f"
             ],
             [
              0.2222222222222222,
              "#7201a8"
             ],
             [
              0.3333333333333333,
              "#9c179e"
             ],
             [
              0.4444444444444444,
              "#bd3786"
             ],
             [
              0.5555555555555556,
              "#d8576b"
             ],
             [
              0.6666666666666666,
              "#ed7953"
             ],
             [
              0.7777777777777778,
              "#fb9f3a"
             ],
             [
              0.8888888888888888,
              "#fdca26"
             ],
             [
              1,
              "#f0f921"
             ]
            ],
            "type": "histogram2d"
           }
          ],
          "histogram2dcontour": [
           {
            "colorbar": {
             "outlinewidth": 0,
             "ticks": ""
            },
            "colorscale": [
             [
              0,
              "#0d0887"
             ],
             [
              0.1111111111111111,
              "#46039f"
             ],
             [
              0.2222222222222222,
              "#7201a8"
             ],
             [
              0.3333333333333333,
              "#9c179e"
             ],
             [
              0.4444444444444444,
              "#bd3786"
             ],
             [
              0.5555555555555556,
              "#d8576b"
             ],
             [
              0.6666666666666666,
              "#ed7953"
             ],
             [
              0.7777777777777778,
              "#fb9f3a"
             ],
             [
              0.8888888888888888,
              "#fdca26"
             ],
             [
              1,
              "#f0f921"
             ]
            ],
            "type": "histogram2dcontour"
           }
          ],
          "mesh3d": [
           {
            "colorbar": {
             "outlinewidth": 0,
             "ticks": ""
            },
            "type": "mesh3d"
           }
          ],
          "parcoords": [
           {
            "line": {
             "colorbar": {
              "outlinewidth": 0,
              "ticks": ""
             }
            },
            "type": "parcoords"
           }
          ],
          "pie": [
           {
            "automargin": true,
            "type": "pie"
           }
          ],
          "scatter": [
           {
            "marker": {
             "colorbar": {
              "outlinewidth": 0,
              "ticks": ""
             }
            },
            "type": "scatter"
           }
          ],
          "scatter3d": [
           {
            "line": {
             "colorbar": {
              "outlinewidth": 0,
              "ticks": ""
             }
            },
            "marker": {
             "colorbar": {
              "outlinewidth": 0,
              "ticks": ""
             }
            },
            "type": "scatter3d"
           }
          ],
          "scattercarpet": [
           {
            "marker": {
             "colorbar": {
              "outlinewidth": 0,
              "ticks": ""
             }
            },
            "type": "scattercarpet"
           }
          ],
          "scattergeo": [
           {
            "marker": {
             "colorbar": {
              "outlinewidth": 0,
              "ticks": ""
             }
            },
            "type": "scattergeo"
           }
          ],
          "scattergl": [
           {
            "marker": {
             "colorbar": {
              "outlinewidth": 0,
              "ticks": ""
             }
            },
            "type": "scattergl"
           }
          ],
          "scattermapbox": [
           {
            "marker": {
             "colorbar": {
              "outlinewidth": 0,
              "ticks": ""
             }
            },
            "type": "scattermapbox"
           }
          ],
          "scatterpolar": [
           {
            "marker": {
             "colorbar": {
              "outlinewidth": 0,
              "ticks": ""
             }
            },
            "type": "scatterpolar"
           }
          ],
          "scatterpolargl": [
           {
            "marker": {
             "colorbar": {
              "outlinewidth": 0,
              "ticks": ""
             }
            },
            "type": "scatterpolargl"
           }
          ],
          "scatterternary": [
           {
            "marker": {
             "colorbar": {
              "outlinewidth": 0,
              "ticks": ""
             }
            },
            "type": "scatterternary"
           }
          ],
          "surface": [
           {
            "colorbar": {
             "outlinewidth": 0,
             "ticks": ""
            },
            "colorscale": [
             [
              0,
              "#0d0887"
             ],
             [
              0.1111111111111111,
              "#46039f"
             ],
             [
              0.2222222222222222,
              "#7201a8"
             ],
             [
              0.3333333333333333,
              "#9c179e"
             ],
             [
              0.4444444444444444,
              "#bd3786"
             ],
             [
              0.5555555555555556,
              "#d8576b"
             ],
             [
              0.6666666666666666,
              "#ed7953"
             ],
             [
              0.7777777777777778,
              "#fb9f3a"
             ],
             [
              0.8888888888888888,
              "#fdca26"
             ],
             [
              1,
              "#f0f921"
             ]
            ],
            "type": "surface"
           }
          ],
          "table": [
           {
            "cells": {
             "fill": {
              "color": "#EBF0F8"
             },
             "line": {
              "color": "white"
             }
            },
            "header": {
             "fill": {
              "color": "#C8D4E3"
             },
             "line": {
              "color": "white"
             }
            },
            "type": "table"
           }
          ]
         },
         "layout": {
          "annotationdefaults": {
           "arrowcolor": "#2a3f5f",
           "arrowhead": 0,
           "arrowwidth": 1
          },
          "autotypenumbers": "strict",
          "coloraxis": {
           "colorbar": {
            "outlinewidth": 0,
            "ticks": ""
           }
          },
          "colorscale": {
           "diverging": [
            [
             0,
             "#8e0152"
            ],
            [
             0.1,
             "#c51b7d"
            ],
            [
             0.2,
             "#de77ae"
            ],
            [
             0.3,
             "#f1b6da"
            ],
            [
             0.4,
             "#fde0ef"
            ],
            [
             0.5,
             "#f7f7f7"
            ],
            [
             0.6,
             "#e6f5d0"
            ],
            [
             0.7,
             "#b8e186"
            ],
            [
             0.8,
             "#7fbc41"
            ],
            [
             0.9,
             "#4d9221"
            ],
            [
             1,
             "#276419"
            ]
           ],
           "sequential": [
            [
             0,
             "#0d0887"
            ],
            [
             0.1111111111111111,
             "#46039f"
            ],
            [
             0.2222222222222222,
             "#7201a8"
            ],
            [
             0.3333333333333333,
             "#9c179e"
            ],
            [
             0.4444444444444444,
             "#bd3786"
            ],
            [
             0.5555555555555556,
             "#d8576b"
            ],
            [
             0.6666666666666666,
             "#ed7953"
            ],
            [
             0.7777777777777778,
             "#fb9f3a"
            ],
            [
             0.8888888888888888,
             "#fdca26"
            ],
            [
             1,
             "#f0f921"
            ]
           ],
           "sequentialminus": [
            [
             0,
             "#0d0887"
            ],
            [
             0.1111111111111111,
             "#46039f"
            ],
            [
             0.2222222222222222,
             "#7201a8"
            ],
            [
             0.3333333333333333,
             "#9c179e"
            ],
            [
             0.4444444444444444,
             "#bd3786"
            ],
            [
             0.5555555555555556,
             "#d8576b"
            ],
            [
             0.6666666666666666,
             "#ed7953"
            ],
            [
             0.7777777777777778,
             "#fb9f3a"
            ],
            [
             0.8888888888888888,
             "#fdca26"
            ],
            [
             1,
             "#f0f921"
            ]
           ]
          },
          "colorway": [
           "#636efa",
           "#EF553B",
           "#00cc96",
           "#ab63fa",
           "#FFA15A",
           "#19d3f3",
           "#FF6692",
           "#B6E880",
           "#FF97FF",
           "#FECB52"
          ],
          "font": {
           "color": "#2a3f5f"
          },
          "geo": {
           "bgcolor": "white",
           "lakecolor": "white",
           "landcolor": "#E5ECF6",
           "showlakes": true,
           "showland": true,
           "subunitcolor": "white"
          },
          "hoverlabel": {
           "align": "left"
          },
          "hovermode": "closest",
          "mapbox": {
           "style": "light"
          },
          "paper_bgcolor": "white",
          "plot_bgcolor": "#E5ECF6",
          "polar": {
           "angularaxis": {
            "gridcolor": "white",
            "linecolor": "white",
            "ticks": ""
           },
           "bgcolor": "#E5ECF6",
           "radialaxis": {
            "gridcolor": "white",
            "linecolor": "white",
            "ticks": ""
           }
          },
          "scene": {
           "xaxis": {
            "backgroundcolor": "#E5ECF6",
            "gridcolor": "white",
            "gridwidth": 2,
            "linecolor": "white",
            "showbackground": true,
            "ticks": "",
            "zerolinecolor": "white"
           },
           "yaxis": {
            "backgroundcolor": "#E5ECF6",
            "gridcolor": "white",
            "gridwidth": 2,
            "linecolor": "white",
            "showbackground": true,
            "ticks": "",
            "zerolinecolor": "white"
           },
           "zaxis": {
            "backgroundcolor": "#E5ECF6",
            "gridcolor": "white",
            "gridwidth": 2,
            "linecolor": "white",
            "showbackground": true,
            "ticks": "",
            "zerolinecolor": "white"
           }
          },
          "shapedefaults": {
           "line": {
            "color": "#2a3f5f"
           }
          },
          "ternary": {
           "aaxis": {
            "gridcolor": "white",
            "linecolor": "white",
            "ticks": ""
           },
           "baxis": {
            "gridcolor": "white",
            "linecolor": "white",
            "ticks": ""
           },
           "bgcolor": "#E5ECF6",
           "caxis": {
            "gridcolor": "white",
            "linecolor": "white",
            "ticks": ""
           }
          },
          "title": {
           "x": 0.05
          },
          "xaxis": {
           "automargin": true,
           "gridcolor": "white",
           "linecolor": "white",
           "ticks": "",
           "title": {
            "standoff": 15
           },
           "zerolinecolor": "white",
           "zerolinewidth": 2
          },
          "yaxis": {
           "automargin": true,
           "gridcolor": "white",
           "linecolor": "white",
           "ticks": "",
           "title": {
            "standoff": 15
           },
           "zerolinecolor": "white",
           "zerolinewidth": 2
          }
         }
        }
       }
      },
      "text/html": [
       "<div>                            <div id=\"d7f758e5-d09b-4f8a-b0c1-9955120ec308\" class=\"plotly-graph-div\" style=\"height:525px; width:100%;\"></div>            <script type=\"text/javascript\">                require([\"plotly\"], function(Plotly) {                    window.PLOTLYENV=window.PLOTLYENV || {};                                    if (document.getElementById(\"d7f758e5-d09b-4f8a-b0c1-9955120ec308\")) {                    Plotly.newPlot(                        \"d7f758e5-d09b-4f8a-b0c1-9955120ec308\",                        [{\"marker\":{\"color\":\"rgb(0, 128, 128)\"},\"name\":\"minmaxXG\",\"type\":\"box\",\"y\":[-557.548885573256,-552.8206545572145,-551.7064852601544,-573.6348548346787,-573.3669412766587,-539.3683053111578,-542.5926412139459,-546.3900560909902,-525.5729243358542,-547.8071313372377]},{\"marker\":{\"color\":\"rgb(0, 128, 128)\"},\"name\":\"minmaxLGBM\",\"type\":\"box\",\"y\":[-565.0618203336654,-577.7875981750049,-584.0503470562583,-560.3695725347977,-576.5102597452285,-579.0194014355891,-546.118020375813,-568.9262038773284,-558.7987687765146,-564.9663215077089]},{\"marker\":{\"color\":\"rgb(0, 128, 128)\"},\"name\":\"minmaxETR\",\"type\":\"box\",\"y\":[-542.4801887835703,-557.4304533965244,-558.0224557661928,-550.8742511848341,-561.83785150079,-546.3845331753555,-544.4034320695102,-554.792164532954,-540.7072641062115,-546.5025667773035]},{\"marker\":{\"color\":\"rgb(0, 128, 128)\"},\"name\":\"minmaxRFR\",\"type\":\"box\",\"y\":[-510.6538992213946,-568.7374512074024,-548.3175606747913,-563.1620178357714,-547.3102818513503,-561.283934877208,-534.4117578424735,-542.3771154914313,-542.7187185079816,-526.1343229808756]},{\"marker\":{\"color\":\"rgb(0, 128, 128)\"},\"name\":\"minmaxABR\",\"type\":\"box\",\"y\":[-1389.1882595226618,-1404.2507736024836,-1461.5971999189103,-1399.3288146495377,-1394.2101145903518,-1320.6445542615397,-1328.491690011999,-1414.9955932362634,-1373.315329991331,-1408.6975745059663]},{\"marker\":{\"color\":\"rgb(0, 128, 128)\"},\"name\":\"minmaxGBR\",\"type\":\"box\",\"y\":[-684.4545669294945,-695.0368718770396,-725.6090002368438,-689.0593003874209,-667.5444541583585,-681.2574070845992,-713.3879071004302,-713.2549033936307,-698.5720015581614,-664.0608225081077]}],                        {\"template\":{\"data\":{\"bar\":[{\"error_x\":{\"color\":\"#2a3f5f\"},\"error_y\":{\"color\":\"#2a3f5f\"},\"marker\":{\"line\":{\"color\":\"#E5ECF6\",\"width\":0.5},\"pattern\":{\"fillmode\":\"overlay\",\"size\":10,\"solidity\":0.2}},\"type\":\"bar\"}],\"barpolar\":[{\"marker\":{\"line\":{\"color\":\"#E5ECF6\",\"width\":0.5},\"pattern\":{\"fillmode\":\"overlay\",\"size\":10,\"solidity\":0.2}},\"type\":\"barpolar\"}],\"carpet\":[{\"aaxis\":{\"endlinecolor\":\"#2a3f5f\",\"gridcolor\":\"white\",\"linecolor\":\"white\",\"minorgridcolor\":\"white\",\"startlinecolor\":\"#2a3f5f\"},\"baxis\":{\"endlinecolor\":\"#2a3f5f\",\"gridcolor\":\"white\",\"linecolor\":\"white\",\"minorgridcolor\":\"white\",\"startlinecolor\":\"#2a3f5f\"},\"type\":\"carpet\"}],\"choropleth\":[{\"colorbar\":{\"outlinewidth\":0,\"ticks\":\"\"},\"type\":\"choropleth\"}],\"contour\":[{\"colorbar\":{\"outlinewidth\":0,\"ticks\":\"\"},\"colorscale\":[[0.0,\"#0d0887\"],[0.1111111111111111,\"#46039f\"],[0.2222222222222222,\"#7201a8\"],[0.3333333333333333,\"#9c179e\"],[0.4444444444444444,\"#bd3786\"],[0.5555555555555556,\"#d8576b\"],[0.6666666666666666,\"#ed7953\"],[0.7777777777777778,\"#fb9f3a\"],[0.8888888888888888,\"#fdca26\"],[1.0,\"#f0f921\"]],\"type\":\"contour\"}],\"contourcarpet\":[{\"colorbar\":{\"outlinewidth\":0,\"ticks\":\"\"},\"type\":\"contourcarpet\"}],\"heatmap\":[{\"colorbar\":{\"outlinewidth\":0,\"ticks\":\"\"},\"colorscale\":[[0.0,\"#0d0887\"],[0.1111111111111111,\"#46039f\"],[0.2222222222222222,\"#7201a8\"],[0.3333333333333333,\"#9c179e\"],[0.4444444444444444,\"#bd3786\"],[0.5555555555555556,\"#d8576b\"],[0.6666666666666666,\"#ed7953\"],[0.7777777777777778,\"#fb9f3a\"],[0.8888888888888888,\"#fdca26\"],[1.0,\"#f0f921\"]],\"type\":\"heatmap\"}],\"heatmapgl\":[{\"colorbar\":{\"outlinewidth\":0,\"ticks\":\"\"},\"colorscale\":[[0.0,\"#0d0887\"],[0.1111111111111111,\"#46039f\"],[0.2222222222222222,\"#7201a8\"],[0.3333333333333333,\"#9c179e\"],[0.4444444444444444,\"#bd3786\"],[0.5555555555555556,\"#d8576b\"],[0.6666666666666666,\"#ed7953\"],[0.7777777777777778,\"#fb9f3a\"],[0.8888888888888888,\"#fdca26\"],[1.0,\"#f0f921\"]],\"type\":\"heatmapgl\"}],\"histogram\":[{\"marker\":{\"pattern\":{\"fillmode\":\"overlay\",\"size\":10,\"solidity\":0.2}},\"type\":\"histogram\"}],\"histogram2d\":[{\"colorbar\":{\"outlinewidth\":0,\"ticks\":\"\"},\"colorscale\":[[0.0,\"#0d0887\"],[0.1111111111111111,\"#46039f\"],[0.2222222222222222,\"#7201a8\"],[0.3333333333333333,\"#9c179e\"],[0.4444444444444444,\"#bd3786\"],[0.5555555555555556,\"#d8576b\"],[0.6666666666666666,\"#ed7953\"],[0.7777777777777778,\"#fb9f3a\"],[0.8888888888888888,\"#fdca26\"],[1.0,\"#f0f921\"]],\"type\":\"histogram2d\"}],\"histogram2dcontour\":[{\"colorbar\":{\"outlinewidth\":0,\"ticks\":\"\"},\"colorscale\":[[0.0,\"#0d0887\"],[0.1111111111111111,\"#46039f\"],[0.2222222222222222,\"#7201a8\"],[0.3333333333333333,\"#9c179e\"],[0.4444444444444444,\"#bd3786\"],[0.5555555555555556,\"#d8576b\"],[0.6666666666666666,\"#ed7953\"],[0.7777777777777778,\"#fb9f3a\"],[0.8888888888888888,\"#fdca26\"],[1.0,\"#f0f921\"]],\"type\":\"histogram2dcontour\"}],\"mesh3d\":[{\"colorbar\":{\"outlinewidth\":0,\"ticks\":\"\"},\"type\":\"mesh3d\"}],\"parcoords\":[{\"line\":{\"colorbar\":{\"outlinewidth\":0,\"ticks\":\"\"}},\"type\":\"parcoords\"}],\"pie\":[{\"automargin\":true,\"type\":\"pie\"}],\"scatter\":[{\"marker\":{\"colorbar\":{\"outlinewidth\":0,\"ticks\":\"\"}},\"type\":\"scatter\"}],\"scatter3d\":[{\"line\":{\"colorbar\":{\"outlinewidth\":0,\"ticks\":\"\"}},\"marker\":{\"colorbar\":{\"outlinewidth\":0,\"ticks\":\"\"}},\"type\":\"scatter3d\"}],\"scattercarpet\":[{\"marker\":{\"colorbar\":{\"outlinewidth\":0,\"ticks\":\"\"}},\"type\":\"scattercarpet\"}],\"scattergeo\":[{\"marker\":{\"colorbar\":{\"outlinewidth\":0,\"ticks\":\"\"}},\"type\":\"scattergeo\"}],\"scattergl\":[{\"marker\":{\"colorbar\":{\"outlinewidth\":0,\"ticks\":\"\"}},\"type\":\"scattergl\"}],\"scattermapbox\":[{\"marker\":{\"colorbar\":{\"outlinewidth\":0,\"ticks\":\"\"}},\"type\":\"scattermapbox\"}],\"scatterpolar\":[{\"marker\":{\"colorbar\":{\"outlinewidth\":0,\"ticks\":\"\"}},\"type\":\"scatterpolar\"}],\"scatterpolargl\":[{\"marker\":{\"colorbar\":{\"outlinewidth\":0,\"ticks\":\"\"}},\"type\":\"scatterpolargl\"}],\"scatterternary\":[{\"marker\":{\"colorbar\":{\"outlinewidth\":0,\"ticks\":\"\"}},\"type\":\"scatterternary\"}],\"surface\":[{\"colorbar\":{\"outlinewidth\":0,\"ticks\":\"\"},\"colorscale\":[[0.0,\"#0d0887\"],[0.1111111111111111,\"#46039f\"],[0.2222222222222222,\"#7201a8\"],[0.3333333333333333,\"#9c179e\"],[0.4444444444444444,\"#bd3786\"],[0.5555555555555556,\"#d8576b\"],[0.6666666666666666,\"#ed7953\"],[0.7777777777777778,\"#fb9f3a\"],[0.8888888888888888,\"#fdca26\"],[1.0,\"#f0f921\"]],\"type\":\"surface\"}],\"table\":[{\"cells\":{\"fill\":{\"color\":\"#EBF0F8\"},\"line\":{\"color\":\"white\"}},\"header\":{\"fill\":{\"color\":\"#C8D4E3\"},\"line\":{\"color\":\"white\"}},\"type\":\"table\"}]},\"layout\":{\"annotationdefaults\":{\"arrowcolor\":\"#2a3f5f\",\"arrowhead\":0,\"arrowwidth\":1},\"autotypenumbers\":\"strict\",\"coloraxis\":{\"colorbar\":{\"outlinewidth\":0,\"ticks\":\"\"}},\"colorscale\":{\"diverging\":[[0,\"#8e0152\"],[0.1,\"#c51b7d\"],[0.2,\"#de77ae\"],[0.3,\"#f1b6da\"],[0.4,\"#fde0ef\"],[0.5,\"#f7f7f7\"],[0.6,\"#e6f5d0\"],[0.7,\"#b8e186\"],[0.8,\"#7fbc41\"],[0.9,\"#4d9221\"],[1,\"#276419\"]],\"sequential\":[[0.0,\"#0d0887\"],[0.1111111111111111,\"#46039f\"],[0.2222222222222222,\"#7201a8\"],[0.3333333333333333,\"#9c179e\"],[0.4444444444444444,\"#bd3786\"],[0.5555555555555556,\"#d8576b\"],[0.6666666666666666,\"#ed7953\"],[0.7777777777777778,\"#fb9f3a\"],[0.8888888888888888,\"#fdca26\"],[1.0,\"#f0f921\"]],\"sequentialminus\":[[0.0,\"#0d0887\"],[0.1111111111111111,\"#46039f\"],[0.2222222222222222,\"#7201a8\"],[0.3333333333333333,\"#9c179e\"],[0.4444444444444444,\"#bd3786\"],[0.5555555555555556,\"#d8576b\"],[0.6666666666666666,\"#ed7953\"],[0.7777777777777778,\"#fb9f3a\"],[0.8888888888888888,\"#fdca26\"],[1.0,\"#f0f921\"]]},\"colorway\":[\"#636efa\",\"#EF553B\",\"#00cc96\",\"#ab63fa\",\"#FFA15A\",\"#19d3f3\",\"#FF6692\",\"#B6E880\",\"#FF97FF\",\"#FECB52\"],\"font\":{\"color\":\"#2a3f5f\"},\"geo\":{\"bgcolor\":\"white\",\"lakecolor\":\"white\",\"landcolor\":\"#E5ECF6\",\"showlakes\":true,\"showland\":true,\"subunitcolor\":\"white\"},\"hoverlabel\":{\"align\":\"left\"},\"hovermode\":\"closest\",\"mapbox\":{\"style\":\"light\"},\"paper_bgcolor\":\"white\",\"plot_bgcolor\":\"#E5ECF6\",\"polar\":{\"angularaxis\":{\"gridcolor\":\"white\",\"linecolor\":\"white\",\"ticks\":\"\"},\"bgcolor\":\"#E5ECF6\",\"radialaxis\":{\"gridcolor\":\"white\",\"linecolor\":\"white\",\"ticks\":\"\"}},\"scene\":{\"xaxis\":{\"backgroundcolor\":\"#E5ECF6\",\"gridcolor\":\"white\",\"gridwidth\":2,\"linecolor\":\"white\",\"showbackground\":true,\"ticks\":\"\",\"zerolinecolor\":\"white\"},\"yaxis\":{\"backgroundcolor\":\"#E5ECF6\",\"gridcolor\":\"white\",\"gridwidth\":2,\"linecolor\":\"white\",\"showbackground\":true,\"ticks\":\"\",\"zerolinecolor\":\"white\"},\"zaxis\":{\"backgroundcolor\":\"#E5ECF6\",\"gridcolor\":\"white\",\"gridwidth\":2,\"linecolor\":\"white\",\"showbackground\":true,\"ticks\":\"\",\"zerolinecolor\":\"white\"}},\"shapedefaults\":{\"line\":{\"color\":\"#2a3f5f\"}},\"ternary\":{\"aaxis\":{\"gridcolor\":\"white\",\"linecolor\":\"white\",\"ticks\":\"\"},\"baxis\":{\"gridcolor\":\"white\",\"linecolor\":\"white\",\"ticks\":\"\"},\"bgcolor\":\"#E5ECF6\",\"caxis\":{\"gridcolor\":\"white\",\"linecolor\":\"white\",\"ticks\":\"\"}},\"title\":{\"x\":0.05},\"xaxis\":{\"automargin\":true,\"gridcolor\":\"white\",\"linecolor\":\"white\",\"ticks\":\"\",\"title\":{\"standoff\":15},\"zerolinecolor\":\"white\",\"zerolinewidth\":2},\"yaxis\":{\"automargin\":true,\"gridcolor\":\"white\",\"linecolor\":\"white\",\"ticks\":\"\",\"title\":{\"standoff\":15},\"zerolinecolor\":\"white\",\"zerolinewidth\":2}}}},                        {\"responsive\": true}                    ).then(function(){\n",
       "                            \n",
       "var gd = document.getElementById('d7f758e5-d09b-4f8a-b0c1-9955120ec308');\n",
       "var x = new MutationObserver(function (mutations, observer) {{\n",
       "        var display = window.getComputedStyle(gd).display;\n",
       "        if (!display || display === 'none') {{\n",
       "            console.log([gd, 'removed!']);\n",
       "            Plotly.purge(gd);\n",
       "            observer.disconnect();\n",
       "        }}\n",
       "}});\n",
       "\n",
       "// Listen for the removal of the full notebook cells\n",
       "var notebookContainer = gd.closest('#notebook-container');\n",
       "if (notebookContainer) {{\n",
       "    x.observe(notebookContainer, {childList: true});\n",
       "}}\n",
       "\n",
       "// Listen for the clearing of the current output cell\n",
       "var outputEl = gd.closest('.output');\n",
       "if (outputEl) {{\n",
       "    x.observe(outputEl, {childList: true});\n",
       "}}\n",
       "\n",
       "                        })                };                });            </script>        </div>"
      ]
     },
     "metadata": {},
     "output_type": "display_data"
    },
    {
     "data": {
      "text/html": [
       "<div>\n",
       "<style scoped>\n",
       "    .dataframe tbody tr th:only-of-type {\n",
       "        vertical-align: middle;\n",
       "    }\n",
       "\n",
       "    .dataframe tbody tr th {\n",
       "        vertical-align: top;\n",
       "    }\n",
       "\n",
       "    .dataframe thead th {\n",
       "        text-align: right;\n",
       "    }\n",
       "</style>\n",
       "<table border=\"1\" class=\"dataframe\">\n",
       "  <thead>\n",
       "    <tr style=\"text-align: right;\">\n",
       "      <th></th>\n",
       "      <th>Model</th>\n",
       "      <th>Score</th>\n",
       "      <th>Model</th>\n",
       "      <th>Score</th>\n",
       "      <th>Model</th>\n",
       "      <th>Score</th>\n",
       "      <th>Model</th>\n",
       "      <th>Score</th>\n",
       "    </tr>\n",
       "  </thead>\n",
       "  <tbody>\n",
       "    <tr>\n",
       "      <th>0</th>\n",
       "      <td>XG</td>\n",
       "      <td>-571.9098</td>\n",
       "      <td>minmaxXG</td>\n",
       "      <td>-569.2532</td>\n",
       "      <td>minmaxXG</td>\n",
       "      <td>-569.2532</td>\n",
       "      <td>minmaxXG</td>\n",
       "      <td>-551.0809</td>\n",
       "    </tr>\n",
       "    <tr>\n",
       "      <th>1</th>\n",
       "      <td>LGBM</td>\n",
       "      <td>-584.2824</td>\n",
       "      <td>minmaxLGBM</td>\n",
       "      <td>-583.7781</td>\n",
       "      <td>minmaxLGBM</td>\n",
       "      <td>-583.7781</td>\n",
       "      <td>minmaxLGBM</td>\n",
       "      <td>-568.1608</td>\n",
       "    </tr>\n",
       "    <tr>\n",
       "      <th>2</th>\n",
       "      <td>ETR</td>\n",
       "      <td>-566.9871</td>\n",
       "      <td>minmaxETR</td>\n",
       "      <td>-566.3419</td>\n",
       "      <td>minmaxETR</td>\n",
       "      <td>-566.3419</td>\n",
       "      <td>minmaxETR</td>\n",
       "      <td>-550.3435</td>\n",
       "    </tr>\n",
       "    <tr>\n",
       "      <th>3</th>\n",
       "      <td>RFR</td>\n",
       "      <td>-555.4907</td>\n",
       "      <td>minmaxRFR</td>\n",
       "      <td>-555.7904</td>\n",
       "      <td>minmaxRFR</td>\n",
       "      <td>-555.7904</td>\n",
       "      <td>minmaxRFR</td>\n",
       "      <td>-544.5107</td>\n",
       "    </tr>\n",
       "    <tr>\n",
       "      <th>4</th>\n",
       "      <td>ABR</td>\n",
       "      <td>-1618.4653</td>\n",
       "      <td>minmaxABR</td>\n",
       "      <td>-1575.9343</td>\n",
       "      <td>minmaxABR</td>\n",
       "      <td>-1575.9343</td>\n",
       "      <td>minmaxABR</td>\n",
       "      <td>-1389.4720</td>\n",
       "    </tr>\n",
       "    <tr>\n",
       "      <th>5</th>\n",
       "      <td>GBR</td>\n",
       "      <td>-714.5347</td>\n",
       "      <td>minmaxGBR</td>\n",
       "      <td>-713.1584</td>\n",
       "      <td>minmaxGBR</td>\n",
       "      <td>-713.1584</td>\n",
       "      <td>minmaxGBR</td>\n",
       "      <td>-693.2237</td>\n",
       "    </tr>\n",
       "  </tbody>\n",
       "</table>\n",
       "</div>"
      ],
      "text/plain": [
       "  Model      Score       Model      Score       Model      Score       Model  \\\n",
       "0    XG  -571.9098    minmaxXG  -569.2532    minmaxXG  -569.2532    minmaxXG   \n",
       "1  LGBM  -584.2824  minmaxLGBM  -583.7781  minmaxLGBM  -583.7781  minmaxLGBM   \n",
       "2   ETR  -566.9871   minmaxETR  -566.3419   minmaxETR  -566.3419   minmaxETR   \n",
       "3   RFR  -555.4907   minmaxRFR  -555.7904   minmaxRFR  -555.7904   minmaxRFR   \n",
       "4   ABR -1618.4653   minmaxABR -1575.9343   minmaxABR -1575.9343   minmaxABR   \n",
       "5   GBR  -714.5347   minmaxGBR  -713.1584   minmaxGBR  -713.1584   minmaxGBR   \n",
       "\n",
       "       Score  \n",
       "0  -551.0809  \n",
       "1  -568.1608  \n",
       "2  -550.3435  \n",
       "3  -544.5107  \n",
       "4 -1389.4720  \n",
       "5  -693.2237  "
      ]
     },
     "execution_count": 54,
     "metadata": {},
     "output_type": "execute_result"
    }
   ],
   "source": [
    "\"\"\"models = GetScaledModel('minmax')\n",
    "names,results = BasedLine2(X_train_c, y_train_c,models, 'neg_mean_absolute_error')\n",
    "PlotBoxR().PlotResult(names,results)\n",
    "\n",
    "scaledScoreMinMax_c = ScoreDataFrame(names,results)\n",
    "compareModels = pd.concat([basedLineScore,\n",
    "                           scaledScoreStandard,\n",
    "                          scaledScoreMinMax,\n",
    "                          scaledScoreMinMax_c], axis=1)\n",
    "compareModels\"\"\""
   ]
  },
  {
   "cell_type": "code",
   "execution_count": 42,
   "id": "caa6b62f",
   "metadata": {},
   "outputs": [],
   "source": [
    "def HeatMap(df,x=True):\n",
    "        correlations = df.corr()\n",
    "        ## Create color map ranging between two colors\n",
    "        cmap = sns.diverging_palette(220, 10, as_cmap=True)\n",
    "        fig, ax = plt.subplots(figsize=(10, 10))\n",
    "        fig = sns.heatmap(correlations, cmap=cmap, vmax=1.0, center=0, fmt='.2f',square=True, linewidths=.5, annot=x, cbar_kws={\"shrink\": .75})\n",
    "        fig.set_xticklabels(fig.get_xticklabels(), rotation = 90, fontsize = 10)\n",
    "        fig.set_yticklabels(fig.get_yticklabels(), rotation = 0, fontsize = 10)\n",
    "        plt.tight_layout()\n",
    "        plt.show()\n",
    "\n",
    "#HeatMap(df,x=True)"
   ]
  },
  {
   "cell_type": "markdown",
   "id": "1e19fd0d",
   "metadata": {},
   "source": [
    "## Algorithm tuning"
   ]
  },
  {
   "cell_type": "code",
   "execution_count": 123,
   "id": "fbc34830",
   "metadata": {},
   "outputs": [],
   "source": [
    "from sklearn.model_selection import GridSearchCV, RandomizedSearchCV\n",
    "from scipy.stats import uniform"
   ]
  },
  {
   "cell_type": "code",
   "execution_count": 124,
   "id": "74391f25",
   "metadata": {},
   "outputs": [],
   "source": [
    "class RandomSearch(object):\n",
    "    \n",
    "    def __init__(self,X_train,y_train,model,hyperparameters):\n",
    "        \n",
    "        self.X_train = X_train\n",
    "        self.y_train = y_train\n",
    "        self.model = model\n",
    "        self.hyperparameters = hyperparameters\n",
    "        \n",
    "    def RandomSearch(self):\n",
    "        # Create randomized search 10-fold cross validation and 100 iterations\n",
    "        cv = 10\n",
    "        clf = RandomizedSearchCV(self.model,\n",
    "                                 self.hyperparameters,\n",
    "                                 random_state=1,\n",
    "                                 n_iter=100,\n",
    "                                 cv=cv,\n",
    "                                 verbose=0,\n",
    "                                 n_jobs=-1,\n",
    "                                 )\n",
    "        # Fit randomized search\n",
    "        best_model = clf.fit(self.X_train, self.y_train)\n",
    "        message = (best_model.best_score_, best_model.best_params_)\n",
    "        print(\"Best: %f using %s\" % (message))\n",
    "\n",
    "        return best_model,best_model.best_params_\n",
    "    \n",
    "    def BestModelPridict(self,X_test):\n",
    "        \n",
    "        best_model,_ = self.RandomSearch()\n",
    "        pred = best_model.predict(X_test)\n",
    "        return pred"
   ]
  },
  {
   "cell_type": "code",
   "execution_count": 125,
   "id": "53af27fd",
   "metadata": {},
   "outputs": [],
   "source": [
    "class GridSearch(object):\n",
    "    \n",
    "    def __init__(self,X_train,y_train,model,hyperparameters):\n",
    "        \n",
    "        self.X_train = X_train\n",
    "        self.y_train = y_train\n",
    "        self.model = model\n",
    "        self.hyperparameters = hyperparameters\n",
    "        \n",
    "    def GridSearch(self):\n",
    "        # Create randomized search 10-fold cross validation and 100 iterations\n",
    "        cv = 10\n",
    "        clf = GridSearchCV(self.model,\n",
    "                                 self.hyperparameters,\n",
    "                                 cv=cv,\n",
    "                                 verbose=0,\n",
    "                                 n_jobs=-1,\n",
    "                                 )\n",
    "        # Fit randomized search\n",
    "        best_model = clf.fit(self.X_train, self.y_train)\n",
    "        message = (best_model.best_score_, best_model.best_params_)\n",
    "        print(\"Best: %f using %s\" % (message))\n",
    "\n",
    "        return best_model,best_model.best_params_\n",
    "    \n",
    "    def BestModelPridict(self,X_test):\n",
    "        \n",
    "        best_model,_ = self.GridSearch()\n",
    "        pred = best_model.predict(X_test)\n",
    "        return pred"
   ]
  },
  {
   "cell_type": "code",
   "execution_count": 126,
   "id": "ab0b08f1",
   "metadata": {},
   "outputs": [
    {
     "data": {
      "text/plain": [
       "263"
      ]
     },
     "execution_count": 126,
     "metadata": {},
     "output_type": "execute_result"
    }
   ],
   "source": [
    "X.shape[1]"
   ]
  },
  {
   "cell_type": "code",
   "execution_count": 4,
   "id": "650130c0",
   "metadata": {},
   "outputs": [],
   "source": [
    "from sklearn.preprocessing import OneHotEncoder\n",
    "df_enc = pd.read_csv(\"./Data/usedCleaned21.csv\")\n",
    "\n",
    "df_enc = pd.get_dummies(df_enc)\n",
    "X =  df_enc.drop(columns='Cena')\n",
    "Y = df_enc['Cena']\n",
    "\n",
    "\n",
    "X_train, X_test, y_train, y_test =train_test_split(X,Y,\n",
    "                                                   test_size=0.3,\n",
    "                                                   random_state=0)\n"
   ]
  },
  {
   "cell_type": "markdown",
   "id": "cfe289f3",
   "metadata": {},
   "source": [
    "## Hyperparameters tuning"
   ]
  },
  {
   "cell_type": "code",
   "execution_count": 53,
   "id": "d8e5eac8",
   "metadata": {},
   "outputs": [],
   "source": [
    "# model\n",
    "model = XGBRegressor()\n",
    "\n",
    "# A parameter grid for XGBoost\n",
    "hyperparameters = {\n",
    "        'gamma':[i/10.0 for i in range(0,5)],\n",
    "        'max_depth':range(5,10,2),\n",
    "        'min_child_weight':[6,8,10,12],\n",
    "        'subsample':[i/100.0 for i in range(75,90,5)],\n",
    "        'colsample_bytree':[i/100.0 for i in range(75,90,5)],\n",
    "        'reg_alpha':[0, 0.001, 0.005, 0.01, 0.05]\n",
    "        }"
   ]
  },
  {
   "cell_type": "code",
   "execution_count": 54,
   "id": "cbb75f03",
   "metadata": {},
   "outputs": [
    {
     "name": "stdout",
     "output_type": "stream",
     "text": [
      "Best: 0.954485 using {'subsample': 0.8, 'reg_alpha': 0.005, 'min_child_weight': 6, 'max_depth': 9, 'gamma': 0.2, 'colsample_bytree': 0.85}\n"
     ]
    }
   ],
   "source": [
    "XGB_RandSearch = RandomSearch(X_train,y_train,model,hyperparameters)\n",
    "Prediction_XGB = XGB_RandSearch.BestModelPridict(X_test)"
   ]
  },
  {
   "cell_type": "code",
   "execution_count": 55,
   "id": "2f522294",
   "metadata": {},
   "outputs": [],
   "source": [
    "# model\n",
    "model = LGBMRegressor()\n",
    "hyperparameters = {\n",
    "    'n_estimators':range(200, 601,200),\n",
    "    'num_leaves': [60, 80, 120, 150],\n",
    "    'reg_alpha': [0.1, 0.5],\n",
    "    'min_data_in_leaf': [30, 50, 100],\n",
    "    'lambda_l1': [0, 1, 1.5],\n",
    "    'lambda_l2': [0, 1]\n",
    "    }"
   ]
  },
  {
   "cell_type": "code",
   "execution_count": 56,
   "id": "96279edc",
   "metadata": {},
   "outputs": [
    {
     "name": "stdout",
     "output_type": "stream",
     "text": [
      "[LightGBM] [Warning] min_data_in_leaf is set=30, min_child_samples=20 will be ignored. Current value: min_data_in_leaf=30\n",
      "[LightGBM] [Warning] lambda_l1 is set=0, reg_alpha=0.1 will be ignored. Current value: lambda_l1=0\n",
      "[LightGBM] [Warning] lambda_l2 is set=1, reg_lambda=0.0 will be ignored. Current value: lambda_l2=1\n",
      "Best: 0.956216 using {'reg_alpha': 0.1, 'num_leaves': 60, 'n_estimators': 400, 'min_data_in_leaf': 30, 'lambda_l2': 1, 'lambda_l1': 0}\n"
     ]
    }
   ],
   "source": [
    "LGBM_RandSearch = RandomSearch(X_train,y_train,model,hyperparameters)\n",
    "Prediction_LGBM = LGBM_RandSearch.BestModelPridict(X_test)"
   ]
  },
  {
   "cell_type": "code",
   "execution_count": 57,
   "id": "54afd954",
   "metadata": {},
   "outputs": [
    {
     "name": "stdout",
     "output_type": "stream",
     "text": [
      "Best: 0.920854 using {'n_estimators': 125, 'min_samples_split': 35, 'min_samples_leaf': 20, 'max_features': 200, 'max_depth': 16}\n"
     ]
    }
   ],
   "source": [
    "# model\n",
    "model = ExtraTreesRegressor()\n",
    "hyperparameters = {\n",
    "    #'criterion': ['mae'],\n",
    "    'max_depth': [2,8,16],\n",
    "    'n_estimators': range(50,126,25),\n",
    "    'max_features': range(50,401,50),\n",
    "    'min_samples_leaf': range(20,50,5),\n",
    "    'min_samples_split': range(15,36,5),\n",
    "}\n",
    "Extra_RandSearch = RandomSearch(X_train,y_train,model,hyperparameters)\n",
    "Prediction_Extra = Extra_RandSearch.BestModelPridict(X_test)"
   ]
  },
  {
   "cell_type": "code",
   "execution_count": 68,
   "id": "4dc375fa",
   "metadata": {},
   "outputs": [],
   "source": [
    "from sklearn.ensemble import RandomForestRegressor\n",
    "\n",
    "def get_models():\n",
    "    \"\"\"Generate a library of base learners.\"\"\"\n",
    "    param = {'subsample': 0.8, 'reg_alpha': 0.005, 'min_child_weight': 6, 'max_depth': 9, 'gamma': 0.2, 'colsample_bytree': 0.85}\n",
    "    model1 = XGBRegressor(**param)\n",
    "\n",
    "    param = {'reg_alpha': 0.1, 'num_leaves': 60, 'n_estimators': 400, 'min_data_in_leaf': 30, 'lambda_l2': 1, 'lambda_l1': 0}\n",
    "    model2 = LGBMRegressor(**param)\n",
    "    \n",
    "    model3 = RandomForestRegressor()\n",
    "    \n",
    "    param = {'n_estimators': 125, 'min_samples_split': 35, 'min_samples_leaf': 20, 'max_features': 200, 'max_depth': 16}\n",
    "    model4 = ExtraTreesRegressor(**param)\n",
    "    \n",
    "\n",
    "    models = {'XGM':model1, 'LGBM':model2, 'RF':model3,\n",
    "              'ETR':model4\n",
    "              }\n",
    "\n",
    "    return models"
   ]
  },
  {
   "cell_type": "code",
   "execution_count": 66,
   "id": "dd1d5173",
   "metadata": {
    "scrolled": true
   },
   "outputs": [
    {
     "name": "stdout",
     "output_type": "stream",
     "text": [
      "Best: 0.938530 using {'subsample': 0.85, 'n_estimators': 900, 'min_samples_split': 200, 'min_samples_leaf': 70, 'max_features': 22, 'max_depth': 13, 'learning_rate': 0.01}\n"
     ]
    }
   ],
   "source": [
    "from sklearn.ensemble import GradientBoostingRegressor\n",
    "\n",
    "\n",
    "model = GradientBoostingRegressor()\n",
    "\n",
    "hyperparameters = {\n",
    "    'n_estimators':range(500, 2001,200),\n",
    "    'max_depth':range(5,18,2), \n",
    "    'min_samples_split':range(100,501,100), \n",
    "    'min_samples_leaf':range(30,101,10),\n",
    "    'max_features':range(16,24,2),\n",
    "    'subsample':[0.8, 0.85,0.87],\n",
    "    'learning_rate': [0.001, 0.01, 0.0001]\n",
    "}\n",
    "\n",
    "GB_RandSearch = RandomSearch(X_train,y_train,model,hyperparameters)\n",
    "Prediction_GB = GB_RandSearch.BestModelPridict(X_test)\n",
    "#params = {'subsample': 0.5, 'n_estimators': 1000, 'max_features': 10, 'max_depth': 9, 'learning_rate': 0.01}"
   ]
  },
  {
   "cell_type": "markdown",
   "id": "fc381104",
   "metadata": {},
   "source": [
    "## Super Learner"
   ]
  },
  {
   "cell_type": "code",
   "execution_count": 71,
   "id": "86561f84",
   "metadata": {},
   "outputs": [],
   "source": [
    "\n",
    "base_learners = get_models()\n",
    "\n",
    "meta_learner = GradientBoostingRegressor(\n",
    "    n_estimators=1000,\n",
    "    max_features=0.7,\n",
    "    max_depth=13,\n",
    "    subsample=0.85,\n",
    "    learning_rate=0.01, \n",
    "    random_state=7\n",
    ")"
   ]
  },
  {
   "cell_type": "code",
   "execution_count": 72,
   "id": "81d0bc4d",
   "metadata": {
    "scrolled": true
   },
   "outputs": [
    {
     "name": "stdout",
     "output_type": "stream",
     "text": [
      "\n",
      "Fitting 2 layers\n",
      "Processing layer-1             done | 00:04:04\n",
      "Processing layer-2             done | 00:00:33\n",
      "Fit complete                        | 00:04:39\n",
      "\n",
      "Predicting 2 layers\n",
      "Processing layer-1             done | 00:00:05\n",
      "Processing layer-2             done | 00:00:01\n",
      "Predict complete                    | 00:00:07\n"
     ]
    }
   ],
   "source": [
    "from mlens.ensemble import SuperLearner\n",
    "\n",
    "# Instantiate the ensemble with 10 folds\n",
    "sl = SuperLearner(\n",
    "    folds=10,\n",
    "    random_state=7,\n",
    "    verbose=2,\n",
    "    backend=\"multiprocessing\"\n",
    ")\n",
    "\n",
    "# Add the base learners and the meta learner\n",
    "sl.add(list(base_learners.values())) \n",
    "sl.add_meta(meta_learner)\n",
    "\n",
    "# Train the ensemble\n",
    "sl.fit(X_train, y_train)\n",
    "\n",
    "# Predict the test set\n",
    "p_sl = sl.predict(X_test)"
   ]
  },
  {
   "cell_type": "code",
   "execution_count": null,
   "id": "f71e82d1",
   "metadata": {},
   "outputs": [],
   "source": []
  },
  {
   "cell_type": "code",
   "execution_count": 90,
   "id": "8c44284c",
   "metadata": {},
   "outputs": [],
   "source": [
    "# New model"
   ]
  },
  {
   "cell_type": "code",
   "execution_count": 150,
   "id": "be17124c",
   "metadata": {},
   "outputs": [],
   "source": [
    "df_enc = pd.read_csv(\"./Data/usedCleanedPrice_12.csv\")\n",
    "\n",
    "df_enc = pd.get_dummies(df_enc)\n",
    "X =  df_enc.drop(columns='Cena')\n",
    "Y = df_enc['Cena']\n",
    "\n",
    "\n",
    "X_train, X_test, y_train, y_test =train_test_split(X,Y,\n",
    "                                                   test_size=0.3,\n",
    "                                                   random_state=0)\n"
   ]
  },
  {
   "cell_type": "code",
   "execution_count": 154,
   "id": "059c3133",
   "metadata": {},
   "outputs": [],
   "source": [
    "param = {'subsample': 0.8, 'reg_alpha': 0.005, 'min_child_weight': 6, 'max_depth': 9, 'gamma': 0.2, 'colsample_bytree': 0.85}\n",
    "model1 = XGBRegressor()#**param"
   ]
  },
  {
   "cell_type": "code",
   "execution_count": 155,
   "id": "7bd73a60",
   "metadata": {},
   "outputs": [
    {
     "data": {
      "text/plain": [
       "XGBRegressor(base_score=0.5, booster='gbtree', colsample_bylevel=1,\n",
       "             colsample_bynode=1, colsample_bytree=1, gamma=0, gpu_id=-1,\n",
       "             importance_type='gain', interaction_constraints='',\n",
       "             learning_rate=0.300000012, max_delta_step=0, max_depth=6,\n",
       "             min_child_weight=1, missing=nan, monotone_constraints='()',\n",
       "             n_estimators=100, n_jobs=8, num_parallel_tree=1, random_state=0,\n",
       "             reg_alpha=0, reg_lambda=1, scale_pos_weight=1, subsample=1,\n",
       "             tree_method='exact', validate_parameters=1, verbosity=None)"
      ]
     },
     "execution_count": 155,
     "metadata": {},
     "output_type": "execute_result"
    }
   ],
   "source": [
    "model1.fit(X_train, y_train)"
   ]
  },
  {
   "cell_type": "code",
   "execution_count": 156,
   "id": "6a5e2b83",
   "metadata": {},
   "outputs": [],
   "source": [
    "predictions = model1.predict(X_test)"
   ]
  },
  {
   "cell_type": "code",
   "execution_count": 157,
   "id": "dac0b325",
   "metadata": {},
   "outputs": [
    {
     "name": "stdout",
     "output_type": "stream",
     "text": [
      "0.9334438507735737\n"
     ]
    }
   ],
   "source": [
    "print(r2_score(y_test,predictions))\n",
    "#print(mean_a(y_test_c,p_sl))"
   ]
  },
  {
   "cell_type": "code",
   "execution_count": 158,
   "id": "3056802f",
   "metadata": {},
   "outputs": [
    {
     "name": "stdout",
     "output_type": "stream",
     "text": [
      "465.4872412082498\n"
     ]
    }
   ],
   "source": [
    "from sklearn.metrics import mean_absolute_error\n",
    "print(mean_absolute_error(y_test,predictions))"
   ]
  },
  {
   "cell_type": "code",
   "execution_count": 133,
   "id": "9bd854c8",
   "metadata": {},
   "outputs": [],
   "source": [
    "import pickle\n",
    "with open('ml_model.pkl', 'wb') as files:\n",
    "    pickle.dump(model1, files)"
   ]
  },
  {
   "cell_type": "code",
   "execution_count": 159,
   "id": "44e6ffee",
   "metadata": {},
   "outputs": [
    {
     "data": {
      "image/png": "[encoded data removed]",
      "text/plain": [
       "<Figure size 432x288 with 1 Axes>"
      ]
     },
     "metadata": {
      "needs_background": "light"
     },
     "output_type": "display_data"
    }
   ],
   "source": [
    "#Plot Real vs Predict\n",
    "fig, ax = plt.subplots()\n",
    "ax.scatter(y_test, predictions, color='blue', edgecolors=(0, 0, 1),alpha=0.5)\n",
    "ax.plot([y_test.min(), y_test.max()], [y_test.min(), y_test.max()], lw=4,color='Red')\n",
    "ax.set_xlabel('Stvarne vrednosti')\n",
    "ax.set_ylabel('Predviđene')\n",
    "plt.show()"
   ]
  },
  {
   "cell_type": "markdown",
   "id": "0b98e6eb",
   "metadata": {},
   "source": [
    "# ANN"
   ]
  },
  {
   "cell_type": "code",
   "execution_count": 84,
   "id": "205bd91b",
   "metadata": {},
   "outputs": [],
   "source": [
    "import numpy as np\n",
    "import pandas as pd\n",
    "import tensorflow as tf\n",
    "from tensorflow.keras.layers import Dense, Activation\n",
    "from tensorflow.keras.models import Sequential\n",
    "from sklearn.model_selection import train_test_split\n",
    "from tensorflow.keras.callbacks import ModelCheckpoint, ReduceLROnPlateau, EarlyStopping\n",
    "import matplotlib.pyplot as plt\n",
    "\n",
    "from sklearn.model_selection import train_test_split\n",
    "from sklearn.preprocessing import LabelEncoder, OneHotEncoder\n"
   ]
  },
  {
   "cell_type": "code",
   "execution_count": 86,
   "id": "cdb3c1bf",
   "metadata": {},
   "outputs": [
    {
     "name": "stdout",
     "output_type": "stream",
     "text": [
      "Model: \"sequential_1\"\n",
      "_________________________________________________________________\n",
      "Layer (type)                 Output Shape              Param #   \n",
      "=================================================================\n",
      "dense_7 (Dense)              (None, 1024)              270336    \n",
      "_________________________________________________________________\n",
      "dropout_3 (Dropout)          (None, 1024)              0         \n",
      "_________________________________________________________________\n",
      "dense_8 (Dense)              (None, 512)               524800    \n",
      "_________________________________________________________________\n",
      "dense_9 (Dense)              (None, 256)               131328    \n",
      "_________________________________________________________________\n",
      "dropout_4 (Dropout)          (None, 256)               0         \n",
      "_________________________________________________________________\n",
      "dense_10 (Dense)             (None, 128)               32896     \n",
      "_________________________________________________________________\n",
      "dense_11 (Dense)             (None, 64)                8256      \n",
      "_________________________________________________________________\n",
      "dense_12 (Dense)             (None, 32)                2080      \n",
      "_________________________________________________________________\n",
      "dense_13 (Dense)             (None, 1)                 33        \n",
      "=================================================================\n",
      "Total params: 969,729\n",
      "Trainable params: 969,729\n",
      "Non-trainable params: 0\n",
      "_________________________________________________________________\n",
      "Epoch 1/1000\n",
      "200/200 [==============================] - 3s 11ms/step - loss: 1485.7291 - mean_absolute_error: 1485.7291 - val_loss: 957.3906 - val_mean_absolute_error: 957.3906\n",
      "Epoch 2/1000\n",
      "200/200 [==============================] - 2s 10ms/step - loss: 899.4339 - mean_absolute_error: 899.4339 - val_loss: 780.0056 - val_mean_absolute_error: 780.0056\n",
      "Epoch 3/1000\n",
      "200/200 [==============================] - 2s 10ms/step - loss: 827.4626 - mean_absolute_error: 827.4626 - val_loss: 719.9633 - val_mean_absolute_error: 719.9633\n",
      "Epoch 4/1000\n",
      "200/200 [==============================] - 2s 10ms/step - loss: 783.4981 - mean_absolute_error: 783.4981 - val_loss: 700.8500 - val_mean_absolute_error: 700.8500\n",
      "Epoch 5/1000\n",
      "200/200 [==============================] - 2s 10ms/step - loss: 765.3201 - mean_absolute_error: 765.3201 - val_loss: 862.7686 - val_mean_absolute_error: 862.7686\n",
      "Epoch 6/1000\n",
      "200/200 [==============================] - 2s 10ms/step - loss: 738.9079 - mean_absolute_error: 738.9079 - val_loss: 875.4939 - val_mean_absolute_error: 875.4939\n",
      "Epoch 7/1000\n",
      "200/200 [==============================] - 2s 10ms/step - loss: 724.8625 - mean_absolute_error: 724.8625 - val_loss: 730.4342 - val_mean_absolute_error: 730.4342\n",
      "Epoch 8/1000\n",
      "200/200 [==============================] - 2s 10ms/step - loss: 710.1953 - mean_absolute_error: 710.1953 - val_loss: 799.3010 - val_mean_absolute_error: 799.3010\n",
      "Epoch 9/1000\n",
      "200/200 [==============================] - 2s 10ms/step - loss: 693.8290 - mean_absolute_error: 693.8290 - val_loss: 894.6741 - val_mean_absolute_error: 894.6741\n",
      "Epoch 10/1000\n",
      "200/200 [==============================] - 2s 10ms/step - loss: 686.5820 - mean_absolute_error: 686.5820 - val_loss: 581.8881 - val_mean_absolute_error: 581.8881\n",
      "Epoch 11/1000\n",
      "200/200 [==============================] - 2s 10ms/step - loss: 675.9508 - mean_absolute_error: 675.9508 - val_loss: 572.6270 - val_mean_absolute_error: 572.6270\n",
      "\n",
      "Epoch 00011: ReduceLROnPlateau reducing learning rate to 0.0003000000142492354.\n",
      "Epoch 12/1000\n",
      "200/200 [==============================] - 2s 10ms/step - loss: 543.1546 - mean_absolute_error: 543.1546 - val_loss: 554.5562 - val_mean_absolute_error: 554.5562\n",
      "Epoch 13/1000\n",
      "200/200 [==============================] - 2s 10ms/step - loss: 534.8956 - mean_absolute_error: 534.8956 - val_loss: 555.1678 - val_mean_absolute_error: 555.1678\n",
      "Epoch 14/1000\n",
      "200/200 [==============================] - 2s 10ms/step - loss: 526.1311 - mean_absolute_error: 526.1311 - val_loss: 549.9687 - val_mean_absolute_error: 549.9687\n",
      "Epoch 15/1000\n",
      "200/200 [==============================] - 2s 10ms/step - loss: 523.3791 - mean_absolute_error: 523.3791 - val_loss: 603.6680 - val_mean_absolute_error: 603.6680\n",
      "Epoch 16/1000\n",
      "200/200 [==============================] - 2s 10ms/step - loss: 521.0228 - mean_absolute_error: 521.0228 - val_loss: 546.3176 - val_mean_absolute_error: 546.3176\n",
      "Epoch 17/1000\n",
      "200/200 [==============================] - 2s 10ms/step - loss: 517.0569 - mean_absolute_error: 517.0569 - val_loss: 543.8246 - val_mean_absolute_error: 543.8246\n",
      "Epoch 18/1000\n",
      "200/200 [==============================] - 2s 10ms/step - loss: 509.9895 - mean_absolute_error: 509.9895 - val_loss: 560.6684 - val_mean_absolute_error: 560.6684\n",
      "Epoch 19/1000\n",
      "200/200 [==============================] - 2s 10ms/step - loss: 508.1442 - mean_absolute_error: 508.1442 - val_loss: 564.7955 - val_mean_absolute_error: 564.7955\n",
      "Epoch 20/1000\n",
      "200/200 [==============================] - 2s 10ms/step - loss: 502.9489 - mean_absolute_error: 502.9489 - val_loss: 538.2519 - val_mean_absolute_error: 538.2519\n",
      "Epoch 21/1000\n",
      "200/200 [==============================] - 2s 10ms/step - loss: 501.7807 - mean_absolute_error: 501.7807 - val_loss: 537.1161 - val_mean_absolute_error: 537.1161\n",
      "\n",
      "Epoch 00021: ReduceLROnPlateau reducing learning rate to 9.000000427477062e-05.\n",
      "Epoch 22/1000\n",
      "200/200 [==============================] - 2s 10ms/step - loss: 478.2576 - mean_absolute_error: 478.2576 - val_loss: 539.7313 - val_mean_absolute_error: 539.7313\n",
      "Epoch 23/1000\n",
      "200/200 [==============================] - 2s 10ms/step - loss: 471.2041 - mean_absolute_error: 471.2041 - val_loss: 543.9351 - val_mean_absolute_error: 543.9351\n",
      "Epoch 24/1000\n",
      "200/200 [==============================] - 2s 10ms/step - loss: 473.3518 - mean_absolute_error: 473.3518 - val_loss: 536.9933 - val_mean_absolute_error: 536.9933\n",
      "Epoch 25/1000\n",
      "200/200 [==============================] - 2s 10ms/step - loss: 470.8350 - mean_absolute_error: 470.8350 - val_loss: 537.3333 - val_mean_absolute_error: 537.3333\n",
      "Epoch 26/1000\n",
      "200/200 [==============================] - 2s 11ms/step - loss: 469.3192 - mean_absolute_error: 469.3192 - val_loss: 531.0728 - val_mean_absolute_error: 531.0728\n",
      "Epoch 27/1000\n",
      "200/200 [==============================] - 2s 10ms/step - loss: 470.1566 - mean_absolute_error: 470.1566 - val_loss: 530.6465 - val_mean_absolute_error: 530.6465\n",
      "Epoch 28/1000\n",
      "200/200 [==============================] - 2s 10ms/step - loss: 471.9868 - mean_absolute_error: 471.9868 - val_loss: 531.6870 - val_mean_absolute_error: 531.6870\n",
      "Epoch 29/1000\n",
      "200/200 [==============================] - 2s 10ms/step - loss: 466.2536 - mean_absolute_error: 466.2536 - val_loss: 532.0237 - val_mean_absolute_error: 532.0237\n",
      "Epoch 30/1000\n",
      "200/200 [==============================] - 2s 10ms/step - loss: 467.2084 - mean_absolute_error: 467.2084 - val_loss: 542.8179 - val_mean_absolute_error: 542.8179\n",
      "Epoch 31/1000\n",
      "200/200 [==============================] - 2s 10ms/step - loss: 462.3408 - mean_absolute_error: 462.3408 - val_loss: 530.4553 - val_mean_absolute_error: 530.4553\n",
      "\n",
      "Epoch 00031: ReduceLROnPlateau reducing learning rate to 2.700000040931627e-05.\n",
      "Epoch 32/1000\n",
      "200/200 [==============================] - 2s 10ms/step - loss: 455.6270 - mean_absolute_error: 455.6270 - val_loss: 529.8740 - val_mean_absolute_error: 529.8740\n",
      "Epoch 33/1000\n",
      "200/200 [==============================] - 2s 10ms/step - loss: 462.5143 - mean_absolute_error: 462.5143 - val_loss: 529.4247 - val_mean_absolute_error: 529.4247\n",
      "Epoch 34/1000\n",
      "200/200 [==============================] - 2s 10ms/step - loss: 458.7381 - mean_absolute_error: 458.7381 - val_loss: 529.7978 - val_mean_absolute_error: 529.7978\n",
      "Epoch 35/1000\n",
      "200/200 [==============================] - 2s 10ms/step - loss: 457.8114 - mean_absolute_error: 457.8114 - val_loss: 528.8097 - val_mean_absolute_error: 528.8097\n",
      "Epoch 36/1000\n",
      "200/200 [==============================] - 2s 10ms/step - loss: 453.5679 - mean_absolute_error: 453.5679 - val_loss: 529.5242 - val_mean_absolute_error: 529.5242\n",
      "Epoch 37/1000\n",
      "200/200 [==============================] - 2s 10ms/step - loss: 457.4041 - mean_absolute_error: 457.4041 - val_loss: 529.3228 - val_mean_absolute_error: 529.3228\n",
      "Epoch 38/1000\n",
      "200/200 [==============================] - 2s 10ms/step - loss: 457.5864 - mean_absolute_error: 457.5864 - val_loss: 528.9407 - val_mean_absolute_error: 528.9407\n",
      "Epoch 39/1000\n",
      "200/200 [==============================] - 2s 10ms/step - loss: 451.4630 - mean_absolute_error: 451.4630 - val_loss: 528.4491 - val_mean_absolute_error: 528.4491\n",
      "Epoch 40/1000\n",
      "200/200 [==============================] - 2s 10ms/step - loss: 455.4159 - mean_absolute_error: 455.4159 - val_loss: 528.3100 - val_mean_absolute_error: 528.3100\n",
      "Epoch 41/1000\n",
      "200/200 [==============================] - 2s 10ms/step - loss: 454.5674 - mean_absolute_error: 454.5674 - val_loss: 528.5583 - val_mean_absolute_error: 528.5583\n",
      "\n",
      "Epoch 00041: ReduceLROnPlateau reducing learning rate to 8.100000013655517e-06.\n",
      "Epoch 42/1000\n",
      "200/200 [==============================] - 2s 10ms/step - loss: 454.3596 - mean_absolute_error: 454.3596 - val_loss: 528.8192 - val_mean_absolute_error: 528.8192\n",
      "Epoch 43/1000\n",
      "200/200 [==============================] - 2s 10ms/step - loss: 451.6207 - mean_absolute_error: 451.6207 - val_loss: 528.4688 - val_mean_absolute_error: 528.4688\n",
      "Epoch 44/1000\n",
      "200/200 [==============================] - 2s 10ms/step - loss: 448.3903 - mean_absolute_error: 448.3903 - val_loss: 528.8148 - val_mean_absolute_error: 528.8148\n",
      "Epoch 45/1000\n",
      "200/200 [==============================] - 2s 10ms/step - loss: 452.3581 - mean_absolute_error: 452.3581 - val_loss: 528.6357 - val_mean_absolute_error: 528.6357\n",
      "Epoch 46/1000\n",
      "200/200 [==============================] - 2s 10ms/step - loss: 454.4966 - mean_absolute_error: 454.4966 - val_loss: 529.2546 - val_mean_absolute_error: 529.2546\n",
      "Epoch 47/1000\n",
      "200/200 [==============================] - 2s 10ms/step - loss: 454.7356 - mean_absolute_error: 454.7356 - val_loss: 529.1767 - val_mean_absolute_error: 529.1767\n",
      "Epoch 48/1000\n",
      "200/200 [==============================] - 2s 10ms/step - loss: 453.1543 - mean_absolute_error: 453.1543 - val_loss: 529.0047 - val_mean_absolute_error: 529.0047\n",
      "Epoch 49/1000\n",
      "200/200 [==============================] - 2s 10ms/step - loss: 449.8350 - mean_absolute_error: 449.8350 - val_loss: 530.2493 - val_mean_absolute_error: 530.2493\n",
      "Epoch 50/1000\n",
      "200/200 [==============================] - 2s 10ms/step - loss: 448.5447 - mean_absolute_error: 448.5447 - val_loss: 528.9083 - val_mean_absolute_error: 528.9083\n",
      "Epoch 51/1000\n",
      "200/200 [==============================] - 2s 10ms/step - loss: 451.2155 - mean_absolute_error: 451.2155 - val_loss: 529.5883 - val_mean_absolute_error: 529.5883\n",
      "\n",
      "Epoch 00051: ReduceLROnPlateau reducing learning rate to 2.429999949526973e-06.\n",
      "Epoch 52/1000\n",
      "200/200 [==============================] - 2s 10ms/step - loss: 452.1331 - mean_absolute_error: 452.1331 - val_loss: 528.6520 - val_mean_absolute_error: 528.6520\n",
      "Epoch 53/1000\n",
      "200/200 [==============================] - 2s 10ms/step - loss: 452.1360 - mean_absolute_error: 452.1360 - val_loss: 528.6252 - val_mean_absolute_error: 528.6252\n",
      "Epoch 54/1000\n",
      "200/200 [==============================] - 2s 10ms/step - loss: 453.1182 - mean_absolute_error: 453.1182 - val_loss: 528.3633 - val_mean_absolute_error: 528.3633\n",
      "Epoch 55/1000\n",
      "200/200 [==============================] - 2s 10ms/step - loss: 453.7270 - mean_absolute_error: 453.7270 - val_loss: 528.7045 - val_mean_absolute_error: 528.7045\n",
      "Epoch 56/1000\n",
      "200/200 [==============================] - 2s 10ms/step - loss: 450.5340 - mean_absolute_error: 450.5340 - val_loss: 528.4730 - val_mean_absolute_error: 528.4730\n",
      "Epoch 57/1000\n",
      "200/200 [==============================] - 2s 10ms/step - loss: 449.8799 - mean_absolute_error: 449.8799 - val_loss: 528.3878 - val_mean_absolute_error: 528.3878\n",
      "Epoch 58/1000\n",
      "200/200 [==============================] - 2s 10ms/step - loss: 451.0810 - mean_absolute_error: 451.0810 - val_loss: 528.6182 - val_mean_absolute_error: 528.6182\n",
      "Epoch 59/1000\n",
      "200/200 [==============================] - 2s 10ms/step - loss: 447.7547 - mean_absolute_error: 447.7547 - val_loss: 528.5703 - val_mean_absolute_error: 528.5703\n",
      "Epoch 60/1000\n",
      "200/200 [==============================] - 2s 10ms/step - loss: 456.4916 - mean_absolute_error: 456.4916 - val_loss: 528.5171 - val_mean_absolute_error: 528.5171\n",
      "Epoch 61/1000\n",
      "200/200 [==============================] - 2s 10ms/step - loss: 449.4391 - mean_absolute_error: 449.4391 - val_loss: 528.6846 - val_mean_absolute_error: 528.6846\n",
      "\n",
      "Epoch 00061: ReduceLROnPlateau reducing learning rate to 7.289999985005124e-07.\n",
      "Epoch 62/1000\n",
      "200/200 [==============================] - 2s 10ms/step - loss: 449.3080 - mean_absolute_error: 449.3080 - val_loss: 528.6115 - val_mean_absolute_error: 528.6115\n",
      "Epoch 63/1000\n",
      "200/200 [==============================] - 2s 10ms/step - loss: 448.9821 - mean_absolute_error: 448.9821 - val_loss: 528.5173 - val_mean_absolute_error: 528.5173\n",
      "Epoch 64/1000\n",
      "200/200 [==============================] - 2s 10ms/step - loss: 451.3189 - mean_absolute_error: 451.3189 - val_loss: 528.5094 - val_mean_absolute_error: 528.5094\n",
      "Epoch 65/1000\n",
      "200/200 [==============================] - 2s 10ms/step - loss: 450.1732 - mean_absolute_error: 450.1732 - val_loss: 528.5355 - val_mean_absolute_error: 528.5355\n",
      "Epoch 66/1000\n",
      "200/200 [==============================] - 2s 10ms/step - loss: 450.8434 - mean_absolute_error: 450.8434 - val_loss: 528.3614 - val_mean_absolute_error: 528.3614\n",
      "Epoch 67/1000\n",
      "200/200 [==============================] - 2s 10ms/step - loss: 449.1719 - mean_absolute_error: 449.1719 - val_loss: 528.3470 - val_mean_absolute_error: 528.3470\n",
      "Epoch 68/1000\n",
      "200/200 [==============================] - 2s 10ms/step - loss: 451.6445 - mean_absolute_error: 451.6445 - val_loss: 528.4269 - val_mean_absolute_error: 528.4269\n",
      "Epoch 69/1000\n",
      "200/200 [==============================] - 2s 10ms/step - loss: 451.0857 - mean_absolute_error: 451.0857 - val_loss: 528.3325 - val_mean_absolute_error: 528.3325\n",
      "Epoch 70/1000\n",
      "200/200 [==============================] - 2s 10ms/step - loss: 448.3017 - mean_absolute_error: 448.3017 - val_loss: 528.4279 - val_mean_absolute_error: 528.4279\n",
      "Epoch 71/1000\n",
      "200/200 [==============================] - 2s 10ms/step - loss: 453.1950 - mean_absolute_error: 453.1950 - val_loss: 528.4586 - val_mean_absolute_error: 528.4586\n",
      "\n",
      "Epoch 00071: ReduceLROnPlateau reducing learning rate to 2.1870000637136398e-07.\n",
      "Epoch 72/1000\n",
      "200/200 [==============================] - 2s 10ms/step - loss: 449.7742 - mean_absolute_error: 449.7742 - val_loss: 528.4830 - val_mean_absolute_error: 528.4830\n",
      "Epoch 73/1000\n",
      "200/200 [==============================] - 2s 10ms/step - loss: 450.0573 - mean_absolute_error: 450.0573 - val_loss: 528.4531 - val_mean_absolute_error: 528.4531\n",
      "Epoch 74/1000\n",
      "200/200 [==============================] - 2s 10ms/step - loss: 448.7572 - mean_absolute_error: 448.7572 - val_loss: 528.4398 - val_mean_absolute_error: 528.4398\n",
      "Epoch 75/1000\n",
      "200/200 [==============================] - 2s 10ms/step - loss: 451.9860 - mean_absolute_error: 451.9860 - val_loss: 528.4327 - val_mean_absolute_error: 528.4327\n",
      "Epoch 76/1000\n",
      "200/200 [==============================] - 2s 10ms/step - loss: 449.9221 - mean_absolute_error: 449.9221 - val_loss: 528.4472 - val_mean_absolute_error: 528.4472\n",
      "Epoch 77/1000\n",
      "200/200 [==============================] - 2s 10ms/step - loss: 454.0690 - mean_absolute_error: 454.0690 - val_loss: 528.4649 - val_mean_absolute_error: 528.4649\n",
      "Epoch 78/1000\n",
      "200/200 [==============================] - 2s 10ms/step - loss: 451.8706 - mean_absolute_error: 451.8706 - val_loss: 528.4844 - val_mean_absolute_error: 528.4844\n",
      "Epoch 79/1000\n",
      "200/200 [==============================] - 2s 10ms/step - loss: 449.9464 - mean_absolute_error: 449.9464 - val_loss: 528.4115 - val_mean_absolute_error: 528.4115\n",
      "Epoch 80/1000\n",
      "200/200 [==============================] - 2s 10ms/step - loss: 448.9994 - mean_absolute_error: 448.9994 - val_loss: 528.3445 - val_mean_absolute_error: 528.3445\n",
      "Epoch 81/1000\n",
      "200/200 [==============================] - 2s 10ms/step - loss: 451.6568 - mean_absolute_error: 451.6568 - val_loss: 528.3106 - val_mean_absolute_error: 528.3106\n"
     ]
    },
    {
     "name": "stdout",
     "output_type": "stream",
     "text": [
      "\n",
      "Epoch 00081: ReduceLROnPlateau reducing learning rate to 6.561000276406048e-08.\n",
      "Epoch 82/1000\n",
      "200/200 [==============================] - 2s 10ms/step - loss: 451.9844 - mean_absolute_error: 451.9844 - val_loss: 528.3071 - val_mean_absolute_error: 528.3071\n",
      "Epoch 83/1000\n",
      "200/200 [==============================] - 2s 10ms/step - loss: 446.7802 - mean_absolute_error: 446.7802 - val_loss: 528.3140 - val_mean_absolute_error: 528.3140\n",
      "Epoch 84/1000\n",
      "200/200 [==============================] - 2s 10ms/step - loss: 452.8978 - mean_absolute_error: 452.8978 - val_loss: 528.3105 - val_mean_absolute_error: 528.3105\n",
      "Epoch 85/1000\n",
      "200/200 [==============================] - 2s 10ms/step - loss: 452.4732 - mean_absolute_error: 452.4732 - val_loss: 528.3182 - val_mean_absolute_error: 528.3182\n",
      "Epoch 86/1000\n",
      "200/200 [==============================] - 2s 11ms/step - loss: 450.9891 - mean_absolute_error: 450.9891 - val_loss: 528.3313 - val_mean_absolute_error: 528.3313\n",
      "Epoch 87/1000\n",
      "200/200 [==============================] - 2s 10ms/step - loss: 451.5006 - mean_absolute_error: 451.5006 - val_loss: 528.3409 - val_mean_absolute_error: 528.3409\n",
      "Epoch 88/1000\n",
      "200/200 [==============================] - 2s 11ms/step - loss: 449.4688 - mean_absolute_error: 449.4688 - val_loss: 528.3313 - val_mean_absolute_error: 528.3313\n",
      "Epoch 89/1000\n",
      "200/200 [==============================] - 2s 10ms/step - loss: 446.9523 - mean_absolute_error: 446.9523 - val_loss: 528.3431 - val_mean_absolute_error: 528.3431\n",
      "Epoch 90/1000\n",
      "200/200 [==============================] - 2s 11ms/step - loss: 449.6605 - mean_absolute_error: 449.6605 - val_loss: 528.3465 - val_mean_absolute_error: 528.3465\n",
      "Epoch 91/1000\n",
      "200/200 [==============================] - 2s 11ms/step - loss: 451.3052 - mean_absolute_error: 451.3052 - val_loss: 528.3340 - val_mean_absolute_error: 528.3340\n",
      "\n",
      "Epoch 00091: ReduceLROnPlateau reducing learning rate to 1.9683000829218145e-08.\n",
      "Epoch 92/1000\n",
      "200/200 [==============================] - 2s 11ms/step - loss: 449.3153 - mean_absolute_error: 449.3153 - val_loss: 528.3346 - val_mean_absolute_error: 528.3346\n",
      "Epoch 93/1000\n",
      "200/200 [==============================] - 2s 10ms/step - loss: 448.8213 - mean_absolute_error: 448.8213 - val_loss: 528.3382 - val_mean_absolute_error: 528.3382\n",
      "Epoch 94/1000\n",
      "200/200 [==============================] - 2s 10ms/step - loss: 451.5861 - mean_absolute_error: 451.5861 - val_loss: 528.3390 - val_mean_absolute_error: 528.3390\n",
      "Epoch 95/1000\n",
      "200/200 [==============================] - 2s 10ms/step - loss: 448.3172 - mean_absolute_error: 448.3172 - val_loss: 528.3450 - val_mean_absolute_error: 528.3450\n",
      "Epoch 96/1000\n",
      "200/200 [==============================] - 2s 10ms/step - loss: 452.6962 - mean_absolute_error: 452.6962 - val_loss: 528.3464 - val_mean_absolute_error: 528.3464\n",
      "Epoch 97/1000\n",
      "200/200 [==============================] - 2s 10ms/step - loss: 448.0684 - mean_absolute_error: 448.0684 - val_loss: 528.3455 - val_mean_absolute_error: 528.3455\n",
      "Epoch 98/1000\n",
      "200/200 [==============================] - 2s 10ms/step - loss: 449.8699 - mean_absolute_error: 449.8699 - val_loss: 528.3437 - val_mean_absolute_error: 528.3437\n",
      "Epoch 99/1000\n",
      "200/200 [==============================] - 2s 10ms/step - loss: 448.5401 - mean_absolute_error: 448.5401 - val_loss: 528.3455 - val_mean_absolute_error: 528.3455\n",
      "Epoch 100/1000\n",
      "200/200 [==============================] - 2s 10ms/step - loss: 447.9872 - mean_absolute_error: 447.9872 - val_loss: 528.3400 - val_mean_absolute_error: 528.3400\n",
      "Epoch 101/1000\n",
      "200/200 [==============================] - 2s 10ms/step - loss: 448.5500 - mean_absolute_error: 448.5500 - val_loss: 528.3408 - val_mean_absolute_error: 528.3408\n",
      "\n",
      "Epoch 00101: ReduceLROnPlateau reducing learning rate to 5.904900035602622e-09.\n",
      "Epoch 102/1000\n",
      "200/200 [==============================] - 2s 10ms/step - loss: 450.9320 - mean_absolute_error: 450.9320 - val_loss: 528.3405 - val_mean_absolute_error: 528.3405\n",
      "Epoch 103/1000\n",
      "200/200 [==============================] - 2s 10ms/step - loss: 448.8652 - mean_absolute_error: 448.8652 - val_loss: 528.3425 - val_mean_absolute_error: 528.3425\n",
      "Epoch 104/1000\n",
      "200/200 [==============================] - 2s 10ms/step - loss: 447.3163 - mean_absolute_error: 447.3163 - val_loss: 528.3436 - val_mean_absolute_error: 528.3436\n",
      "Epoch 105/1000\n",
      "200/200 [==============================] - 2s 10ms/step - loss: 450.8394 - mean_absolute_error: 450.8394 - val_loss: 528.3438 - val_mean_absolute_error: 528.3438\n",
      "Epoch 106/1000\n",
      "200/200 [==============================] - 2s 10ms/step - loss: 453.5770 - mean_absolute_error: 453.5770 - val_loss: 528.3436 - val_mean_absolute_error: 528.3436\n",
      "Epoch 107/1000\n",
      "200/200 [==============================] - 2s 10ms/step - loss: 454.7105 - mean_absolute_error: 454.7105 - val_loss: 528.3398 - val_mean_absolute_error: 528.3398\n",
      "Epoch 108/1000\n",
      "200/200 [==============================] - 2s 10ms/step - loss: 454.5685 - mean_absolute_error: 454.5685 - val_loss: 528.3422 - val_mean_absolute_error: 528.3422\n",
      "Epoch 109/1000\n",
      "200/200 [==============================] - 2s 10ms/step - loss: 447.3244 - mean_absolute_error: 447.3244 - val_loss: 528.3402 - val_mean_absolute_error: 528.3402\n",
      "Epoch 110/1000\n",
      "200/200 [==============================] - 2s 10ms/step - loss: 452.4863 - mean_absolute_error: 452.4863 - val_loss: 528.3396 - val_mean_absolute_error: 528.3396\n",
      "Epoch 111/1000\n",
      "200/200 [==============================] - 2s 10ms/step - loss: 451.8218 - mean_absolute_error: 451.8218 - val_loss: 528.3376 - val_mean_absolute_error: 528.3376\n",
      "\n",
      "Epoch 00111: ReduceLROnPlateau reducing learning rate to 1.7714700373261393e-09.\n",
      "Epoch 112/1000\n",
      "200/200 [==============================] - 2s 10ms/step - loss: 451.8310 - mean_absolute_error: 451.8310 - val_loss: 528.3375 - val_mean_absolute_error: 528.3375\n",
      "Epoch 113/1000\n",
      "200/200 [==============================] - 2s 10ms/step - loss: 449.8631 - mean_absolute_error: 449.8631 - val_loss: 528.3376 - val_mean_absolute_error: 528.3376\n",
      "Epoch 114/1000\n",
      "200/200 [==============================] - 2s 10ms/step - loss: 452.8555 - mean_absolute_error: 452.8555 - val_loss: 528.3375 - val_mean_absolute_error: 528.3375\n",
      "Epoch 115/1000\n",
      "200/200 [==============================] - 2s 10ms/step - loss: 449.8128 - mean_absolute_error: 449.8128 - val_loss: 528.3376 - val_mean_absolute_error: 528.3376\n",
      "Epoch 116/1000\n",
      "200/200 [==============================] - 2s 10ms/step - loss: 450.0252 - mean_absolute_error: 450.0252 - val_loss: 528.3380 - val_mean_absolute_error: 528.3380\n",
      "Epoch 117/1000\n",
      "200/200 [==============================] - 2s 10ms/step - loss: 454.4858 - mean_absolute_error: 454.4858 - val_loss: 528.3376 - val_mean_absolute_error: 528.3376\n",
      "Epoch 118/1000\n",
      "200/200 [==============================] - 2s 10ms/step - loss: 451.5713 - mean_absolute_error: 451.5713 - val_loss: 528.3380 - val_mean_absolute_error: 528.3380\n",
      "Epoch 119/1000\n",
      "200/200 [==============================] - 2s 10ms/step - loss: 449.8660 - mean_absolute_error: 449.8660 - val_loss: 528.3380 - val_mean_absolute_error: 528.3380\n",
      "Epoch 120/1000\n",
      "200/200 [==============================] - 2s 10ms/step - loss: 447.4912 - mean_absolute_error: 447.4912 - val_loss: 528.3381 - val_mean_absolute_error: 528.3381\n",
      "Epoch 121/1000\n",
      "200/200 [==============================] - 2s 10ms/step - loss: 446.9812 - mean_absolute_error: 446.9812 - val_loss: 528.3382 - val_mean_absolute_error: 528.3382\n",
      "\n",
      "Epoch 00121: ReduceLROnPlateau reducing learning rate to 5.314410245205181e-10.\n",
      "Epoch 122/1000\n",
      "200/200 [==============================] - 2s 10ms/step - loss: 450.1609 - mean_absolute_error: 450.1609 - val_loss: 528.3381 - val_mean_absolute_error: 528.3381\n",
      "Epoch 123/1000\n",
      "200/200 [==============================] - 2s 10ms/step - loss: 444.9722 - mean_absolute_error: 444.9722 - val_loss: 528.3383 - val_mean_absolute_error: 528.3383\n",
      "Epoch 124/1000\n",
      "200/200 [==============================] - 2s 10ms/step - loss: 452.6043 - mean_absolute_error: 452.6043 - val_loss: 528.3382 - val_mean_absolute_error: 528.3382\n",
      "Epoch 125/1000\n",
      "200/200 [==============================] - 2s 10ms/step - loss: 452.0597 - mean_absolute_error: 452.0597 - val_loss: 528.3382 - val_mean_absolute_error: 528.3382\n",
      "Epoch 126/1000\n",
      "200/200 [==============================] - 2s 10ms/step - loss: 450.1753 - mean_absolute_error: 450.1753 - val_loss: 528.3382 - val_mean_absolute_error: 528.3382\n",
      "Epoch 127/1000\n",
      "200/200 [==============================] - 2s 10ms/step - loss: 451.7604 - mean_absolute_error: 451.7604 - val_loss: 528.3382 - val_mean_absolute_error: 528.3382\n",
      "Epoch 128/1000\n",
      "200/200 [==============================] - 2s 12ms/step - loss: 451.7122 - mean_absolute_error: 451.7122 - val_loss: 528.3383 - val_mean_absolute_error: 528.3383\n",
      "Epoch 129/1000\n",
      "200/200 [==============================] - 2s 11ms/step - loss: 452.9824 - mean_absolute_error: 452.9824 - val_loss: 528.3383 - val_mean_absolute_error: 528.3383\n",
      "Epoch 130/1000\n",
      "200/200 [==============================] - 2s 10ms/step - loss: 452.7615 - mean_absolute_error: 452.7615 - val_loss: 528.3383 - val_mean_absolute_error: 528.3383\n",
      "Epoch 131/1000\n",
      "200/200 [==============================] - 2s 10ms/step - loss: 452.1174 - mean_absolute_error: 452.1174 - val_loss: 528.3383 - val_mean_absolute_error: 528.3383\n",
      "\n",
      "Epoch 00131: ReduceLROnPlateau reducing learning rate to 1.5943230069481729e-10.\n",
      "Epoch 132/1000\n",
      "200/200 [==============================] - 2s 10ms/step - loss: 449.5969 - mean_absolute_error: 449.5969 - val_loss: 528.3383 - val_mean_absolute_error: 528.3383\n",
      "Epoch 133/1000\n",
      "200/200 [==============================] - 2s 10ms/step - loss: 451.5977 - mean_absolute_error: 451.5977 - val_loss: 528.3383 - val_mean_absolute_error: 528.3383\n",
      "Epoch 134/1000\n",
      "200/200 [==============================] - 2s 10ms/step - loss: 448.1668 - mean_absolute_error: 448.1668 - val_loss: 528.3383 - val_mean_absolute_error: 528.3383\n",
      "Epoch 135/1000\n",
      "200/200 [==============================] - 2s 10ms/step - loss: 453.0987 - mean_absolute_error: 453.0987 - val_loss: 528.3383 - val_mean_absolute_error: 528.3383\n",
      "Epoch 136/1000\n",
      "200/200 [==============================] - 2s 10ms/step - loss: 449.8268 - mean_absolute_error: 449.8268 - val_loss: 528.3383 - val_mean_absolute_error: 528.3383\n",
      "Epoch 137/1000\n",
      "200/200 [==============================] - 2s 10ms/step - loss: 451.1900 - mean_absolute_error: 451.1900 - val_loss: 528.3383 - val_mean_absolute_error: 528.3383\n",
      "Epoch 138/1000\n",
      "200/200 [==============================] - 2s 11ms/step - loss: 456.4788 - mean_absolute_error: 456.4788 - val_loss: 528.3383 - val_mean_absolute_error: 528.3383\n",
      "Epoch 139/1000\n",
      "200/200 [==============================] - 2s 11ms/step - loss: 449.8417 - mean_absolute_error: 449.8417 - val_loss: 528.3383 - val_mean_absolute_error: 528.3383\n",
      "Epoch 140/1000\n",
      "200/200 [==============================] - 2s 11ms/step - loss: 451.2463 - mean_absolute_error: 451.2463 - val_loss: 528.3383 - val_mean_absolute_error: 528.3383\n",
      "Epoch 141/1000\n",
      "200/200 [==============================] - 2s 11ms/step - loss: 450.4023 - mean_absolute_error: 450.4023 - val_loss: 528.3383 - val_mean_absolute_error: 528.3383\n",
      "\n",
      "Epoch 00141: ReduceLROnPlateau reducing learning rate to 4.7829690208445185e-11.\n",
      "Epoch 142/1000\n",
      "200/200 [==============================] - 2s 11ms/step - loss: 453.4174 - mean_absolute_error: 453.4174 - val_loss: 528.3383 - val_mean_absolute_error: 528.3383\n",
      "Epoch 143/1000\n",
      "200/200 [==============================] - 2s 11ms/step - loss: 450.5090 - mean_absolute_error: 450.5090 - val_loss: 528.3383 - val_mean_absolute_error: 528.3383\n",
      "Epoch 144/1000\n",
      "200/200 [==============================] - 2s 11ms/step - loss: 451.0770 - mean_absolute_error: 451.0770 - val_loss: 528.3383 - val_mean_absolute_error: 528.3383\n",
      "Epoch 145/1000\n",
      "200/200 [==============================] - 2s 11ms/step - loss: 450.1732 - mean_absolute_error: 450.1732 - val_loss: 528.3383 - val_mean_absolute_error: 528.3383\n",
      "Epoch 146/1000\n",
      "200/200 [==============================] - 2s 11ms/step - loss: 454.5493 - mean_absolute_error: 454.5493 - val_loss: 528.3383 - val_mean_absolute_error: 528.3383\n",
      "Epoch 147/1000\n",
      "200/200 [==============================] - 2s 11ms/step - loss: 451.8041 - mean_absolute_error: 451.8041 - val_loss: 528.3383 - val_mean_absolute_error: 528.3383\n",
      "Epoch 148/1000\n",
      "200/200 [==============================] - 2s 11ms/step - loss: 450.9969 - mean_absolute_error: 450.9969 - val_loss: 528.3383 - val_mean_absolute_error: 528.3383\n",
      "Epoch 149/1000\n",
      "200/200 [==============================] - 2s 11ms/step - loss: 449.5571 - mean_absolute_error: 449.5571 - val_loss: 528.3383 - val_mean_absolute_error: 528.3383\n",
      "Epoch 150/1000\n",
      "200/200 [==============================] - 2s 11ms/step - loss: 451.0865 - mean_absolute_error: 451.0865 - val_loss: 528.3383 - val_mean_absolute_error: 528.3383\n",
      "Epoch 151/1000\n",
      "200/200 [==============================] - 2s 11ms/step - loss: 449.8705 - mean_absolute_error: 449.8705 - val_loss: 528.3383 - val_mean_absolute_error: 528.3383\n",
      "\n",
      "Epoch 00151: ReduceLROnPlateau reducing learning rate to 1.434890747886719e-11.\n",
      "Epoch 152/1000\n",
      "200/200 [==============================] - 2s 11ms/step - loss: 452.3520 - mean_absolute_error: 452.3520 - val_loss: 528.3383 - val_mean_absolute_error: 528.3383\n",
      "Epoch 153/1000\n",
      "200/200 [==============================] - 2s 11ms/step - loss: 455.7441 - mean_absolute_error: 455.7441 - val_loss: 528.3383 - val_mean_absolute_error: 528.3383\n",
      "Epoch 154/1000\n",
      "200/200 [==============================] - 2s 11ms/step - loss: 452.1440 - mean_absolute_error: 452.1440 - val_loss: 528.3383 - val_mean_absolute_error: 528.3383\n",
      "Epoch 155/1000\n",
      "200/200 [==============================] - 2s 11ms/step - loss: 449.3230 - mean_absolute_error: 449.3230 - val_loss: 528.3383 - val_mean_absolute_error: 528.3383\n",
      "Epoch 156/1000\n",
      "200/200 [==============================] - 2s 11ms/step - loss: 451.3795 - mean_absolute_error: 451.3795 - val_loss: 528.3383 - val_mean_absolute_error: 528.3383\n",
      "Epoch 157/1000\n",
      "200/200 [==============================] - 2s 10ms/step - loss: 453.6593 - mean_absolute_error: 453.6593 - val_loss: 528.3383 - val_mean_absolute_error: 528.3383\n",
      "Epoch 158/1000\n",
      "200/200 [==============================] - 2s 10ms/step - loss: 451.2538 - mean_absolute_error: 451.2538 - val_loss: 528.3383 - val_mean_absolute_error: 528.3383\n",
      "Epoch 159/1000\n",
      "200/200 [==============================] - 2s 10ms/step - loss: 446.9791 - mean_absolute_error: 446.9791 - val_loss: 528.3383 - val_mean_absolute_error: 528.3383\n",
      "Epoch 160/1000\n",
      "200/200 [==============================] - 2s 10ms/step - loss: 452.5633 - mean_absolute_error: 452.5633 - val_loss: 528.3383 - val_mean_absolute_error: 528.3383\n",
      "Epoch 161/1000\n",
      "200/200 [==============================] - 2s 10ms/step - loss: 451.8315 - mean_absolute_error: 451.8315 - val_loss: 528.3383 - val_mean_absolute_error: 528.3383\n",
      "\n",
      "Epoch 00161: ReduceLROnPlateau reducing learning rate to 4.304672243660157e-12.\n",
      "Epoch 162/1000\n",
      "200/200 [==============================] - 2s 11ms/step - loss: 448.6299 - mean_absolute_error: 448.6299 - val_loss: 528.3383 - val_mean_absolute_error: 528.3383\n",
      "Epoch 163/1000\n",
      "200/200 [==============================] - 2s 11ms/step - loss: 449.6363 - mean_absolute_error: 449.6363 - val_loss: 528.3383 - val_mean_absolute_error: 528.3383\n",
      "Epoch 164/1000\n",
      "200/200 [==============================] - 2s 11ms/step - loss: 452.3830 - mean_absolute_error: 452.3830 - val_loss: 528.3383 - val_mean_absolute_error: 528.3383\n",
      "Epoch 165/1000\n",
      "200/200 [==============================] - 2s 11ms/step - loss: 456.7750 - mean_absolute_error: 456.7750 - val_loss: 528.3383 - val_mean_absolute_error: 528.3383\n",
      "Epoch 166/1000\n",
      "200/200 [==============================] - 2s 11ms/step - loss: 448.2720 - mean_absolute_error: 448.2720 - val_loss: 528.3383 - val_mean_absolute_error: 528.3383\n",
      "Epoch 167/1000\n",
      "200/200 [==============================] - 2s 11ms/step - loss: 449.8777 - mean_absolute_error: 449.8777 - val_loss: 528.3383 - val_mean_absolute_error: 528.3383\n",
      "Epoch 168/1000\n",
      "200/200 [==============================] - 2s 11ms/step - loss: 451.1461 - mean_absolute_error: 451.1461 - val_loss: 528.3383 - val_mean_absolute_error: 528.3383\n",
      "Epoch 169/1000\n",
      "200/200 [==============================] - 2s 11ms/step - loss: 449.0230 - mean_absolute_error: 449.0230 - val_loss: 528.3383 - val_mean_absolute_error: 528.3383\n",
      "Epoch 170/1000\n"
     ]
    },
    {
     "name": "stdout",
     "output_type": "stream",
     "text": [
      "200/200 [==============================] - 2s 11ms/step - loss: 451.7648 - mean_absolute_error: 451.7648 - val_loss: 528.3383 - val_mean_absolute_error: 528.3383\n",
      "Epoch 171/1000\n",
      "200/200 [==============================] - 2s 11ms/step - loss: 447.5282 - mean_absolute_error: 447.5282 - val_loss: 528.3383 - val_mean_absolute_error: 528.3383\n",
      "\n",
      "Epoch 00171: ReduceLROnPlateau reducing learning rate to 1.2914016210563428e-12.\n",
      "Epoch 172/1000\n",
      "200/200 [==============================] - 2s 11ms/step - loss: 450.2204 - mean_absolute_error: 450.2204 - val_loss: 528.3383 - val_mean_absolute_error: 528.3383\n",
      "Epoch 173/1000\n",
      "200/200 [==============================] - 2s 11ms/step - loss: 451.6461 - mean_absolute_error: 451.6461 - val_loss: 528.3383 - val_mean_absolute_error: 528.3383\n",
      "Epoch 174/1000\n",
      "200/200 [==============================] - 2s 11ms/step - loss: 452.1512 - mean_absolute_error: 452.1512 - val_loss: 528.3383 - val_mean_absolute_error: 528.3383\n",
      "Epoch 175/1000\n",
      "200/200 [==============================] - 2s 10ms/step - loss: 448.8006 - mean_absolute_error: 448.8006 - val_loss: 528.3383 - val_mean_absolute_error: 528.3383\n",
      "Epoch 176/1000\n",
      "200/200 [==============================] - 2s 10ms/step - loss: 446.6902 - mean_absolute_error: 446.6902 - val_loss: 528.3383 - val_mean_absolute_error: 528.3383\n",
      "Epoch 177/1000\n",
      "200/200 [==============================] - 2s 10ms/step - loss: 446.8512 - mean_absolute_error: 446.8512 - val_loss: 528.3383 - val_mean_absolute_error: 528.3383\n",
      "Epoch 178/1000\n",
      "200/200 [==============================] - 2s 10ms/step - loss: 451.0083 - mean_absolute_error: 451.0083 - val_loss: 528.3383 - val_mean_absolute_error: 528.3383\n",
      "Epoch 179/1000\n",
      "200/200 [==============================] - 2s 10ms/step - loss: 450.2800 - mean_absolute_error: 450.2800 - val_loss: 528.3383 - val_mean_absolute_error: 528.3383\n",
      "Epoch 180/1000\n",
      "200/200 [==============================] - 2s 10ms/step - loss: 448.5316 - mean_absolute_error: 448.5316 - val_loss: 528.3383 - val_mean_absolute_error: 528.3383\n",
      "Epoch 181/1000\n",
      "200/200 [==============================] - 2s 10ms/step - loss: 449.7429 - mean_absolute_error: 449.7429 - val_loss: 528.3383 - val_mean_absolute_error: 528.3383\n",
      "\n",
      "Epoch 00181: ReduceLROnPlateau reducing learning rate to 3.874204993273289e-13.\n",
      "Epoch 182/1000\n",
      "200/200 [==============================] - 2s 10ms/step - loss: 450.0165 - mean_absolute_error: 450.0165 - val_loss: 528.3383 - val_mean_absolute_error: 528.3383\n",
      "Epoch 183/1000\n",
      "200/200 [==============================] - 2s 10ms/step - loss: 448.8322 - mean_absolute_error: 448.8322 - val_loss: 528.3383 - val_mean_absolute_error: 528.3383\n",
      "Epoch 184/1000\n",
      "200/200 [==============================] - 2s 10ms/step - loss: 451.2272 - mean_absolute_error: 451.2272 - val_loss: 528.3383 - val_mean_absolute_error: 528.3383\n",
      "Epoch 185/1000\n",
      "200/200 [==============================] - 2s 10ms/step - loss: 450.6621 - mean_absolute_error: 450.6621 - val_loss: 528.3383 - val_mean_absolute_error: 528.3383\n",
      "Epoch 186/1000\n",
      "200/200 [==============================] - 2s 10ms/step - loss: 454.4900 - mean_absolute_error: 454.4900 - val_loss: 528.3383 - val_mean_absolute_error: 528.3383\n",
      "Epoch 187/1000\n",
      "200/200 [==============================] - 2s 10ms/step - loss: 446.2681 - mean_absolute_error: 446.2681 - val_loss: 528.3383 - val_mean_absolute_error: 528.3383\n",
      "Epoch 188/1000\n",
      "200/200 [==============================] - 2s 10ms/step - loss: 445.3832 - mean_absolute_error: 445.3832 - val_loss: 528.3383 - val_mean_absolute_error: 528.3383\n",
      "Epoch 189/1000\n",
      "200/200 [==============================] - 2s 10ms/step - loss: 451.6101 - mean_absolute_error: 451.6101 - val_loss: 528.3383 - val_mean_absolute_error: 528.3383\n",
      "Epoch 190/1000\n",
      "200/200 [==============================] - 2s 10ms/step - loss: 451.7031 - mean_absolute_error: 451.7031 - val_loss: 528.3383 - val_mean_absolute_error: 528.3383\n",
      "Epoch 191/1000\n",
      "200/200 [==============================] - 2s 10ms/step - loss: 452.2162 - mean_absolute_error: 452.2162 - val_loss: 528.3383 - val_mean_absolute_error: 528.3383\n",
      "\n",
      "Epoch 00191: ReduceLROnPlateau reducing learning rate to 1.162261530508052e-13.\n",
      "Epoch 192/1000\n",
      "200/200 [==============================] - 2s 10ms/step - loss: 448.5117 - mean_absolute_error: 448.5117 - val_loss: 528.3383 - val_mean_absolute_error: 528.3383\n",
      "Epoch 193/1000\n",
      "200/200 [==============================] - 2s 10ms/step - loss: 452.3836 - mean_absolute_error: 452.3836 - val_loss: 528.3383 - val_mean_absolute_error: 528.3383\n",
      "Epoch 194/1000\n",
      "200/200 [==============================] - 2s 10ms/step - loss: 447.8135 - mean_absolute_error: 447.8135 - val_loss: 528.3383 - val_mean_absolute_error: 528.3383\n",
      "Epoch 195/1000\n",
      "200/200 [==============================] - 2s 10ms/step - loss: 452.8969 - mean_absolute_error: 452.8969 - val_loss: 528.3383 - val_mean_absolute_error: 528.3383\n",
      "Epoch 196/1000\n",
      "200/200 [==============================] - 2s 10ms/step - loss: 450.3768 - mean_absolute_error: 450.3768 - val_loss: 528.3383 - val_mean_absolute_error: 528.3383\n",
      "Epoch 197/1000\n",
      "200/200 [==============================] - 2s 10ms/step - loss: 448.6183 - mean_absolute_error: 448.6183 - val_loss: 528.3383 - val_mean_absolute_error: 528.3383\n",
      "Epoch 198/1000\n",
      "200/200 [==============================] - 2s 10ms/step - loss: 450.1954 - mean_absolute_error: 450.1954 - val_loss: 528.3383 - val_mean_absolute_error: 528.3383\n",
      "Epoch 199/1000\n",
      "200/200 [==============================] - 2s 10ms/step - loss: 452.7461 - mean_absolute_error: 452.7461 - val_loss: 528.3383 - val_mean_absolute_error: 528.3383\n",
      "Epoch 200/1000\n",
      "200/200 [==============================] - 2s 10ms/step - loss: 447.2054 - mean_absolute_error: 447.2054 - val_loss: 528.3383 - val_mean_absolute_error: 528.3383\n",
      "Epoch 201/1000\n",
      "200/200 [==============================] - 2s 10ms/step - loss: 448.6512 - mean_absolute_error: 448.6512 - val_loss: 528.3383 - val_mean_absolute_error: 528.3383\n",
      "\n",
      "Epoch 00201: ReduceLROnPlateau reducing learning rate to 3.4867844288938296e-14.\n",
      "Epoch 202/1000\n",
      "200/200 [==============================] - 2s 10ms/step - loss: 452.5915 - mean_absolute_error: 452.5915 - val_loss: 528.3383 - val_mean_absolute_error: 528.3383\n",
      "Epoch 203/1000\n",
      "200/200 [==============================] - 2s 10ms/step - loss: 448.6631 - mean_absolute_error: 448.6631 - val_loss: 528.3383 - val_mean_absolute_error: 528.3383\n",
      "Epoch 204/1000\n",
      "200/200 [==============================] - 2s 10ms/step - loss: 448.9828 - mean_absolute_error: 448.9828 - val_loss: 528.3383 - val_mean_absolute_error: 528.3383\n",
      "Epoch 205/1000\n",
      "200/200 [==============================] - 2s 10ms/step - loss: 452.0540 - mean_absolute_error: 452.0540 - val_loss: 528.3383 - val_mean_absolute_error: 528.3383\n",
      "Epoch 206/1000\n",
      "200/200 [==============================] - 2s 10ms/step - loss: 450.6540 - mean_absolute_error: 450.6540 - val_loss: 528.3383 - val_mean_absolute_error: 528.3383\n",
      "Epoch 207/1000\n",
      "200/200 [==============================] - 2s 10ms/step - loss: 454.3715 - mean_absolute_error: 454.3715 - val_loss: 528.3383 - val_mean_absolute_error: 528.3383\n",
      "Epoch 208/1000\n",
      "200/200 [==============================] - 2s 10ms/step - loss: 450.7858 - mean_absolute_error: 450.7858 - val_loss: 528.3383 - val_mean_absolute_error: 528.3383\n",
      "Epoch 209/1000\n",
      "200/200 [==============================] - 2s 10ms/step - loss: 448.0744 - mean_absolute_error: 448.0744 - val_loss: 528.3383 - val_mean_absolute_error: 528.3383\n",
      "Epoch 210/1000\n",
      "200/200 [==============================] - 2s 10ms/step - loss: 448.8378 - mean_absolute_error: 448.8378 - val_loss: 528.3383 - val_mean_absolute_error: 528.3383\n",
      "Epoch 211/1000\n",
      "200/200 [==============================] - 2s 10ms/step - loss: 449.8011 - mean_absolute_error: 449.8011 - val_loss: 528.3383 - val_mean_absolute_error: 528.3383\n",
      "\n",
      "Epoch 00211: ReduceLROnPlateau reducing learning rate to 1.0460353083393582e-14.\n",
      "Epoch 212/1000\n",
      "200/200 [==============================] - 2s 10ms/step - loss: 449.8578 - mean_absolute_error: 449.8578 - val_loss: 528.3383 - val_mean_absolute_error: 528.3383\n",
      "Epoch 213/1000\n",
      "200/200 [==============================] - 2s 10ms/step - loss: 452.7973 - mean_absolute_error: 452.7973 - val_loss: 528.3383 - val_mean_absolute_error: 528.3383\n",
      "Epoch 214/1000\n"
     ]
    },
    {
     "name": "stdout",
     "output_type": "stream",
     "text": [
      "200/200 [==============================] - 2s 10ms/step - loss: 453.2041 - mean_absolute_error: 453.2041 - val_loss: 528.3383 - val_mean_absolute_error: 528.3383\n",
      "Epoch 215/1000\n",
      "200/200 [==============================] - 2s 10ms/step - loss: 450.8517 - mean_absolute_error: 450.8517 - val_loss: 528.3383 - val_mean_absolute_error: 528.3383\n",
      "Epoch 216/1000\n",
      "200/200 [==============================] - 2s 11ms/step - loss: 451.7496 - mean_absolute_error: 451.7496 - val_loss: 528.3383 - val_mean_absolute_error: 528.3383\n",
      "Epoch 217/1000\n",
      "200/200 [==============================] - 2s 11ms/step - loss: 451.2755 - mean_absolute_error: 451.2755 - val_loss: 528.3383 - val_mean_absolute_error: 528.3383\n",
      "Epoch 218/1000\n",
      "200/200 [==============================] - 2s 10ms/step - loss: 450.3414 - mean_absolute_error: 450.3414 - val_loss: 528.3383 - val_mean_absolute_error: 528.3383\n",
      "Epoch 219/1000\n",
      "200/200 [==============================] - 2s 10ms/step - loss: 451.9362 - mean_absolute_error: 451.9362 - val_loss: 528.3383 - val_mean_absolute_error: 528.3383\n",
      "Epoch 220/1000\n",
      "200/200 [==============================] - 2s 10ms/step - loss: 450.9106 - mean_absolute_error: 450.9106 - val_loss: 528.3383 - val_mean_absolute_error: 528.3383\n",
      "Epoch 221/1000\n",
      "200/200 [==============================] - 2s 10ms/step - loss: 449.9544 - mean_absolute_error: 449.9544 - val_loss: 528.3383 - val_mean_absolute_error: 528.3383\n",
      "\n",
      "Epoch 00221: ReduceLROnPlateau reducing learning rate to 3.138105874196098e-15.\n",
      "Epoch 222/1000\n",
      "200/200 [==============================] - 2s 10ms/step - loss: 452.2899 - mean_absolute_error: 452.2899 - val_loss: 528.3383 - val_mean_absolute_error: 528.3383\n",
      "Epoch 223/1000\n",
      "200/200 [==============================] - 2s 10ms/step - loss: 455.7511 - mean_absolute_error: 455.7511 - val_loss: 528.3383 - val_mean_absolute_error: 528.3383\n",
      "Epoch 224/1000\n",
      "200/200 [==============================] - 2s 10ms/step - loss: 449.7190 - mean_absolute_error: 449.7190 - val_loss: 528.3383 - val_mean_absolute_error: 528.3383\n",
      "Epoch 225/1000\n",
      "200/200 [==============================] - 2s 10ms/step - loss: 448.8024 - mean_absolute_error: 448.8024 - val_loss: 528.3383 - val_mean_absolute_error: 528.3383\n",
      "Epoch 226/1000\n",
      "200/200 [==============================] - 2s 10ms/step - loss: 452.6526 - mean_absolute_error: 452.6526 - val_loss: 528.3383 - val_mean_absolute_error: 528.3383\n",
      "Epoch 227/1000\n",
      "200/200 [==============================] - 2s 11ms/step - loss: 452.3383 - mean_absolute_error: 452.3383 - val_loss: 528.3383 - val_mean_absolute_error: 528.3383\n",
      "Epoch 228/1000\n",
      "200/200 [==============================] - 2s 11ms/step - loss: 449.1827 - mean_absolute_error: 449.1827 - val_loss: 528.3383 - val_mean_absolute_error: 528.3383\n",
      "Epoch 229/1000\n",
      "200/200 [==============================] - 2s 11ms/step - loss: 450.3514 - mean_absolute_error: 450.3514 - val_loss: 528.3383 - val_mean_absolute_error: 528.3383\n",
      "Epoch 230/1000\n",
      "200/200 [==============================] - 2s 10ms/step - loss: 450.5511 - mean_absolute_error: 450.5511 - val_loss: 528.3383 - val_mean_absolute_error: 528.3383\n",
      "Epoch 231/1000\n",
      "200/200 [==============================] - 2s 10ms/step - loss: 452.8009 - mean_absolute_error: 452.8009 - val_loss: 528.3383 - val_mean_absolute_error: 528.3383\n",
      "\n",
      "Epoch 00231: ReduceLROnPlateau reducing learning rate to 9.414317622588293e-16.\n",
      "Epoch 232/1000\n",
      "200/200 [==============================] - 2s 10ms/step - loss: 451.2056 - mean_absolute_error: 451.2056 - val_loss: 528.3383 - val_mean_absolute_error: 528.3383\n",
      "Epoch 233/1000\n",
      "200/200 [==============================] - 2s 10ms/step - loss: 447.6451 - mean_absolute_error: 447.6451 - val_loss: 528.3383 - val_mean_absolute_error: 528.3383\n",
      "Epoch 234/1000\n",
      "200/200 [==============================] - 2s 10ms/step - loss: 449.7018 - mean_absolute_error: 449.7018 - val_loss: 528.3383 - val_mean_absolute_error: 528.3383\n",
      "Epoch 235/1000\n",
      "200/200 [==============================] - 2s 10ms/step - loss: 451.1662 - mean_absolute_error: 451.1662 - val_loss: 528.3383 - val_mean_absolute_error: 528.3383\n",
      "Epoch 236/1000\n",
      "200/200 [==============================] - 2s 10ms/step - loss: 453.3754 - mean_absolute_error: 453.3754 - val_loss: 528.3383 - val_mean_absolute_error: 528.3383\n",
      "Epoch 237/1000\n",
      "200/200 [==============================] - 2s 10ms/step - loss: 453.6365 - mean_absolute_error: 453.6365 - val_loss: 528.3383 - val_mean_absolute_error: 528.3383\n",
      "Epoch 238/1000\n",
      "200/200 [==============================] - 2s 10ms/step - loss: 451.8872 - mean_absolute_error: 451.8872 - val_loss: 528.3383 - val_mean_absolute_error: 528.3383\n",
      "Epoch 239/1000\n",
      "200/200 [==============================] - 2s 10ms/step - loss: 452.0771 - mean_absolute_error: 452.0771 - val_loss: 528.3383 - val_mean_absolute_error: 528.3383\n",
      "Epoch 240/1000\n",
      "200/200 [==============================] - 2s 10ms/step - loss: 447.7827 - mean_absolute_error: 447.7827 - val_loss: 528.3383 - val_mean_absolute_error: 528.3383\n",
      "Epoch 241/1000\n",
      "200/200 [==============================] - 2s 10ms/step - loss: 449.4331 - mean_absolute_error: 449.4331 - val_loss: 528.3383 - val_mean_absolute_error: 528.3383\n",
      "\n",
      "Epoch 00241: ReduceLROnPlateau reducing learning rate to 2.8242954138314303e-16.\n",
      "Epoch 242/1000\n",
      "200/200 [==============================] - 2s 10ms/step - loss: 451.3450 - mean_absolute_error: 451.3450 - val_loss: 528.3383 - val_mean_absolute_error: 528.3383\n",
      "Epoch 243/1000\n",
      "200/200 [==============================] - 2s 10ms/step - loss: 450.4258 - mean_absolute_error: 450.4258 - val_loss: 528.3383 - val_mean_absolute_error: 528.3383\n",
      "Epoch 244/1000\n",
      "200/200 [==============================] - 2s 10ms/step - loss: 450.3691 - mean_absolute_error: 450.3691 - val_loss: 528.3383 - val_mean_absolute_error: 528.3383\n",
      "Epoch 245/1000\n",
      "200/200 [==============================] - 2s 10ms/step - loss: 449.6075 - mean_absolute_error: 449.6075 - val_loss: 528.3383 - val_mean_absolute_error: 528.3383\n",
      "Epoch 246/1000\n",
      "200/200 [==============================] - 2s 10ms/step - loss: 451.2754 - mean_absolute_error: 451.2754 - val_loss: 528.3383 - val_mean_absolute_error: 528.3383\n",
      "Epoch 247/1000\n",
      "200/200 [==============================] - 2s 10ms/step - loss: 449.7858 - mean_absolute_error: 449.7858 - val_loss: 528.3383 - val_mean_absolute_error: 528.3383\n",
      "Epoch 248/1000\n",
      "200/200 [==============================] - 2s 10ms/step - loss: 450.5229 - mean_absolute_error: 450.5229 - val_loss: 528.3383 - val_mean_absolute_error: 528.3383\n",
      "Epoch 249/1000\n",
      "200/200 [==============================] - 2s 10ms/step - loss: 446.9315 - mean_absolute_error: 446.9315 - val_loss: 528.3383 - val_mean_absolute_error: 528.3383\n",
      "Epoch 250/1000\n",
      "200/200 [==============================] - 2s 10ms/step - loss: 450.8560 - mean_absolute_error: 450.8560 - val_loss: 528.3383 - val_mean_absolute_error: 528.3383\n",
      "Epoch 251/1000\n",
      "200/200 [==============================] - 2s 10ms/step - loss: 446.5446 - mean_absolute_error: 446.5446 - val_loss: 528.3383 - val_mean_absolute_error: 528.3383\n",
      "\n",
      "Epoch 00251: ReduceLROnPlateau reducing learning rate to 8.472885923856935e-17.\n",
      "Epoch 252/1000\n",
      "200/200 [==============================] - 2s 10ms/step - loss: 450.5704 - mean_absolute_error: 450.5704 - val_loss: 528.3383 - val_mean_absolute_error: 528.3383\n",
      "Epoch 253/1000\n",
      "200/200 [==============================] - 2s 10ms/step - loss: 448.0470 - mean_absolute_error: 448.0470 - val_loss: 528.3383 - val_mean_absolute_error: 528.3383\n",
      "Epoch 254/1000\n",
      "200/200 [==============================] - 2s 10ms/step - loss: 451.9351 - mean_absolute_error: 451.9351 - val_loss: 528.3383 - val_mean_absolute_error: 528.3383\n",
      "Epoch 255/1000\n",
      "200/200 [==============================] - 2s 10ms/step - loss: 451.5242 - mean_absolute_error: 451.5242 - val_loss: 528.3383 - val_mean_absolute_error: 528.3383\n",
      "Epoch 256/1000\n",
      "200/200 [==============================] - 2s 10ms/step - loss: 451.2804 - mean_absolute_error: 451.2804 - val_loss: 528.3383 - val_mean_absolute_error: 528.3383\n",
      "Epoch 257/1000\n",
      "200/200 [==============================] - 2s 10ms/step - loss: 450.4039 - mean_absolute_error: 450.4039 - val_loss: 528.3383 - val_mean_absolute_error: 528.3383\n",
      "Epoch 258/1000\n",
      "200/200 [==============================] - 2s 10ms/step - loss: 450.7724 - mean_absolute_error: 450.7724 - val_loss: 528.3383 - val_mean_absolute_error: 528.3383\n",
      "Epoch 259/1000\n",
      "200/200 [==============================] - 2s 11ms/step - loss: 449.1019 - mean_absolute_error: 449.1019 - val_loss: 528.3383 - val_mean_absolute_error: 528.3383\n",
      "Epoch 260/1000\n",
      "200/200 [==============================] - 2s 10ms/step - loss: 448.8373 - mean_absolute_error: 448.8373 - val_loss: 528.3383 - val_mean_absolute_error: 528.3383\n",
      "Epoch 261/1000\n",
      "200/200 [==============================] - 2s 10ms/step - loss: 451.3333 - mean_absolute_error: 451.3333 - val_loss: 528.3383 - val_mean_absolute_error: 528.3383\n",
      "\n",
      "Epoch 00261: ReduceLROnPlateau reducing learning rate to 2.541865737452411e-17.\n",
      "Epoch 262/1000\n",
      "200/200 [==============================] - 2s 10ms/step - loss: 452.5002 - mean_absolute_error: 452.5002 - val_loss: 528.3383 - val_mean_absolute_error: 528.3383\n",
      "Epoch 263/1000\n",
      "200/200 [==============================] - 2s 10ms/step - loss: 449.2404 - mean_absolute_error: 449.2404 - val_loss: 528.3383 - val_mean_absolute_error: 528.3383\n",
      "Epoch 264/1000\n",
      "200/200 [==============================] - 2s 10ms/step - loss: 447.2453 - mean_absolute_error: 447.2453 - val_loss: 528.3383 - val_mean_absolute_error: 528.3383\n",
      "Epoch 265/1000\n",
      "200/200 [==============================] - 2s 10ms/step - loss: 450.4526 - mean_absolute_error: 450.4526 - val_loss: 528.3383 - val_mean_absolute_error: 528.3383\n",
      "Epoch 266/1000\n",
      "200/200 [==============================] - 2s 10ms/step - loss: 449.9129 - mean_absolute_error: 449.9129 - val_loss: 528.3383 - val_mean_absolute_error: 528.3383\n",
      "Epoch 267/1000\n",
      "200/200 [==============================] - 2s 10ms/step - loss: 453.2695 - mean_absolute_error: 453.2695 - val_loss: 528.3383 - val_mean_absolute_error: 528.3383\n",
      "Epoch 268/1000\n",
      "200/200 [==============================] - 2s 10ms/step - loss: 450.8803 - mean_absolute_error: 450.8803 - val_loss: 528.3383 - val_mean_absolute_error: 528.3383\n",
      "Epoch 269/1000\n",
      "200/200 [==============================] - 2s 10ms/step - loss: 452.2474 - mean_absolute_error: 452.2474 - val_loss: 528.3383 - val_mean_absolute_error: 528.3383\n",
      "Epoch 270/1000\n",
      "200/200 [==============================] - 2s 10ms/step - loss: 454.0435 - mean_absolute_error: 454.0435 - val_loss: 528.3383 - val_mean_absolute_error: 528.3383\n",
      "Epoch 271/1000\n",
      "200/200 [==============================] - 2s 10ms/step - loss: 450.1259 - mean_absolute_error: 450.1259 - val_loss: 528.3383 - val_mean_absolute_error: 528.3383\n",
      "\n",
      "Epoch 00271: ReduceLROnPlateau reducing learning rate to 7.62559741088058e-18.\n",
      "Epoch 272/1000\n",
      "200/200 [==============================] - 2s 10ms/step - loss: 450.8735 - mean_absolute_error: 450.8735 - val_loss: 528.3383 - val_mean_absolute_error: 528.3383\n",
      "Epoch 273/1000\n",
      "200/200 [==============================] - 2s 10ms/step - loss: 451.0072 - mean_absolute_error: 451.0072 - val_loss: 528.3383 - val_mean_absolute_error: 528.3383\n",
      "Epoch 274/1000\n",
      "200/200 [==============================] - 2s 10ms/step - loss: 450.2003 - mean_absolute_error: 450.2003 - val_loss: 528.3383 - val_mean_absolute_error: 528.3383\n",
      "Epoch 275/1000\n",
      "200/200 [==============================] - 2s 10ms/step - loss: 450.7030 - mean_absolute_error: 450.7030 - val_loss: 528.3383 - val_mean_absolute_error: 528.3383\n",
      "Epoch 276/1000\n",
      "200/200 [==============================] - 2s 10ms/step - loss: 450.5304 - mean_absolute_error: 450.5304 - val_loss: 528.3383 - val_mean_absolute_error: 528.3383\n",
      "Epoch 277/1000\n",
      "200/200 [==============================] - 2s 10ms/step - loss: 453.7051 - mean_absolute_error: 453.7051 - val_loss: 528.3383 - val_mean_absolute_error: 528.3383\n",
      "Epoch 278/1000\n",
      "200/200 [==============================] - 2s 10ms/step - loss: 448.7312 - mean_absolute_error: 448.7312 - val_loss: 528.3383 - val_mean_absolute_error: 528.3383\n",
      "Epoch 279/1000\n",
      "200/200 [==============================] - 2s 10ms/step - loss: 445.5981 - mean_absolute_error: 445.5981 - val_loss: 528.3383 - val_mean_absolute_error: 528.3383\n",
      "Epoch 280/1000\n",
      "200/200 [==============================] - 2s 10ms/step - loss: 445.8739 - mean_absolute_error: 445.8739 - val_loss: 528.3383 - val_mean_absolute_error: 528.3383\n",
      "Epoch 281/1000\n",
      "200/200 [==============================] - 2s 10ms/step - loss: 449.5635 - mean_absolute_error: 449.5635 - val_loss: 528.3383 - val_mean_absolute_error: 528.3383\n",
      "\n",
      "Epoch 00281: ReduceLROnPlateau reducing learning rate to 2.2876793225258477e-18.\n",
      "Epoch 282/1000\n",
      "200/200 [==============================] - 2s 10ms/step - loss: 449.9251 - mean_absolute_error: 449.9251 - val_loss: 528.3383 - val_mean_absolute_error: 528.3383\n",
      "Epoch 283/1000\n",
      "200/200 [==============================] - 2s 10ms/step - loss: 452.0759 - mean_absolute_error: 452.0759 - val_loss: 528.3383 - val_mean_absolute_error: 528.3383\n",
      "Epoch 284/1000\n",
      "200/200 [==============================] - 2s 10ms/step - loss: 448.6600 - mean_absolute_error: 448.6600 - val_loss: 528.3383 - val_mean_absolute_error: 528.3383\n",
      "Epoch 285/1000\n",
      "200/200 [==============================] - 2s 11ms/step - loss: 451.7950 - mean_absolute_error: 451.7950 - val_loss: 528.3383 - val_mean_absolute_error: 528.3383\n",
      "Epoch 286/1000\n",
      "200/200 [==============================] - 2s 10ms/step - loss: 455.1624 - mean_absolute_error: 455.1624 - val_loss: 528.3383 - val_mean_absolute_error: 528.3383\n",
      "Epoch 287/1000\n",
      "200/200 [==============================] - 2s 10ms/step - loss: 449.5633 - mean_absolute_error: 449.5633 - val_loss: 528.3383 - val_mean_absolute_error: 528.3383\n",
      "Epoch 288/1000\n",
      "200/200 [==============================] - 2s 10ms/step - loss: 446.2154 - mean_absolute_error: 446.2154 - val_loss: 528.3383 - val_mean_absolute_error: 528.3383\n",
      "Epoch 289/1000\n",
      "200/200 [==============================] - 2s 10ms/step - loss: 453.9935 - mean_absolute_error: 453.9935 - val_loss: 528.3383 - val_mean_absolute_error: 528.3383\n",
      "Epoch 290/1000\n",
      "200/200 [==============================] - 2s 10ms/step - loss: 445.8701 - mean_absolute_error: 445.8701 - val_loss: 528.3383 - val_mean_absolute_error: 528.3383\n",
      "Epoch 291/1000\n",
      "200/200 [==============================] - 2s 10ms/step - loss: 452.3393 - mean_absolute_error: 452.3393 - val_loss: 528.3383 - val_mean_absolute_error: 528.3383\n",
      "\n",
      "Epoch 00291: ReduceLROnPlateau reducing learning rate to 6.863037719423359e-19.\n",
      "Epoch 292/1000\n",
      "200/200 [==============================] - 2s 10ms/step - loss: 450.5433 - mean_absolute_error: 450.5433 - val_loss: 528.3383 - val_mean_absolute_error: 528.3383\n",
      "Epoch 293/1000\n",
      "200/200 [==============================] - 2s 10ms/step - loss: 449.9008 - mean_absolute_error: 449.9008 - val_loss: 528.3383 - val_mean_absolute_error: 528.3383\n",
      "Epoch 294/1000\n",
      "200/200 [==============================] - 2s 10ms/step - loss: 452.8866 - mean_absolute_error: 452.8866 - val_loss: 528.3383 - val_mean_absolute_error: 528.3383\n",
      "Epoch 295/1000\n",
      "200/200 [==============================] - 2s 10ms/step - loss: 450.5705 - mean_absolute_error: 450.5705 - val_loss: 528.3383 - val_mean_absolute_error: 528.3383\n",
      "Epoch 296/1000\n",
      "200/200 [==============================] - 2s 10ms/step - loss: 454.5420 - mean_absolute_error: 454.5420 - val_loss: 528.3383 - val_mean_absolute_error: 528.3383\n",
      "Epoch 297/1000\n",
      "200/200 [==============================] - 2s 10ms/step - loss: 452.5922 - mean_absolute_error: 452.5922 - val_loss: 528.3383 - val_mean_absolute_error: 528.3383\n",
      "Epoch 298/1000\n",
      "200/200 [==============================] - 2s 10ms/step - loss: 452.1061 - mean_absolute_error: 452.1061 - val_loss: 528.3383 - val_mean_absolute_error: 528.3383\n",
      "Epoch 299/1000\n",
      "200/200 [==============================] - 2s 10ms/step - loss: 452.2392 - mean_absolute_error: 452.2392 - val_loss: 528.3383 - val_mean_absolute_error: 528.3383\n",
      "Epoch 300/1000\n",
      "200/200 [==============================] - 2s 10ms/step - loss: 450.6030 - mean_absolute_error: 450.6030 - val_loss: 528.3383 - val_mean_absolute_error: 528.3383\n",
      "Epoch 301/1000\n",
      "200/200 [==============================] - 2s 10ms/step - loss: 448.9979 - mean_absolute_error: 448.9979 - val_loss: 528.3383 - val_mean_absolute_error: 528.3383\n",
      "\n",
      "Epoch 00301: ReduceLROnPlateau reducing learning rate to 2.0589113778655536e-19.\n",
      "Epoch 302/1000\n"
     ]
    },
    {
     "name": "stdout",
     "output_type": "stream",
     "text": [
      "200/200 [==============================] - 2s 10ms/step - loss: 447.2544 - mean_absolute_error: 447.2544 - val_loss: 528.3383 - val_mean_absolute_error: 528.3383\n",
      "Epoch 303/1000\n",
      "200/200 [==============================] - 2s 10ms/step - loss: 453.1144 - mean_absolute_error: 453.1144 - val_loss: 528.3383 - val_mean_absolute_error: 528.3383\n",
      "Epoch 304/1000\n",
      "200/200 [==============================] - 2s 10ms/step - loss: 451.2993 - mean_absolute_error: 451.2993 - val_loss: 528.3383 - val_mean_absolute_error: 528.3383\n",
      "Epoch 305/1000\n",
      "200/200 [==============================] - 2s 10ms/step - loss: 450.8863 - mean_absolute_error: 450.8863 - val_loss: 528.3383 - val_mean_absolute_error: 528.3383\n",
      "Epoch 306/1000\n",
      "200/200 [==============================] - 2s 10ms/step - loss: 448.1505 - mean_absolute_error: 448.1505 - val_loss: 528.3383 - val_mean_absolute_error: 528.3383\n",
      "Epoch 307/1000\n",
      "200/200 [==============================] - 2s 11ms/step - loss: 447.4501 - mean_absolute_error: 447.4501 - val_loss: 528.3383 - val_mean_absolute_error: 528.3383\n",
      "Epoch 308/1000\n",
      "200/200 [==============================] - 2s 10ms/step - loss: 454.3035 - mean_absolute_error: 454.3035 - val_loss: 528.3383 - val_mean_absolute_error: 528.3383\n",
      "Epoch 309/1000\n",
      "200/200 [==============================] - 2s 10ms/step - loss: 448.5246 - mean_absolute_error: 448.5246 - val_loss: 528.3383 - val_mean_absolute_error: 528.3383\n",
      "Epoch 310/1000\n",
      "200/200 [==============================] - 2s 10ms/step - loss: 450.4131 - mean_absolute_error: 450.4131 - val_loss: 528.3383 - val_mean_absolute_error: 528.3383\n",
      "Epoch 311/1000\n",
      "200/200 [==============================] - 2s 10ms/step - loss: 454.4767 - mean_absolute_error: 454.4767 - val_loss: 528.3383 - val_mean_absolute_error: 528.3383\n",
      "\n",
      "Epoch 00311: ReduceLROnPlateau reducing learning rate to 6.176734056048479e-20.\n",
      "Epoch 312/1000\n",
      "200/200 [==============================] - 2s 10ms/step - loss: 453.7478 - mean_absolute_error: 453.7478 - val_loss: 528.3383 - val_mean_absolute_error: 528.3383\n",
      "Epoch 313/1000\n",
      "200/200 [==============================] - 2s 10ms/step - loss: 445.9062 - mean_absolute_error: 445.9062 - val_loss: 528.3383 - val_mean_absolute_error: 528.3383\n",
      "Epoch 314/1000\n",
      "200/200 [==============================] - 2s 10ms/step - loss: 447.6420 - mean_absolute_error: 447.6420 - val_loss: 528.3383 - val_mean_absolute_error: 528.3383\n",
      "Epoch 315/1000\n",
      "200/200 [==============================] - 2s 9ms/step - loss: 451.9135 - mean_absolute_error: 451.9135 - val_loss: 528.3383 - val_mean_absolute_error: 528.3383\n",
      "Epoch 316/1000\n",
      "200/200 [==============================] - 2s 10ms/step - loss: 452.1481 - mean_absolute_error: 452.1481 - val_loss: 528.3383 - val_mean_absolute_error: 528.3383\n",
      "Epoch 317/1000\n",
      "200/200 [==============================] - 2s 10ms/step - loss: 448.8521 - mean_absolute_error: 448.8521 - val_loss: 528.3383 - val_mean_absolute_error: 528.3383\n",
      "Epoch 318/1000\n",
      "200/200 [==============================] - 2s 9ms/step - loss: 448.9270 - mean_absolute_error: 448.9270 - val_loss: 528.3383 - val_mean_absolute_error: 528.3383\n",
      "Epoch 319/1000\n",
      "200/200 [==============================] - 2s 10ms/step - loss: 451.0560 - mean_absolute_error: 451.0560 - val_loss: 528.3383 - val_mean_absolute_error: 528.3383\n",
      "Epoch 320/1000\n",
      "200/200 [==============================] - 2s 10ms/step - loss: 451.8799 - mean_absolute_error: 451.8799 - val_loss: 528.3383 - val_mean_absolute_error: 528.3383\n",
      "Epoch 321/1000\n",
      "200/200 [==============================] - 2s 10ms/step - loss: 451.6404 - mean_absolute_error: 451.6404 - val_loss: 528.3383 - val_mean_absolute_error: 528.3383\n",
      "\n",
      "Epoch 00321: ReduceLROnPlateau reducing learning rate to 1.8530202168145436e-20.\n",
      "Epoch 322/1000\n",
      "200/200 [==============================] - 2s 10ms/step - loss: 449.2188 - mean_absolute_error: 449.2188 - val_loss: 528.3383 - val_mean_absolute_error: 528.3383\n",
      "Epoch 323/1000\n",
      "200/200 [==============================] - 2s 10ms/step - loss: 453.5948 - mean_absolute_error: 453.5948 - val_loss: 528.3383 - val_mean_absolute_error: 528.3383\n",
      "Epoch 324/1000\n",
      "200/200 [==============================] - 2s 10ms/step - loss: 454.6890 - mean_absolute_error: 454.6890 - val_loss: 528.3383 - val_mean_absolute_error: 528.3383\n",
      "Epoch 325/1000\n",
      "200/200 [==============================] - 2s 10ms/step - loss: 452.8362 - mean_absolute_error: 452.8362 - val_loss: 528.3383 - val_mean_absolute_error: 528.3383\n",
      "Epoch 326/1000\n",
      "200/200 [==============================] - 2s 10ms/step - loss: 450.7985 - mean_absolute_error: 450.7985 - val_loss: 528.3383 - val_mean_absolute_error: 528.3383\n",
      "Epoch 327/1000\n",
      "200/200 [==============================] - 2s 10ms/step - loss: 449.4189 - mean_absolute_error: 449.4189 - val_loss: 528.3383 - val_mean_absolute_error: 528.3383\n",
      "Epoch 328/1000\n",
      "200/200 [==============================] - 2s 10ms/step - loss: 453.8918 - mean_absolute_error: 453.8918 - val_loss: 528.3383 - val_mean_absolute_error: 528.3383\n",
      "Epoch 329/1000\n",
      "200/200 [==============================] - 2s 10ms/step - loss: 448.9897 - mean_absolute_error: 448.9897 - val_loss: 528.3383 - val_mean_absolute_error: 528.3383\n",
      "Epoch 330/1000\n",
      "200/200 [==============================] - 2s 10ms/step - loss: 447.6733 - mean_absolute_error: 447.6733 - val_loss: 528.3383 - val_mean_absolute_error: 528.3383\n",
      "Epoch 331/1000\n",
      "200/200 [==============================] - 2s 10ms/step - loss: 452.0112 - mean_absolute_error: 452.0112 - val_loss: 528.3383 - val_mean_absolute_error: 528.3383\n",
      "\n",
      "Epoch 00331: ReduceLROnPlateau reducing learning rate to 5.559060844314087e-21.\n",
      "Epoch 332/1000\n",
      "200/200 [==============================] - 2s 10ms/step - loss: 445.6013 - mean_absolute_error: 445.6013 - val_loss: 528.3383 - val_mean_absolute_error: 528.3383\n",
      "Epoch 333/1000\n",
      "200/200 [==============================] - 2s 10ms/step - loss: 454.5966 - mean_absolute_error: 454.5966 - val_loss: 528.3383 - val_mean_absolute_error: 528.3383\n",
      "Epoch 334/1000\n",
      "200/200 [==============================] - 2s 10ms/step - loss: 449.7064 - mean_absolute_error: 449.7064 - val_loss: 528.3383 - val_mean_absolute_error: 528.3383\n",
      "Epoch 335/1000\n",
      "200/200 [==============================] - 2s 10ms/step - loss: 451.7450 - mean_absolute_error: 451.7450 - val_loss: 528.3383 - val_mean_absolute_error: 528.3383\n",
      "Epoch 336/1000\n",
      "200/200 [==============================] - 2s 10ms/step - loss: 448.8047 - mean_absolute_error: 448.8047 - val_loss: 528.3383 - val_mean_absolute_error: 528.3383\n",
      "Epoch 337/1000\n",
      "200/200 [==============================] - 2s 10ms/step - loss: 452.8286 - mean_absolute_error: 452.8286 - val_loss: 528.3383 - val_mean_absolute_error: 528.3383\n",
      "Epoch 338/1000\n",
      "200/200 [==============================] - 2s 10ms/step - loss: 447.9786 - mean_absolute_error: 447.9786 - val_loss: 528.3383 - val_mean_absolute_error: 528.3383\n",
      "Epoch 339/1000\n",
      "200/200 [==============================] - 2s 10ms/step - loss: 449.7254 - mean_absolute_error: 449.7254 - val_loss: 528.3383 - val_mean_absolute_error: 528.3383\n",
      "Epoch 340/1000\n",
      "200/200 [==============================] - 2s 10ms/step - loss: 452.2807 - mean_absolute_error: 452.2807 - val_loss: 528.3383 - val_mean_absolute_error: 528.3383\n",
      "Epoch 341/1000\n",
      "200/200 [==============================] - 2s 9ms/step - loss: 450.4814 - mean_absolute_error: 450.4814 - val_loss: 528.3383 - val_mean_absolute_error: 528.3383\n",
      "\n",
      "Epoch 00341: ReduceLROnPlateau reducing learning rate to 1.667718253294226e-21.\n",
      "Epoch 342/1000\n",
      "200/200 [==============================] - 2s 10ms/step - loss: 452.2321 - mean_absolute_error: 452.2321 - val_loss: 528.3383 - val_mean_absolute_error: 528.3383\n",
      "Epoch 343/1000\n",
      "200/200 [==============================] - 2s 10ms/step - loss: 448.4457 - mean_absolute_error: 448.4457 - val_loss: 528.3383 - val_mean_absolute_error: 528.3383\n",
      "Epoch 344/1000\n",
      "200/200 [==============================] - 2s 10ms/step - loss: 453.4949 - mean_absolute_error: 453.4949 - val_loss: 528.3383 - val_mean_absolute_error: 528.3383\n",
      "Epoch 345/1000\n",
      "200/200 [==============================] - 2s 10ms/step - loss: 447.9670 - mean_absolute_error: 447.9670 - val_loss: 528.3383 - val_mean_absolute_error: 528.3383\n",
      "Epoch 346/1000\n",
      "200/200 [==============================] - 2s 10ms/step - loss: 452.1716 - mean_absolute_error: 452.1716 - val_loss: 528.3383 - val_mean_absolute_error: 528.3383\n",
      "Epoch 347/1000\n",
      "200/200 [==============================] - 2s 9ms/step - loss: 453.7007 - mean_absolute_error: 453.7007 - val_loss: 528.3383 - val_mean_absolute_error: 528.3383\n",
      "Epoch 348/1000\n",
      "200/200 [==============================] - 2s 9ms/step - loss: 452.3807 - mean_absolute_error: 452.3807 - val_loss: 528.3383 - val_mean_absolute_error: 528.3383\n",
      "Epoch 349/1000\n",
      "200/200 [==============================] - 2s 10ms/step - loss: 450.1363 - mean_absolute_error: 450.1363 - val_loss: 528.3383 - val_mean_absolute_error: 528.3383\n",
      "Epoch 350/1000\n",
      "200/200 [==============================] - 2s 10ms/step - loss: 454.9854 - mean_absolute_error: 454.9854 - val_loss: 528.3383 - val_mean_absolute_error: 528.3383\n",
      "Epoch 351/1000\n",
      "200/200 [==============================] - 2s 10ms/step - loss: 452.1349 - mean_absolute_error: 452.1349 - val_loss: 528.3383 - val_mean_absolute_error: 528.3383\n",
      "\n",
      "Epoch 00351: ReduceLROnPlateau reducing learning rate to 5.003154881051713e-22.\n",
      "Epoch 352/1000\n",
      "200/200 [==============================] - 2s 10ms/step - loss: 450.5301 - mean_absolute_error: 450.5301 - val_loss: 528.3383 - val_mean_absolute_error: 528.3383\n",
      "Epoch 353/1000\n",
      "200/200 [==============================] - 2s 9ms/step - loss: 452.8222 - mean_absolute_error: 452.8222 - val_loss: 528.3383 - val_mean_absolute_error: 528.3383\n",
      "Epoch 354/1000\n",
      "200/200 [==============================] - 2s 10ms/step - loss: 454.4221 - mean_absolute_error: 454.4221 - val_loss: 528.3383 - val_mean_absolute_error: 528.3383\n",
      "Epoch 355/1000\n",
      "200/200 [==============================] - 2s 10ms/step - loss: 451.0109 - mean_absolute_error: 451.0109 - val_loss: 528.3383 - val_mean_absolute_error: 528.3383\n",
      "Epoch 356/1000\n",
      "200/200 [==============================] - 2s 10ms/step - loss: 450.3039 - mean_absolute_error: 450.3039 - val_loss: 528.3383 - val_mean_absolute_error: 528.3383\n",
      "Epoch 357/1000\n",
      "200/200 [==============================] - 2s 10ms/step - loss: 455.4751 - mean_absolute_error: 455.4751 - val_loss: 528.3383 - val_mean_absolute_error: 528.3383\n",
      "Epoch 358/1000\n",
      "200/200 [==============================] - 2s 9ms/step - loss: 452.0235 - mean_absolute_error: 452.0235 - val_loss: 528.3383 - val_mean_absolute_error: 528.3383\n",
      "Epoch 359/1000\n",
      "200/200 [==============================] - 2s 10ms/step - loss: 448.8071 - mean_absolute_error: 448.8071 - val_loss: 528.3383 - val_mean_absolute_error: 528.3383\n",
      "Epoch 360/1000\n",
      "200/200 [==============================] - 2s 9ms/step - loss: 449.9273 - mean_absolute_error: 449.9273 - val_loss: 528.3383 - val_mean_absolute_error: 528.3383\n",
      "Epoch 361/1000\n",
      "200/200 [==============================] - 2s 9ms/step - loss: 458.5684 - mean_absolute_error: 458.5684 - val_loss: 528.3383 - val_mean_absolute_error: 528.3383\n",
      "\n",
      "Epoch 00361: ReduceLROnPlateau reducing learning rate to 1.500946434023255e-22.\n",
      "Epoch 362/1000\n",
      "200/200 [==============================] - 2s 10ms/step - loss: 451.2696 - mean_absolute_error: 451.2696 - val_loss: 528.3383 - val_mean_absolute_error: 528.3383\n",
      "Epoch 363/1000\n",
      "200/200 [==============================] - 2s 10ms/step - loss: 451.0543 - mean_absolute_error: 451.0543 - val_loss: 528.3383 - val_mean_absolute_error: 528.3383\n",
      "Epoch 364/1000\n",
      "200/200 [==============================] - 2s 10ms/step - loss: 450.0351 - mean_absolute_error: 450.0351 - val_loss: 528.3383 - val_mean_absolute_error: 528.3383\n",
      "Epoch 365/1000\n",
      "200/200 [==============================] - 2s 10ms/step - loss: 449.5684 - mean_absolute_error: 449.5684 - val_loss: 528.3383 - val_mean_absolute_error: 528.3383\n",
      "Epoch 366/1000\n",
      "200/200 [==============================] - 2s 10ms/step - loss: 450.6573 - mean_absolute_error: 450.6573 - val_loss: 528.3383 - val_mean_absolute_error: 528.3383\n",
      "Epoch 367/1000\n",
      "200/200 [==============================] - 2s 10ms/step - loss: 452.1568 - mean_absolute_error: 452.1568 - val_loss: 528.3383 - val_mean_absolute_error: 528.3383\n",
      "Epoch 368/1000\n",
      "200/200 [==============================] - 2s 10ms/step - loss: 447.1878 - mean_absolute_error: 447.1878 - val_loss: 528.3383 - val_mean_absolute_error: 528.3383\n",
      "Epoch 369/1000\n",
      "200/200 [==============================] - 2s 10ms/step - loss: 449.6672 - mean_absolute_error: 449.6672 - val_loss: 528.3383 - val_mean_absolute_error: 528.3383\n",
      "Epoch 370/1000\n",
      "200/200 [==============================] - 2s 10ms/step - loss: 451.0326 - mean_absolute_error: 451.0326 - val_loss: 528.3383 - val_mean_absolute_error: 528.3383\n",
      "Epoch 371/1000\n",
      "200/200 [==============================] - 2s 10ms/step - loss: 449.1920 - mean_absolute_error: 449.1920 - val_loss: 528.3383 - val_mean_absolute_error: 528.3383\n",
      "\n",
      "Epoch 00371: ReduceLROnPlateau reducing learning rate to 4.5028393778004124e-23.\n",
      "Epoch 372/1000\n",
      "200/200 [==============================] - 2s 10ms/step - loss: 449.5182 - mean_absolute_error: 449.5182 - val_loss: 528.3383 - val_mean_absolute_error: 528.3383\n",
      "Epoch 373/1000\n",
      "200/200 [==============================] - 2s 10ms/step - loss: 449.6333 - mean_absolute_error: 449.6333 - val_loss: 528.3383 - val_mean_absolute_error: 528.3383\n",
      "Epoch 374/1000\n",
      "200/200 [==============================] - 2s 10ms/step - loss: 454.1730 - mean_absolute_error: 454.1730 - val_loss: 528.3383 - val_mean_absolute_error: 528.3383\n",
      "Epoch 375/1000\n",
      "200/200 [==============================] - 2s 10ms/step - loss: 449.7096 - mean_absolute_error: 449.7096 - val_loss: 528.3383 - val_mean_absolute_error: 528.3383\n",
      "Epoch 376/1000\n",
      "200/200 [==============================] - 2s 9ms/step - loss: 446.9827 - mean_absolute_error: 446.9827 - val_loss: 528.3383 - val_mean_absolute_error: 528.3383\n",
      "Epoch 377/1000\n",
      "200/200 [==============================] - 2s 10ms/step - loss: 451.1802 - mean_absolute_error: 451.1802 - val_loss: 528.3383 - val_mean_absolute_error: 528.3383\n",
      "Epoch 378/1000\n",
      "200/200 [==============================] - 2s 10ms/step - loss: 448.2965 - mean_absolute_error: 448.2965 - val_loss: 528.3383 - val_mean_absolute_error: 528.3383\n",
      "Epoch 379/1000\n",
      "200/200 [==============================] - 2s 10ms/step - loss: 452.3649 - mean_absolute_error: 452.3649 - val_loss: 528.3383 - val_mean_absolute_error: 528.3383\n",
      "Epoch 380/1000\n",
      "200/200 [==============================] - 2s 10ms/step - loss: 446.3335 - mean_absolute_error: 446.3335 - val_loss: 528.3383 - val_mean_absolute_error: 528.3383\n",
      "Epoch 381/1000\n",
      "200/200 [==============================] - 2s 10ms/step - loss: 450.6537 - mean_absolute_error: 450.6537 - val_loss: 528.3383 - val_mean_absolute_error: 528.3383\n",
      "\n",
      "Epoch 00381: ReduceLROnPlateau reducing learning rate to 1.350851851205447e-23.\n",
      "Epoch 382/1000\n",
      "200/200 [==============================] - 2s 10ms/step - loss: 452.7461 - mean_absolute_error: 452.7461 - val_loss: 528.3383 - val_mean_absolute_error: 528.3383\n",
      "Epoch 383/1000\n",
      "200/200 [==============================] - 2s 10ms/step - loss: 452.8316 - mean_absolute_error: 452.8316 - val_loss: 528.3383 - val_mean_absolute_error: 528.3383\n",
      "Epoch 384/1000\n",
      "200/200 [==============================] - 2s 10ms/step - loss: 448.4149 - mean_absolute_error: 448.4149 - val_loss: 528.3383 - val_mean_absolute_error: 528.3383\n",
      "Epoch 385/1000\n",
      "200/200 [==============================] - 2s 10ms/step - loss: 447.0454 - mean_absolute_error: 447.0454 - val_loss: 528.3383 - val_mean_absolute_error: 528.3383\n",
      "Epoch 386/1000\n",
      "200/200 [==============================] - 2s 10ms/step - loss: 449.8181 - mean_absolute_error: 449.8181 - val_loss: 528.3383 - val_mean_absolute_error: 528.3383\n",
      "Epoch 387/1000\n",
      "200/200 [==============================] - 2s 10ms/step - loss: 447.0333 - mean_absolute_error: 447.0333 - val_loss: 528.3383 - val_mean_absolute_error: 528.3383\n",
      "Epoch 388/1000\n",
      "200/200 [==============================] - 2s 10ms/step - loss: 449.3094 - mean_absolute_error: 449.3094 - val_loss: 528.3383 - val_mean_absolute_error: 528.3383\n",
      "Epoch 389/1000\n",
      "200/200 [==============================] - 2s 10ms/step - loss: 455.1412 - mean_absolute_error: 455.1412 - val_loss: 528.3383 - val_mean_absolute_error: 528.3383\n",
      "Epoch 390/1000\n"
     ]
    },
    {
     "name": "stdout",
     "output_type": "stream",
     "text": [
      "200/200 [==============================] - 2s 10ms/step - loss: 452.1993 - mean_absolute_error: 452.1993 - val_loss: 528.3383 - val_mean_absolute_error: 528.3383\n",
      "Epoch 391/1000\n",
      "200/200 [==============================] - 2s 10ms/step - loss: 451.5325 - mean_absolute_error: 451.5325 - val_loss: 528.3383 - val_mean_absolute_error: 528.3383\n",
      "\n",
      "Epoch 00391: ReduceLROnPlateau reducing learning rate to 4.05255564827965e-24.\n",
      "Epoch 392/1000\n",
      "200/200 [==============================] - 2s 10ms/step - loss: 447.9807 - mean_absolute_error: 447.9807 - val_loss: 528.3383 - val_mean_absolute_error: 528.3383\n",
      "Epoch 393/1000\n",
      "200/200 [==============================] - 2s 10ms/step - loss: 453.1686 - mean_absolute_error: 453.1686 - val_loss: 528.3383 - val_mean_absolute_error: 528.3383\n",
      "Epoch 394/1000\n",
      "200/200 [==============================] - 2s 10ms/step - loss: 449.8078 - mean_absolute_error: 449.8078 - val_loss: 528.3383 - val_mean_absolute_error: 528.3383\n",
      "Epoch 395/1000\n",
      "200/200 [==============================] - 2s 10ms/step - loss: 451.2617 - mean_absolute_error: 451.2617 - val_loss: 528.3383 - val_mean_absolute_error: 528.3383\n",
      "Epoch 396/1000\n",
      "200/200 [==============================] - 2s 10ms/step - loss: 453.7084 - mean_absolute_error: 453.7084 - val_loss: 528.3383 - val_mean_absolute_error: 528.3383\n",
      "Epoch 397/1000\n",
      "200/200 [==============================] - 2s 10ms/step - loss: 449.3473 - mean_absolute_error: 449.3473 - val_loss: 528.3383 - val_mean_absolute_error: 528.3383\n",
      "Epoch 398/1000\n",
      "200/200 [==============================] - 2s 10ms/step - loss: 450.5093 - mean_absolute_error: 450.5093 - val_loss: 528.3383 - val_mean_absolute_error: 528.3383\n",
      "Epoch 399/1000\n",
      "200/200 [==============================] - 2s 10ms/step - loss: 450.9580 - mean_absolute_error: 450.9580 - val_loss: 528.3383 - val_mean_absolute_error: 528.3383\n",
      "Epoch 400/1000\n",
      "200/200 [==============================] - 2s 9ms/step - loss: 451.9940 - mean_absolute_error: 451.9940 - val_loss: 528.3383 - val_mean_absolute_error: 528.3383\n",
      "Epoch 401/1000\n",
      "200/200 [==============================] - 2s 9ms/step - loss: 454.5694 - mean_absolute_error: 454.5694 - val_loss: 528.3383 - val_mean_absolute_error: 528.3383\n",
      "\n",
      "Epoch 00401: ReduceLROnPlateau reducing learning rate to 1.2157666708180678e-24.\n",
      "Epoch 402/1000\n",
      "200/200 [==============================] - 2s 10ms/step - loss: 448.6175 - mean_absolute_error: 448.6175 - val_loss: 528.3383 - val_mean_absolute_error: 528.3383\n",
      "Epoch 403/1000\n",
      "200/200 [==============================] - 2s 10ms/step - loss: 449.8639 - mean_absolute_error: 449.8639 - val_loss: 528.3383 - val_mean_absolute_error: 528.3383\n",
      "Epoch 404/1000\n",
      "200/200 [==============================] - 2s 10ms/step - loss: 450.5878 - mean_absolute_error: 450.5878 - val_loss: 528.3383 - val_mean_absolute_error: 528.3383\n",
      "Epoch 405/1000\n",
      "200/200 [==============================] - 2s 10ms/step - loss: 450.1200 - mean_absolute_error: 450.1200 - val_loss: 528.3383 - val_mean_absolute_error: 528.3383\n",
      "Epoch 406/1000\n",
      "200/200 [==============================] - 2s 10ms/step - loss: 451.4650 - mean_absolute_error: 451.4650 - val_loss: 528.3383 - val_mean_absolute_error: 528.3383\n",
      "Epoch 407/1000\n",
      "200/200 [==============================] - 2s 10ms/step - loss: 449.4329 - mean_absolute_error: 449.4329 - val_loss: 528.3383 - val_mean_absolute_error: 528.3383\n",
      "Epoch 408/1000\n",
      "200/200 [==============================] - 2s 10ms/step - loss: 450.4061 - mean_absolute_error: 450.4061 - val_loss: 528.3383 - val_mean_absolute_error: 528.3383\n",
      "Epoch 409/1000\n",
      "200/200 [==============================] - 2s 10ms/step - loss: 453.7874 - mean_absolute_error: 453.7874 - val_loss: 528.3383 - val_mean_absolute_error: 528.3383\n",
      "Epoch 410/1000\n",
      "200/200 [==============================] - 2s 10ms/step - loss: 453.3209 - mean_absolute_error: 453.3209 - val_loss: 528.3383 - val_mean_absolute_error: 528.3383\n",
      "Epoch 411/1000\n",
      "200/200 [==============================] - 2s 10ms/step - loss: 451.0045 - mean_absolute_error: 451.0045 - val_loss: 528.3383 - val_mean_absolute_error: 528.3383\n",
      "\n",
      "Epoch 00411: ReduceLROnPlateau reducing learning rate to 3.6473000716187714e-25.\n",
      "Epoch 412/1000\n",
      "200/200 [==============================] - 2s 10ms/step - loss: 452.1501 - mean_absolute_error: 452.1501 - val_loss: 528.3383 - val_mean_absolute_error: 528.3383\n",
      "Epoch 413/1000\n",
      "200/200 [==============================] - 2s 10ms/step - loss: 450.6269 - mean_absolute_error: 450.6269 - val_loss: 528.3383 - val_mean_absolute_error: 528.3383\n",
      "Epoch 414/1000\n",
      "200/200 [==============================] - 2s 10ms/step - loss: 451.4957 - mean_absolute_error: 451.4957 - val_loss: 528.3383 - val_mean_absolute_error: 528.3383\n",
      "Epoch 415/1000\n",
      "200/200 [==============================] - 2s 9ms/step - loss: 451.6270 - mean_absolute_error: 451.6270 - val_loss: 528.3383 - val_mean_absolute_error: 528.3383\n",
      "Epoch 416/1000\n",
      "200/200 [==============================] - 2s 10ms/step - loss: 445.7720 - mean_absolute_error: 445.7720 - val_loss: 528.3383 - val_mean_absolute_error: 528.3383\n",
      "Epoch 417/1000\n",
      "200/200 [==============================] - 2s 10ms/step - loss: 452.5353 - mean_absolute_error: 452.5353 - val_loss: 528.3383 - val_mean_absolute_error: 528.3383\n",
      "Epoch 418/1000\n",
      "200/200 [==============================] - 2s 10ms/step - loss: 449.1700 - mean_absolute_error: 449.1700 - val_loss: 528.3383 - val_mean_absolute_error: 528.3383\n",
      "Epoch 419/1000\n",
      "200/200 [==============================] - 2s 10ms/step - loss: 453.9904 - mean_absolute_error: 453.9904 - val_loss: 528.3383 - val_mean_absolute_error: 528.3383\n",
      "Epoch 420/1000\n",
      "200/200 [==============================] - 2s 10ms/step - loss: 451.6751 - mean_absolute_error: 451.6751 - val_loss: 528.3383 - val_mean_absolute_error: 528.3383\n",
      "Epoch 421/1000\n",
      "200/200 [==============================] - 2s 10ms/step - loss: 453.3167 - mean_absolute_error: 453.3167 - val_loss: 528.3383 - val_mean_absolute_error: 528.3383\n",
      "\n",
      "Epoch 00421: ReduceLROnPlateau reducing learning rate to 1.0941900362767734e-25.\n",
      "Epoch 422/1000\n",
      "200/200 [==============================] - 2s 10ms/step - loss: 445.7124 - mean_absolute_error: 445.7124 - val_loss: 528.3383 - val_mean_absolute_error: 528.3383\n",
      "Epoch 423/1000\n",
      "200/200 [==============================] - 2s 10ms/step - loss: 449.8849 - mean_absolute_error: 449.8849 - val_loss: 528.3383 - val_mean_absolute_error: 528.3383\n",
      "Epoch 424/1000\n",
      "200/200 [==============================] - 2s 10ms/step - loss: 453.4359 - mean_absolute_error: 453.4359 - val_loss: 528.3383 - val_mean_absolute_error: 528.3383\n",
      "Epoch 425/1000\n",
      "200/200 [==============================] - 2s 10ms/step - loss: 453.4396 - mean_absolute_error: 453.4396 - val_loss: 528.3383 - val_mean_absolute_error: 528.3383\n",
      "Epoch 426/1000\n",
      "200/200 [==============================] - 2s 10ms/step - loss: 451.9548 - mean_absolute_error: 451.9548 - val_loss: 528.3383 - val_mean_absolute_error: 528.3383\n",
      "Epoch 427/1000\n",
      "200/200 [==============================] - 2s 10ms/step - loss: 458.1641 - mean_absolute_error: 458.1641 - val_loss: 528.3383 - val_mean_absolute_error: 528.3383\n",
      "Epoch 428/1000\n",
      "200/200 [==============================] - 2s 10ms/step - loss: 450.8309 - mean_absolute_error: 450.8309 - val_loss: 528.3383 - val_mean_absolute_error: 528.3383\n",
      "Epoch 429/1000\n",
      "200/200 [==============================] - 2s 10ms/step - loss: 453.2818 - mean_absolute_error: 453.2818 - val_loss: 528.3383 - val_mean_absolute_error: 528.3383\n",
      "Epoch 430/1000\n",
      "200/200 [==============================] - 2s 10ms/step - loss: 453.8095 - mean_absolute_error: 453.8095 - val_loss: 528.3383 - val_mean_absolute_error: 528.3383\n",
      "Epoch 431/1000\n",
      "200/200 [==============================] - 2s 10ms/step - loss: 448.5544 - mean_absolute_error: 448.5544 - val_loss: 528.3383 - val_mean_absolute_error: 528.3383\n",
      "\n",
      "Epoch 00431: ReduceLROnPlateau reducing learning rate to 3.28257003487461e-26.\n",
      "Epoch 432/1000\n",
      "200/200 [==============================] - 2s 10ms/step - loss: 447.9537 - mean_absolute_error: 447.9537 - val_loss: 528.3383 - val_mean_absolute_error: 528.3383\n",
      "Epoch 433/1000\n",
      "200/200 [==============================] - 2s 10ms/step - loss: 450.8432 - mean_absolute_error: 450.8432 - val_loss: 528.3383 - val_mean_absolute_error: 528.3383\n",
      "Epoch 434/1000\n",
      "200/200 [==============================] - 2s 10ms/step - loss: 445.9641 - mean_absolute_error: 445.9641 - val_loss: 528.3383 - val_mean_absolute_error: 528.3383\n",
      "Epoch 435/1000\n",
      "200/200 [==============================] - 2s 10ms/step - loss: 450.8001 - mean_absolute_error: 450.8001 - val_loss: 528.3383 - val_mean_absolute_error: 528.3383\n",
      "Epoch 436/1000\n",
      "200/200 [==============================] - 2s 10ms/step - loss: 449.0094 - mean_absolute_error: 449.0094 - val_loss: 528.3383 - val_mean_absolute_error: 528.3383\n",
      "Epoch 437/1000\n",
      "200/200 [==============================] - 2s 10ms/step - loss: 448.7801 - mean_absolute_error: 448.7801 - val_loss: 528.3383 - val_mean_absolute_error: 528.3383\n",
      "Epoch 438/1000\n",
      "200/200 [==============================] - 2s 10ms/step - loss: 451.5695 - mean_absolute_error: 451.5695 - val_loss: 528.3383 - val_mean_absolute_error: 528.3383\n",
      "Epoch 439/1000\n",
      "200/200 [==============================] - 2s 10ms/step - loss: 449.4695 - mean_absolute_error: 449.4695 - val_loss: 528.3383 - val_mean_absolute_error: 528.3383\n",
      "Epoch 440/1000\n",
      "200/200 [==============================] - 2s 10ms/step - loss: 451.2216 - mean_absolute_error: 451.2216 - val_loss: 528.3383 - val_mean_absolute_error: 528.3383\n",
      "Epoch 441/1000\n",
      "200/200 [==============================] - 2s 10ms/step - loss: 451.1328 - mean_absolute_error: 451.1328 - val_loss: 528.3383 - val_mean_absolute_error: 528.3383\n",
      "\n",
      "Epoch 00441: ReduceLROnPlateau reducing learning rate to 9.847710289513105e-27.\n",
      "Epoch 442/1000\n",
      "200/200 [==============================] - 2s 10ms/step - loss: 447.3907 - mean_absolute_error: 447.3907 - val_loss: 528.3383 - val_mean_absolute_error: 528.3383\n",
      "Epoch 443/1000\n",
      "200/200 [==============================] - 2s 10ms/step - loss: 450.1469 - mean_absolute_error: 450.1469 - val_loss: 528.3383 - val_mean_absolute_error: 528.3383\n",
      "Epoch 444/1000\n",
      "200/200 [==============================] - 2s 10ms/step - loss: 448.7297 - mean_absolute_error: 448.7297 - val_loss: 528.3383 - val_mean_absolute_error: 528.3383\n",
      "Epoch 445/1000\n",
      "200/200 [==============================] - 2s 10ms/step - loss: 451.7570 - mean_absolute_error: 451.7570 - val_loss: 528.3383 - val_mean_absolute_error: 528.3383\n",
      "Epoch 446/1000\n",
      "200/200 [==============================] - 2s 10ms/step - loss: 446.2757 - mean_absolute_error: 446.2757 - val_loss: 528.3383 - val_mean_absolute_error: 528.3383\n",
      "Epoch 447/1000\n",
      "200/200 [==============================] - 2s 10ms/step - loss: 454.3085 - mean_absolute_error: 454.3085 - val_loss: 528.3383 - val_mean_absolute_error: 528.3383\n",
      "Epoch 448/1000\n",
      "200/200 [==============================] - 2s 10ms/step - loss: 450.2473 - mean_absolute_error: 450.2473 - val_loss: 528.3383 - val_mean_absolute_error: 528.3383\n",
      "Epoch 449/1000\n",
      "200/200 [==============================] - 2s 10ms/step - loss: 452.0698 - mean_absolute_error: 452.0698 - val_loss: 528.3383 - val_mean_absolute_error: 528.3383\n",
      "Epoch 450/1000\n",
      "200/200 [==============================] - 2s 10ms/step - loss: 453.3099 - mean_absolute_error: 453.3099 - val_loss: 528.3383 - val_mean_absolute_error: 528.3383\n",
      "Epoch 451/1000\n",
      "200/200 [==============================] - 2s 10ms/step - loss: 454.7068 - mean_absolute_error: 454.7068 - val_loss: 528.3383 - val_mean_absolute_error: 528.3383\n",
      "\n",
      "Epoch 00451: ReduceLROnPlateau reducing learning rate to 2.9543131330762504e-27.\n",
      "Epoch 452/1000\n",
      "200/200 [==============================] - 2s 10ms/step - loss: 454.6780 - mean_absolute_error: 454.6780 - val_loss: 528.3383 - val_mean_absolute_error: 528.3383\n",
      "Epoch 453/1000\n",
      "200/200 [==============================] - 2s 10ms/step - loss: 454.8197 - mean_absolute_error: 454.8197 - val_loss: 528.3383 - val_mean_absolute_error: 528.3383\n",
      "Epoch 454/1000\n",
      "200/200 [==============================] - 2s 10ms/step - loss: 451.8157 - mean_absolute_error: 451.8157 - val_loss: 528.3383 - val_mean_absolute_error: 528.3383\n",
      "Epoch 455/1000\n",
      "200/200 [==============================] - 2s 9ms/step - loss: 447.7629 - mean_absolute_error: 447.7629 - val_loss: 528.3383 - val_mean_absolute_error: 528.3383\n",
      "Epoch 456/1000\n",
      "200/200 [==============================] - 2s 10ms/step - loss: 452.0854 - mean_absolute_error: 452.0854 - val_loss: 528.3383 - val_mean_absolute_error: 528.3383\n",
      "Epoch 457/1000\n",
      "200/200 [==============================] - 2s 10ms/step - loss: 450.6669 - mean_absolute_error: 450.6669 - val_loss: 528.3383 - val_mean_absolute_error: 528.3383\n",
      "Epoch 458/1000\n",
      "200/200 [==============================] - 2s 10ms/step - loss: 453.6730 - mean_absolute_error: 453.6730 - val_loss: 528.3383 - val_mean_absolute_error: 528.3383\n",
      "Epoch 459/1000\n",
      "200/200 [==============================] - 2s 10ms/step - loss: 452.1917 - mean_absolute_error: 452.1917 - val_loss: 528.3383 - val_mean_absolute_error: 528.3383\n",
      "Epoch 460/1000\n",
      "200/200 [==============================] - 2s 10ms/step - loss: 455.8589 - mean_absolute_error: 455.8589 - val_loss: 528.3383 - val_mean_absolute_error: 528.3383\n",
      "Epoch 461/1000\n",
      "200/200 [==============================] - 2s 10ms/step - loss: 445.9210 - mean_absolute_error: 445.9210 - val_loss: 528.3383 - val_mean_absolute_error: 528.3383\n",
      "\n",
      "Epoch 00461: ReduceLROnPlateau reducing learning rate to 8.862939514784548e-28.\n",
      "Epoch 462/1000\n",
      "200/200 [==============================] - 2s 10ms/step - loss: 453.2311 - mean_absolute_error: 453.2311 - val_loss: 528.3383 - val_mean_absolute_error: 528.3383\n",
      "Epoch 463/1000\n",
      "200/200 [==============================] - 2s 9ms/step - loss: 451.3925 - mean_absolute_error: 451.3925 - val_loss: 528.3383 - val_mean_absolute_error: 528.3383\n",
      "Epoch 464/1000\n",
      "200/200 [==============================] - 2s 10ms/step - loss: 453.6949 - mean_absolute_error: 453.6949 - val_loss: 528.3383 - val_mean_absolute_error: 528.3383\n",
      "Epoch 465/1000\n",
      "200/200 [==============================] - 2s 10ms/step - loss: 451.9309 - mean_absolute_error: 451.9309 - val_loss: 528.3383 - val_mean_absolute_error: 528.3383\n",
      "Epoch 466/1000\n",
      "200/200 [==============================] - 2s 10ms/step - loss: 447.0759 - mean_absolute_error: 447.0759 - val_loss: 528.3383 - val_mean_absolute_error: 528.3383\n",
      "Epoch 467/1000\n",
      "200/200 [==============================] - 2s 10ms/step - loss: 447.1636 - mean_absolute_error: 447.1636 - val_loss: 528.3383 - val_mean_absolute_error: 528.3383\n",
      "Epoch 468/1000\n",
      "200/200 [==============================] - 2s 10ms/step - loss: 447.9209 - mean_absolute_error: 447.9209 - val_loss: 528.3383 - val_mean_absolute_error: 528.3383\n",
      "Epoch 469/1000\n",
      "200/200 [==============================] - 2s 10ms/step - loss: 451.2076 - mean_absolute_error: 451.2076 - val_loss: 528.3383 - val_mean_absolute_error: 528.3383\n",
      "Epoch 470/1000\n",
      "200/200 [==============================] - 2s 10ms/step - loss: 450.1697 - mean_absolute_error: 450.1697 - val_loss: 528.3383 - val_mean_absolute_error: 528.3383\n",
      "Epoch 471/1000\n",
      "200/200 [==============================] - 2s 10ms/step - loss: 449.1133 - mean_absolute_error: 449.1133 - val_loss: 528.3383 - val_mean_absolute_error: 528.3383\n",
      "\n",
      "Epoch 00471: ReduceLROnPlateau reducing learning rate to 2.658881969991161e-28.\n",
      "Epoch 472/1000\n",
      "200/200 [==============================] - 2s 10ms/step - loss: 450.7682 - mean_absolute_error: 450.7682 - val_loss: 528.3383 - val_mean_absolute_error: 528.3383\n",
      "Epoch 473/1000\n",
      "200/200 [==============================] - 2s 10ms/step - loss: 451.2751 - mean_absolute_error: 451.2751 - val_loss: 528.3383 - val_mean_absolute_error: 528.3383\n",
      "Epoch 474/1000\n",
      "200/200 [==============================] - 2s 10ms/step - loss: 449.3876 - mean_absolute_error: 449.3876 - val_loss: 528.3383 - val_mean_absolute_error: 528.3383\n",
      "Epoch 475/1000\n",
      "200/200 [==============================] - 2s 9ms/step - loss: 448.8990 - mean_absolute_error: 448.8990 - val_loss: 528.3383 - val_mean_absolute_error: 528.3383\n",
      "Epoch 476/1000\n",
      "200/200 [==============================] - 2s 10ms/step - loss: 452.1961 - mean_absolute_error: 452.1961 - val_loss: 528.3383 - val_mean_absolute_error: 528.3383\n",
      "Epoch 477/1000\n",
      "200/200 [==============================] - 2s 10ms/step - loss: 453.7594 - mean_absolute_error: 453.7594 - val_loss: 528.3383 - val_mean_absolute_error: 528.3383\n",
      "Epoch 478/1000\n"
     ]
    },
    {
     "name": "stdout",
     "output_type": "stream",
     "text": [
      "200/200 [==============================] - 2s 9ms/step - loss: 449.0741 - mean_absolute_error: 449.0741 - val_loss: 528.3383 - val_mean_absolute_error: 528.3383\n",
      "Epoch 479/1000\n",
      "200/200 [==============================] - 2s 10ms/step - loss: 452.5576 - mean_absolute_error: 452.5576 - val_loss: 528.3383 - val_mean_absolute_error: 528.3383\n",
      "Epoch 480/1000\n",
      "200/200 [==============================] - 2s 10ms/step - loss: 454.7204 - mean_absolute_error: 454.7204 - val_loss: 528.3383 - val_mean_absolute_error: 528.3383\n",
      "Epoch 481/1000\n",
      "200/200 [==============================] - 2s 10ms/step - loss: 447.1798 - mean_absolute_error: 447.1798 - val_loss: 528.3383 - val_mean_absolute_error: 528.3383\n",
      "\n",
      "Epoch 00481: ReduceLROnPlateau reducing learning rate to 7.976646198862975e-29.\n",
      "Epoch 482/1000\n",
      "200/200 [==============================] - 2s 10ms/step - loss: 451.6077 - mean_absolute_error: 451.6077 - val_loss: 528.3383 - val_mean_absolute_error: 528.3383\n",
      "Epoch 483/1000\n",
      "200/200 [==============================] - 2s 10ms/step - loss: 451.3039 - mean_absolute_error: 451.3039 - val_loss: 528.3383 - val_mean_absolute_error: 528.3383\n",
      "Epoch 484/1000\n",
      "200/200 [==============================] - 2s 10ms/step - loss: 452.7234 - mean_absolute_error: 452.7234 - val_loss: 528.3383 - val_mean_absolute_error: 528.3383\n",
      "Epoch 485/1000\n",
      "200/200 [==============================] - 2s 10ms/step - loss: 453.2000 - mean_absolute_error: 453.2000 - val_loss: 528.3383 - val_mean_absolute_error: 528.3383\n",
      "Epoch 486/1000\n",
      "200/200 [==============================] - 2s 10ms/step - loss: 451.4849 - mean_absolute_error: 451.4849 - val_loss: 528.3383 - val_mean_absolute_error: 528.3383\n",
      "Epoch 487/1000\n",
      "200/200 [==============================] - 2s 9ms/step - loss: 448.2287 - mean_absolute_error: 448.2287 - val_loss: 528.3383 - val_mean_absolute_error: 528.3383\n",
      "Epoch 488/1000\n",
      "200/200 [==============================] - 2s 10ms/step - loss: 448.8353 - mean_absolute_error: 448.8353 - val_loss: 528.3383 - val_mean_absolute_error: 528.3383\n",
      "Epoch 489/1000\n",
      "200/200 [==============================] - 2s 10ms/step - loss: 453.6871 - mean_absolute_error: 453.6871 - val_loss: 528.3383 - val_mean_absolute_error: 528.3383\n",
      "Epoch 490/1000\n",
      "200/200 [==============================] - 2s 10ms/step - loss: 450.3140 - mean_absolute_error: 450.3140 - val_loss: 528.3383 - val_mean_absolute_error: 528.3383\n",
      "Epoch 491/1000\n",
      "200/200 [==============================] - 2s 10ms/step - loss: 451.0521 - mean_absolute_error: 451.0521 - val_loss: 528.3383 - val_mean_absolute_error: 528.3383\n",
      "\n",
      "Epoch 00491: ReduceLROnPlateau reducing learning rate to 2.3929938957700788e-29.\n",
      "Epoch 492/1000\n",
      "200/200 [==============================] - 2s 10ms/step - loss: 450.6240 - mean_absolute_error: 450.6240 - val_loss: 528.3383 - val_mean_absolute_error: 528.3383\n",
      "Epoch 493/1000\n",
      "200/200 [==============================] - 2s 10ms/step - loss: 450.4026 - mean_absolute_error: 450.4026 - val_loss: 528.3383 - val_mean_absolute_error: 528.3383\n",
      "Epoch 494/1000\n",
      "200/200 [==============================] - 2s 10ms/step - loss: 446.9884 - mean_absolute_error: 446.9884 - val_loss: 528.3383 - val_mean_absolute_error: 528.3383\n",
      "Epoch 495/1000\n",
      "200/200 [==============================] - 2s 10ms/step - loss: 451.5349 - mean_absolute_error: 451.5349 - val_loss: 528.3383 - val_mean_absolute_error: 528.3383\n",
      "Epoch 496/1000\n",
      "200/200 [==============================] - 2s 10ms/step - loss: 453.0664 - mean_absolute_error: 453.0664 - val_loss: 528.3383 - val_mean_absolute_error: 528.3383\n",
      "Epoch 497/1000\n",
      "200/200 [==============================] - 2s 11ms/step - loss: 453.8163 - mean_absolute_error: 453.8163 - val_loss: 528.3383 - val_mean_absolute_error: 528.3383\n",
      "Epoch 498/1000\n",
      "200/200 [==============================] - 2s 10ms/step - loss: 448.1036 - mean_absolute_error: 448.1036 - val_loss: 528.3383 - val_mean_absolute_error: 528.3383\n",
      "Epoch 499/1000\n",
      "200/200 [==============================] - 2s 10ms/step - loss: 450.1036 - mean_absolute_error: 450.1036 - val_loss: 528.3383 - val_mean_absolute_error: 528.3383\n",
      "Epoch 500/1000\n",
      "200/200 [==============================] - 2s 10ms/step - loss: 451.5592 - mean_absolute_error: 451.5592 - val_loss: 528.3383 - val_mean_absolute_error: 528.3383\n",
      "Epoch 501/1000\n",
      "200/200 [==============================] - 2s 10ms/step - loss: 451.5798 - mean_absolute_error: 451.5798 - val_loss: 528.3383 - val_mean_absolute_error: 528.3383\n",
      "\n",
      "Epoch 00501: ReduceLROnPlateau reducing learning rate to 7.178981506754304e-30.\n",
      "Epoch 502/1000\n",
      "200/200 [==============================] - 2s 10ms/step - loss: 449.2435 - mean_absolute_error: 449.2435 - val_loss: 528.3383 - val_mean_absolute_error: 528.3383\n",
      "Epoch 503/1000\n",
      "200/200 [==============================] - 2s 10ms/step - loss: 447.7141 - mean_absolute_error: 447.7141 - val_loss: 528.3383 - val_mean_absolute_error: 528.3383\n",
      "Epoch 504/1000\n",
      "200/200 [==============================] - 2s 10ms/step - loss: 450.9231 - mean_absolute_error: 450.9231 - val_loss: 528.3383 - val_mean_absolute_error: 528.3383\n",
      "Epoch 505/1000\n",
      "200/200 [==============================] - 2s 10ms/step - loss: 453.4611 - mean_absolute_error: 453.4611 - val_loss: 528.3383 - val_mean_absolute_error: 528.3383\n",
      "Epoch 506/1000\n",
      "200/200 [==============================] - 2s 10ms/step - loss: 450.2896 - mean_absolute_error: 450.2896 - val_loss: 528.3383 - val_mean_absolute_error: 528.3383\n",
      "Epoch 507/1000\n",
      "200/200 [==============================] - 2s 10ms/step - loss: 454.6714 - mean_absolute_error: 454.6714 - val_loss: 528.3383 - val_mean_absolute_error: 528.3383\n",
      "Epoch 508/1000\n",
      "200/200 [==============================] - 2s 10ms/step - loss: 455.8341 - mean_absolute_error: 455.8341 - val_loss: 528.3383 - val_mean_absolute_error: 528.3383\n",
      "Epoch 509/1000\n",
      "200/200 [==============================] - 2s 10ms/step - loss: 450.2558 - mean_absolute_error: 450.2558 - val_loss: 528.3383 - val_mean_absolute_error: 528.3383\n",
      "Epoch 510/1000\n",
      "200/200 [==============================] - 2s 10ms/step - loss: 453.7659 - mean_absolute_error: 453.7659 - val_loss: 528.3383 - val_mean_absolute_error: 528.3383\n",
      "Epoch 511/1000\n",
      "200/200 [==============================] - 2s 10ms/step - loss: 450.5009 - mean_absolute_error: 450.5009 - val_loss: 528.3383 - val_mean_absolute_error: 528.3383\n",
      "\n",
      "Epoch 00511: ReduceLROnPlateau reducing learning rate to 2.1536944068873083e-30.\n",
      "Epoch 512/1000\n",
      "200/200 [==============================] - 2s 10ms/step - loss: 450.5535 - mean_absolute_error: 450.5535 - val_loss: 528.3383 - val_mean_absolute_error: 528.3383\n",
      "Epoch 513/1000\n",
      "200/200 [==============================] - 2s 10ms/step - loss: 452.5517 - mean_absolute_error: 452.5517 - val_loss: 528.3383 - val_mean_absolute_error: 528.3383\n",
      "Epoch 514/1000\n",
      "200/200 [==============================] - 2s 10ms/step - loss: 452.8646 - mean_absolute_error: 452.8646 - val_loss: 528.3383 - val_mean_absolute_error: 528.3383\n",
      "Epoch 515/1000\n",
      "200/200 [==============================] - 2s 10ms/step - loss: 450.4268 - mean_absolute_error: 450.4268 - val_loss: 528.3383 - val_mean_absolute_error: 528.3383\n",
      "Epoch 516/1000\n",
      "200/200 [==============================] - 2s 10ms/step - loss: 451.6483 - mean_absolute_error: 451.6483 - val_loss: 528.3383 - val_mean_absolute_error: 528.3383\n",
      "Epoch 517/1000\n",
      "200/200 [==============================] - 2s 10ms/step - loss: 450.3173 - mean_absolute_error: 450.3173 - val_loss: 528.3383 - val_mean_absolute_error: 528.3383\n",
      "Epoch 518/1000\n",
      "200/200 [==============================] - 2s 10ms/step - loss: 452.7926 - mean_absolute_error: 452.7926 - val_loss: 528.3383 - val_mean_absolute_error: 528.3383\n",
      "Epoch 519/1000\n",
      "200/200 [==============================] - 2s 10ms/step - loss: 448.9835 - mean_absolute_error: 448.9835 - val_loss: 528.3383 - val_mean_absolute_error: 528.3383\n",
      "Epoch 520/1000\n",
      "200/200 [==============================] - 2s 10ms/step - loss: 448.7974 - mean_absolute_error: 448.7974 - val_loss: 528.3383 - val_mean_absolute_error: 528.3383\n",
      "Epoch 521/1000\n",
      "200/200 [==============================] - 2s 10ms/step - loss: 448.0918 - mean_absolute_error: 448.0918 - val_loss: 528.3383 - val_mean_absolute_error: 528.3383\n",
      "\n",
      "Epoch 00521: ReduceLROnPlateau reducing learning rate to 6.46108344635684e-31.\n",
      "Epoch 522/1000\n",
      "200/200 [==============================] - 2s 10ms/step - loss: 452.9946 - mean_absolute_error: 452.9946 - val_loss: 528.3383 - val_mean_absolute_error: 528.3383\n",
      "Epoch 523/1000\n",
      "200/200 [==============================] - 2s 10ms/step - loss: 451.1563 - mean_absolute_error: 451.1563 - val_loss: 528.3383 - val_mean_absolute_error: 528.3383\n",
      "Epoch 524/1000\n",
      "200/200 [==============================] - 2s 10ms/step - loss: 448.3803 - mean_absolute_error: 448.3803 - val_loss: 528.3383 - val_mean_absolute_error: 528.3383\n",
      "Epoch 525/1000\n",
      "200/200 [==============================] - 2s 10ms/step - loss: 451.0266 - mean_absolute_error: 451.0266 - val_loss: 528.3383 - val_mean_absolute_error: 528.3383\n",
      "Epoch 526/1000\n",
      "200/200 [==============================] - 2s 10ms/step - loss: 448.4809 - mean_absolute_error: 448.4809 - val_loss: 528.3383 - val_mean_absolute_error: 528.3383\n",
      "Epoch 527/1000\n",
      "200/200 [==============================] - 2s 10ms/step - loss: 453.4776 - mean_absolute_error: 453.4776 - val_loss: 528.3383 - val_mean_absolute_error: 528.3383\n",
      "Epoch 528/1000\n",
      "200/200 [==============================] - 2s 10ms/step - loss: 446.1117 - mean_absolute_error: 446.1117 - val_loss: 528.3383 - val_mean_absolute_error: 528.3383\n",
      "Epoch 529/1000\n",
      "200/200 [==============================] - 2s 10ms/step - loss: 448.3239 - mean_absolute_error: 448.3239 - val_loss: 528.3383 - val_mean_absolute_error: 528.3383\n",
      "Epoch 530/1000\n",
      "200/200 [==============================] - 2s 10ms/step - loss: 448.8086 - mean_absolute_error: 448.8086 - val_loss: 528.3383 - val_mean_absolute_error: 528.3383\n",
      "Epoch 531/1000\n",
      "200/200 [==============================] - 2s 10ms/step - loss: 451.6499 - mean_absolute_error: 451.6499 - val_loss: 528.3383 - val_mean_absolute_error: 528.3383\n",
      "\n",
      "Epoch 00531: ReduceLROnPlateau reducing learning rate to 1.9383250621189165e-31.\n",
      "Epoch 532/1000\n",
      "200/200 [==============================] - 2s 10ms/step - loss: 449.6083 - mean_absolute_error: 449.6083 - val_loss: 528.3383 - val_mean_absolute_error: 528.3383\n",
      "Epoch 533/1000\n",
      "200/200 [==============================] - 2s 10ms/step - loss: 447.9570 - mean_absolute_error: 447.9570 - val_loss: 528.3383 - val_mean_absolute_error: 528.3383\n",
      "Epoch 534/1000\n",
      "200/200 [==============================] - 2s 10ms/step - loss: 450.5016 - mean_absolute_error: 450.5016 - val_loss: 528.3383 - val_mean_absolute_error: 528.3383\n",
      "Epoch 535/1000\n",
      "200/200 [==============================] - 2s 10ms/step - loss: 449.9183 - mean_absolute_error: 449.9183 - val_loss: 528.3383 - val_mean_absolute_error: 528.3383\n",
      "Epoch 536/1000\n",
      "200/200 [==============================] - 2s 10ms/step - loss: 443.0691 - mean_absolute_error: 443.0691 - val_loss: 528.3383 - val_mean_absolute_error: 528.3383\n",
      "Epoch 537/1000\n",
      "200/200 [==============================] - 2s 10ms/step - loss: 449.2258 - mean_absolute_error: 449.2258 - val_loss: 528.3383 - val_mean_absolute_error: 528.3383\n",
      "Epoch 538/1000\n",
      "200/200 [==============================] - 2s 10ms/step - loss: 455.0511 - mean_absolute_error: 455.0511 - val_loss: 528.3383 - val_mean_absolute_error: 528.3383\n",
      "Epoch 539/1000\n",
      "200/200 [==============================] - 2s 10ms/step - loss: 448.2889 - mean_absolute_error: 448.2889 - val_loss: 528.3383 - val_mean_absolute_error: 528.3383\n",
      "Epoch 540/1000\n",
      "200/200 [==============================] - 2s 10ms/step - loss: 450.3313 - mean_absolute_error: 450.3313 - val_loss: 528.3383 - val_mean_absolute_error: 528.3383\n",
      "Epoch 541/1000\n",
      "200/200 [==============================] - 2s 10ms/step - loss: 448.1813 - mean_absolute_error: 448.1813 - val_loss: 528.3383 - val_mean_absolute_error: 528.3383\n",
      "\n",
      "Epoch 00541: ReduceLROnPlateau reducing learning rate to 5.814975186356749e-32.\n",
      "Epoch 542/1000\n",
      "200/200 [==============================] - 2s 10ms/step - loss: 446.3435 - mean_absolute_error: 446.3435 - val_loss: 528.3383 - val_mean_absolute_error: 528.3383\n",
      "Epoch 543/1000\n",
      "200/200 [==============================] - 2s 10ms/step - loss: 454.2677 - mean_absolute_error: 454.2677 - val_loss: 528.3383 - val_mean_absolute_error: 528.3383\n",
      "Epoch 544/1000\n",
      "200/200 [==============================] - 2s 10ms/step - loss: 450.2030 - mean_absolute_error: 450.2030 - val_loss: 528.3383 - val_mean_absolute_error: 528.3383\n",
      "Epoch 545/1000\n",
      "200/200 [==============================] - 2s 10ms/step - loss: 453.8191 - mean_absolute_error: 453.8191 - val_loss: 528.3383 - val_mean_absolute_error: 528.3383\n",
      "Epoch 546/1000\n",
      "200/200 [==============================] - 2s 10ms/step - loss: 452.7402 - mean_absolute_error: 452.7402 - val_loss: 528.3383 - val_mean_absolute_error: 528.3383\n",
      "Epoch 547/1000\n",
      "200/200 [==============================] - 2s 10ms/step - loss: 450.3185 - mean_absolute_error: 450.3185 - val_loss: 528.3383 - val_mean_absolute_error: 528.3383\n",
      "Epoch 548/1000\n",
      "200/200 [==============================] - 2s 10ms/step - loss: 450.7026 - mean_absolute_error: 450.7026 - val_loss: 528.3383 - val_mean_absolute_error: 528.3383\n",
      "Epoch 549/1000\n",
      "200/200 [==============================] - 2s 10ms/step - loss: 447.4620 - mean_absolute_error: 447.4620 - val_loss: 528.3383 - val_mean_absolute_error: 528.3383\n",
      "Epoch 550/1000\n",
      "200/200 [==============================] - 2s 10ms/step - loss: 452.0141 - mean_absolute_error: 452.0141 - val_loss: 528.3383 - val_mean_absolute_error: 528.3383\n",
      "Epoch 551/1000\n",
      "200/200 [==============================] - 2s 10ms/step - loss: 450.9772 - mean_absolute_error: 450.9772 - val_loss: 528.3383 - val_mean_absolute_error: 528.3383\n",
      "\n",
      "Epoch 00551: ReduceLROnPlateau reducing learning rate to 1.744492626436686e-32.\n",
      "Epoch 552/1000\n",
      "200/200 [==============================] - 2s 10ms/step - loss: 453.5626 - mean_absolute_error: 453.5626 - val_loss: 528.3383 - val_mean_absolute_error: 528.3383\n",
      "Epoch 553/1000\n",
      "200/200 [==============================] - 2s 10ms/step - loss: 452.1588 - mean_absolute_error: 452.1588 - val_loss: 528.3383 - val_mean_absolute_error: 528.3383\n",
      "Epoch 554/1000\n",
      "200/200 [==============================] - 2s 10ms/step - loss: 451.1179 - mean_absolute_error: 451.1179 - val_loss: 528.3383 - val_mean_absolute_error: 528.3383\n",
      "Epoch 555/1000\n",
      "200/200 [==============================] - 2s 10ms/step - loss: 451.6250 - mean_absolute_error: 451.6250 - val_loss: 528.3383 - val_mean_absolute_error: 528.3383\n",
      "Epoch 556/1000\n",
      "200/200 [==============================] - 2s 10ms/step - loss: 453.0416 - mean_absolute_error: 453.0416 - val_loss: 528.3383 - val_mean_absolute_error: 528.3383\n",
      "Epoch 557/1000\n",
      "200/200 [==============================] - 2s 10ms/step - loss: 449.4991 - mean_absolute_error: 449.4991 - val_loss: 528.3383 - val_mean_absolute_error: 528.3383\n",
      "Epoch 558/1000\n",
      "200/200 [==============================] - 2s 10ms/step - loss: 452.2384 - mean_absolute_error: 452.2384 - val_loss: 528.3383 - val_mean_absolute_error: 528.3383\n",
      "Epoch 559/1000\n",
      "200/200 [==============================] - 2s 10ms/step - loss: 449.5977 - mean_absolute_error: 449.5977 - val_loss: 528.3383 - val_mean_absolute_error: 528.3383\n",
      "Epoch 560/1000\n",
      "200/200 [==============================] - 2s 10ms/step - loss: 448.6810 - mean_absolute_error: 448.6810 - val_loss: 528.3383 - val_mean_absolute_error: 528.3383\n",
      "Epoch 561/1000\n",
      "200/200 [==============================] - 2s 10ms/step - loss: 453.7279 - mean_absolute_error: 453.7279 - val_loss: 528.3383 - val_mean_absolute_error: 528.3383\n",
      "\n",
      "Epoch 00561: ReduceLROnPlateau reducing learning rate to 5.2334780556342106e-33.\n",
      "Epoch 562/1000\n",
      "200/200 [==============================] - 2s 10ms/step - loss: 452.2624 - mean_absolute_error: 452.2624 - val_loss: 528.3383 - val_mean_absolute_error: 528.3383\n",
      "Epoch 563/1000\n",
      "200/200 [==============================] - 2s 9ms/step - loss: 452.4288 - mean_absolute_error: 452.4288 - val_loss: 528.3383 - val_mean_absolute_error: 528.3383\n",
      "Epoch 564/1000\n",
      "200/200 [==============================] - 2s 10ms/step - loss: 449.5071 - mean_absolute_error: 449.5071 - val_loss: 528.3383 - val_mean_absolute_error: 528.3383\n",
      "Epoch 565/1000\n",
      "200/200 [==============================] - 2s 10ms/step - loss: 450.4685 - mean_absolute_error: 450.4685 - val_loss: 528.3383 - val_mean_absolute_error: 528.3383\n",
      "Epoch 566/1000\n"
     ]
    },
    {
     "name": "stdout",
     "output_type": "stream",
     "text": [
      "200/200 [==============================] - 2s 10ms/step - loss: 451.2589 - mean_absolute_error: 451.2589 - val_loss: 528.3383 - val_mean_absolute_error: 528.3383\n",
      "Epoch 567/1000\n",
      "200/200 [==============================] - 2s 10ms/step - loss: 450.3210 - mean_absolute_error: 450.3210 - val_loss: 528.3383 - val_mean_absolute_error: 528.3383\n",
      "Epoch 568/1000\n",
      "200/200 [==============================] - 2s 10ms/step - loss: 449.5560 - mean_absolute_error: 449.5560 - val_loss: 528.3383 - val_mean_absolute_error: 528.3383\n",
      "Epoch 569/1000\n",
      "200/200 [==============================] - 2s 10ms/step - loss: 453.2883 - mean_absolute_error: 453.2883 - val_loss: 528.3383 - val_mean_absolute_error: 528.3383\n",
      "Epoch 570/1000\n",
      "200/200 [==============================] - 2s 10ms/step - loss: 450.6785 - mean_absolute_error: 450.6785 - val_loss: 528.3383 - val_mean_absolute_error: 528.3383\n",
      "Epoch 571/1000\n",
      "200/200 [==============================] - 2s 10ms/step - loss: 450.9926 - mean_absolute_error: 450.9926 - val_loss: 528.3383 - val_mean_absolute_error: 528.3383\n",
      "\n",
      "Epoch 00571: ReduceLROnPlateau reducing learning rate to 1.570043372609225e-33.\n",
      "Epoch 572/1000\n",
      "200/200 [==============================] - 2s 10ms/step - loss: 451.6812 - mean_absolute_error: 451.6812 - val_loss: 528.3383 - val_mean_absolute_error: 528.3383\n",
      "Epoch 573/1000\n",
      "200/200 [==============================] - 2s 10ms/step - loss: 448.7890 - mean_absolute_error: 448.7890 - val_loss: 528.3383 - val_mean_absolute_error: 528.3383\n",
      "Epoch 574/1000\n",
      "200/200 [==============================] - 2s 10ms/step - loss: 446.3702 - mean_absolute_error: 446.3702 - val_loss: 528.3383 - val_mean_absolute_error: 528.3383\n",
      "Epoch 575/1000\n",
      "200/200 [==============================] - 2s 10ms/step - loss: 451.3682 - mean_absolute_error: 451.3682 - val_loss: 528.3383 - val_mean_absolute_error: 528.3383\n",
      "Epoch 576/1000\n",
      "200/200 [==============================] - 2s 10ms/step - loss: 450.5061 - mean_absolute_error: 450.5061 - val_loss: 528.3383 - val_mean_absolute_error: 528.3383\n",
      "Epoch 577/1000\n",
      "200/200 [==============================] - 2s 10ms/step - loss: 448.2746 - mean_absolute_error: 448.2746 - val_loss: 528.3383 - val_mean_absolute_error: 528.3383\n",
      "Epoch 578/1000\n",
      "200/200 [==============================] - 2s 10ms/step - loss: 450.0551 - mean_absolute_error: 450.0551 - val_loss: 528.3383 - val_mean_absolute_error: 528.3383\n",
      "Epoch 579/1000\n",
      "200/200 [==============================] - 2s 10ms/step - loss: 448.8201 - mean_absolute_error: 448.8201 - val_loss: 528.3383 - val_mean_absolute_error: 528.3383\n",
      "Epoch 580/1000\n",
      "200/200 [==============================] - 2s 10ms/step - loss: 451.7199 - mean_absolute_error: 451.7199 - val_loss: 528.3383 - val_mean_absolute_error: 528.3383\n",
      "Epoch 581/1000\n",
      "200/200 [==============================] - 2s 10ms/step - loss: 448.8342 - mean_absolute_error: 448.8342 - val_loss: 528.3383 - val_mean_absolute_error: 528.3383\n",
      "\n",
      "Epoch 00581: ReduceLROnPlateau reducing learning rate to 4.710130007625079e-34.\n",
      "Epoch 582/1000\n",
      "200/200 [==============================] - 2s 10ms/step - loss: 451.8936 - mean_absolute_error: 451.8936 - val_loss: 528.3383 - val_mean_absolute_error: 528.3383\n",
      "Epoch 583/1000\n",
      "200/200 [==============================] - 2s 10ms/step - loss: 447.7923 - mean_absolute_error: 447.7923 - val_loss: 528.3383 - val_mean_absolute_error: 528.3383\n",
      "Epoch 584/1000\n",
      "200/200 [==============================] - 2s 10ms/step - loss: 449.9406 - mean_absolute_error: 449.9406 - val_loss: 528.3383 - val_mean_absolute_error: 528.3383\n",
      "Epoch 585/1000\n",
      "200/200 [==============================] - 2s 10ms/step - loss: 451.7705 - mean_absolute_error: 451.7705 - val_loss: 528.3383 - val_mean_absolute_error: 528.3383\n",
      "Epoch 586/1000\n",
      "200/200 [==============================] - 2s 10ms/step - loss: 449.6188 - mean_absolute_error: 449.6188 - val_loss: 528.3383 - val_mean_absolute_error: 528.3383\n",
      "Epoch 587/1000\n",
      "200/200 [==============================] - 2s 10ms/step - loss: 448.6738 - mean_absolute_error: 448.6738 - val_loss: 528.3383 - val_mean_absolute_error: 528.3383\n",
      "Epoch 588/1000\n",
      "200/200 [==============================] - 2s 10ms/step - loss: 453.5517 - mean_absolute_error: 453.5517 - val_loss: 528.3383 - val_mean_absolute_error: 528.3383\n",
      "Epoch 589/1000\n",
      "200/200 [==============================] - 2s 10ms/step - loss: 449.5111 - mean_absolute_error: 449.5111 - val_loss: 528.3383 - val_mean_absolute_error: 528.3383\n",
      "Epoch 590/1000\n",
      "200/200 [==============================] - 2s 10ms/step - loss: 446.0547 - mean_absolute_error: 446.0547 - val_loss: 528.3383 - val_mean_absolute_error: 528.3383\n",
      "Epoch 591/1000\n",
      "200/200 [==============================] - 2s 10ms/step - loss: 448.2164 - mean_absolute_error: 448.2164 - val_loss: 528.3383 - val_mean_absolute_error: 528.3383\n",
      "\n",
      "Epoch 00591: ReduceLROnPlateau reducing learning rate to 1.4130390298381727e-34.\n",
      "Epoch 592/1000\n",
      "200/200 [==============================] - 2s 10ms/step - loss: 446.6107 - mean_absolute_error: 446.6107 - val_loss: 528.3383 - val_mean_absolute_error: 528.3383\n",
      "Epoch 593/1000\n",
      "200/200 [==============================] - 2s 10ms/step - loss: 450.6530 - mean_absolute_error: 450.6530 - val_loss: 528.3383 - val_mean_absolute_error: 528.3383\n",
      "Epoch 594/1000\n",
      "200/200 [==============================] - 2s 10ms/step - loss: 453.0437 - mean_absolute_error: 453.0437 - val_loss: 528.3383 - val_mean_absolute_error: 528.3383\n",
      "Epoch 595/1000\n",
      "200/200 [==============================] - 2s 10ms/step - loss: 451.2344 - mean_absolute_error: 451.2344 - val_loss: 528.3383 - val_mean_absolute_error: 528.3383\n",
      "Epoch 596/1000\n",
      "200/200 [==============================] - 2s 10ms/step - loss: 451.1368 - mean_absolute_error: 451.1368 - val_loss: 528.3383 - val_mean_absolute_error: 528.3383\n",
      "Epoch 597/1000\n",
      "200/200 [==============================] - 2s 10ms/step - loss: 452.9825 - mean_absolute_error: 452.9825 - val_loss: 528.3383 - val_mean_absolute_error: 528.3383\n",
      "Epoch 598/1000\n",
      "200/200 [==============================] - 2s 10ms/step - loss: 451.1449 - mean_absolute_error: 451.1449 - val_loss: 528.3383 - val_mean_absolute_error: 528.3383\n",
      "Epoch 599/1000\n",
      "200/200 [==============================] - 2s 10ms/step - loss: 450.3580 - mean_absolute_error: 450.3580 - val_loss: 528.3383 - val_mean_absolute_error: 528.3383\n",
      "Epoch 600/1000\n",
      "200/200 [==============================] - 2s 10ms/step - loss: 451.4931 - mean_absolute_error: 451.4931 - val_loss: 528.3383 - val_mean_absolute_error: 528.3383\n",
      "Epoch 601/1000\n",
      "200/200 [==============================] - 2s 10ms/step - loss: 448.3982 - mean_absolute_error: 448.3982 - val_loss: 528.3383 - val_mean_absolute_error: 528.3383\n",
      "\n",
      "Epoch 00601: ReduceLROnPlateau reducing learning rate to 4.239117089514518e-35.\n",
      "Epoch 602/1000\n",
      "200/200 [==============================] - 2s 11ms/step - loss: 451.9593 - mean_absolute_error: 451.9593 - val_loss: 528.3383 - val_mean_absolute_error: 528.3383\n",
      "Epoch 603/1000\n",
      "200/200 [==============================] - 2s 10ms/step - loss: 448.1662 - mean_absolute_error: 448.1662 - val_loss: 528.3383 - val_mean_absolute_error: 528.3383\n",
      "Epoch 604/1000\n",
      "200/200 [==============================] - 2s 10ms/step - loss: 449.0944 - mean_absolute_error: 449.0944 - val_loss: 528.3383 - val_mean_absolute_error: 528.3383\n",
      "Epoch 605/1000\n",
      "200/200 [==============================] - 2s 10ms/step - loss: 449.6033 - mean_absolute_error: 449.6033 - val_loss: 528.3383 - val_mean_absolute_error: 528.3383\n",
      "Epoch 606/1000\n",
      "200/200 [==============================] - 2s 10ms/step - loss: 452.7215 - mean_absolute_error: 452.7215 - val_loss: 528.3383 - val_mean_absolute_error: 528.3383\n",
      "Epoch 607/1000\n",
      "200/200 [==============================] - 2s 10ms/step - loss: 450.7752 - mean_absolute_error: 450.7752 - val_loss: 528.3383 - val_mean_absolute_error: 528.3383\n",
      "Epoch 608/1000\n",
      "200/200 [==============================] - 2s 10ms/step - loss: 450.4822 - mean_absolute_error: 450.4822 - val_loss: 528.3383 - val_mean_absolute_error: 528.3383\n",
      "Epoch 609/1000\n",
      "200/200 [==============================] - 2s 10ms/step - loss: 451.0411 - mean_absolute_error: 451.0411 - val_loss: 528.3383 - val_mean_absolute_error: 528.3383\n",
      "Epoch 610/1000\n",
      "200/200 [==============================] - 2s 10ms/step - loss: 451.3741 - mean_absolute_error: 451.3741 - val_loss: 528.3383 - val_mean_absolute_error: 528.3383\n",
      "Epoch 611/1000\n",
      "200/200 [==============================] - 2s 11ms/step - loss: 447.7575 - mean_absolute_error: 447.7575 - val_loss: 528.3383 - val_mean_absolute_error: 528.3383\n",
      "\n",
      "Epoch 00611: ReduceLROnPlateau reducing learning rate to 1.2717351096351998e-35.\n",
      "Epoch 612/1000\n",
      "200/200 [==============================] - 2s 11ms/step - loss: 452.5297 - mean_absolute_error: 452.5297 - val_loss: 528.3383 - val_mean_absolute_error: 528.3383\n",
      "Epoch 613/1000\n",
      "200/200 [==============================] - 2s 10ms/step - loss: 450.2572 - mean_absolute_error: 450.2572 - val_loss: 528.3383 - val_mean_absolute_error: 528.3383\n",
      "Epoch 614/1000\n",
      "200/200 [==============================] - 2s 10ms/step - loss: 453.5268 - mean_absolute_error: 453.5268 - val_loss: 528.3383 - val_mean_absolute_error: 528.3383\n",
      "Epoch 615/1000\n",
      "200/200 [==============================] - 2s 10ms/step - loss: 450.4377 - mean_absolute_error: 450.4377 - val_loss: 528.3383 - val_mean_absolute_error: 528.3383\n",
      "Epoch 616/1000\n",
      "200/200 [==============================] - 2s 10ms/step - loss: 452.0908 - mean_absolute_error: 452.0908 - val_loss: 528.3383 - val_mean_absolute_error: 528.3383\n",
      "Epoch 617/1000\n",
      "200/200 [==============================] - 2s 10ms/step - loss: 450.3527 - mean_absolute_error: 450.3527 - val_loss: 528.3383 - val_mean_absolute_error: 528.3383\n",
      "Epoch 618/1000\n",
      "200/200 [==============================] - 2s 10ms/step - loss: 452.7261 - mean_absolute_error: 452.7261 - val_loss: 528.3383 - val_mean_absolute_error: 528.3383\n",
      "Epoch 619/1000\n",
      "200/200 [==============================] - 2s 10ms/step - loss: 450.4831 - mean_absolute_error: 450.4831 - val_loss: 528.3383 - val_mean_absolute_error: 528.3383\n",
      "Epoch 620/1000\n",
      "200/200 [==============================] - 2s 10ms/step - loss: 452.1379 - mean_absolute_error: 452.1379 - val_loss: 528.3383 - val_mean_absolute_error: 528.3383\n",
      "Epoch 621/1000\n",
      "200/200 [==============================] - 2s 10ms/step - loss: 449.8380 - mean_absolute_error: 449.8380 - val_loss: 528.3383 - val_mean_absolute_error: 528.3383\n",
      "\n",
      "Epoch 00621: ReduceLROnPlateau reducing learning rate to 3.815205242809822e-36.\n",
      "Epoch 622/1000\n",
      "200/200 [==============================] - 2s 10ms/step - loss: 452.9827 - mean_absolute_error: 452.9827 - val_loss: 528.3383 - val_mean_absolute_error: 528.3383\n",
      "Epoch 623/1000\n",
      "200/200 [==============================] - 2s 10ms/step - loss: 451.9356 - mean_absolute_error: 451.9356 - val_loss: 528.3383 - val_mean_absolute_error: 528.3383\n",
      "Epoch 624/1000\n",
      "200/200 [==============================] - 2s 10ms/step - loss: 455.1205 - mean_absolute_error: 455.1205 - val_loss: 528.3383 - val_mean_absolute_error: 528.3383\n",
      "Epoch 625/1000\n",
      "200/200 [==============================] - 2s 10ms/step - loss: 450.7790 - mean_absolute_error: 450.7790 - val_loss: 528.3383 - val_mean_absolute_error: 528.3383\n",
      "Epoch 626/1000\n",
      "200/200 [==============================] - 2s 10ms/step - loss: 448.5225 - mean_absolute_error: 448.5225 - val_loss: 528.3383 - val_mean_absolute_error: 528.3383\n",
      "Epoch 627/1000\n",
      "200/200 [==============================] - 2s 10ms/step - loss: 451.4992 - mean_absolute_error: 451.4992 - val_loss: 528.3383 - val_mean_absolute_error: 528.3383\n",
      "Epoch 628/1000\n",
      "200/200 [==============================] - 2s 10ms/step - loss: 449.5522 - mean_absolute_error: 449.5522 - val_loss: 528.3383 - val_mean_absolute_error: 528.3383\n",
      "Epoch 629/1000\n",
      "200/200 [==============================] - 2s 10ms/step - loss: 450.5695 - mean_absolute_error: 450.5695 - val_loss: 528.3383 - val_mean_absolute_error: 528.3383\n",
      "Epoch 630/1000\n",
      "200/200 [==============================] - 2s 10ms/step - loss: 448.1787 - mean_absolute_error: 448.1787 - val_loss: 528.3383 - val_mean_absolute_error: 528.3383\n",
      "Epoch 631/1000\n",
      "200/200 [==============================] - 2s 10ms/step - loss: 450.4966 - mean_absolute_error: 450.4966 - val_loss: 528.3383 - val_mean_absolute_error: 528.3383\n",
      "\n",
      "Epoch 00631: ReduceLROnPlateau reducing learning rate to 1.1445615728429466e-36.\n",
      "Epoch 632/1000\n",
      "200/200 [==============================] - 2s 10ms/step - loss: 450.1653 - mean_absolute_error: 450.1653 - val_loss: 528.3383 - val_mean_absolute_error: 528.3383\n",
      "Epoch 633/1000\n",
      "200/200 [==============================] - 2s 10ms/step - loss: 448.5609 - mean_absolute_error: 448.5609 - val_loss: 528.3383 - val_mean_absolute_error: 528.3383\n",
      "Epoch 634/1000\n",
      "200/200 [==============================] - 2s 10ms/step - loss: 452.4542 - mean_absolute_error: 452.4542 - val_loss: 528.3383 - val_mean_absolute_error: 528.3383\n",
      "Epoch 635/1000\n",
      "200/200 [==============================] - 2s 10ms/step - loss: 451.9886 - mean_absolute_error: 451.9886 - val_loss: 528.3383 - val_mean_absolute_error: 528.3383\n",
      "Epoch 636/1000\n",
      "200/200 [==============================] - 2s 10ms/step - loss: 453.4866 - mean_absolute_error: 453.4866 - val_loss: 528.3383 - val_mean_absolute_error: 528.3383\n",
      "Epoch 637/1000\n",
      "200/200 [==============================] - 2s 10ms/step - loss: 454.7373 - mean_absolute_error: 454.7373 - val_loss: 528.3383 - val_mean_absolute_error: 528.3383\n",
      "Epoch 638/1000\n",
      "200/200 [==============================] - 2s 10ms/step - loss: 453.5045 - mean_absolute_error: 453.5045 - val_loss: 528.3383 - val_mean_absolute_error: 528.3383\n",
      "Epoch 639/1000\n",
      "200/200 [==============================] - 2s 10ms/step - loss: 451.5944 - mean_absolute_error: 451.5944 - val_loss: 528.3383 - val_mean_absolute_error: 528.3383\n",
      "Epoch 640/1000\n",
      "200/200 [==============================] - 2s 10ms/step - loss: 447.9083 - mean_absolute_error: 447.9083 - val_loss: 528.3383 - val_mean_absolute_error: 528.3383\n",
      "Epoch 641/1000\n",
      "200/200 [==============================] - 2s 10ms/step - loss: 453.9235 - mean_absolute_error: 453.9235 - val_loss: 528.3383 - val_mean_absolute_error: 528.3383\n",
      "\n",
      "Epoch 00641: ReduceLROnPlateau reducing learning rate to 3.4336847185288398e-37.\n",
      "Epoch 642/1000\n",
      "200/200 [==============================] - 2s 10ms/step - loss: 448.3603 - mean_absolute_error: 448.3603 - val_loss: 528.3383 - val_mean_absolute_error: 528.3383\n",
      "Epoch 643/1000\n",
      "200/200 [==============================] - 2s 10ms/step - loss: 450.1974 - mean_absolute_error: 450.1974 - val_loss: 528.3383 - val_mean_absolute_error: 528.3383\n",
      "Epoch 644/1000\n",
      "200/200 [==============================] - 2s 10ms/step - loss: 452.8889 - mean_absolute_error: 452.8889 - val_loss: 528.3383 - val_mean_absolute_error: 528.3383\n",
      "Epoch 645/1000\n",
      "200/200 [==============================] - 2s 10ms/step - loss: 452.6191 - mean_absolute_error: 452.6191 - val_loss: 528.3383 - val_mean_absolute_error: 528.3383\n",
      "Epoch 646/1000\n",
      "200/200 [==============================] - 2s 10ms/step - loss: 448.2250 - mean_absolute_error: 448.2250 - val_loss: 528.3383 - val_mean_absolute_error: 528.3383\n",
      "Epoch 647/1000\n",
      "200/200 [==============================] - 2s 10ms/step - loss: 451.6429 - mean_absolute_error: 451.6429 - val_loss: 528.3383 - val_mean_absolute_error: 528.3383\n",
      "Epoch 648/1000\n",
      "200/200 [==============================] - 2s 10ms/step - loss: 451.1520 - mean_absolute_error: 451.1520 - val_loss: 528.3383 - val_mean_absolute_error: 528.3383\n",
      "Epoch 649/1000\n",
      "200/200 [==============================] - 2s 11ms/step - loss: 451.2092 - mean_absolute_error: 451.2092 - val_loss: 528.3383 - val_mean_absolute_error: 528.3383\n",
      "Epoch 650/1000\n",
      "200/200 [==============================] - 2s 10ms/step - loss: 454.2865 - mean_absolute_error: 454.2865 - val_loss: 528.3383 - val_mean_absolute_error: 528.3383\n",
      "Epoch 651/1000\n",
      "200/200 [==============================] - 2s 10ms/step - loss: 449.6842 - mean_absolute_error: 449.6842 - val_loss: 528.3383 - val_mean_absolute_error: 528.3383\n",
      "\n",
      "Epoch 00651: ReduceLROnPlateau reducing learning rate to 1.0301054424635824e-37.\n",
      "Epoch 652/1000\n",
      "200/200 [==============================] - 2s 11ms/step - loss: 446.4606 - mean_absolute_error: 446.4606 - val_loss: 528.3383 - val_mean_absolute_error: 528.3383\n",
      "Epoch 653/1000\n",
      "200/200 [==============================] - 2s 10ms/step - loss: 452.1618 - mean_absolute_error: 452.1618 - val_loss: 528.3383 - val_mean_absolute_error: 528.3383\n",
      "Epoch 654/1000\n"
     ]
    },
    {
     "name": "stdout",
     "output_type": "stream",
     "text": [
      "200/200 [==============================] - 2s 10ms/step - loss: 449.0394 - mean_absolute_error: 449.0394 - val_loss: 528.3383 - val_mean_absolute_error: 528.3383\n",
      "Epoch 655/1000\n",
      "200/200 [==============================] - 2s 10ms/step - loss: 449.4414 - mean_absolute_error: 449.4414 - val_loss: 528.3383 - val_mean_absolute_error: 528.3383\n",
      "Epoch 656/1000\n",
      "200/200 [==============================] - 2s 10ms/step - loss: 451.5312 - mean_absolute_error: 451.5312 - val_loss: 528.3383 - val_mean_absolute_error: 528.3383\n",
      "Epoch 657/1000\n",
      "200/200 [==============================] - 2s 10ms/step - loss: 453.9448 - mean_absolute_error: 453.9448 - val_loss: 528.3383 - val_mean_absolute_error: 528.3383\n",
      "Epoch 658/1000\n",
      "200/200 [==============================] - 2s 10ms/step - loss: 453.5674 - mean_absolute_error: 453.5674 - val_loss: 528.3383 - val_mean_absolute_error: 528.3383\n",
      "Epoch 659/1000\n",
      "200/200 [==============================] - 2s 10ms/step - loss: 448.5724 - mean_absolute_error: 448.5724 - val_loss: 528.3383 - val_mean_absolute_error: 528.3383\n",
      "Epoch 660/1000\n",
      "200/200 [==============================] - 2s 10ms/step - loss: 452.2341 - mean_absolute_error: 452.2341 - val_loss: 528.3383 - val_mean_absolute_error: 528.3383\n",
      "Epoch 661/1000\n",
      "200/200 [==============================] - 2s 10ms/step - loss: 448.2626 - mean_absolute_error: 448.2626 - val_loss: 528.3383 - val_mean_absolute_error: 528.3383\n",
      "\n",
      "Epoch 00661: ReduceLROnPlateau reducing learning rate to 3.0903164619154e-38.\n",
      "Epoch 662/1000\n",
      "200/200 [==============================] - 2s 10ms/step - loss: 450.5290 - mean_absolute_error: 450.5290 - val_loss: 528.3383 - val_mean_absolute_error: 528.3383\n",
      "Epoch 663/1000\n",
      "200/200 [==============================] - 2s 10ms/step - loss: 448.9540 - mean_absolute_error: 448.9540 - val_loss: 528.3383 - val_mean_absolute_error: 528.3383\n",
      "Epoch 664/1000\n",
      "200/200 [==============================] - 2s 10ms/step - loss: 447.9568 - mean_absolute_error: 447.9568 - val_loss: 528.3383 - val_mean_absolute_error: 528.3383\n",
      "Epoch 665/1000\n",
      "200/200 [==============================] - 2s 10ms/step - loss: 449.3062 - mean_absolute_error: 449.3062 - val_loss: 528.3383 - val_mean_absolute_error: 528.3383\n",
      "Epoch 666/1000\n",
      "200/200 [==============================] - 2s 10ms/step - loss: 453.1944 - mean_absolute_error: 453.1944 - val_loss: 528.3383 - val_mean_absolute_error: 528.3383\n",
      "Epoch 667/1000\n",
      "200/200 [==============================] - 2s 10ms/step - loss: 448.1238 - mean_absolute_error: 448.1238 - val_loss: 528.3383 - val_mean_absolute_error: 528.3383\n",
      "Epoch 668/1000\n",
      "200/200 [==============================] - 2s 10ms/step - loss: 448.4774 - mean_absolute_error: 448.4774 - val_loss: 528.3383 - val_mean_absolute_error: 528.3383\n",
      "Epoch 669/1000\n",
      "200/200 [==============================] - 2s 10ms/step - loss: 453.7858 - mean_absolute_error: 453.7858 - val_loss: 528.3383 - val_mean_absolute_error: 528.3383\n",
      "Epoch 670/1000\n",
      "200/200 [==============================] - 2s 10ms/step - loss: 449.4219 - mean_absolute_error: 449.4219 - val_loss: 528.3383 - val_mean_absolute_error: 528.3383\n",
      "Epoch 671/1000\n",
      "200/200 [==============================] - 2s 9ms/step - loss: 444.6085 - mean_absolute_error: 444.6085 - val_loss: 528.3383 - val_mean_absolute_error: 528.3383\n",
      "\n",
      "Epoch 00671: ReduceLROnPlateau reducing learning rate to 9.270949722057831e-39.\n",
      "Epoch 672/1000\n",
      "200/200 [==============================] - 2s 10ms/step - loss: 449.2372 - mean_absolute_error: 449.2372 - val_loss: 528.3383 - val_mean_absolute_error: 528.3383\n",
      "Epoch 673/1000\n",
      "200/200 [==============================] - 2s 10ms/step - loss: 449.9691 - mean_absolute_error: 449.9691 - val_loss: 528.3383 - val_mean_absolute_error: 528.3383\n",
      "Epoch 674/1000\n",
      "200/200 [==============================] - 2s 10ms/step - loss: 454.2542 - mean_absolute_error: 454.2542 - val_loss: 528.3383 - val_mean_absolute_error: 528.3383\n",
      "Epoch 675/1000\n",
      "200/200 [==============================] - 2s 10ms/step - loss: 447.0142 - mean_absolute_error: 447.0142 - val_loss: 528.3383 - val_mean_absolute_error: 528.3383\n",
      "Epoch 676/1000\n",
      "200/200 [==============================] - 2s 10ms/step - loss: 454.0528 - mean_absolute_error: 454.0528 - val_loss: 528.3383 - val_mean_absolute_error: 528.3383\n",
      "Epoch 677/1000\n",
      "200/200 [==============================] - 2s 10ms/step - loss: 449.9602 - mean_absolute_error: 449.9602 - val_loss: 528.3383 - val_mean_absolute_error: 528.3383\n",
      "Epoch 678/1000\n",
      "200/200 [==============================] - 2s 10ms/step - loss: 451.1600 - mean_absolute_error: 451.1600 - val_loss: 528.3383 - val_mean_absolute_error: 528.3383\n",
      "Epoch 679/1000\n",
      "200/200 [==============================] - 2s 10ms/step - loss: 449.5152 - mean_absolute_error: 449.5152 - val_loss: 528.3383 - val_mean_absolute_error: 528.3383\n",
      "Epoch 680/1000\n",
      "200/200 [==============================] - 2s 10ms/step - loss: 452.9570 - mean_absolute_error: 452.9570 - val_loss: 528.3383 - val_mean_absolute_error: 528.3383\n",
      "Epoch 681/1000\n",
      "200/200 [==============================] - 2s 10ms/step - loss: 453.0279 - mean_absolute_error: 453.0279 - val_loss: 528.3383 - val_mean_absolute_error: 528.3383\n",
      "\n",
      "Epoch 00681: ReduceLROnPlateau reducing learning rate to 2.781285000695257e-39.\n",
      "Epoch 682/1000\n",
      "200/200 [==============================] - 2s 11ms/step - loss: 446.2004 - mean_absolute_error: 446.2004 - val_loss: 528.3383 - val_mean_absolute_error: 528.3383\n",
      "Epoch 683/1000\n",
      "200/200 [==============================] - 2s 10ms/step - loss: 451.3324 - mean_absolute_error: 451.3324 - val_loss: 528.3383 - val_mean_absolute_error: 528.3383\n",
      "Epoch 684/1000\n",
      "200/200 [==============================] - 2s 10ms/step - loss: 446.3635 - mean_absolute_error: 446.3635 - val_loss: 528.3383 - val_mean_absolute_error: 528.3383\n",
      "Epoch 685/1000\n",
      "200/200 [==============================] - 2s 10ms/step - loss: 453.5192 - mean_absolute_error: 453.5192 - val_loss: 528.3383 - val_mean_absolute_error: 528.3383\n",
      "Epoch 686/1000\n",
      "200/200 [==============================] - 2s 10ms/step - loss: 452.4835 - mean_absolute_error: 452.4835 - val_loss: 528.3383 - val_mean_absolute_error: 528.3383\n",
      "Epoch 687/1000\n",
      "200/200 [==============================] - 2s 10ms/step - loss: 454.2189 - mean_absolute_error: 454.2189 - val_loss: 528.3383 - val_mean_absolute_error: 528.3383\n",
      "Epoch 688/1000\n",
      "200/200 [==============================] - 2s 10ms/step - loss: 449.3605 - mean_absolute_error: 449.3605 - val_loss: 528.3383 - val_mean_absolute_error: 528.3383\n",
      "Epoch 689/1000\n",
      "200/200 [==============================] - 2s 10ms/step - loss: 452.1802 - mean_absolute_error: 452.1802 - val_loss: 528.3383 - val_mean_absolute_error: 528.3383\n",
      "Epoch 690/1000\n",
      "200/200 [==============================] - 2s 10ms/step - loss: 446.1414 - mean_absolute_error: 446.1414 - val_loss: 528.3383 - val_mean_absolute_error: 528.3383\n",
      "Epoch 691/1000\n",
      "200/200 [==============================] - 2s 10ms/step - loss: 451.4940 - mean_absolute_error: 451.4940 - val_loss: 528.3383 - val_mean_absolute_error: 528.3383\n",
      "\n",
      "Epoch 00691: ReduceLROnPlateau reducing learning rate to 8.343853740917153e-40.\n",
      "Epoch 692/1000\n",
      "200/200 [==============================] - 2s 10ms/step - loss: 446.3822 - mean_absolute_error: 446.3822 - val_loss: 528.3383 - val_mean_absolute_error: 528.3383\n",
      "Epoch 693/1000\n",
      "200/200 [==============================] - 2s 10ms/step - loss: 450.1315 - mean_absolute_error: 450.1315 - val_loss: 528.3383 - val_mean_absolute_error: 528.3383\n",
      "Epoch 694/1000\n",
      "200/200 [==============================] - 2s 10ms/step - loss: 449.9578 - mean_absolute_error: 449.9578 - val_loss: 528.3383 - val_mean_absolute_error: 528.3383\n",
      "Epoch 695/1000\n",
      "200/200 [==============================] - 2s 10ms/step - loss: 449.7183 - mean_absolute_error: 449.7183 - val_loss: 528.3383 - val_mean_absolute_error: 528.3383\n",
      "Epoch 696/1000\n",
      "200/200 [==============================] - 2s 10ms/step - loss: 448.6016 - mean_absolute_error: 448.6016 - val_loss: 528.3383 - val_mean_absolute_error: 528.3383\n",
      "Epoch 697/1000\n",
      "200/200 [==============================] - 2s 10ms/step - loss: 447.4173 - mean_absolute_error: 447.4173 - val_loss: 528.3383 - val_mean_absolute_error: 528.3383\n",
      "Epoch 698/1000\n",
      "200/200 [==============================] - 2s 10ms/step - loss: 449.9731 - mean_absolute_error: 449.9731 - val_loss: 528.3383 - val_mean_absolute_error: 528.3383\n",
      "Epoch 699/1000\n",
      "200/200 [==============================] - 2s 10ms/step - loss: 450.6765 - mean_absolute_error: 450.6765 - val_loss: 528.3383 - val_mean_absolute_error: 528.3383\n",
      "Epoch 700/1000\n",
      "200/200 [==============================] - 2s 10ms/step - loss: 449.6906 - mean_absolute_error: 449.6906 - val_loss: 528.3383 - val_mean_absolute_error: 528.3383\n",
      "Epoch 701/1000\n",
      "200/200 [==============================] - 2s 10ms/step - loss: 451.7540 - mean_absolute_error: 451.7540 - val_loss: 528.3383 - val_mean_absolute_error: 528.3383\n",
      "\n",
      "Epoch 00701: ReduceLROnPlateau reducing learning rate to 2.5031548611065284e-40.\n",
      "Epoch 702/1000\n",
      "200/200 [==============================] - 2s 10ms/step - loss: 450.4487 - mean_absolute_error: 450.4487 - val_loss: 528.3383 - val_mean_absolute_error: 528.3383\n",
      "Epoch 703/1000\n",
      "200/200 [==============================] - 2s 10ms/step - loss: 447.8015 - mean_absolute_error: 447.8015 - val_loss: 528.3383 - val_mean_absolute_error: 528.3383\n",
      "Epoch 704/1000\n",
      "200/200 [==============================] - 2s 10ms/step - loss: 447.4045 - mean_absolute_error: 447.4045 - val_loss: 528.3383 - val_mean_absolute_error: 528.3383\n",
      "Epoch 705/1000\n",
      "200/200 [==============================] - 2s 10ms/step - loss: 450.8669 - mean_absolute_error: 450.8669 - val_loss: 528.3383 - val_mean_absolute_error: 528.3383\n",
      "Epoch 706/1000\n",
      "200/200 [==============================] - 2s 10ms/step - loss: 451.4854 - mean_absolute_error: 451.4854 - val_loss: 528.3383 - val_mean_absolute_error: 528.3383\n",
      "Epoch 707/1000\n",
      "200/200 [==============================] - 2s 10ms/step - loss: 450.4004 - mean_absolute_error: 450.4004 - val_loss: 528.3383 - val_mean_absolute_error: 528.3383\n",
      "Epoch 708/1000\n",
      "200/200 [==============================] - 2s 10ms/step - loss: 453.3307 - mean_absolute_error: 453.3307 - val_loss: 528.3383 - val_mean_absolute_error: 528.3383\n",
      "Epoch 709/1000\n",
      "200/200 [==============================] - 2s 10ms/step - loss: 448.4586 - mean_absolute_error: 448.4586 - val_loss: 528.3383 - val_mean_absolute_error: 528.3383\n",
      "Epoch 710/1000\n",
      "200/200 [==============================] - 2s 10ms/step - loss: 446.3422 - mean_absolute_error: 446.3422 - val_loss: 528.3383 - val_mean_absolute_error: 528.3383\n",
      "Epoch 711/1000\n",
      "200/200 [==============================] - 2s 10ms/step - loss: 447.3139 - mean_absolute_error: 447.3139 - val_loss: 528.3383 - val_mean_absolute_error: 528.3383\n",
      "\n",
      "Epoch 00711: ReduceLROnPlateau reducing learning rate to 7.509460379424191e-41.\n",
      "Epoch 712/1000\n",
      "200/200 [==============================] - 2s 11ms/step - loss: 454.7750 - mean_absolute_error: 454.7750 - val_loss: 528.3383 - val_mean_absolute_error: 528.3383\n",
      "Epoch 713/1000\n",
      "200/200 [==============================] - 2s 10ms/step - loss: 450.9660 - mean_absolute_error: 450.9660 - val_loss: 528.3383 - val_mean_absolute_error: 528.3383\n",
      "Epoch 714/1000\n",
      "200/200 [==============================] - 2s 10ms/step - loss: 450.8535 - mean_absolute_error: 450.8535 - val_loss: 528.3383 - val_mean_absolute_error: 528.3383\n",
      "Epoch 715/1000\n",
      "200/200 [==============================] - 2s 10ms/step - loss: 452.4033 - mean_absolute_error: 452.4033 - val_loss: 528.3383 - val_mean_absolute_error: 528.3383\n",
      "Epoch 716/1000\n",
      "200/200 [==============================] - 2s 10ms/step - loss: 446.0186 - mean_absolute_error: 446.0186 - val_loss: 528.3383 - val_mean_absolute_error: 528.3383\n",
      "Epoch 717/1000\n",
      "200/200 [==============================] - 2s 10ms/step - loss: 451.1969 - mean_absolute_error: 451.1969 - val_loss: 528.3383 - val_mean_absolute_error: 528.3383\n",
      "Epoch 718/1000\n",
      "200/200 [==============================] - 2s 10ms/step - loss: 450.9064 - mean_absolute_error: 450.9064 - val_loss: 528.3383 - val_mean_absolute_error: 528.3383\n",
      "Epoch 719/1000\n",
      "200/200 [==============================] - 2s 10ms/step - loss: 450.1240 - mean_absolute_error: 450.1240 - val_loss: 528.3383 - val_mean_absolute_error: 528.3383\n",
      "Epoch 720/1000\n",
      "200/200 [==============================] - 2s 10ms/step - loss: 451.9611 - mean_absolute_error: 451.9611 - val_loss: 528.3383 - val_mean_absolute_error: 528.3383\n",
      "Epoch 721/1000\n",
      "200/200 [==============================] - 2s 10ms/step - loss: 451.2691 - mean_absolute_error: 451.2691 - val_loss: 528.3383 - val_mean_absolute_error: 528.3383\n",
      "\n",
      "Epoch 00721: ReduceLROnPlateau reducing learning rate to 2.2528255021410785e-41.\n",
      "Epoch 722/1000\n",
      "200/200 [==============================] - 2s 10ms/step - loss: 449.1801 - mean_absolute_error: 449.1801 - val_loss: 528.3383 - val_mean_absolute_error: 528.3383\n",
      "Epoch 723/1000\n",
      "200/200 [==============================] - 2s 10ms/step - loss: 448.9149 - mean_absolute_error: 448.9149 - val_loss: 528.3383 - val_mean_absolute_error: 528.3383\n",
      "Epoch 724/1000\n",
      "200/200 [==============================] - 2s 10ms/step - loss: 451.4255 - mean_absolute_error: 451.4255 - val_loss: 528.3383 - val_mean_absolute_error: 528.3383\n",
      "Epoch 725/1000\n",
      "200/200 [==============================] - 2s 10ms/step - loss: 450.1153 - mean_absolute_error: 450.1153 - val_loss: 528.3383 - val_mean_absolute_error: 528.3383\n",
      "Epoch 726/1000\n",
      "200/200 [==============================] - 2s 10ms/step - loss: 454.4135 - mean_absolute_error: 454.4135 - val_loss: 528.3383 - val_mean_absolute_error: 528.3383\n",
      "Epoch 727/1000\n",
      "200/200 [==============================] - 2s 10ms/step - loss: 452.1300 - mean_absolute_error: 452.1300 - val_loss: 528.3383 - val_mean_absolute_error: 528.3383\n",
      "Epoch 728/1000\n",
      "200/200 [==============================] - 2s 10ms/step - loss: 453.2447 - mean_absolute_error: 453.2447 - val_loss: 528.3383 - val_mean_absolute_error: 528.3383\n",
      "Epoch 729/1000\n",
      "200/200 [==============================] - 2s 10ms/step - loss: 449.1141 - mean_absolute_error: 449.1141 - val_loss: 528.3383 - val_mean_absolute_error: 528.3383\n",
      "Epoch 730/1000\n",
      "200/200 [==============================] - 2s 10ms/step - loss: 449.6032 - mean_absolute_error: 449.6032 - val_loss: 528.3383 - val_mean_absolute_error: 528.3383\n",
      "Epoch 731/1000\n",
      "200/200 [==============================] - 2s 10ms/step - loss: 453.6704 - mean_absolute_error: 453.6704 - val_loss: 528.3383 - val_mean_absolute_error: 528.3383\n",
      "\n",
      "Epoch 00731: ReduceLROnPlateau reducing learning rate to 6.758602623285024e-42.\n",
      "Epoch 732/1000\n",
      "200/200 [==============================] - 2s 10ms/step - loss: 448.7557 - mean_absolute_error: 448.7557 - val_loss: 528.3383 - val_mean_absolute_error: 528.3383\n",
      "Epoch 733/1000\n",
      "200/200 [==============================] - 2s 10ms/step - loss: 449.4286 - mean_absolute_error: 449.4286 - val_loss: 528.3383 - val_mean_absolute_error: 528.3383\n",
      "Epoch 734/1000\n",
      "200/200 [==============================] - 2s 10ms/step - loss: 450.6455 - mean_absolute_error: 450.6455 - val_loss: 528.3383 - val_mean_absolute_error: 528.3383\n",
      "Epoch 735/1000\n",
      "200/200 [==============================] - 2s 10ms/step - loss: 452.8050 - mean_absolute_error: 452.8050 - val_loss: 528.3383 - val_mean_absolute_error: 528.3383\n",
      "Epoch 736/1000\n",
      "200/200 [==============================] - 2s 10ms/step - loss: 449.7428 - mean_absolute_error: 449.7428 - val_loss: 528.3383 - val_mean_absolute_error: 528.3383\n",
      "Epoch 737/1000\n",
      "200/200 [==============================] - 2s 10ms/step - loss: 447.8966 - mean_absolute_error: 447.8966 - val_loss: 528.3383 - val_mean_absolute_error: 528.3383\n",
      "Epoch 738/1000\n",
      "200/200 [==============================] - 2s 10ms/step - loss: 448.4291 - mean_absolute_error: 448.4291 - val_loss: 528.3383 - val_mean_absolute_error: 528.3383\n",
      "Epoch 739/1000\n",
      "200/200 [==============================] - 2s 10ms/step - loss: 448.8663 - mean_absolute_error: 448.8663 - val_loss: 528.3383 - val_mean_absolute_error: 528.3383\n",
      "Epoch 740/1000\n",
      "200/200 [==============================] - 2s 10ms/step - loss: 456.2615 - mean_absolute_error: 456.2615 - val_loss: 528.3383 - val_mean_absolute_error: 528.3383\n",
      "Epoch 741/1000\n",
      "200/200 [==============================] - 2s 10ms/step - loss: 452.7504 - mean_absolute_error: 452.7504 - val_loss: 528.3383 - val_mean_absolute_error: 528.3383\n",
      "\n",
      "Epoch 00741: ReduceLROnPlateau reducing learning rate to 2.0275387480315776e-42.\n",
      "Epoch 742/1000\n"
     ]
    },
    {
     "name": "stdout",
     "output_type": "stream",
     "text": [
      "200/200 [==============================] - 2s 10ms/step - loss: 449.8159 - mean_absolute_error: 449.8159 - val_loss: 528.3383 - val_mean_absolute_error: 528.3383\n",
      "Epoch 743/1000\n",
      "200/200 [==============================] - 2s 10ms/step - loss: 451.3485 - mean_absolute_error: 451.3485 - val_loss: 528.3383 - val_mean_absolute_error: 528.3383\n",
      "Epoch 744/1000\n",
      "200/200 [==============================] - 2s 10ms/step - loss: 451.8292 - mean_absolute_error: 451.8292 - val_loss: 528.3383 - val_mean_absolute_error: 528.3383\n",
      "Epoch 745/1000\n",
      "200/200 [==============================] - 2s 10ms/step - loss: 455.4753 - mean_absolute_error: 455.4753 - val_loss: 528.3383 - val_mean_absolute_error: 528.3383\n",
      "Epoch 746/1000\n",
      "200/200 [==============================] - 2s 10ms/step - loss: 448.9180 - mean_absolute_error: 448.9180 - val_loss: 528.3383 - val_mean_absolute_error: 528.3383\n",
      "Epoch 747/1000\n",
      "200/200 [==============================] - 2s 10ms/step - loss: 451.3918 - mean_absolute_error: 451.3918 - val_loss: 528.3383 - val_mean_absolute_error: 528.3383\n",
      "Epoch 748/1000\n",
      "200/200 [==============================] - 2s 10ms/step - loss: 448.8370 - mean_absolute_error: 448.8370 - val_loss: 528.3383 - val_mean_absolute_error: 528.3383\n",
      "Epoch 749/1000\n",
      "200/200 [==============================] - 2s 10ms/step - loss: 448.2008 - mean_absolute_error: 448.2008 - val_loss: 528.3383 - val_mean_absolute_error: 528.3383\n",
      "Epoch 750/1000\n",
      "200/200 [==============================] - 2s 10ms/step - loss: 451.9678 - mean_absolute_error: 451.9678 - val_loss: 528.3383 - val_mean_absolute_error: 528.3383\n",
      "Epoch 751/1000\n",
      "200/200 [==============================] - 2s 10ms/step - loss: 451.5790 - mean_absolute_error: 451.5790 - val_loss: 528.3383 - val_mean_absolute_error: 528.3383\n",
      "\n",
      "Epoch 00751: ReduceLROnPlateau reducing learning rate to 6.0830366336340304e-43.\n",
      "Epoch 752/1000\n",
      "200/200 [==============================] - 2s 10ms/step - loss: 451.7586 - mean_absolute_error: 451.7586 - val_loss: 528.3383 - val_mean_absolute_error: 528.3383\n",
      "Epoch 753/1000\n",
      "200/200 [==============================] - 2s 10ms/step - loss: 448.5992 - mean_absolute_error: 448.5992 - val_loss: 528.3383 - val_mean_absolute_error: 528.3383\n",
      "Epoch 754/1000\n",
      "200/200 [==============================] - 2s 10ms/step - loss: 447.5967 - mean_absolute_error: 447.5967 - val_loss: 528.3383 - val_mean_absolute_error: 528.3383\n",
      "Epoch 755/1000\n",
      "200/200 [==============================] - 2s 10ms/step - loss: 452.4457 - mean_absolute_error: 452.4457 - val_loss: 528.3383 - val_mean_absolute_error: 528.3383\n",
      "Epoch 756/1000\n",
      "200/200 [==============================] - 2s 10ms/step - loss: 449.1025 - mean_absolute_error: 449.1025 - val_loss: 528.3383 - val_mean_absolute_error: 528.3383\n",
      "Epoch 757/1000\n",
      "200/200 [==============================] - 2s 10ms/step - loss: 450.0239 - mean_absolute_error: 450.0239 - val_loss: 528.3383 - val_mean_absolute_error: 528.3383\n",
      "Epoch 758/1000\n",
      "200/200 [==============================] - 2s 10ms/step - loss: 450.6186 - mean_absolute_error: 450.6186 - val_loss: 528.3383 - val_mean_absolute_error: 528.3383\n",
      "Epoch 759/1000\n",
      "200/200 [==============================] - 2s 10ms/step - loss: 449.5086 - mean_absolute_error: 449.5086 - val_loss: 528.3383 - val_mean_absolute_error: 528.3383\n",
      "Epoch 760/1000\n",
      "200/200 [==============================] - 2s 11ms/step - loss: 450.4172 - mean_absolute_error: 450.4172 - val_loss: 528.3383 - val_mean_absolute_error: 528.3383\n",
      "Epoch 761/1000\n",
      "200/200 [==============================] - 2s 11ms/step - loss: 450.4524 - mean_absolute_error: 450.4524 - val_loss: 528.3383 - val_mean_absolute_error: 528.3383\n",
      "\n",
      "Epoch 00761: ReduceLROnPlateau reducing learning rate to 1.8244906005509117e-43.\n",
      "Epoch 762/1000\n",
      "200/200 [==============================] - 2s 10ms/step - loss: 451.8296 - mean_absolute_error: 451.8296 - val_loss: 528.3383 - val_mean_absolute_error: 528.3383\n",
      "Epoch 763/1000\n",
      "200/200 [==============================] - 2s 10ms/step - loss: 452.3986 - mean_absolute_error: 452.3986 - val_loss: 528.3383 - val_mean_absolute_error: 528.3383\n",
      "Epoch 764/1000\n",
      "200/200 [==============================] - 2s 10ms/step - loss: 445.9366 - mean_absolute_error: 445.9366 - val_loss: 528.3383 - val_mean_absolute_error: 528.3383\n",
      "Epoch 765/1000\n",
      "200/200 [==============================] - 2s 10ms/step - loss: 451.4482 - mean_absolute_error: 451.4482 - val_loss: 528.3383 - val_mean_absolute_error: 528.3383\n",
      "Epoch 766/1000\n",
      "200/200 [==============================] - 2s 10ms/step - loss: 451.8773 - mean_absolute_error: 451.8773 - val_loss: 528.3383 - val_mean_absolute_error: 528.3383\n",
      "Epoch 767/1000\n",
      "200/200 [==============================] - 2s 10ms/step - loss: 449.9076 - mean_absolute_error: 449.9076 - val_loss: 528.3383 - val_mean_absolute_error: 528.3383\n",
      "Epoch 768/1000\n",
      "200/200 [==============================] - 2s 10ms/step - loss: 452.5119 - mean_absolute_error: 452.5119 - val_loss: 528.3383 - val_mean_absolute_error: 528.3383\n",
      "Epoch 769/1000\n",
      "200/200 [==============================] - 2s 10ms/step - loss: 450.6042 - mean_absolute_error: 450.6042 - val_loss: 528.3383 - val_mean_absolute_error: 528.3383\n",
      "Epoch 770/1000\n",
      "200/200 [==============================] - 2s 10ms/step - loss: 455.7414 - mean_absolute_error: 455.7414 - val_loss: 528.3383 - val_mean_absolute_error: 528.3383\n",
      "Epoch 771/1000\n",
      "200/200 [==============================] - 2s 10ms/step - loss: 448.3853 - mean_absolute_error: 448.3853 - val_loss: 528.3383 - val_mean_absolute_error: 528.3383\n",
      "\n",
      "Epoch 00771: ReduceLROnPlateau reducing learning rate to 5.465064010866787e-44.\n",
      "Epoch 772/1000\n",
      "200/200 [==============================] - 2s 10ms/step - loss: 449.1903 - mean_absolute_error: 449.1903 - val_loss: 528.3383 - val_mean_absolute_error: 528.3383\n",
      "Epoch 773/1000\n",
      "200/200 [==============================] - 2s 10ms/step - loss: 452.2553 - mean_absolute_error: 452.2553 - val_loss: 528.3383 - val_mean_absolute_error: 528.3383\n",
      "Epoch 774/1000\n",
      "200/200 [==============================] - 2s 10ms/step - loss: 454.7076 - mean_absolute_error: 454.7076 - val_loss: 528.3383 - val_mean_absolute_error: 528.3383\n",
      "Epoch 775/1000\n",
      "200/200 [==============================] - 2s 10ms/step - loss: 452.7379 - mean_absolute_error: 452.7379 - val_loss: 528.3383 - val_mean_absolute_error: 528.3383\n",
      "Epoch 776/1000\n",
      "200/200 [==============================] - 2s 10ms/step - loss: 452.3113 - mean_absolute_error: 452.3113 - val_loss: 528.3383 - val_mean_absolute_error: 528.3383\n",
      "Epoch 777/1000\n",
      "200/200 [==============================] - 2s 10ms/step - loss: 449.7098 - mean_absolute_error: 449.7098 - val_loss: 528.3383 - val_mean_absolute_error: 528.3383\n",
      "Epoch 778/1000\n",
      "200/200 [==============================] - 2s 10ms/step - loss: 447.3977 - mean_absolute_error: 447.3977 - val_loss: 528.3383 - val_mean_absolute_error: 528.3383\n",
      "Epoch 779/1000\n",
      "200/200 [==============================] - 2s 10ms/step - loss: 447.5092 - mean_absolute_error: 447.5092 - val_loss: 528.3383 - val_mean_absolute_error: 528.3383\n",
      "Epoch 780/1000\n",
      "200/200 [==============================] - 2s 10ms/step - loss: 453.3862 - mean_absolute_error: 453.3862 - val_loss: 528.3383 - val_mean_absolute_error: 528.3383\n",
      "Epoch 781/1000\n",
      "200/200 [==============================] - 2s 11ms/step - loss: 449.6941 - mean_absolute_error: 449.6941 - val_loss: 528.3383 - val_mean_absolute_error: 528.3383\n",
      "\n",
      "Epoch 00781: ReduceLROnPlateau reducing learning rate to 1.6395192032600359e-44.\n",
      "Epoch 782/1000\n",
      "200/200 [==============================] - 2s 10ms/step - loss: 452.3309 - mean_absolute_error: 452.3309 - val_loss: 528.3383 - val_mean_absolute_error: 528.3383\n",
      "Epoch 783/1000\n",
      "200/200 [==============================] - 2s 11ms/step - loss: 455.9184 - mean_absolute_error: 455.9184 - val_loss: 528.3383 - val_mean_absolute_error: 528.3383\n",
      "Epoch 784/1000\n",
      "200/200 [==============================] - 2s 10ms/step - loss: 451.0811 - mean_absolute_error: 451.0811 - val_loss: 528.3383 - val_mean_absolute_error: 528.3383\n",
      "Epoch 785/1000\n",
      "200/200 [==============================] - 2s 10ms/step - loss: 447.5280 - mean_absolute_error: 447.5280 - val_loss: 528.3383 - val_mean_absolute_error: 528.3383\n",
      "Epoch 786/1000\n",
      "200/200 [==============================] - 2s 10ms/step - loss: 451.2731 - mean_absolute_error: 451.2731 - val_loss: 528.3383 - val_mean_absolute_error: 528.3383\n",
      "Epoch 787/1000\n",
      "200/200 [==============================] - 2s 11ms/step - loss: 447.9180 - mean_absolute_error: 447.9180 - val_loss: 528.3383 - val_mean_absolute_error: 528.3383\n",
      "Epoch 788/1000\n",
      "200/200 [==============================] - 2s 10ms/step - loss: 448.1070 - mean_absolute_error: 448.1070 - val_loss: 528.3383 - val_mean_absolute_error: 528.3383\n",
      "Epoch 789/1000\n",
      "200/200 [==============================] - 2s 11ms/step - loss: 448.9120 - mean_absolute_error: 448.9120 - val_loss: 528.3383 - val_mean_absolute_error: 528.3383\n",
      "Epoch 790/1000\n",
      "200/200 [==============================] - 2s 10ms/step - loss: 452.2054 - mean_absolute_error: 452.2054 - val_loss: 528.3383 - val_mean_absolute_error: 528.3383\n",
      "Epoch 791/1000\n",
      "200/200 [==============================] - 2s 11ms/step - loss: 451.6209 - mean_absolute_error: 451.6209 - val_loss: 528.3383 - val_mean_absolute_error: 528.3383\n",
      "\n",
      "Epoch 00791: ReduceLROnPlateau reducing learning rate to 5.044674471569341e-45.\n",
      "Epoch 792/1000\n",
      "200/200 [==============================] - 2s 10ms/step - loss: 447.9468 - mean_absolute_error: 447.9468 - val_loss: 528.3383 - val_mean_absolute_error: 528.3383\n",
      "Epoch 793/1000\n",
      "200/200 [==============================] - 2s 10ms/step - loss: 449.8055 - mean_absolute_error: 449.8055 - val_loss: 528.3383 - val_mean_absolute_error: 528.3383\n",
      "Epoch 794/1000\n",
      "200/200 [==============================] - 2s 11ms/step - loss: 448.1969 - mean_absolute_error: 448.1969 - val_loss: 528.3383 - val_mean_absolute_error: 528.3383\n",
      "Epoch 795/1000\n",
      "200/200 [==============================] - 2s 11ms/step - loss: 450.8289 - mean_absolute_error: 450.8289 - val_loss: 528.3383 - val_mean_absolute_error: 528.3383\n",
      "Epoch 796/1000\n",
      "200/200 [==============================] - 2s 11ms/step - loss: 455.2650 - mean_absolute_error: 455.2650 - val_loss: 528.3383 - val_mean_absolute_error: 528.3383\n",
      "Epoch 797/1000\n",
      "200/200 [==============================] - 2s 11ms/step - loss: 450.8141 - mean_absolute_error: 450.8141 - val_loss: 528.3383 - val_mean_absolute_error: 528.3383\n",
      "Epoch 798/1000\n",
      "200/200 [==============================] - 2s 11ms/step - loss: 452.0454 - mean_absolute_error: 452.0454 - val_loss: 528.3383 - val_mean_absolute_error: 528.3383\n",
      "Epoch 799/1000\n",
      "200/200 [==============================] - 2s 10ms/step - loss: 454.6757 - mean_absolute_error: 454.6757 - val_loss: 528.3383 - val_mean_absolute_error: 528.3383\n",
      "Epoch 800/1000\n",
      "200/200 [==============================] - 2s 10ms/step - loss: 449.7000 - mean_absolute_error: 449.7000 - val_loss: 528.3383 - val_mean_absolute_error: 528.3383\n",
      "Epoch 801/1000\n",
      "200/200 [==============================] - 2s 11ms/step - loss: 450.4405 - mean_absolute_error: 450.4405 - val_loss: 528.3383 - val_mean_absolute_error: 528.3383\n",
      "\n",
      "Epoch 00801: ReduceLROnPlateau reducing learning rate to 1.6815581571897804e-45.\n",
      "Epoch 802/1000\n",
      "200/200 [==============================] - 2s 11ms/step - loss: 452.2805 - mean_absolute_error: 452.2805 - val_loss: 528.3383 - val_mean_absolute_error: 528.3383\n",
      "Epoch 803/1000\n",
      "200/200 [==============================] - 2s 11ms/step - loss: 446.8441 - mean_absolute_error: 446.8441 - val_loss: 528.3383 - val_mean_absolute_error: 528.3383\n",
      "Epoch 804/1000\n",
      "200/200 [==============================] - 2s 11ms/step - loss: 454.5755 - mean_absolute_error: 454.5755 - val_loss: 528.3383 - val_mean_absolute_error: 528.3383\n",
      "Epoch 805/1000\n",
      "200/200 [==============================] - 2s 11ms/step - loss: 449.0907 - mean_absolute_error: 449.0907 - val_loss: 528.3383 - val_mean_absolute_error: 528.3383\n",
      "Epoch 806/1000\n",
      "200/200 [==============================] - 2s 11ms/step - loss: 448.4009 - mean_absolute_error: 448.4009 - val_loss: 528.3383 - val_mean_absolute_error: 528.3383\n",
      "Epoch 807/1000\n",
      "200/200 [==============================] - 2s 11ms/step - loss: 452.9639 - mean_absolute_error: 452.9639 - val_loss: 528.3383 - val_mean_absolute_error: 528.3383\n",
      "Epoch 808/1000\n",
      "200/200 [==============================] - 2s 11ms/step - loss: 448.8897 - mean_absolute_error: 448.8897 - val_loss: 528.3383 - val_mean_absolute_error: 528.3383\n",
      "Epoch 809/1000\n",
      "200/200 [==============================] - 2s 11ms/step - loss: 446.8452 - mean_absolute_error: 446.8452 - val_loss: 528.3383 - val_mean_absolute_error: 528.3383\n",
      "Epoch 810/1000\n",
      "200/200 [==============================] - 2s 10ms/step - loss: 448.9525 - mean_absolute_error: 448.9525 - val_loss: 528.3383 - val_mean_absolute_error: 528.3383\n",
      "Epoch 811/1000\n",
      "200/200 [==============================] - 2s 10ms/step - loss: 453.3403 - mean_absolute_error: 453.3403 - val_loss: 528.3383 - val_mean_absolute_error: 528.3383\n",
      "\n",
      "Epoch 00811: ReduceLROnPlateau reducing learning rate to 4.203895392974451e-46.\n",
      "Epoch 812/1000\n",
      "200/200 [==============================] - 2s 11ms/step - loss: 450.1100 - mean_absolute_error: 450.1100 - val_loss: 528.3383 - val_mean_absolute_error: 528.3383\n",
      "Epoch 813/1000\n",
      "200/200 [==============================] - 2s 10ms/step - loss: 446.5831 - mean_absolute_error: 446.5831 - val_loss: 528.3383 - val_mean_absolute_error: 528.3383\n",
      "Epoch 814/1000\n",
      "200/200 [==============================] - 2s 11ms/step - loss: 451.4868 - mean_absolute_error: 451.4868 - val_loss: 528.3383 - val_mean_absolute_error: 528.3383\n",
      "Epoch 815/1000\n",
      "200/200 [==============================] - 2s 11ms/step - loss: 450.6045 - mean_absolute_error: 450.6045 - val_loss: 528.3383 - val_mean_absolute_error: 528.3383\n",
      "Epoch 816/1000\n",
      "200/200 [==============================] - 2s 11ms/step - loss: 451.1375 - mean_absolute_error: 451.1375 - val_loss: 528.3383 - val_mean_absolute_error: 528.3383\n",
      "Epoch 817/1000\n",
      "200/200 [==============================] - 2s 11ms/step - loss: 450.6570 - mean_absolute_error: 450.6570 - val_loss: 528.3383 - val_mean_absolute_error: 528.3383\n",
      "Epoch 818/1000\n",
      "200/200 [==============================] - 2s 10ms/step - loss: 447.9987 - mean_absolute_error: 447.9987 - val_loss: 528.3383 - val_mean_absolute_error: 528.3383\n",
      "Epoch 819/1000\n",
      "200/200 [==============================] - 2s 10ms/step - loss: 451.9211 - mean_absolute_error: 451.9211 - val_loss: 528.3383 - val_mean_absolute_error: 528.3383\n",
      "Epoch 820/1000\n",
      "200/200 [==============================] - 2s 11ms/step - loss: 446.7115 - mean_absolute_error: 446.7115 - val_loss: 528.3383 - val_mean_absolute_error: 528.3383\n",
      "Epoch 821/1000\n",
      "200/200 [==============================] - 2s 11ms/step - loss: 449.0931 - mean_absolute_error: 449.0931 - val_loss: 528.3383 - val_mean_absolute_error: 528.3383\n",
      "Epoch 822/1000\n",
      "200/200 [==============================] - 2s 11ms/step - loss: 446.4456 - mean_absolute_error: 446.4456 - val_loss: 528.3383 - val_mean_absolute_error: 528.3383\n",
      "Epoch 823/1000\n",
      "200/200 [==============================] - 2s 11ms/step - loss: 453.9517 - mean_absolute_error: 453.9517 - val_loss: 528.3383 - val_mean_absolute_error: 528.3383\n",
      "Epoch 824/1000\n",
      "200/200 [==============================] - 2s 10ms/step - loss: 452.5374 - mean_absolute_error: 452.5374 - val_loss: 528.3383 - val_mean_absolute_error: 528.3383\n",
      "Epoch 825/1000\n",
      "200/200 [==============================] - 2s 11ms/step - loss: 449.1761 - mean_absolute_error: 449.1761 - val_loss: 528.3383 - val_mean_absolute_error: 528.3383\n",
      "Epoch 826/1000\n",
      "200/200 [==============================] - 2s 11ms/step - loss: 449.6470 - mean_absolute_error: 449.6470 - val_loss: 528.3383 - val_mean_absolute_error: 528.3383\n",
      "Epoch 827/1000\n",
      "200/200 [==============================] - 2s 10ms/step - loss: 456.2093 - mean_absolute_error: 456.2093 - val_loss: 528.3383 - val_mean_absolute_error: 528.3383\n",
      "Epoch 828/1000\n",
      "200/200 [==============================] - 2s 11ms/step - loss: 450.2790 - mean_absolute_error: 450.2790 - val_loss: 528.3383 - val_mean_absolute_error: 528.3383\n",
      "Epoch 829/1000\n",
      "200/200 [==============================] - 2s 11ms/step - loss: 450.1800 - mean_absolute_error: 450.1800 - val_loss: 528.3383 - val_mean_absolute_error: 528.3383\n",
      "Epoch 830/1000\n",
      "200/200 [==============================] - 2s 11ms/step - loss: 451.0681 - mean_absolute_error: 451.0681 - val_loss: 528.3383 - val_mean_absolute_error: 528.3383\n"
     ]
    },
    {
     "name": "stdout",
     "output_type": "stream",
     "text": [
      "Epoch 831/1000\n",
      "200/200 [==============================] - 2s 10ms/step - loss: 445.9029 - mean_absolute_error: 445.9029 - val_loss: 528.3383 - val_mean_absolute_error: 528.3383\n",
      "Epoch 832/1000\n",
      "200/200 [==============================] - 2s 11ms/step - loss: 449.6824 - mean_absolute_error: 449.6824 - val_loss: 528.3383 - val_mean_absolute_error: 528.3383\n",
      "Epoch 833/1000\n",
      "200/200 [==============================] - 2s 10ms/step - loss: 445.7487 - mean_absolute_error: 445.7487 - val_loss: 528.3383 - val_mean_absolute_error: 528.3383\n",
      "Epoch 834/1000\n",
      "200/200 [==============================] - 2s 11ms/step - loss: 448.2760 - mean_absolute_error: 448.2760 - val_loss: 528.3383 - val_mean_absolute_error: 528.3383\n",
      "Epoch 835/1000\n",
      "200/200 [==============================] - 2s 11ms/step - loss: 449.3566 - mean_absolute_error: 449.3566 - val_loss: 528.3383 - val_mean_absolute_error: 528.3383\n",
      "Epoch 836/1000\n",
      "200/200 [==============================] - 2s 11ms/step - loss: 451.7092 - mean_absolute_error: 451.7092 - val_loss: 528.3383 - val_mean_absolute_error: 528.3383\n",
      "Epoch 837/1000\n",
      "200/200 [==============================] - 2s 11ms/step - loss: 453.1636 - mean_absolute_error: 453.1636 - val_loss: 528.3383 - val_mean_absolute_error: 528.3383\n",
      "Epoch 838/1000\n",
      "200/200 [==============================] - 2s 10ms/step - loss: 450.2028 - mean_absolute_error: 450.2028 - val_loss: 528.3383 - val_mean_absolute_error: 528.3383\n",
      "Epoch 839/1000\n",
      "200/200 [==============================] - 2s 10ms/step - loss: 448.4486 - mean_absolute_error: 448.4486 - val_loss: 528.3383 - val_mean_absolute_error: 528.3383\n",
      "Epoch 840/1000\n",
      "200/200 [==============================] - 2s 11ms/step - loss: 449.2697 - mean_absolute_error: 449.2697 - val_loss: 528.3383 - val_mean_absolute_error: 528.3383\n",
      "Epoch 841/1000\n",
      "200/200 [==============================] - 2s 11ms/step - loss: 448.3899 - mean_absolute_error: 448.3899 - val_loss: 528.3383 - val_mean_absolute_error: 528.3383\n",
      "Epoch 842/1000\n",
      "200/200 [==============================] - 2s 10ms/step - loss: 449.2368 - mean_absolute_error: 449.2368 - val_loss: 528.3383 - val_mean_absolute_error: 528.3383\n",
      "Epoch 843/1000\n",
      "200/200 [==============================] - 2s 11ms/step - loss: 450.7238 - mean_absolute_error: 450.7238 - val_loss: 528.3383 - val_mean_absolute_error: 528.3383\n",
      "Epoch 844/1000\n",
      "200/200 [==============================] - 2s 11ms/step - loss: 450.5396 - mean_absolute_error: 450.5396 - val_loss: 528.3383 - val_mean_absolute_error: 528.3383\n",
      "Epoch 845/1000\n",
      "200/200 [==============================] - 2s 11ms/step - loss: 449.6885 - mean_absolute_error: 449.6885 - val_loss: 528.3383 - val_mean_absolute_error: 528.3383\n",
      "Epoch 846/1000\n",
      "108/200 [===============>..............] - ETA: 0s - loss: 457.3125 - mean_absolute_error: 457.3125"
     ]
    },
    {
     "ename": "KeyboardInterrupt",
     "evalue": "",
     "output_type": "error",
     "traceback": [
      "\u001b[1;31m---------------------------------------------------------------------------\u001b[0m",
      "\u001b[1;31mKeyboardInterrupt\u001b[0m                         Traceback (most recent call last)",
      "\u001b[1;32m<ipython-input-86-12d61c620dc3>\u001b[0m in \u001b[0;36m<module>\u001b[1;34m\u001b[0m\n\u001b[0;32m     36\u001b[0m \u001b[1;31m# Fitting the ANN to the Training set\u001b[0m\u001b[1;33m\u001b[0m\u001b[1;33m\u001b[0m\u001b[1;33m\u001b[0m\u001b[0m\n\u001b[0;32m     37\u001b[0m \u001b[1;31m#model.fit(X_train, y_train, batch_size = 32, epochs = 100, validation_split=0.3)\u001b[0m\u001b[1;33m\u001b[0m\u001b[1;33m\u001b[0m\u001b[1;33m\u001b[0m\u001b[0m\n\u001b[1;32m---> 38\u001b[1;33m history = model.fit(\n\u001b[0m\u001b[0;32m     39\u001b[0m   \u001b[0mX_train\u001b[0m\u001b[1;33m,\u001b[0m \u001b[0my_train\u001b[0m\u001b[1;33m,\u001b[0m \u001b[0mbatch_size\u001b[0m \u001b[1;33m=\u001b[0m \u001b[1;36m64\u001b[0m\u001b[1;33m,\u001b[0m\u001b[1;33m\u001b[0m\u001b[1;33m\u001b[0m\u001b[0m\n\u001b[0;32m     40\u001b[0m   \u001b[0mvalidation_split\u001b[0m\u001b[1;33m=\u001b[0m\u001b[1;36m0.3\u001b[0m\u001b[1;33m,\u001b[0m\u001b[1;33m\u001b[0m\u001b[1;33m\u001b[0m\u001b[0m\n",
      "\u001b[1;32m~\\AppData\\Roaming\\Python\\Python38\\site-packages\\tensorflow\\python\\keras\\engine\\training.py\u001b[0m in \u001b[0;36mfit\u001b[1;34m(self, x, y, batch_size, epochs, verbose, callbacks, validation_split, validation_data, shuffle, class_weight, sample_weight, initial_epoch, steps_per_epoch, validation_steps, validation_batch_size, validation_freq, max_queue_size, workers, use_multiprocessing)\u001b[0m\n\u001b[0;32m   1181\u001b[0m                 _r=1):\n\u001b[0;32m   1182\u001b[0m               \u001b[0mcallbacks\u001b[0m\u001b[1;33m.\u001b[0m\u001b[0mon_train_batch_begin\u001b[0m\u001b[1;33m(\u001b[0m\u001b[0mstep\u001b[0m\u001b[1;33m)\u001b[0m\u001b[1;33m\u001b[0m\u001b[1;33m\u001b[0m\u001b[0m\n\u001b[1;32m-> 1183\u001b[1;33m               \u001b[0mtmp_logs\u001b[0m \u001b[1;33m=\u001b[0m \u001b[0mself\u001b[0m\u001b[1;33m.\u001b[0m\u001b[0mtrain_function\u001b[0m\u001b[1;33m(\u001b[0m\u001b[0miterator\u001b[0m\u001b[1;33m)\u001b[0m\u001b[1;33m\u001b[0m\u001b[1;33m\u001b[0m\u001b[0m\n\u001b[0m\u001b[0;32m   1184\u001b[0m               \u001b[1;32mif\u001b[0m \u001b[0mdata_handler\u001b[0m\u001b[1;33m.\u001b[0m\u001b[0mshould_sync\u001b[0m\u001b[1;33m:\u001b[0m\u001b[1;33m\u001b[0m\u001b[1;33m\u001b[0m\u001b[0m\n\u001b[0;32m   1185\u001b[0m                 \u001b[0mcontext\u001b[0m\u001b[1;33m.\u001b[0m\u001b[0masync_wait\u001b[0m\u001b[1;33m(\u001b[0m\u001b[1;33m)\u001b[0m\u001b[1;33m\u001b[0m\u001b[1;33m\u001b[0m\u001b[0m\n",
      "\u001b[1;32m~\\AppData\\Roaming\\Python\\Python38\\site-packages\\tensorflow\\python\\eager\\def_function.py\u001b[0m in \u001b[0;36m__call__\u001b[1;34m(self, *args, **kwds)\u001b[0m\n\u001b[0;32m    887\u001b[0m \u001b[1;33m\u001b[0m\u001b[0m\n\u001b[0;32m    888\u001b[0m       \u001b[1;32mwith\u001b[0m \u001b[0mOptionalXlaContext\u001b[0m\u001b[1;33m(\u001b[0m\u001b[0mself\u001b[0m\u001b[1;33m.\u001b[0m\u001b[0m_jit_compile\u001b[0m\u001b[1;33m)\u001b[0m\u001b[1;33m:\u001b[0m\u001b[1;33m\u001b[0m\u001b[1;33m\u001b[0m\u001b[0m\n\u001b[1;32m--> 889\u001b[1;33m         \u001b[0mresult\u001b[0m \u001b[1;33m=\u001b[0m \u001b[0mself\u001b[0m\u001b[1;33m.\u001b[0m\u001b[0m_call\u001b[0m\u001b[1;33m(\u001b[0m\u001b[1;33m*\u001b[0m\u001b[0margs\u001b[0m\u001b[1;33m,\u001b[0m \u001b[1;33m**\u001b[0m\u001b[0mkwds\u001b[0m\u001b[1;33m)\u001b[0m\u001b[1;33m\u001b[0m\u001b[1;33m\u001b[0m\u001b[0m\n\u001b[0m\u001b[0;32m    890\u001b[0m \u001b[1;33m\u001b[0m\u001b[0m\n\u001b[0;32m    891\u001b[0m       \u001b[0mnew_tracing_count\u001b[0m \u001b[1;33m=\u001b[0m \u001b[0mself\u001b[0m\u001b[1;33m.\u001b[0m\u001b[0mexperimental_get_tracing_count\u001b[0m\u001b[1;33m(\u001b[0m\u001b[1;33m)\u001b[0m\u001b[1;33m\u001b[0m\u001b[1;33m\u001b[0m\u001b[0m\n",
      "\u001b[1;32m~\\AppData\\Roaming\\Python\\Python38\\site-packages\\tensorflow\\python\\eager\\def_function.py\u001b[0m in \u001b[0;36m_call\u001b[1;34m(self, *args, **kwds)\u001b[0m\n\u001b[0;32m    915\u001b[0m       \u001b[1;31m# In this case we have created variables on the first call, so we run the\u001b[0m\u001b[1;33m\u001b[0m\u001b[1;33m\u001b[0m\u001b[1;33m\u001b[0m\u001b[0m\n\u001b[0;32m    916\u001b[0m       \u001b[1;31m# defunned version which is guaranteed to never create variables.\u001b[0m\u001b[1;33m\u001b[0m\u001b[1;33m\u001b[0m\u001b[1;33m\u001b[0m\u001b[0m\n\u001b[1;32m--> 917\u001b[1;33m       \u001b[1;32mreturn\u001b[0m \u001b[0mself\u001b[0m\u001b[1;33m.\u001b[0m\u001b[0m_stateless_fn\u001b[0m\u001b[1;33m(\u001b[0m\u001b[1;33m*\u001b[0m\u001b[0margs\u001b[0m\u001b[1;33m,\u001b[0m \u001b[1;33m**\u001b[0m\u001b[0mkwds\u001b[0m\u001b[1;33m)\u001b[0m  \u001b[1;31m# pylint: disable=not-callable\u001b[0m\u001b[1;33m\u001b[0m\u001b[1;33m\u001b[0m\u001b[0m\n\u001b[0m\u001b[0;32m    918\u001b[0m     \u001b[1;32melif\u001b[0m \u001b[0mself\u001b[0m\u001b[1;33m.\u001b[0m\u001b[0m_stateful_fn\u001b[0m \u001b[1;32mis\u001b[0m \u001b[1;32mnot\u001b[0m \u001b[1;32mNone\u001b[0m\u001b[1;33m:\u001b[0m\u001b[1;33m\u001b[0m\u001b[1;33m\u001b[0m\u001b[0m\n\u001b[0;32m    919\u001b[0m       \u001b[1;31m# Release the lock early so that multiple threads can perform the call\u001b[0m\u001b[1;33m\u001b[0m\u001b[1;33m\u001b[0m\u001b[1;33m\u001b[0m\u001b[0m\n",
      "\u001b[1;32m~\\AppData\\Roaming\\Python\\Python38\\site-packages\\tensorflow\\python\\eager\\function.py\u001b[0m in \u001b[0;36m__call__\u001b[1;34m(self, *args, **kwargs)\u001b[0m\n\u001b[0;32m   3021\u001b[0m       (graph_function,\n\u001b[0;32m   3022\u001b[0m        filtered_flat_args) = self._maybe_define_function(args, kwargs)\n\u001b[1;32m-> 3023\u001b[1;33m     return graph_function._call_flat(\n\u001b[0m\u001b[0;32m   3024\u001b[0m         filtered_flat_args, captured_inputs=graph_function.captured_inputs)  # pylint: disable=protected-access\n\u001b[0;32m   3025\u001b[0m \u001b[1;33m\u001b[0m\u001b[0m\n",
      "\u001b[1;32m~\\AppData\\Roaming\\Python\\Python38\\site-packages\\tensorflow\\python\\eager\\function.py\u001b[0m in \u001b[0;36m_call_flat\u001b[1;34m(self, args, captured_inputs, cancellation_manager)\u001b[0m\n\u001b[0;32m   1958\u001b[0m         and executing_eagerly):\n\u001b[0;32m   1959\u001b[0m       \u001b[1;31m# No tape is watching; skip to running the function.\u001b[0m\u001b[1;33m\u001b[0m\u001b[1;33m\u001b[0m\u001b[1;33m\u001b[0m\u001b[0m\n\u001b[1;32m-> 1960\u001b[1;33m       return self._build_call_outputs(self._inference_function.call(\n\u001b[0m\u001b[0;32m   1961\u001b[0m           ctx, args, cancellation_manager=cancellation_manager))\n\u001b[0;32m   1962\u001b[0m     forward_backward = self._select_forward_and_backward_functions(\n",
      "\u001b[1;32m~\\AppData\\Roaming\\Python\\Python38\\site-packages\\tensorflow\\python\\eager\\function.py\u001b[0m in \u001b[0;36mcall\u001b[1;34m(self, ctx, args, cancellation_manager)\u001b[0m\n\u001b[0;32m    589\u001b[0m       \u001b[1;32mwith\u001b[0m \u001b[0m_InterpolateFunctionError\u001b[0m\u001b[1;33m(\u001b[0m\u001b[0mself\u001b[0m\u001b[1;33m)\u001b[0m\u001b[1;33m:\u001b[0m\u001b[1;33m\u001b[0m\u001b[1;33m\u001b[0m\u001b[0m\n\u001b[0;32m    590\u001b[0m         \u001b[1;32mif\u001b[0m \u001b[0mcancellation_manager\u001b[0m \u001b[1;32mis\u001b[0m \u001b[1;32mNone\u001b[0m\u001b[1;33m:\u001b[0m\u001b[1;33m\u001b[0m\u001b[1;33m\u001b[0m\u001b[0m\n\u001b[1;32m--> 591\u001b[1;33m           outputs = execute.execute(\n\u001b[0m\u001b[0;32m    592\u001b[0m               \u001b[0mstr\u001b[0m\u001b[1;33m(\u001b[0m\u001b[0mself\u001b[0m\u001b[1;33m.\u001b[0m\u001b[0msignature\u001b[0m\u001b[1;33m.\u001b[0m\u001b[0mname\u001b[0m\u001b[1;33m)\u001b[0m\u001b[1;33m,\u001b[0m\u001b[1;33m\u001b[0m\u001b[1;33m\u001b[0m\u001b[0m\n\u001b[0;32m    593\u001b[0m               \u001b[0mnum_outputs\u001b[0m\u001b[1;33m=\u001b[0m\u001b[0mself\u001b[0m\u001b[1;33m.\u001b[0m\u001b[0m_num_outputs\u001b[0m\u001b[1;33m,\u001b[0m\u001b[1;33m\u001b[0m\u001b[1;33m\u001b[0m\u001b[0m\n",
      "\u001b[1;32m~\\AppData\\Roaming\\Python\\Python38\\site-packages\\tensorflow\\python\\eager\\execute.py\u001b[0m in \u001b[0;36mquick_execute\u001b[1;34m(op_name, num_outputs, inputs, attrs, ctx, name)\u001b[0m\n\u001b[0;32m     57\u001b[0m   \u001b[1;32mtry\u001b[0m\u001b[1;33m:\u001b[0m\u001b[1;33m\u001b[0m\u001b[1;33m\u001b[0m\u001b[0m\n\u001b[0;32m     58\u001b[0m     \u001b[0mctx\u001b[0m\u001b[1;33m.\u001b[0m\u001b[0mensure_initialized\u001b[0m\u001b[1;33m(\u001b[0m\u001b[1;33m)\u001b[0m\u001b[1;33m\u001b[0m\u001b[1;33m\u001b[0m\u001b[0m\n\u001b[1;32m---> 59\u001b[1;33m     tensors = pywrap_tfe.TFE_Py_Execute(ctx._handle, device_name, op_name,\n\u001b[0m\u001b[0;32m     60\u001b[0m                                         inputs, attrs, num_outputs)\n\u001b[0;32m     61\u001b[0m   \u001b[1;32mexcept\u001b[0m \u001b[0mcore\u001b[0m\u001b[1;33m.\u001b[0m\u001b[0m_NotOkStatusException\u001b[0m \u001b[1;32mas\u001b[0m \u001b[0me\u001b[0m\u001b[1;33m:\u001b[0m\u001b[1;33m\u001b[0m\u001b[1;33m\u001b[0m\u001b[0m\n",
      "\u001b[1;31mKeyboardInterrupt\u001b[0m: "
     ]
    }
   ],
   "source": [
    "\n",
    "# Feature Scaling\n",
    "from sklearn.preprocessing import MinMaxScaler\n",
    "sc = MinMaxScaler()\n",
    "X_train = sc.fit_transform(X_train)\n",
    "X_test = sc.transform(X_test)\n",
    "\n",
    "\n",
    "\n",
    "# Initialising the ANN\n",
    "model = Sequential([\n",
    "    tf.keras.layers.Dense(1024, input_dim = X_train.shape[1], kernel_initializer='normal', activation='relu'),\n",
    "    tf.keras.layers.Dropout(0.2),\n",
    "    tf.keras.layers.Dense(512, kernel_initializer='normal', activation='relu'),\n",
    "    tf.keras.layers.Dense(256, kernel_initializer='normal', activation='relu'),\n",
    "    tf.keras.layers.Dropout(0.2),\n",
    "    tf.keras.layers.Dense(128, kernel_initializer='normal', activation='relu'),\n",
    "    tf.keras.layers.Dense(64, kernel_initializer='normal', activation='relu'),\n",
    "    #tf.keras.layers.Dropout(0.2),\n",
    "    tf.keras.layers.Dense(32, kernel_initializer='normal', activation='relu'),\n",
    "    tf.keras.layers.Dense(1, kernel_initializer='normal', activation='linear'),\n",
    "    \n",
    "])\n",
    "\n",
    "model.summary()\n",
    "\n",
    "# Callbacks\n",
    "checkpoint = ModelCheckpoint(filepath='linear_ann_polovni.hdf5', save_best_only=True, save_weights_only=True)\n",
    "lr_reduce = ReduceLROnPlateau(monitor='val_loss', factor=0.3, patience=10, verbose=2, mode='max')\n",
    "early_stop = EarlyStopping(monitor='val_loss', min_delta=0.1, patience=10, mode='min')\n",
    "epochs = 1000\n",
    "\n",
    "\n",
    "# Compiling the ANN\n",
    "model.compile(optimizer = 'rmsprop', loss = 'mean_absolute_error', metrics=['mean_absolute_error'])\n",
    "\n",
    "# Fitting the ANN to the Training set\n",
    "#model.fit(X_train, y_train, batch_size = 32, epochs = 100, validation_split=0.3)\n",
    "history = model.fit(\n",
    "  X_train, y_train, batch_size = 64,\n",
    "  validation_split=0.3,\n",
    "  epochs=epochs,\n",
    "  callbacks=[checkpoint, lr_reduce]\n",
    ")\n",
    "\n",
    "y_pred = model.predict(X_test)"
   ]
  },
  {
   "cell_type": "code",
   "execution_count": null,
   "id": "dcf0d4d3",
   "metadata": {},
   "outputs": [],
   "source": []
  }
 ],
 "metadata": {
  "kernelspec": {
   "display_name": "Python 3",
   "language": "python",
   "name": "python3"
  },
  "language_info": {
   "codemirror_mode": {
    "name": "ipython",
    "version": 3
   },
   "file_extension": ".py",
   "mimetype": "text/x-python",
   "name": "python",
   "nbconvert_exporter": "python",
   "pygments_lexer": "ipython3",
   "version": "3.8.8"
  }
 },
 "nbformat": 4,
 "nbformat_minor": 5
}
