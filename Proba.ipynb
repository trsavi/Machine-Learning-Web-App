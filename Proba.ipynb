{
 "cells": [
  {
   "cell_type": "code",
   "execution_count": 1,
   "id": "2a1fa97c",
   "metadata": {},
   "outputs": [
    {
     "name": "stdout",
     "output_type": "stream",
     "text": [
      "Success\n"
     ]
    }
   ],
   "source": [
    "# import pygal library\n",
    "import pygal\n",
    "  \n",
    "# create a world map\n",
    "worldmap =  pygal.maps.world.World()\n",
    "  \n",
    "# set the title of the map\n",
    "worldmap.title = 'Countries'\n",
    "  \n",
    "# adding the countries\n",
    "worldmap.add('Random Data', {\n",
    "        'aq' : 10,\n",
    "        'cd' : 30,\n",
    "        'de' : 40,\n",
    "        'eg' : 50,\n",
    "        'ga' : 45,\n",
    "        'hk' : 23,\n",
    "        'in' : 70,\n",
    "        'jp' : 54,\n",
    "        'nz' : 41,\n",
    "        'kz' : 32,\n",
    "        'us' : 66\n",
    "})\n",
    "  \n",
    "# save into the file\n",
    "worldmap.render_to_file('abc.svg')\n",
    "  \n",
    "print(\"Success\")"
   ]
  },
  {
   "cell_type": "code",
   "execution_count": null,
   "id": "0059f276",
   "metadata": {},
   "outputs": [],
   "source": []
  }
 ],
 "metadata": {
  "kernelspec": {
   "display_name": "Python 3",
   "language": "python",
   "name": "python3"
  },
  "language_info": {
   "codemirror_mode": {
    "name": "ipython",
    "version": 3
   },
   "file_extension": ".py",
   "mimetype": "text/x-python",
   "name": "python",
   "nbconvert_exporter": "python",
   "pygments_lexer": "ipython3",
   "version": "3.8.8"
  }
 },
 "nbformat": 4,
 "nbformat_minor": 5
}
