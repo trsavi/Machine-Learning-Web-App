{
 "cells": [
  {
   "cell_type": "code",
   "execution_count": 1,
   "id": "2e90df5d",
   "metadata": {},
   "outputs": [
    {
     "data": {
      "text/html": [
       "        <script type=\"text/javascript\">\n",
       "        window.PlotlyConfig = {MathJaxConfig: 'local'};\n",
       "        if (window.MathJax) {MathJax.Hub.Config({SVG: {font: \"STIX-Web\"}});}\n",
       "        if (typeof require !== 'undefined') {\n",
       "        require.undef(\"plotly\");\n",
       "        requirejs.config({\n",
       "            paths: {\n",
       "                'plotly': ['https://cdn.plot.ly/plotly-2.2.0.min']\n",
       "            }\n",
       "        });\n",
       "        require(['plotly'], function(Plotly) {\n",
       "            window._Plotly = Plotly;\n",
       "        });\n",
       "        }\n",
       "        </script>\n",
       "        "
      ]
     },
     "metadata": {},
     "output_type": "display_data"
    }
   ],
   "source": [
    "from sklearn.model_selection import GridSearchCV, RandomizedSearchCV\n",
    "from scipy.stats import uniform\n",
    "import sys\n",
    "import os\n",
    "import pandas as pd\n",
    "import numpy as np\n",
    "\n",
    "import matplotlib.pyplot as plt\n",
    "import seaborn as sns\n",
    "from IPython.display import display\n",
    "%matplotlib inline\n",
    "\n",
    "import plotly.offline as py\n",
    "import plotly.graph_objs as go\n",
    "import plotly.tools as tls\n",
    "py.init_notebook_mode(connected=True)\n",
    "\n",
    "from pandas import set_option\n",
    "#from pandas.tools.plotting import scatter_matrix\n",
    "from sklearn.preprocessing import StandardScaler\n",
    "from sklearn.model_selection import train_test_split\n",
    "from sklearn.model_selection import KFold\n",
    "from sklearn.model_selection import StratifiedKFold\n",
    "from sklearn.model_selection import cross_val_score\n",
    "from sklearn.model_selection import GridSearchCV\n",
    "from sklearn.pipeline import Pipeline\n",
    "from xgboost import XGBRegressor\n",
    "from lightgbm import LGBMRegressor\n",
    "from sklearn.ensemble import ExtraTreesRegressor, RandomForestRegressor, AdaBoostRegressor, GradientBoostingRegressor\n",
    "\n",
    "# Metrics\n",
    "from sklearn.metrics import mean_absolute_error, mean_squared_error, r2_score\n",
    "\n",
    "\n",
    "import warnings\n",
    "warnings.filterwarnings('ignore')"
   ]
  },
  {
   "cell_type": "code",
   "execution_count": 2,
   "id": "4d5d2a66",
   "metadata": {},
   "outputs": [],
   "source": [
    "# Always good to set a seed for reproducibility\n",
    "SEED = 7\n",
    "np.random.seed(SEED)"
   ]
  },
  {
   "cell_type": "code",
   "execution_count": 22,
   "id": "efebb3cb",
   "metadata": {},
   "outputs": [],
   "source": [
    "class RandomSearch(object):\n",
    "    \n",
    "    def __init__(self,X_train,y_train,model,hyperparameters):\n",
    "        \n",
    "        self.X_train = X_train\n",
    "        self.y_train = y_train\n",
    "        self.model = model\n",
    "        self.hyperparameters = hyperparameters\n",
    "        \n",
    "    def RandomSearch(self):\n",
    "        # Create randomized search 10-fold cross validation and 100 iterations\n",
    "        cv = 10\n",
    "        clf = RandomizedSearchCV(self.model,\n",
    "                                 self.hyperparameters,\n",
    "                                 random_state=1,\n",
    "                                 n_iter=150,\n",
    "                                 cv=cv,\n",
    "                                 verbose=0,\n",
    "                                 n_jobs=-1,\n",
    "                                 )\n",
    "        # Fit randomized search\n",
    "        best_model = clf.fit(self.X_train, self.y_train)\n",
    "        message = (best_model.best_score_, best_model.best_params_)\n",
    "        print(\"Best: %f using %s\" % (message))\n",
    "\n",
    "        return best_model,best_model.best_params_\n",
    "    \n",
    "    def BestModelPridict(self,X_test):\n",
    "        \n",
    "        best_model,_ = self.RandomSearch()\n",
    "        pred = best_model.predict(X_test)\n",
    "        return pred\n",
    "class GridSearch(object):\n",
    "    \n",
    "    def __init__(self,X_train,y_train,model,hyperparameters):\n",
    "        \n",
    "        self.X_train = X_train\n",
    "        self.y_train = y_train\n",
    "        self.model = model\n",
    "        self.hyperparameters = hyperparameters\n",
    "        \n",
    "    def GridSearch(self):\n",
    "        # Create randomized search 10-fold cross validation and 100 iterations\n",
    "        cv = 10\n",
    "        clf = GridSearchCV(self.model,\n",
    "                                 self.hyperparameters,\n",
    "                                 cv=cv,\n",
    "                                 verbose=0,\n",
    "                                 n_jobs=-1,\n",
    "                                 )\n",
    "        # Fit randomized search\n",
    "        best_model = clf.fit(self.X_train, self.y_train)\n",
    "        message = (best_model.best_score_, best_model.best_params_)\n",
    "        print(\"Best: %f using %s\" % (message))\n",
    "\n",
    "        return best_model,best_model.best_params_\n",
    "    \n",
    "    def BestModelPridict(self,X_test):\n",
    "        \n",
    "        best_model,_ = self.GridSearch()\n",
    "        pred = best_model.predict(X_test)\n",
    "        return pred"
   ]
  },
  {
   "cell_type": "code",
   "execution_count": 15,
   "id": "3b9086e3",
   "metadata": {},
   "outputs": [],
   "source": [
    "df = pd.read_csv(\"./Data/usedCleaned21.csv\")"
   ]
  },
  {
   "cell_type": "code",
   "execution_count": 16,
   "id": "5e779828",
   "metadata": {},
   "outputs": [],
   "source": [
    "df_enc = df"
   ]
  },
  {
   "cell_type": "code",
   "execution_count": 17,
   "id": "067d40cd",
   "metadata": {},
   "outputs": [],
   "source": [
    "from sklearn.preprocessing import OneHotEncoder\n",
    "\n",
    "#df_enc = pd.read_csv(\"./Data/usedCleaned20.csv\")\n",
    "X_t =  df_enc.drop(columns='Cena')\n",
    "Y_t = df_enc['Cena']\n",
    "\n",
    "df_enc = pd.get_dummies(df_enc)\n",
    "X =  df_enc.drop(columns='Cena')\n",
    "Y = df_enc['Cena']\n",
    "\n",
    "\n",
    "X_train, X_test, y_train, y_test =train_test_split(X,Y,\n",
    "                                                   test_size=0.3,\n",
    "                                                   random_state=0)\n",
    "X_train_t, X_test_t, y_train_t, y_test_t =train_test_split(X_t,Y_t,\n",
    "                                                   test_size=0.3,\n",
    "                                                   random_state=0)"
   ]
  },
  {
   "cell_type": "code",
   "execution_count": 18,
   "id": "ae96b5c5",
   "metadata": {
    "scrolled": true
   },
   "outputs": [
    {
     "data": {
      "text/plain": [
       "Godiste               2010.0\n",
       "Kilometraza         177300.0\n",
       "Kubikaza                 1.2\n",
       "Snaga motora            60.0\n",
       "Marka_Alfa Romeo         0.0\n",
       "                      ...   \n",
       "Boja_Crna                0.0\n",
       "Boja_Crvena              0.0\n",
       "Boja_Druga               0.0\n",
       "Boja_Plava               0.0\n",
       "Boja_Siva                1.0\n",
       "Name: 6978, Length: 119, dtype: float64"
      ]
     },
     "execution_count": 18,
     "metadata": {},
     "output_type": "execute_result"
    }
   ],
   "source": [
    "X_train.iloc[0]"
   ]
  },
  {
   "cell_type": "code",
   "execution_count": 27,
   "id": "1842a874",
   "metadata": {},
   "outputs": [
    {
     "data": {
      "text/plain": [
       "Marka                        Skoda\n",
       "Model                        Fabia\n",
       "Godiste                       2010\n",
       "Kilometraza                 177300\n",
       "Karoserija                  Hecbek\n",
       "Gorivo          Benzin + Gas (TNG)\n",
       "Kubikaza                       1.2\n",
       "Snaga motora                    60\n",
       "Pogon                     Prednji \n",
       "Menjac          Manuelni 5 brzina \n",
       "Boja                          Siva\n",
       "Name: 6978, dtype: object"
      ]
     },
     "execution_count": 27,
     "metadata": {},
     "output_type": "execute_result"
    }
   ],
   "source": [
    "X_train_t.iloc[0]"
   ]
  },
  {
   "cell_type": "code",
   "execution_count": 28,
   "id": "72c4ea89",
   "metadata": {},
   "outputs": [
    {
     "data": {
      "text/html": [
       "<div>\n",
       "<style scoped>\n",
       "    .dataframe tbody tr th:only-of-type {\n",
       "        vertical-align: middle;\n",
       "    }\n",
       "\n",
       "    .dataframe tbody tr th {\n",
       "        vertical-align: top;\n",
       "    }\n",
       "\n",
       "    .dataframe thead th {\n",
       "        text-align: right;\n",
       "    }\n",
       "</style>\n",
       "<table border=\"1\" class=\"dataframe\">\n",
       "  <thead>\n",
       "    <tr style=\"text-align: right;\">\n",
       "      <th></th>\n",
       "      <th>Godiste</th>\n",
       "      <th>Kilometraza</th>\n",
       "      <th>Kubikaza</th>\n",
       "      <th>Snaga motora</th>\n",
       "      <th>Marka_Alfa Romeo</th>\n",
       "      <th>Marka_Audi</th>\n",
       "      <th>Marka_BMW</th>\n",
       "      <th>Marka_Citroen</th>\n",
       "      <th>Marka_Fiat</th>\n",
       "      <th>Marka_Ford</th>\n",
       "      <th>...</th>\n",
       "      <th>Pogon_Zadnji</th>\n",
       "      <th>Menjac_Automatski / poluautomatski</th>\n",
       "      <th>Menjac_Manuelni 5 brzina</th>\n",
       "      <th>Menjac_Manuelni 6 brzina</th>\n",
       "      <th>Boja_Bela</th>\n",
       "      <th>Boja_Crna</th>\n",
       "      <th>Boja_Crvena</th>\n",
       "      <th>Boja_Druga</th>\n",
       "      <th>Boja_Plava</th>\n",
       "      <th>Boja_Siva</th>\n",
       "    </tr>\n",
       "  </thead>\n",
       "  <tbody>\n",
       "    <tr>\n",
       "      <th>6978</th>\n",
       "      <td>2010</td>\n",
       "      <td>177300</td>\n",
       "      <td>1.2</td>\n",
       "      <td>60</td>\n",
       "      <td>0</td>\n",
       "      <td>0</td>\n",
       "      <td>0</td>\n",
       "      <td>0</td>\n",
       "      <td>0</td>\n",
       "      <td>0</td>\n",
       "      <td>...</td>\n",
       "      <td>0</td>\n",
       "      <td>0</td>\n",
       "      <td>1</td>\n",
       "      <td>0</td>\n",
       "      <td>0</td>\n",
       "      <td>0</td>\n",
       "      <td>0</td>\n",
       "      <td>0</td>\n",
       "      <td>0</td>\n",
       "      <td>1</td>\n",
       "    </tr>\n",
       "    <tr>\n",
       "      <th>5548</th>\n",
       "      <td>2010</td>\n",
       "      <td>225000</td>\n",
       "      <td>1.4</td>\n",
       "      <td>90</td>\n",
       "      <td>0</td>\n",
       "      <td>0</td>\n",
       "      <td>0</td>\n",
       "      <td>1</td>\n",
       "      <td>0</td>\n",
       "      <td>0</td>\n",
       "      <td>...</td>\n",
       "      <td>0</td>\n",
       "      <td>0</td>\n",
       "      <td>1</td>\n",
       "      <td>0</td>\n",
       "      <td>1</td>\n",
       "      <td>0</td>\n",
       "      <td>0</td>\n",
       "      <td>0</td>\n",
       "      <td>0</td>\n",
       "      <td>0</td>\n",
       "    </tr>\n",
       "    <tr>\n",
       "      <th>9074</th>\n",
       "      <td>2017</td>\n",
       "      <td>150000</td>\n",
       "      <td>1.6</td>\n",
       "      <td>135</td>\n",
       "      <td>0</td>\n",
       "      <td>0</td>\n",
       "      <td>0</td>\n",
       "      <td>0</td>\n",
       "      <td>0</td>\n",
       "      <td>0</td>\n",
       "      <td>...</td>\n",
       "      <td>0</td>\n",
       "      <td>0</td>\n",
       "      <td>0</td>\n",
       "      <td>1</td>\n",
       "      <td>0</td>\n",
       "      <td>1</td>\n",
       "      <td>0</td>\n",
       "      <td>0</td>\n",
       "      <td>0</td>\n",
       "      <td>0</td>\n",
       "    </tr>\n",
       "    <tr>\n",
       "      <th>4774</th>\n",
       "      <td>2010</td>\n",
       "      <td>196988</td>\n",
       "      <td>1.7</td>\n",
       "      <td>125</td>\n",
       "      <td>0</td>\n",
       "      <td>0</td>\n",
       "      <td>0</td>\n",
       "      <td>0</td>\n",
       "      <td>0</td>\n",
       "      <td>0</td>\n",
       "      <td>...</td>\n",
       "      <td>0</td>\n",
       "      <td>0</td>\n",
       "      <td>0</td>\n",
       "      <td>1</td>\n",
       "      <td>0</td>\n",
       "      <td>1</td>\n",
       "      <td>0</td>\n",
       "      <td>0</td>\n",
       "      <td>0</td>\n",
       "      <td>0</td>\n",
       "    </tr>\n",
       "    <tr>\n",
       "      <th>3896</th>\n",
       "      <td>2008</td>\n",
       "      <td>191000</td>\n",
       "      <td>2.0</td>\n",
       "      <td>145</td>\n",
       "      <td>0</td>\n",
       "      <td>1</td>\n",
       "      <td>0</td>\n",
       "      <td>0</td>\n",
       "      <td>0</td>\n",
       "      <td>0</td>\n",
       "      <td>...</td>\n",
       "      <td>0</td>\n",
       "      <td>0</td>\n",
       "      <td>0</td>\n",
       "      <td>1</td>\n",
       "      <td>0</td>\n",
       "      <td>0</td>\n",
       "      <td>1</td>\n",
       "      <td>0</td>\n",
       "      <td>0</td>\n",
       "      <td>0</td>\n",
       "    </tr>\n",
       "    <tr>\n",
       "      <th>...</th>\n",
       "      <td>...</td>\n",
       "      <td>...</td>\n",
       "      <td>...</td>\n",
       "      <td>...</td>\n",
       "      <td>...</td>\n",
       "      <td>...</td>\n",
       "      <td>...</td>\n",
       "      <td>...</td>\n",
       "      <td>...</td>\n",
       "      <td>...</td>\n",
       "      <td>...</td>\n",
       "      <td>...</td>\n",
       "      <td>...</td>\n",
       "      <td>...</td>\n",
       "      <td>...</td>\n",
       "      <td>...</td>\n",
       "      <td>...</td>\n",
       "      <td>...</td>\n",
       "      <td>...</td>\n",
       "      <td>...</td>\n",
       "      <td>...</td>\n",
       "    </tr>\n",
       "    <tr>\n",
       "      <th>4859</th>\n",
       "      <td>2008</td>\n",
       "      <td>122000</td>\n",
       "      <td>2.0</td>\n",
       "      <td>110</td>\n",
       "      <td>0</td>\n",
       "      <td>0</td>\n",
       "      <td>0</td>\n",
       "      <td>0</td>\n",
       "      <td>0</td>\n",
       "      <td>0</td>\n",
       "      <td>...</td>\n",
       "      <td>0</td>\n",
       "      <td>0</td>\n",
       "      <td>0</td>\n",
       "      <td>1</td>\n",
       "      <td>0</td>\n",
       "      <td>0</td>\n",
       "      <td>0</td>\n",
       "      <td>0</td>\n",
       "      <td>0</td>\n",
       "      <td>1</td>\n",
       "    </tr>\n",
       "    <tr>\n",
       "      <th>3264</th>\n",
       "      <td>2011</td>\n",
       "      <td>156000</td>\n",
       "      <td>2.0</td>\n",
       "      <td>140</td>\n",
       "      <td>0</td>\n",
       "      <td>1</td>\n",
       "      <td>0</td>\n",
       "      <td>0</td>\n",
       "      <td>0</td>\n",
       "      <td>0</td>\n",
       "      <td>...</td>\n",
       "      <td>0</td>\n",
       "      <td>0</td>\n",
       "      <td>0</td>\n",
       "      <td>1</td>\n",
       "      <td>1</td>\n",
       "      <td>0</td>\n",
       "      <td>0</td>\n",
       "      <td>0</td>\n",
       "      <td>0</td>\n",
       "      <td>0</td>\n",
       "    </tr>\n",
       "    <tr>\n",
       "      <th>9845</th>\n",
       "      <td>2002</td>\n",
       "      <td>225736</td>\n",
       "      <td>1.9</td>\n",
       "      <td>120</td>\n",
       "      <td>0</td>\n",
       "      <td>0</td>\n",
       "      <td>0</td>\n",
       "      <td>0</td>\n",
       "      <td>0</td>\n",
       "      <td>0</td>\n",
       "      <td>...</td>\n",
       "      <td>0</td>\n",
       "      <td>0</td>\n",
       "      <td>0</td>\n",
       "      <td>1</td>\n",
       "      <td>0</td>\n",
       "      <td>0</td>\n",
       "      <td>0</td>\n",
       "      <td>0</td>\n",
       "      <td>0</td>\n",
       "      <td>1</td>\n",
       "    </tr>\n",
       "    <tr>\n",
       "      <th>10799</th>\n",
       "      <td>2006</td>\n",
       "      <td>180000</td>\n",
       "      <td>2.0</td>\n",
       "      <td>140</td>\n",
       "      <td>0</td>\n",
       "      <td>0</td>\n",
       "      <td>0</td>\n",
       "      <td>0</td>\n",
       "      <td>0</td>\n",
       "      <td>0</td>\n",
       "      <td>...</td>\n",
       "      <td>0</td>\n",
       "      <td>0</td>\n",
       "      <td>0</td>\n",
       "      <td>1</td>\n",
       "      <td>0</td>\n",
       "      <td>1</td>\n",
       "      <td>0</td>\n",
       "      <td>0</td>\n",
       "      <td>0</td>\n",
       "      <td>0</td>\n",
       "    </tr>\n",
       "    <tr>\n",
       "      <th>2732</th>\n",
       "      <td>2004</td>\n",
       "      <td>278530</td>\n",
       "      <td>2.2</td>\n",
       "      <td>170</td>\n",
       "      <td>0</td>\n",
       "      <td>0</td>\n",
       "      <td>1</td>\n",
       "      <td>0</td>\n",
       "      <td>0</td>\n",
       "      <td>0</td>\n",
       "      <td>...</td>\n",
       "      <td>0</td>\n",
       "      <td>0</td>\n",
       "      <td>0</td>\n",
       "      <td>1</td>\n",
       "      <td>0</td>\n",
       "      <td>1</td>\n",
       "      <td>0</td>\n",
       "      <td>0</td>\n",
       "      <td>0</td>\n",
       "      <td>0</td>\n",
       "    </tr>\n",
       "  </tbody>\n",
       "</table>\n",
       "<p>9125 rows × 118 columns</p>\n",
       "</div>"
      ],
      "text/plain": [
       "       Godiste  Kilometraza  Kubikaza  Snaga motora  Marka_Alfa Romeo  \\\n",
       "6978      2010       177300       1.2            60                 0   \n",
       "5548      2010       225000       1.4            90                 0   \n",
       "9074      2017       150000       1.6           135                 0   \n",
       "4774      2010       196988       1.7           125                 0   \n",
       "3896      2008       191000       2.0           145                 0   \n",
       "...        ...          ...       ...           ...               ...   \n",
       "4859      2008       122000       2.0           110                 0   \n",
       "3264      2011       156000       2.0           140                 0   \n",
       "9845      2002       225736       1.9           120                 0   \n",
       "10799     2006       180000       2.0           140                 0   \n",
       "2732      2004       278530       2.2           170                 0   \n",
       "\n",
       "       Marka_Audi  Marka_BMW  Marka_Citroen  Marka_Fiat  Marka_Ford  ...  \\\n",
       "6978            0          0              0           0           0  ...   \n",
       "5548            0          0              1           0           0  ...   \n",
       "9074            0          0              0           0           0  ...   \n",
       "4774            0          0              0           0           0  ...   \n",
       "3896            1          0              0           0           0  ...   \n",
       "...           ...        ...            ...         ...         ...  ...   \n",
       "4859            0          0              0           0           0  ...   \n",
       "3264            1          0              0           0           0  ...   \n",
       "9845            0          0              0           0           0  ...   \n",
       "10799           0          0              0           0           0  ...   \n",
       "2732            0          1              0           0           0  ...   \n",
       "\n",
       "       Pogon_Zadnji   Menjac_Automatski / poluautomatski   \\\n",
       "6978               0                                    0   \n",
       "5548               0                                    0   \n",
       "9074               0                                    0   \n",
       "4774               0                                    0   \n",
       "3896               0                                    0   \n",
       "...              ...                                  ...   \n",
       "4859               0                                    0   \n",
       "3264               0                                    0   \n",
       "9845               0                                    0   \n",
       "10799              0                                    0   \n",
       "2732               0                                    0   \n",
       "\n",
       "       Menjac_Manuelni 5 brzina   Menjac_Manuelni 6 brzina   Boja_Bela  \\\n",
       "6978                           1                          0          0   \n",
       "5548                           1                          0          1   \n",
       "9074                           0                          1          0   \n",
       "4774                           0                          1          0   \n",
       "3896                           0                          1          0   \n",
       "...                          ...                        ...        ...   \n",
       "4859                           0                          1          0   \n",
       "3264                           0                          1          1   \n",
       "9845                           0                          1          0   \n",
       "10799                          0                          1          0   \n",
       "2732                           0                          1          0   \n",
       "\n",
       "       Boja_Crna  Boja_Crvena  Boja_Druga  Boja_Plava  Boja_Siva  \n",
       "6978           0            0           0           0          1  \n",
       "5548           0            0           0           0          0  \n",
       "9074           1            0           0           0          0  \n",
       "4774           1            0           0           0          0  \n",
       "3896           0            1           0           0          0  \n",
       "...          ...          ...         ...         ...        ...  \n",
       "4859           0            0           0           0          1  \n",
       "3264           0            0           0           0          0  \n",
       "9845           0            0           0           0          1  \n",
       "10799          1            0           0           0          0  \n",
       "2732           1            0           0           0          0  \n",
       "\n",
       "[9125 rows x 118 columns]"
      ]
     },
     "execution_count": 28,
     "metadata": {},
     "output_type": "execute_result"
    }
   ],
   "source": [
    "X_train"
   ]
  },
  {
   "cell_type": "code",
   "execution_count": 29,
   "id": "27258b59",
   "metadata": {},
   "outputs": [],
   "source": [
    "## Hyperparameters tuning"
   ]
  },
  {
   "cell_type": "code",
   "execution_count": 33,
   "id": "da39a134",
   "metadata": {},
   "outputs": [
    {
     "name": "stdout",
     "output_type": "stream",
     "text": [
      "******************************\n",
      "XGBRegressor\n",
      "******************************\n",
      "Best: 0.969971 using {'subsample': 0.95, 'reg_alpha': 0.05, 'n_estimators': 400, 'min_child_weight': 6, 'max_depth': 7, 'gamma': 0.0, 'colsample_bytree': 0.75}\n"
     ]
    }
   ],
   "source": [
    "# model\n",
    "model = XGBRegressor()\n",
    "\n",
    "# A parameter grid for XGBoost\n",
    "hyperparameters = {\n",
    "        'gamma':[i/10.0 for i in range(0,4)],\n",
    "        'n_estimators':range(200,1501,200),\n",
    "        'max_depth':range(7,16,2),\n",
    "        'min_child_weight':[4,6,8, 10],\n",
    "        'subsample':[i/100.0 for i in range(75,100,5)],\n",
    "        'colsample_bytree':[i/100.0 for i in range(65,90,5)],\n",
    "        'reg_alpha':[0.05]\n",
    "        }\n",
    "print('*'*30)\n",
    "print('XGBRegressor')\n",
    "print('*'*30)\n",
    "XGB_RandSearch = RandomSearch(X_train,y_train,model,hyperparameters)\n",
    "Prediction_XGB = XGB_RandSearch.BestModelPridict(X_test)\n",
    "\n",
    "#{'subsample': 0.8, 'reg_alpha': 0.05, 'min_child_weight': 6, 'max_depth': 11, 'gamma': 0.2, 'colsample_bytree': 0.75} {'subsample': 0.8, 'reg_alpha': 0.05, 'min_child_weight': 6, 'max_depth': 11, 'gamma': 0.2, 'colsample_bytree': 0.75}"
   ]
  },
  {
   "cell_type": "code",
   "execution_count": 34,
   "id": "63722667",
   "metadata": {},
   "outputs": [],
   "source": [
    "param = {'subsample': 0.95, 'reg_alpha': 0.05, 'n_estimators': 400, 'min_child_weight': 6, 'max_depth': 7, 'gamma': 0.0, 'colsample_bytree': 0.75}\n",
    "model1 = XGBRegressor(**param)#**param"
   ]
  },
  {
   "cell_type": "code",
   "execution_count": 35,
   "id": "da23b7ec",
   "metadata": {},
   "outputs": [
    {
     "data": {
      "text/plain": [
       "XGBRegressor(base_score=0.5, booster='gbtree', colsample_bylevel=1,\n",
       "             colsample_bynode=1, colsample_bytree=0.75, gamma=0.0, gpu_id=-1,\n",
       "             importance_type='gain', interaction_constraints='',\n",
       "             learning_rate=0.300000012, max_delta_step=0, max_depth=7,\n",
       "             min_child_weight=6, missing=nan, monotone_constraints='()',\n",
       "             n_estimators=400, n_jobs=8, num_parallel_tree=1, random_state=0,\n",
       "             reg_alpha=0.05, reg_lambda=1, scale_pos_weight=1, subsample=0.95,\n",
       "             tree_method='exact', validate_parameters=1, verbosity=None)"
      ]
     },
     "execution_count": 35,
     "metadata": {},
     "output_type": "execute_result"
    }
   ],
   "source": [
    "model1.fit(X_train, y_train)"
   ]
  },
  {
   "cell_type": "code",
   "execution_count": 36,
   "id": "32fea9fe",
   "metadata": {},
   "outputs": [],
   "source": [
    "predictions = model1.predict(X_test)"
   ]
  },
  {
   "cell_type": "code",
   "execution_count": 37,
   "id": "7cf2086e",
   "metadata": {},
   "outputs": [
    {
     "name": "stdout",
     "output_type": "stream",
     "text": [
      "0.9709369462911396\n"
     ]
    }
   ],
   "source": [
    "print(r2_score(y_test,predictions))\n",
    "#print(mean_a(y_test_c,p_sl))"
   ]
  },
  {
   "cell_type": "code",
   "execution_count": 38,
   "id": "b7cc72b5",
   "metadata": {},
   "outputs": [
    {
     "name": "stdout",
     "output_type": "stream",
     "text": [
      "392.18852881146523\n"
     ]
    }
   ],
   "source": [
    "from sklearn.metrics import mean_absolute_error\n",
    "print(mean_absolute_error(y_test,predictions))"
   ]
  },
  {
   "cell_type": "code",
   "execution_count": 96,
   "id": "a0d2ab18",
   "metadata": {},
   "outputs": [
    {
     "data": {
      "text/plain": [
       "((7498, 224), (7499,))"
      ]
     },
     "execution_count": 96,
     "metadata": {},
     "output_type": "execute_result"
    }
   ],
   "source": [
    "X_test.shape, y_test.shape"
   ]
  },
  {
   "cell_type": "code",
   "execution_count": 39,
   "id": "e9b06b27",
   "metadata": {},
   "outputs": [],
   "source": [
    "df_out = X_test_t\n",
    "df_out['Cena_actual'] = y_test\n",
    "df_out['Cena_predicted'] = predictions"
   ]
  },
  {
   "cell_type": "code",
   "execution_count": 40,
   "id": "6de7fefb",
   "metadata": {},
   "outputs": [],
   "source": [
    "df_out['MAE'] = abs(df_out['Cena_actual']-df_out['Cena_predicted'])"
   ]
  },
  {
   "cell_type": "code",
   "execution_count": 41,
   "id": "65a8e03c",
   "metadata": {},
   "outputs": [
    {
     "data": {
      "text/html": [
       "<div>\n",
       "<style scoped>\n",
       "    .dataframe tbody tr th:only-of-type {\n",
       "        vertical-align: middle;\n",
       "    }\n",
       "\n",
       "    .dataframe tbody tr th {\n",
       "        vertical-align: top;\n",
       "    }\n",
       "\n",
       "    .dataframe thead th {\n",
       "        text-align: right;\n",
       "    }\n",
       "</style>\n",
       "<table border=\"1\" class=\"dataframe\">\n",
       "  <thead>\n",
       "    <tr style=\"text-align: right;\">\n",
       "      <th></th>\n",
       "      <th>Marka</th>\n",
       "      <th>Model</th>\n",
       "      <th>Godiste</th>\n",
       "      <th>Kilometraza</th>\n",
       "      <th>Karoserija</th>\n",
       "      <th>Gorivo</th>\n",
       "      <th>Kubikaza</th>\n",
       "      <th>Snaga motora</th>\n",
       "      <th>Pogon</th>\n",
       "      <th>Menjac</th>\n",
       "      <th>Boja</th>\n",
       "      <th>Cena_actual</th>\n",
       "      <th>Cena_predicted</th>\n",
       "      <th>MAE</th>\n",
       "    </tr>\n",
       "  </thead>\n",
       "  <tbody>\n",
       "    <tr>\n",
       "      <th>9521</th>\n",
       "      <td>Seat</td>\n",
       "      <td>Leon</td>\n",
       "      <td>2018</td>\n",
       "      <td>200449</td>\n",
       "      <td>Karavan</td>\n",
       "      <td>Dizel</td>\n",
       "      <td>2.0</td>\n",
       "      <td>150</td>\n",
       "      <td>Prednji</td>\n",
       "      <td>Automatski / poluautomatski</td>\n",
       "      <td>Crna</td>\n",
       "      <td>11000</td>\n",
       "      <td>15600.253906</td>\n",
       "      <td>4600.253906</td>\n",
       "    </tr>\n",
       "  </tbody>\n",
       "</table>\n",
       "</div>"
      ],
      "text/plain": [
       "     Marka Model  Godiste  Kilometraza Karoserija Gorivo  Kubikaza  \\\n",
       "9521  Seat  Leon     2018       200449    Karavan  Dizel       2.0   \n",
       "\n",
       "      Snaga motora     Pogon                        Menjac  Boja  Cena_actual  \\\n",
       "9521           150  Prednji   Automatski / poluautomatski   Crna        11000   \n",
       "\n",
       "      Cena_predicted          MAE  \n",
       "9521    15600.253906  4600.253906  "
      ]
     },
     "execution_count": 41,
     "metadata": {},
     "output_type": "execute_result"
    }
   ],
   "source": [
    "df_out[df_out['MAE']==df_out['MAE'].max()]"
   ]
  },
  {
   "cell_type": "code",
   "execution_count": 42,
   "id": "0ce3357d",
   "metadata": {},
   "outputs": [],
   "source": [
    "import pickle\n",
    "with open('ml_model21.pkl', 'wb') as files:\n",
    "    pickle.dump(model1, files)"
   ]
  },
  {
   "cell_type": "code",
   "execution_count": 45,
   "id": "437e8ea4",
   "metadata": {},
   "outputs": [
    {
     "name": "stdout",
     "output_type": "stream",
     "text": [
      "******************************\n",
      "LGBMRegressor\n",
      "******************************\n",
      "[LightGBM] [Warning] min_data_in_leaf is set=30, min_child_samples=20 will be ignored. Current value: min_data_in_leaf=30\n",
      "[LightGBM] [Warning] lambda_l1 is set=0, reg_alpha=0.1 will be ignored. Current value: lambda_l1=0\n",
      "Best: 0.970873 using {'reg_alpha': 0.1, 'num_leaves': 60, 'n_estimators': 400, 'min_data_in_leaf': 30, 'lambda_l1': 0}\n"
     ]
    }
   ],
   "source": [
    "# model\n",
    "model = LGBMRegressor()\n",
    "hyperparameters = {\n",
    "    'n_estimators':range(200, 801,200),\n",
    "    'num_leaves': [60, 80, 120],\n",
    "    'reg_alpha': [0.1, 0.5],\n",
    "    'min_data_in_leaf': [30, 50, 70],\n",
    "    'lambda_l1': [0, 1, 1.5]\n",
    "    #'lambda_l2': [0, 1]\n",
    "    }\n",
    "print('*'*30)\n",
    "print('LGBMRegressor')\n",
    "print('*'*30)\n",
    "LGBM_RandSearch = RandomSearch(X_train,y_train,model,hyperparameters)\n",
    "Prediction_LGBM = LGBM_RandSearch.BestModelPridict(X_test)\n",
    "#params = {'reg_alpha': 0.1, 'num_leaves': 60, 'n_estimators': 400, 'min_data_in_leaf': 30, 'lambda_l2': 0, 'lambda_l1': 0}"
   ]
  },
  {
   "cell_type": "code",
   "execution_count": null,
   "id": "360bbb2d",
   "metadata": {},
   "outputs": [],
   "source": []
  },
  {
   "cell_type": "code",
   "execution_count": 19,
   "id": "6c9b6211",
   "metadata": {},
   "outputs": [
    {
     "name": "stdout",
     "output_type": "stream",
     "text": [
      "[LightGBM] [Warning] min_data_in_leaf is set=30, min_child_samples=20 will be ignored. Current value: min_data_in_leaf=30\n",
      "[LightGBM] [Warning] lambda_l1 is set=0, reg_alpha=0.1 will be ignored. Current value: lambda_l1=0\n"
     ]
    },
    {
     "data": {
      "text/plain": [
       "LGBMRegressor(lambda_l1=0, min_data_in_leaf=30, n_estimators=400, num_leaves=60,\n",
       "              reg_alpha=0.1)"
      ]
     },
     "execution_count": 19,
     "metadata": {},
     "output_type": "execute_result"
    }
   ],
   "source": [
    "param = {'reg_alpha': 0.1, 'num_leaves': 60, 'n_estimators': 400, 'min_data_in_leaf': 30, 'lambda_l1': 0}\n",
    "model1 = LGBMRegressor(**param)\n",
    "model1.fit(X_train, y_train)\n"
   ]
  },
  {
   "cell_type": "code",
   "execution_count": 20,
   "id": "c464cf3a",
   "metadata": {},
   "outputs": [],
   "source": [
    "predictions = model1.predict(X_test)"
   ]
  },
  {
   "cell_type": "code",
   "execution_count": 21,
   "id": "3ed24336",
   "metadata": {},
   "outputs": [
    {
     "name": "stdout",
     "output_type": "stream",
     "text": [
      "0.9734276287178888\n"
     ]
    }
   ],
   "source": [
    "print(r2_score(y_test,predictions))\n",
    "#print(mean_a(y_test_c,p_sl))"
   ]
  },
  {
   "cell_type": "code",
   "execution_count": 22,
   "id": "bdd140b6",
   "metadata": {},
   "outputs": [
    {
     "name": "stdout",
     "output_type": "stream",
     "text": [
      "376.7070518069196\n"
     ]
    }
   ],
   "source": [
    "from sklearn.metrics import mean_absolute_error\n",
    "print(mean_absolute_error(y_test,predictions))"
   ]
  },
  {
   "cell_type": "code",
   "execution_count": 23,
   "id": "010d3b54",
   "metadata": {},
   "outputs": [],
   "source": [
    "import pickle\n",
    "with open('model_lgb21.pkl', 'wb') as files:\n",
    "    pickle.dump(model1, files)"
   ]
  },
  {
   "cell_type": "code",
   "execution_count": null,
   "id": "ba2a753c",
   "metadata": {},
   "outputs": [],
   "source": [
    "df.style"
   ]
  },
  {
   "cell_type": "code",
   "execution_count": 172,
   "id": "bc4e49c2",
   "metadata": {},
   "outputs": [
    {
     "name": "stdout",
     "output_type": "stream",
     "text": [
      "******************************\n",
      "ExtraTreesRegressor\n",
      "******************************\n",
      "Best: 0.929340 using {'n_estimators': 850, 'min_samples_split': 20, 'min_samples_leaf': 25, 'max_features': 100, 'max_depth': 16}\n"
     ]
    }
   ],
   "source": [
    "# model\n",
    "model = ExtraTreesRegressor()\n",
    "hyperparameters = {\n",
    "    #'criterion': ['mae'],\n",
    "    'max_depth': [2,8,16],\n",
    "    'n_estimators': range(50,1500,25),\n",
    "    'max_features': range(50,401,50),\n",
    "    'min_samples_leaf': range(20,50,5),\n",
    "    'min_samples_split': range(15,36,5),\n",
    "}\n",
    "\n",
    "print('*'*30)\n",
    "print('ExtraTreesRegressor')\n",
    "print('*'*30)\n",
    "#Extra_RandSearch = RandomSearch(X_train,y_train,model,hyperparameters)\n",
    "#Prediction_Extra = Extra_RandSearch.BestModelPridict(X_test)\n",
    "#{'n_estimators': 850, 'min_samples_split': 20, 'min_samples_leaf': 25, 'max_features': 100, 'max_depth': 16}"
   ]
  },
  {
   "cell_type": "code",
   "execution_count": null,
   "id": "2cedba1c",
   "metadata": {},
   "outputs": [],
   "source": []
  },
  {
   "cell_type": "code",
   "execution_count": 195,
   "id": "46d12ac6",
   "metadata": {
    "scrolled": true
   },
   "outputs": [
    {
     "name": "stdout",
     "output_type": "stream",
     "text": [
      "******************************\n",
      "RandomForestRegressor\n",
      "******************************\n"
     ]
    }
   ],
   "source": [
    "# Number of trees in random forest\n",
    "n_estimators = [int(x) for x in np.linspace(start = 200, stop = 2000, num = 200)]\n",
    "# Number of features to consider at every split\n",
    "max_features = ['auto', 'sqrt']\n",
    "# Maximum number of levels in tree\n",
    "max_depth = [int(x) for x in np.linspace(10, 110, num = 11)]\n",
    "max_depth.append(None)\n",
    "# Minimum number of samples required to split a node\n",
    "min_samples_split = [2, 5, 10]\n",
    "# Minimum number of samples required at each leaf node\n",
    "min_samples_leaf = [1, 2, 4]\n",
    "# Method of selecting samples for training each tree\n",
    "bootstrap = [True, False]\n",
    "# Create the random grid\n",
    "hyperparameters = {'n_estimators': n_estimators,\n",
    "               'max_features': max_features,\n",
    "               'max_depth': max_depth,\n",
    "               'min_samples_split': min_samples_split,\n",
    "               'min_samples_leaf': min_samples_leaf,\n",
    "               'bootstrap': bootstrap}\n",
    "# model\n",
    "model = RandomForestRegressor()\n",
    "\n",
    "print('*'*30)\n",
    "print('RandomForestRegressor')\n",
    "print('*'*30)\n",
    "#RandSearch = RandomSearch(X_train,y_train,model,hyperparameters)\n",
    "#Prediction_Extra = RandSearch.BestModelPridict(X_test)"
   ]
  },
  {
   "cell_type": "code",
   "execution_count": 174,
   "id": "4b5af63e",
   "metadata": {
    "scrolled": true
   },
   "outputs": [
    {
     "name": "stdout",
     "output_type": "stream",
     "text": [
      "******************************\n",
      "GradientBoostingRegressor\n",
      "******************************\n",
      "Best: 0.962962 using {'subsample': 0.87, 'n_estimators': 1700, 'min_samples_split': 100, 'min_samples_leaf': 40, 'max_features': 22, 'max_depth': 15, 'learning_rate': 0.01}\n"
     ]
    }
   ],
   "source": [
    "from sklearn.ensemble import GradientBoostingRegressor\n",
    "\n",
    "\n",
    "model = GradientBoostingRegressor()\n",
    "\n",
    "hyperparameters = {\n",
    "    'n_estimators':range(500, 2001,200),\n",
    "    'max_depth':range(5,18,2), \n",
    "    'min_samples_split':range(100,501,100), \n",
    "    'min_samples_leaf':range(30,101,10),\n",
    "    'max_features':range(16,24,2),\n",
    "    'subsample':[0.8, 0.85,0.87],\n",
    "    'learning_rate': [0.001, 0.01, 0.0001]\n",
    "}\n",
    "\n",
    "\n",
    "print('*'*30)\n",
    "print('GradientBoostingRegressor')\n",
    "print('*'*30)\n",
    "\n",
    "GB_RandSearch = RandomSearch(X_train,y_train,model,hyperparameters)\n",
    "Prediction_GB = GB_RandSearch.BestModelPridict(X_test)\n",
    "#{'subsample': 0.87, 'n_estimators': 1700, 'min_samples_split': 100, 'min_samples_leaf': 40, 'max_features': 22, 'max_depth': 15, 'learning_rate': 0.01}"
   ]
  },
  {
   "cell_type": "code",
   "execution_count": 51,
   "id": "d2361cd9",
   "metadata": {},
   "outputs": [
    {
     "name": "stdout",
     "output_type": "stream",
     "text": [
      "0.9700423844839418\n"
     ]
    }
   ],
   "source": [
    "param = {'subsample': 0.87, 'n_estimators': 1700, 'min_samples_split': 100, 'min_samples_leaf': 40, 'max_features': 22, 'max_depth': 15, 'learning_rate': 0.01}\n",
    "model1 = GradientBoostingRegressor(**param)\n",
    "model1.fit(X_train, y_train)\n",
    "predictions = model1.predict(X_test)\n",
    "print(r2_score(y_test,predictions))"
   ]
  },
  {
   "cell_type": "code",
   "execution_count": 52,
   "id": "e1ad820f",
   "metadata": {},
   "outputs": [
    {
     "name": "stdout",
     "output_type": "stream",
     "text": [
      "401.2925864038721\n"
     ]
    }
   ],
   "source": [
    "print(mean_absolute_error(y_test,predictions))"
   ]
  },
  {
   "cell_type": "code",
   "execution_count": 54,
   "id": "ec207e22",
   "metadata": {},
   "outputs": [],
   "source": [
    "def get_models():\n",
    "    \"\"\"Generate a library of base learners.\"\"\"\n",
    "    param = {'subsample': 0.95, 'reg_alpha': 0.05, 'n_estimators': 400, 'min_child_weight': 6, 'max_depth': 7, 'gamma': 0.0, 'colsample_bytree': 0.75}\n",
    "    model1 = XGBRegressor(**param)\n",
    "\n",
    "    param = {'reg_alpha': 0.1, 'num_leaves': 60, 'n_estimators': 400, 'min_data_in_leaf': 30}\n",
    "    model2 = LGBMRegressor(**param)\n",
    "    \n",
    "    param = {'n_estimators': 850, 'min_samples_split': 20, 'min_samples_leaf': 25, 'max_features': 0.85, 'max_depth': 16}\n",
    "    model3 = ExtraTreesRegressor(**param)\n",
    "    \n",
    "\n",
    "    models = {'XGM':model1, 'LGBM':model2,\n",
    "              'ETR':model3\n",
    "              }\n",
    "\n",
    "    return models"
   ]
  },
  {
   "cell_type": "code",
   "execution_count": 55,
   "id": "ddbc3b22",
   "metadata": {},
   "outputs": [],
   "source": [
    "\n",
    "base_learners = get_models()\n",
    "params = {'subsample': 0.87, 'n_estimators': 1700, 'min_samples_split': 100, 'min_samples_leaf': 40, 'max_features': 22, 'max_depth': 15, 'learning_rate': 0.01, 'random_state':7}\n",
    "meta_learner = GradientBoostingRegressor(n_estimators=1700,\n",
    "    max_features=0.7,\n",
    "    max_depth=13,\n",
    "    subsample=0.85,\n",
    "    learning_rate=0.01, \n",
    "    random_state=7)"
   ]
  },
  {
   "cell_type": "code",
   "execution_count": 56,
   "id": "954c10bf",
   "metadata": {},
   "outputs": [
    {
     "name": "stderr",
     "output_type": "stream",
     "text": [
      "[MLENS] backend: threading\n"
     ]
    },
    {
     "name": "stdout",
     "output_type": "stream",
     "text": [
      "\n",
      "Fitting 2 layers\n"
     ]
    },
    {
     "name": "stderr",
     "output_type": "stream",
     "text": [
      "[MLENS] Found 4 residual cache(s):\n",
      "        1 (4096): C:\\Users\\Pc4y\\AppData\\Local\\Temp\\.mlens_tmp_cache_0_mgr9to\n",
      "        2 (4096): C:\\Users\\Pc4y\\AppData\\Local\\Temp\\.mlens_tmp_cache_7vonrz1p\n",
      "        3 (4096): C:\\Users\\Pc4y\\AppData\\Local\\Temp\\.mlens_tmp_cache_kk8gnu5s\n",
      "        4 (4096): C:\\Users\\Pc4y\\AppData\\Local\\Temp\\.mlens_tmp_cache_mb0lfo1a\n",
      "        Total size: 16384\n",
      "[MLENS] Removing... done.\n"
     ]
    },
    {
     "name": "stdout",
     "output_type": "stream",
     "text": [
      "Processing layer-1             done | 00:02:09\n",
      "Processing layer-2             done | 00:00:28\n",
      "Fit complete                        | 00:02:39\n",
      "\n",
      "Predicting 2 layers\n",
      "Processing layer-1             done | 00:00:04\n",
      "Processing layer-2             done | 00:00:01\n",
      "Predict complete                    | 00:00:06\n"
     ]
    }
   ],
   "source": [
    "from mlens.ensemble import SuperLearner\n",
    "\n",
    "# Instantiate the ensemble with 10 folds\n",
    "sl = SuperLearner(\n",
    "    folds=10,\n",
    "    random_state=7,\n",
    "    verbose=2,\n",
    "    backend=\"multiprocessing\"\n",
    ")\n",
    "\n",
    "# Add the base learners and the meta learner\n",
    "sl.add(list(base_learners.values())) \n",
    "sl.add_meta(meta_learner)\n",
    "\n",
    "# Train the ensemble\n",
    "sl.fit(X_train, y_train)\n",
    "\n",
    "# Predict the test set\n",
    "p_sl = sl.predict(X_test)"
   ]
  },
  {
   "cell_type": "code",
   "execution_count": 57,
   "id": "03b813b4",
   "metadata": {},
   "outputs": [
    {
     "name": "stdout",
     "output_type": "stream",
     "text": [
      "0.9695659416899345\n"
     ]
    }
   ],
   "source": [
    "print(r2_score(y_test,p_sl))"
   ]
  },
  {
   "cell_type": "code",
   "execution_count": 58,
   "id": "2c3dca9d",
   "metadata": {},
   "outputs": [
    {
     "name": "stdout",
     "output_type": "stream",
     "text": [
      "404.5669483408176\n"
     ]
    }
   ],
   "source": [
    "from sklearn.metrics import mean_absolute_error\n",
    "print(mean_absolute_error(y_test,p_sl))"
   ]
  },
  {
   "cell_type": "code",
   "execution_count": 188,
   "id": "5e8d8323",
   "metadata": {},
   "outputs": [],
   "source": [
    "import pickle\n",
    "with open('ml_modelSuper.pkl', 'wb') as files:\n",
    "    pickle.dump(sl, files)"
   ]
  },
  {
   "cell_type": "code",
   "execution_count": 62,
   "id": "f262d9d0",
   "metadata": {},
   "outputs": [
    {
     "data": {
      "image/png": "[encoded data removed]",
      "text/plain": [
       "<Figure size 432x288 with 1 Axes>"
      ]
     },
     "metadata": {
      "needs_background": "light"
     },
     "output_type": "display_data"
    }
   ],
   "source": [
    "#Plot Real vs Predict\n",
    "fig, ax = plt.subplots()\n",
    "ax.scatter(y_test, predictions, color='blue', edgecolors=(0, 0, 1),alpha=0.5)\n",
    "ax.plot([y_test.min(), y_test.max()], [y_test.min(), y_test.max()], lw=4,color='Red')\n",
    "ax.set_xlabel('Stvarne vrednosti')\n",
    "ax.set_ylabel('Predviđene')\n",
    "plt.show()"
   ]
  },
  {
   "cell_type": "code",
   "execution_count": null,
   "id": "721a5673",
   "metadata": {},
   "outputs": [],
   "source": []
  }
 ],
 "metadata": {
  "kernelspec": {
   "display_name": "Python 3",
   "language": "python",
   "name": "python3"
  },
  "language_info": {
   "codemirror_mode": {
    "name": "ipython",
    "version": 3
   },
   "file_extension": ".py",
   "mimetype": "text/x-python",
   "name": "python",
   "nbconvert_exporter": "python",
   "pygments_lexer": "ipython3",
   "version": "3.8.8"
  }
 },
 "nbformat": 4,
 "nbformat_minor": 5
}
